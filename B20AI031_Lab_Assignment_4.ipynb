{
  "cells": [
    {
      "cell_type": "code",
      "execution_count": null,
      "metadata": {
        "id": "xmAA8aE86Ob4"
      },
      "outputs": [],
      "source": [
        "import torch\n",
        "import torch.nn as nn\n",
        "import torch.optim as optim\n",
        "import numpy as np\n",
        "import torchvision\n",
        "from torchvision import datasets, models, transforms\n",
        "import matplotlib.pyplot as plt\n",
        "import time\n",
        "import os\n",
        "import copy\n",
        "import torch.nn.functional as F\n",
        "import torchvision\n",
        "from torchsummary import summary\n",
        "from torch.utils.data.sampler import SubsetRandomSampler\n",
        "import warnings\n",
        "warnings.filterwarnings('ignore')"
      ]
    },
    {
      "cell_type": "code",
      "execution_count": null,
      "metadata": {
        "id": "xd514SkinxEg"
      },
      "outputs": [],
      "source": [
        "import pandas as pd\n",
        "from sklearn.model_selection import train_test_split"
      ]
    },
    {
      "cell_type": "code",
      "execution_count": null,
      "metadata": {
        "colab": {
          "base_uri": "https://localhost:8080/"
        },
        "id": "ncF79_0kjI4f",
        "outputId": "40b3ff51-7a2f-44e4-bd21-a3d010fe5d5b"
      },
      "outputs": [
        {
          "name": "stdout",
          "output_type": "stream",
          "text": [
            "Device: cuda\n"
          ]
        }
      ],
      "source": [
        "device=torch.device(\"cuda\" if torch.cuda.is_available() else \"cpu\")\n",
        "print(\"Device:\", device)"
      ]
    },
    {
      "cell_type": "markdown",
      "metadata": {
        "id": "1AmT_jnCz5pX"
      },
      "source": [
        "#### Upload the given dataset first"
      ]
    },
    {
      "cell_type": "code",
      "execution_count": null,
      "metadata": {
        "colab": {
          "base_uri": "https://localhost:8080/"
        },
        "id": "7VC5_1GDuFcH",
        "outputId": "bff33742-c63e-43a7-c831-7859093e92fb"
      },
      "outputs": [
        {
          "name": "stdout",
          "output_type": "stream",
          "text": [
            "Archive:  data.zip\n",
            "   creating: data/\n",
            "  inflating: data/eng-fra.txt        \n",
            "   creating: data/names/\n",
            "  inflating: data/names/Arabic.txt   \n",
            "  inflating: data/names/Chinese.txt  \n",
            "  inflating: data/names/Czech.txt    \n",
            "  inflating: data/names/Dutch.txt    \n",
            "  inflating: data/names/English.txt  \n",
            "  inflating: data/names/French.txt   \n",
            "  inflating: data/names/German.txt   \n",
            "  inflating: data/names/Greek.txt    \n",
            "  inflating: data/names/Irish.txt    \n",
            "  inflating: data/names/Italian.txt  \n",
            "  inflating: data/names/Japanese.txt  \n",
            "  inflating: data/names/Korean.txt   \n",
            "  inflating: data/names/Polish.txt   \n",
            "  inflating: data/names/Portuguese.txt  \n",
            "  inflating: data/names/Russian.txt  \n",
            "  inflating: data/names/Scottish.txt  \n",
            "  inflating: data/names/Spanish.txt  \n",
            "  inflating: data/names/Vietnamese.txt  \n"
          ]
        }
      ],
      "source": [
        "!unzip data.zip"
      ]
    },
    {
      "cell_type": "code",
      "execution_count": null,
      "metadata": {
        "colab": {
          "base_uri": "https://localhost:8080/"
        },
        "id": "8X2EBe41yLqZ",
        "outputId": "f85a8b48-ec2c-4b4d-dd0e-1701a28cfddf"
      },
      "outputs": [
        {
          "name": "stdout",
          "output_type": "stream",
          "text": [
            "['data/names/Greek.txt', 'data/names/Polish.txt', 'data/names/English.txt', 'data/names/Arabic.txt', 'data/names/Korean.txt', 'data/names/Spanish.txt', 'data/names/German.txt', 'data/names/Portuguese.txt', 'data/names/Vietnamese.txt', 'data/names/Irish.txt', 'data/names/Russian.txt', 'data/names/French.txt', 'data/names/Dutch.txt', 'data/names/Czech.txt', 'data/names/Italian.txt', 'data/names/Japanese.txt', 'data/names/Chinese.txt', 'data/names/Scottish.txt']\n",
            "57\n",
            "Slusarski\n",
            "{'Greek': ['Adamidis', 'Adamou', 'Agelakos', 'Akrivopoulos', 'Alexandropoulos', 'Anetakis', 'Angelopoulos', 'Antimisiaris', 'Antipas', 'Antonakos', 'Antoniadis', 'Antonopoulos', 'Antonopoulos', 'Antonopoulos', 'Arvanitoyannis', 'Avgerinos', 'Banos', 'Batsakis', 'Bekyros', 'Belesis', 'Bertsimas', 'Bilias', 'Blades', 'Bouloukos', 'Brisimitzakis', 'Bursinos', 'Calogerakis', 'Calpis', 'Chellos', 'Christakos', 'Christodoulou', 'Christou', 'Chrysanthopoulos', 'Chrysanthopoulos', 'Comino', 'Close', 'Close', 'Close', 'Close', 'Close', 'Close', 'Close', 'Close', 'Dalianis', 'Danas', 'Dasios', 'Demakis', 'Demarchis', 'Demas', 'Demetrious', 'Dertilis', 'Diakogeorgiou', 'Dioletis', 'Dounias', 'Dritsas', 'Drivakis', 'Eatros', 'Egonidis', 'Eliopoulos', 'Forakis', 'Fotopoulos', 'Fourakis', 'Frangopoulos', 'Galanopoulos', 'Garofalis', 'Gavril', 'Gavrilopoulos', 'Georgeakopoulos', 'Geracimos', 'Gianakopulos', 'Giannakopoulos', 'Giannakos', 'Glynatsis', 'Gomatos', 'Grammatakakis', 'Gravari', 'Hadjiyianakies', 'Hagias', 'Haritopoulos', 'Honjas', 'Horiatis', 'Houlis', 'Jamussa', 'Kaglantge', 'Kalakos', 'Kalogeria', 'Kaloxylos', 'Kanavos', 'Kapsimalles', 'Karahalios', 'Karameros', 'Karkampasis', 'Karnoupakis', 'Katsourinis', 'Kefalas', 'Kokkali', 'Kokoris', 'Kolovos', 'Konstantatos', 'Kosmas', 'Kotsilimbas', 'Kotsiopoulos', 'Kouches', 'Koulaxizis', 'Koumanidis', 'Kourempes', 'Kouretas', 'Kouropoulos', 'Kouros', 'Koustoubos', 'Koutsoubos', 'Kreskas', 'Kringos', 'Kyritsis', 'Laganas', 'Leontarakis', 'Letsos', 'Liatos', 'Lillis', 'Lolos', 'Louverdis', 'Makricosta', 'Malihoudis', 'Maneates', 'Manos', 'Manoukarakis', 'Matsoukis', 'Mentis', 'Mersinias', 'Metrofanis', 'Michalaras', 'Milionis', 'Missiakos', 'Moraitopoulos', 'Nikolaou', 'Nomikos', 'Paitakes', 'Paloumbas', 'Panayiotopoulos', 'Panoulias', 'Pantelakos', 'Pantelas', 'Papadelias', 'Papadopulos', 'Papageorge', 'Papoutsis', 'Pappayiorgas', 'Paraskevopoulos', 'Paraskos', 'Paschalis', 'Patrianakos', 'Patselas', 'Pefanis', 'Petimezas', 'Petrakis', 'Pezos', 'Phocas', 'Pispinis', 'Polites', 'Polymenakou', 'Poniros', 'Protopsaltis', 'Rallis', 'Rigatos', 'Rorris', 'Rousses', 'Ruvelas', 'Sakelaris', 'Sakellariou', 'Samios', 'Sardelis', 'Sfakianos', 'Sklavenitis', 'Sortras', 'Sotiris', 'Spyridis', 'Stamatas', 'Stamatelos', 'Stavropoulos', 'Strilakos', 'Stroggylis', 'Tableriou', 'Taflambas', 'Tassioglou', 'Telis', 'Tsoumada', 'Theofilopoulos', 'Theohari', 'Totolos', 'Tourna', 'Tsahalis', 'Tsangaris', 'Tselios', 'Tsogas', 'Vamvakidis', 'Varvitsiotes', 'Vassilikos', 'Vassilopulos', 'Vlahos', 'Vourlis', 'Xydis', 'Zaloumi', 'Zouvelekis'], 'Polish': ['Adamczak', 'Adamczyk', 'Andrysiak', 'Auttenberg', 'Bartosz', 'Bernard', 'Bobienski', 'Bosko', 'Broz', 'Brzezicki', 'Budny', 'Bukoski', 'Bukowski', 'Chlebek', 'Chmiel', 'Czajka', 'Czajkowski', 'Dubanowski', 'Dubicki', 'Dunajski', 'Dziedzic', 'Fabian', 'Filipek', 'Filipowski', 'Gajos', 'Gniewek', 'Gomolka', 'Gomulka', 'Gorecki', 'Gorka', 'Gorski', 'Grzeskiewicz', 'Gwozdek', 'Jagoda', 'Janda', 'Janowski', 'Jaskolski', 'Jaskulski', 'Jedynak', 'Jelen', 'Jez', 'Jordan', 'Kaczka', 'Kaluza', 'Kaminski', 'Kasprzak', 'Kava', 'Kedzierski', 'Kijek', 'Klimek', 'Kosmatka', 'Kowalczyk', 'Kowalski', 'Koziol', 'Kozlow', 'Kozlowski', 'Krakowski', 'Krol', 'Kumiega', 'Lawniczak', 'Lis', 'Majewski', 'Malinowski', 'Maly', 'Marek', 'Marszaek', 'Maslanka', 'Mencher', 'Miazga', 'Michel', 'Mikolajczak', 'Mozdzierz', 'Niemczyk', 'Niemec', 'Nosek', 'Nowak', 'Pakulski', 'Pasternack', 'Pasternak', 'Paszek', 'Piatek', 'Piontek', 'Pokorny', 'Poplawski', 'Rog', 'Rudaski', 'Rudawski', 'Rusnak', 'Rutkowski', 'Sadowski', 'Salomon', 'Serafin', 'Sienkiewicz', 'Sierzant', 'Sitko', 'Skala', 'Slaski', 'Slazak', 'Slusarczyk', 'Slusarski', 'Smolak', 'Sniegowski', 'Sobol', 'Sokal', 'Sokolof', 'Sokoloff', 'Sokolofsky', 'Sokolowski', 'Sokolsky', 'Sowka', 'Stanek', 'Starek', 'Stawski', 'Stolarz', 'Szczepanski', 'Szewc', 'Szwarc', 'Szweda', 'Szwedko', 'Walentowicz', 'Warszawski', 'Wawrzaszek', 'Wiater', 'Winograd', 'Winogrodzki', 'Wojda', 'Wojewodka', 'Wojewodzki', 'Wronski', 'Wyrick', 'Wyrzyk', 'Zabek', 'Zawisza', 'Zdunowski', 'Zdunowski', 'Zielinski', 'Ziemniak', 'Zientek', 'Zuraw'], 'English': ['Abbas', 'Abbey', 'Abbott', 'Abdi', 'Abel', 'Abraham', 'Abrahams', 'Abrams', 'Ackary', 'Ackroyd', 'Acton', 'Adair', 'Adam', 'Adams', 'Adamson', 'Adanet', 'Addams', 'Adderley', 'Addinall', 'Addis', 'Addison', 'Addley', 'Aderson', 'Adey', 'Adkins', 'Adlam', 'Adler', 'Adrol', 'Adsett', 'Agar', 'Ahern', 'Aherne', 'Ahmad', 'Ahmed', 'Aikman', 'Ainley', 'Ainsworth', 'Aird', 'Airey', 'Aitchison', 'Aitken', 'Akhtar', 'Akram', 'Alam', 'Alanson', 'Alber', 'Albert', 'Albrighton', 'Albutt', 'Alcock', 'Alden', 'Alder', 'Aldersley', 'Alderson', 'Aldred', 'Aldren', 'Aldridge', 'Aldworth', 'Alesbury', 'Alexandar', 'Alexander', 'Alexnader', 'Alford', 'Algar', 'Ali', 'Alker', 'Alladee', 'Allam', 'Allan', 'Allard', 'Allaway', 'Allcock', 'Allcott', 'Alldridge', 'Alldritt', 'Allen', 'Allgood', 'Allington', 'Alliott', 'Allison', 'Allkins', 'Allman', 'Allport', 'Allsop', 'Allum', 'Allwood', 'Almond', 'Alpin', 'Alsop', 'Altham', 'Althoff', 'Alves', 'Alvey', 'Alway', 'Ambrose', 'Amesbury', 'Amin', 'Amner', 'Amod', 'Amor', 'Amos', 'Anakin', 'Anderson', 'Andersson', 'Anderton', 'Andrew', 'Andrews', 'Angus', 'Anker', 'Anley', 'Annan', 'Anscombe', 'Ansell', 'Anstee', 'Anthony', 'Antic', 'Anton', 'Antony', 'Antram', 'Anwar', 'Appleby', 'Appleton', 'Appleyard', 'Apsley', 'Arah', 'Archer', 'Ardern', 'Arkins', 'Armer', 'Armitage', 'Armour', 'Armsden', 'Armstrong', 'Arnall', 'Arnett', 'Arnold', 'Arnott', 'Arrowsmith', 'Arscott', 'Arthur', 'Artliff', 'Ashbridge', 'Ashbrook', 'Ashby', 'Ashcroft', 'Ashdown', 'Ashe', 'Asher', 'Ashford', 'Ashley', 'Ashman', 'Ashton', 'Ashurst', 'Ashwell', 'Ashworth', 'Askew', 'Aslam', 'Asom', 'Aspey', 'Aspin', 'Aspinall', 'Astbury', 'Astle', 'Astley', 'Aston', 'Atherley', 'Atherstone', 'Atherton', 'Atkin', 'Atkins', 'Atkinson', 'Attard', 'Atter', 'Atterbury', 'Atterton', 'Attewell', 'Attrill', 'Attwood', 'Auberton', 'Auborn', 'Aubrey', 'Austen', 'Austin', 'Auton', 'Avenue', 'Avery', 'Aves', 'Avis', 'Awad', 'Axon', 'Aylett', 'Ayley', 'Ayliffe', 'Ayling', 'Aylott', 'Aylward', 'Ayres', 'Ayton', 'Aziz', 'Bacon', 'Bailey', 'Bain', 'Bainbridge', 'Baines', 'Bains', 'Baird', 'Baker', 'Baldwin', 'Bale', 'Ball', 'Ballantyne', 'Ballard', 'Bamford', 'Bancroft', 'Banks', 'Banner', 'Bannister', 'Barber', 'Barclay', 'Barker', 'Barlow', 'Barnard', 'Barnes', 'Barnett', 'Baron', 'Barr', 'Barrett', 'Barron', 'Barrow', 'Barry', 'Bartlett', 'Barton', 'Bass', 'Bassett', 'Batchelor', 'Bate', 'Bateman', 'Bates', 'Batt', 'Batten', 'Batty', 'Baxter', 'Bayliss', 'Beadle', 'Beal', 'Beale', 'Beamish', 'Bean', 'Bear', 'Beattie', 'Beatty', 'Beaumont', 'Beck', 'Bedford', 'Beech', 'Beer', 'Begum', 'Bell', 'Bellamy', 'Benfield', 'Benjamin', 'Bennett', 'Benson', 'Bentley', 'Berger', 'Bernard', 'Berry', 'Best', 'Bethell', 'Betts', 'Bevan', 'Beveridge', 'Bickley', 'Biddle', 'Biggs', 'Bill', 'Bing', 'Bingham', 'Binnington', 'Birch', 'Bird', 'Bishop', 'Bithell', 'Black', 'Blackburn', 'Blackman', 'Blackmore', 'Blackwell', 'Blair', 'Blake', 'Blakeley', 'Blakey', 'Blanchard', 'Bland', 'Bloggs', 'Bloom', 'Blundell', 'Blythe', 'Bob', 'Boden', 'Boland', 'Bolton', 'Bond', 'Bone', 'Bonner', 'Boon', 'Booth', 'Borland', 'Bostock', 'Boulton', 'Bourne', 'Bouvet', 'Bowden', 'Bowen', 'Bower', 'Bowers', 'Bowes', 'Bowler', 'Bowles', 'Bowman', 'Boyce', 'Boyd', 'Boyle', 'Bracey', 'Bradbury', 'Bradley', 'Bradshaw', 'Brady', 'Brain', 'Braithwaite', 'Bramley', 'Brandrick', 'Bray', 'Breen', 'Brelsford', 'Brennan', 'Brett', 'Brewer', 'Bridges', 'Briggs', 'Bright', 'Bristow', 'Britton', 'Broadbent', 'Broadhurst', 'Broadley', 'Brock', 'Brook', 'Brooke', 'Brooker', 'Brookes', 'Brookfield', 'Brooks', 'Broomfield', 'Broughton', 'Brown', 'Browne', 'Browning', 'Bruce', 'Brunet', 'Brunton', 'Bryan', 'Bryant', 'Bryson', 'Buchan', 'Buchanan', 'Buck', 'Buckingham', 'Buckley', 'Budd', 'Bugg', 'Bull', 'Bullock', 'Burch', 'Burden', 'Burdett', 'Burford', 'Burge', 'Burgess', 'Burke', 'Burland', 'Burman', 'Burn', 'Burnett', 'Burns', 'Burr', 'Burrows', 'Burt', 'Burton', 'Busby', 'Bush', 'Butcher', 'Butler', 'Butt', 'Butter', 'Butterworth', 'Button', 'Buxton', 'Byrne', 'Caddy', 'Cadman', 'Cahill', 'Cain', 'Cairns', 'Caldwell', 'Callaghan', 'Callow', 'Calveley', 'Calvert', 'Cameron', 'Campbell', 'Cann', 'Cannon', 'Caplan', 'Capper', 'Carey', 'Carling', 'Carmichael', 'Carnegie', 'Carney', 'Carpenter', 'Carr', 'Carrington', 'Carroll', 'Carruthers', 'Carson', 'Carter', 'Cartwright', 'Carty', 'Casey', 'Cashmore', 'Cassidy', 'Caton', 'Cavanagh', 'Cawley', 'Chadwick', 'Chalmers', 'Chamberlain', 'Chambers', 'Chan', 'Chance', 'Chandler', 'Chantler', 'Chaplin', 'Chapman', 'Chappell', 'Chapple', 'Charge', 'Charles', 'Charlton', 'Charnock', 'Chase', 'Chatterton', 'Chauhan', 'Cheetham', 'Chelmy', 'Cherry', 'Cheshire', 'Chester', 'Cheung', 'Chidlow', 'Child', 'Childs', 'Chilvers', 'Chisholm', 'Chong', 'Christie', 'Christy', 'Chung', 'Church', 'Churchill', 'Clamp', 'Clancy', 'Clark', 'Clarke', 'Clarkson', 'Clay', 'Clayton', 'Cleary', 'Cleaver', 'Clegg', 'Clements', 'Cliff', 'Clifford', 'Clifton', 'Close', 'Clough', 'Clowes', 'Coates', 'Coburn', 'Cochrane', 'Cockburn', 'Cockle', 'Coffey', 'Cohen', 'Cole', 'Coleman', 'Coles', 'Coll', 'Collard', 'Collett', 'Colley', 'Collier', 'Collingwood', 'Collins', 'Collinson', 'Colman', 'Compton', 'Conneely', 'Connell', 'Connelly', 'Connolly', 'Connor', 'Conrad', 'Conroy', 'Conway', 'Cook', 'Cooke', 'Cookson', 'Coomber', 'Coombes', 'Cooper', 'Cope', 'Copeland', 'Copland', 'Copley', 'Corbett', 'Corcoran', 'Core', 'Corlett', 'Cormack', 'Corner', 'Cornish', 'Cornock', 'Corr', 'Corrigan', 'Cosgrove', 'Costa', 'Costello', 'Cotter', 'Cotterill', 'Cotton', 'Cottrell', 'Couch', 'Coulson', 'Coulter', 'Court', 'Cousin', 'Cousins', 'Cove', 'Cowan', 'Coward', 'Cowell', 'Cowie', 'Cowley', 'Cox', 'Coyle', 'Crabb', 'Crabtree', 'Cracknell', 'Craig', 'Crane', 'Craven', 'Crawford', 'Crawley', 'Creasey', 'Cresswell', 'Crew', 'Cripps', 'Crisp', 'Crocker', 'Croft', 'Crofts', 'Cronin', 'Crook', 'Crosby', 'Cross', 'Crossland', 'Crossley', 'Crouch', 'Croucher', 'Crow', 'Crowe', 'Crowley', 'Crown', 'Crowther', 'Crump', 'Cullen', 'Cumming', 'Cummings', 'Cummins', 'Cunningham', 'Curley', 'Curran', 'Currie', 'Curry', 'Curtis', 'Curwood', 'Cutts', 'D arcy', 'Dacey', 'Dack', 'Dalby', 'Dale', 'Daley', 'Dallas', 'Dalton', 'Daly', 'Dalzell', 'Damon', 'Danby', 'Dandy', 'Daniel', 'Daniells', 'Daniels', 'Danks', 'Dann', 'Darby', 'Darbyshire', 'Darcy', 'Dardenne', 'Darlington', 'Darr', 'Daugherty', 'Davenport', 'Davey', 'David', 'Davidson', 'Davie', 'Davies', 'Davis', 'Davison', 'Davy', 'Dawe', 'Dawes', 'Dawkins', 'Dawson', 'Day', 'Dayman', 'De ath', 'Deacon', 'Deakin', 'Dean', 'Deane', 'Deans', 'Debenham', 'Deegan', 'Deeley', 'Deighton', 'Delamarre', 'Delaney', 'Dell', 'Dempsey', 'Dempster', 'Denby', 'Denham', 'Denis', 'Denney', 'Dennis', 'Dent', 'Denton', 'Depp', 'Dermody', 'Derrick', 'Derrien', 'Dervish', 'Desai', 'Devaney', 'Devenish', 'Deverell', 'Devine', 'Devlin', 'Devon', 'Devonport', 'Dewar', 'Dexter', 'Diamond', 'Dibble', 'Dick', 'Dickens', 'Dickenson', 'Dicker', 'Dickinson', 'Dickson', 'Dillon', 'Dimmock', 'Dingle', 'Dipper', 'Dixon', 'Dobbin', 'Dobbins', 'Doble', 'Dobson', 'Docherty', 'Docker', 'Dodd', 'Dodds', 'Dodson', 'Doherty', 'Dolan', 'Dolcy', 'Dolman', 'Dolton', 'Donald', 'Donaldson', 'Donkin', 'Donlan', 'Donn', 'Donnachie', 'Donnelly', 'Donoghue', 'Donohoe', 'Donovan', 'Dooley', 'Doolin', 'Doon', 'Doors', 'Dora', 'Doran', 'Dorman', 'Dornan', 'Dorrian', 'Dorrington', 'Dougal', 'Dougherty', 'Doughty', 'Douglas', 'Douthwaite', 'Dove', 'Dover', 'Dowell', 'Dowler', 'Dowling', 'Down', 'Downer', 'Downes', 'Downey', 'Downie', 'Downing', 'Downs', 'Downton', 'Dowson', 'Doyle', 'Drabble', 'Drain', 'Drake', 'Draper', 'Drew', 'Drewett', 'Dreyer', 'Driffield', 'Drinkwater', 'Driscoll', 'Driver', 'Drummond', 'Drury', 'Drysdale', 'Dubois', 'Duck', 'Duckworth', 'Ducon', 'Dudley', 'Duff', 'Duffield', 'Duffin', 'Duffy', 'Dufour', 'Duggan', 'Duke', 'Dukes', 'Dumont', 'Duncan', 'Dundon', 'Dunford', 'Dunkley', 'Dunlop', 'Dunmore', 'Dunn', 'Dunne', 'Dunnett', 'Dunning', 'Dunsford', 'Dupont', 'Durand', 'Durant', 'Durber', 'Durham', 'Durrant', 'Dutt', 'Duval', 'Duvall', 'Dwyer', 'Dyde', 'Dyer', 'Dyerson', 'Dykes', 'Dymond', 'Dymott', 'Dyson', 'Eade', 'Eadie', 'Eagle', 'Eales', 'Ealham', 'Ealy', 'Eames', 'Eansworth', 'Earing', 'Earl', 'Earle', 'Earley', 'Easdale', 'Easdown', 'Easen', 'Eason', 'East', 'Eastaugh', 'Eastaway', 'Eastell', 'Easterbrook', 'Eastham', 'Easton', 'Eastwood', 'Eatherington', 'Eaton', 'Eaves', 'Ebbs', 'Ebden', 'Ebdon', 'Ebeling', 'Eburne', 'Eccles', 'Eccleston', 'Ecclestone', 'Eccott', 'Eckersall', 'Eckersley', 'Eddison', 'Eddleston', 'Eddy', 'Eden', 'Edeson', 'Edgar', 'Edge', 'Edgell', 'Edgerton', 'Edgley', 'Edgson', 'Edkins', 'Edler', 'Edley', 'Edlington', 'Edmond', 'Edmonds', 'Edmondson', 'Edmunds', 'Edmundson', 'Edney', 'Edon', 'Edwards', 'Edwick', 'Eedie', 'Egan', 'Egerton', 'Eggby', 'Eggison', 'Eggleston', 'Eglan', 'Egleton', 'Eglin', 'Eilers', 'Ekin', 'Elbutt', 'Elcock', 'Elder', 'Eldeston', 'Eldridge', 'Eley', 'Elfman', 'Elford', 'Elkin', 'Elkington', 'Ellam', 'Ellans', 'Ellard', 'Elleray', 'Ellerby', 'Ellershaw', 'Ellery', 'Elliman', 'Elling', 'Ellingham', 'Elliot', 'Elliott', 'Ellis', 'Ellison', 'Elliston', 'Ellrott', 'Ellwood', 'Elmer', 'Elmes', 'Elmhirst', 'Elmore', 'Elms', 'Elphick', 'Elsdon', 'Elsmore', 'Elson', 'Elston', 'Elstone', 'Eltis', 'Elven', 'Elvin', 'Elvins', 'Elwell', 'Elwood', 'Elworthy', 'Elzer', 'Emberey', 'Emberson', 'Embleton', 'Emerick', 'Emerson', 'Emery', 'Emmanuel', 'Emmerson', 'Emmery', 'Emmett', 'Emmings', 'Emmins', 'Emmons', 'Emmott', 'Emms', 'Emsden', 'Endroe', 'England', 'English', 'Ennis', 'Ennos', 'Enright', 'Enticott', 'Entwistle', 'Epsom', 'Epton', 'Ernest', 'Erridge', 'Errington', 'Errity', 'Esan', 'Escott', 'Eskins', 'Eslick', 'Espley', 'Essam', 'Essan', 'Essop', 'Estlick', 'Etchells', 'Etheridge', 'Etherington', 'Etherton', 'Ettrick', 'Evans', 'Evason', 'Evenden', 'Everdell', 'Everett', 'Everill', 'Everitt', 'Everson', 'Everton', 'Eveson', 'Evison', 'Evrard', 'Ewart', 'Ewin', 'Ewing', 'Ewles', 'Exley', 'Exon', 'Exton', 'Eyett', 'Eyles', 'Eyre', 'Eyres', 'Fabb', 'Fagan', 'Fagon', 'Fahy', 'Fairbairn', 'Fairbrace', 'Fairbrother', 'Fairchild', 'Fairclough', 'Fairhurst', 'Fairley', 'Fairlie', 'Fairweather', 'Falconer', 'Falk', 'Fall', 'Fallon', 'Fallows', 'Falsh', 'Farge', 'Fargher', 'Farhall', 'Farley', 'Farmer', 'Farnsworth', 'Farnum', 'Farnworth', 'Farr', 'Farrant', 'Farrar', 'Farre', 'Farrell', 'Farrelly', 'Farren', 'Farrer', 'Farrier', 'Farrington', 'Farrow', 'Faulkner', 'Faust', 'Fawcett', 'Fawn', 'Faye', 'Fearn', 'Fearnley', 'Fearns', 'Fearon', 'Featherstone', 'Feeney', 'Feetham', 'Felix', 'Fell', 'Fellmen', 'Fellows', 'Feltham', 'Felton', 'Fenlon', 'Fenn', 'Fenton', 'Fenwick', 'Ferdinand', 'Fereday', 'Ferguson', 'Fern', 'Fernandez', 'Ferns', 'Fernyhough', 'Ferreira', 'Ferrier', 'Ferris', 'Ferry', 'Fewtrell', 'Field', 'Fielder', 'Fielding', 'Fields', 'Fifield', 'Finan', 'Finbow', 'Finch', 'Findlay', 'Findley', 'Finlay', 'Finn', 'Finnegan', 'Finney', 'Finnigan', 'Finnimore', 'Firth', 'Fischer', 'Fish', 'Fisher', 'Fishlock', 'Fisk', 'Fitch', 'Fitchett', 'Fitton', 'Fitzgerald', 'Fitzpatrick', 'Fitzsimmons', 'Flack', 'Flaherty', 'Flanagan', 'Flanders', 'Flannery', 'Flavell', 'Flaxman', 'Fleetwood', 'Fleming', 'Fletcher', 'Flett', 'Florey', 'Floss', 'Flower', 'Flowers', 'Floyd', 'Flynn', 'Foden', 'Fogg', 'Foley', 'Fontaine', 'Foran', 'Forbes', 'Ford', 'Forde', 'Fordham', 'Foreman', 'Forester', 'Forman', 'Forrest', 'Forrester', 'Forshaw', 'Forster', 'Forsyth', 'Forsythe', 'Forth', 'Fortin', 'Foss', 'Fossard', 'Fosse', 'Foster', 'Foston', 'Fothergill', 'Fotheringham', 'Foucher', 'Foulkes', 'Fountain', 'Fowler', 'Fowley', 'Fox', 'Foxall', 'Foxley', 'Frame', 'Frampton', 'France', 'Francis', 'Franco', 'Frankish', 'Frankland', 'Franklin', 'Franks', 'Frary', 'Fraser', 'Frazer', 'Frederick', 'Frederikson', 'Freeburn', 'Freedman', 'Freeman', 'Freestone', 'Freeth', 'Freight', 'French', 'Fretwell', 'Frey', 'Fricker', 'Friel', 'Friend', 'Frith', 'Froggatt', 'Froggett', 'Frost', 'Frostick', 'Froy', 'Frusher', 'Fryer', 'Fulker', 'Fuller', 'Fulleron', 'Fullerton', 'Fulton', 'Funnell', 'Furey', 'Furlong', 'Furnell', 'Furness', 'Furnish', 'Furniss', 'Furse', 'Fyall', 'Gadsden', 'Gaffney', 'Galbraith', 'Gale', 'Gales', 'Gall', 'Gallacher', 'Gallagher', 'Galliford', 'Gallo', 'Galloway', 'Galvin', 'Gamble', 'Gammer', 'Gammon', 'Gander', 'Gandham', 'Ganivet', 'Garber', 'Garbett', 'Garbutt', 'Garcia', 'Gardener', 'Gardiner', 'Gardner', 'Garland', 'Garner', 'Garrard', 'Garratt', 'Garrett', 'Garside', 'Garvey', 'Gascoyne', 'Gaskell', 'Gately', 'Gates', 'Gaudin', 'Gaumont', 'Gauntlett', 'Gavin', 'Gaynor', 'Geaney', 'Geary', 'Geeson', 'Geldard', 'Geldart', 'Gell', 'Gemmell', 'Gene', 'George', 'Gerard', 'Gerrard', 'Geyer', 'Gibb', 'Gibbins', 'Gibbon', 'Gibbons', 'Gibbs', 'Giblin', 'Gibson', 'Gifford', 'Gilbert', 'Gilbey', 'Gilchrist', 'Gilder', 'Giles', 'Gilfillan', 'Gilks', 'Gill', 'Gillam', 'Gillan', 'Gillard', 'Gillen', 'Gillespie', 'Gillett', 'Gillies', 'Gilmartin', 'Gilmore', 'Gilmour', 'Ginty', 'Girdwood', 'Girling', 'Given', 'Gladwell', 'Glaister', 'Glasby', 'Glasgow', 'Glass', 'Gleave', 'Gledhill', 'Gleeson', 'Glen', 'Glencross', 'Glenn', 'Glennie', 'Glennon', 'Glew', 'Glossop', 'Glover', 'Glynn', 'Goble', 'Godby', 'Goddard', 'Godden', 'Godfrey', 'Godwin', 'Goff', 'Gold', 'Goldberg', 'Golding', 'Goldman', 'Goldsmith', 'Goldsworthy', 'Gomez', 'Gonzalez', 'Gooch', 'Good', 'Goodacre', 'Goodall', 'Goodchild', 'Goode', 'Gooding', 'Goodman', 'Goodridge', 'Goodson', 'Goodwin', 'Goodyear', 'Gordon', 'Goring', 'Gorman', 'Gosden', 'Gosling', 'Gough', 'Gould', 'Goulden', 'Goulding', 'Gourlay', 'Govender', 'Govier', 'Gower', 'Gowing', 'Grady', 'Graham', 'Grainger', 'Grange', 'Granger', 'Grant', 'Graves', 'Gray', 'Grayson', 'Greaves', 'Green', 'Greenall', 'Greenaway', 'Greene', 'Greener', 'Greenhill', 'Greening', 'Greenleaf', 'Greenshields', 'Greenslade', 'Greensmith', 'Greenway', 'Greenwood', 'Greer', 'Gregory', 'Greig', 'Grenard', 'Grennan', 'Gresham', 'Grey', 'Grierson', 'Griff', 'Griffin', 'Griffith', 'Griffiths', 'Griggs', 'Grimes', 'Grimshaw', 'Grinham', 'Grivet', 'Grogan', 'Groom', 'Grose', 'Grosvenor', 'Grout', 'Groves', 'Grundy', 'Guest', 'Guilmard', 'Guinard', 'Gulley', 'Gunby', 'Gunn', 'Gunning', 'Gunston', 'Gunter', 'Guthrie', 'Gutteridge', 'Guttridge', 'Hackett', 'Hadden', 'Haddock', 'Hadfield', 'Hagan', 'Haggett', 'Haigh', 'Haine', 'Haines', 'Hale', 'Halford', 'Hall', 'Hallam', 'Hallett', 'Halliday', 'Halliwell', 'Halstead', 'Hamer', 'Hamill', 'Hamilton', 'Hammond', 'Hamnett', 'Hampson', 'Hampton', 'Hancock', 'Hand', 'Handley', 'Hanlon', 'Hannam', 'Hansen', 'Hanson', 'Harden', 'Harding', 'Hardwick', 'Hardy', 'Hargreaves', 'Harker', 'Harkness', 'Harley', 'Harlow', 'Harman', 'Harness', 'Harper', 'Harries', 'Harrington', 'Harris', 'Harrison', 'Harrop', 'Harry', 'Hart', 'Hartley', 'Harvey', 'Harwood', 'Haslam', 'Hassan', 'Hassani', 'Hastings', 'Hatch', 'Hatton', 'Hawes', 'Hawker', 'Hawkes', 'Hawkins', 'Hawkridge', 'Hawley', 'Haworth', 'Hawtin', 'Hayes', 'Haynes', 'Hayward', 'Head', 'Healey', 'Healy', 'Heath', 'Heathcote', 'Heather', 'Heatley', 'Heaton', 'Hedley', 'Hegney', 'Helley', 'Hellier', 'Helm', 'Hemingway', 'Hemmings', 'Henderson', 'Hendry', 'Heneghan', 'Hennessy', 'Henry', 'Hepburn', 'Hepples', 'Herbert', 'Heritage', 'Heron', 'Herron', 'Hetherington', 'Hewitt', 'Hewlett', 'Heywood', 'Hibbert', 'Hickey', 'Hickman', 'Hicks', 'Higgins', 'Higginson', 'Higgs', 'Hill', 'Hills', 'Hilton', 'Hind', 'Hinde', 'Hindle', 'Hindley', 'Hinds', 'Hine', 'Hinton', 'Hirst', 'Hiscocks', 'Hitchcock', 'Hoare', 'Hobbs', 'Hobson', 'Hocking', 'Hodder', 'Hodge', 'Hodges', 'Hodgkins', 'Hodgkinson', 'Hodgson', 'Hodkinson', 'Hodson', 'Hogan', 'Hogg', 'Holden', 'Holder', 'Holding', 'Holdsworth', 'Hole', 'Holgate', 'Holl', 'Holland', 'Hollis', 'Holloway', 'Holman', 'Holmes', 'Holt', 'Homer', 'Hood', 'Hook', 'Hooper', 'Hooton', 'Hope', 'Hopes', 'Hopkins', 'Hopkinson', 'Hopwood', 'Horn', 'Horne', 'Horner', 'Horrocks', 'Horton', 'Hough', 'Houghton', 'Hoult', 'Houlton', 'Houston', 'Howard', 'Howarth', 'Howden', 'Howe', 'Howell', 'Howells', 'Howes', 'Howie', 'Hoyle', 'Hubbard', 'Hudson', 'Huggins', 'Hughes', 'Hull', 'Hulme', 'Hume', 'Humphrey', 'Humphreys', 'Humphries', 'Hunt', 'Hunter', 'Hurley', 'Hurrell', 'Hurst', 'Hussain', 'Hussein', 'Hussey', 'Hutchings', 'Hutchins', 'Hutchinson', 'Hutchison', 'Hutton', 'Hyde', 'Ianson', 'Ibbotson', 'Ibbs', 'Ibrahim', 'Iddon', 'Iggleden', 'Iles', 'Ilett', 'Illing', 'Illingworth', 'Ilsley', 'Impey', 'Imran', 'Ingermann', 'Ingham', 'Ingle', 'Ingleby', 'Ingledew', 'Inglefield', 'Ingles', 'Inglethorpe', 'Ingram', 'Inker', 'Inman', 'Innalls', 'Innes', 'Inson', 'Ireland', 'Ireson', 'Ironman', 'Ironmonger', 'Irvin', 'Irvine', 'Irving', 'Irwin', 'Isaac', 'Isaacs', 'Isbill', 'Isbitt', 'Isgate', 'Isherwod', 'Isherwood', 'Islam', 'Isman', 'Isnard', 'Issac', 'Ivory', 'Izzard', 'Jackman', 'Jacks', 'Jackson', 'Jacob', 'Jacobs', 'Jacobson', 'Jacques', 'Jaffray', 'Jagger', 'Jakeman', 'James', 'Jameson', 'Jamieson', 'Janes', 'Jansen', 'Jardine', 'Jarman', 'Jarram', 'Jarratt', 'Jarrett', 'Jarrold', 'Jarvis', 'Jasper', 'Jebson', 'Jeffcock', 'Jefferies', 'Jeffers', 'Jefferson', 'Jeffery', 'Jefford', 'Jeffrey', 'Jeffreys', 'Jeffries', 'Jeffs', 'Jems', 'Jenas', 'Jenkin', 'Jenkins', 'Jenkinson', 'Jenks', 'Jenkyns', 'Jenner', 'Jennings', 'Jennison', 'Jennson', 'Jensen', 'Jepson', 'Jermy', 'Jerome', 'Jerry', 'Jervis', 'Jesson', 'Jessop', 'Jevons', 'Jewell', 'Jewers', 'Jewett', 'Jewitt', 'Jewkes', 'Jewson', 'Jiggens', 'Jobson', 'Johannson', 'Johansen', 'Johanson', 'John', 'Johns', 'Johnson', 'Johnston', 'Johnstone', 'Jolley', 'Jolly', 'Jonas', 'Jones', 'Jonhson', 'Jopson', 'Jordan', 'Jordison', 'Jordon', 'Joseph', 'Joss', 'Jourdan', 'Jowett', 'Jowitt', 'Joyce', 'Joynson', 'Jubb', 'Judd', 'Judge', 'Jukes', 'Jupp', 'Jury', 'Kacy', 'Kaddour', 'Kamara', 'Kampfner', 'Kane', 'Kanes', 'Kapoor', 'Karim', 'Karne', 'Karras', 'Kassell', 'Kaufman', 'Kaul', 'Kaur', 'Kavanagh', 'Kay', 'Kaye', 'Kayes', 'Keable', 'Keal', 'Kealey', 'Keane', 'Kearney', 'Kearns', 'Kearsley', 'Kearton', 'Keating', 'Keaveney', 'Keay', 'Keeble', 'Keefe', 'Keegan', 'Keelan', 'Keeler', 'Keeley', 'Keeling', 'Keenan', 'Keene', 'Keetley', 'Keffler', 'Kehoe', 'Keighley', 'Keight', 'Keilty', 'Keir', 'Keith', 'Kelk', 'Kell', 'Kelland', 'Kellems', 'Kellie', 'Kelliher', 'Kelly', 'Kelsall', 'Kelsey', 'Kelso', 'Kemp', 'Kempson', 'Kempster', 'Kendall', 'Kendell', 'Kendrick', 'Kenley', 'Kennard', 'Kennedy', 'Kenneford', 'Kennell', 'Kenneth', 'Kennett', 'Kenney', 'Kenning', 'Kenny', 'Kenrick', 'Kensington', 'Kent', 'Kentwood', 'Kenward', 'Kenworthy', 'Kenyon', 'Keogh', 'Kerby', 'Kernick', 'Kerr', 'Kerrell', 'Kerridge', 'Kerrigan', 'Kerrighen', 'Kerrison', 'Kershaw', 'Ketley', 'Kett', 'Kettell', 'Ketteringham', 'Kettlewell', 'Keward', 'Kewley', 'Keys', 'Keyte', 'Keywood', 'Khalid', 'Khalifa', 'Khalil', 'Khan', 'Kibblewhite', 'Kidd', 'Kiddle', 'Kidman', 'Kidner', 'Kiely', 'Kiernan', 'Kilb', 'Kilbee', 'Kilbey', 'Kilbride', 'Kilburn', 'Kilford', 'Kill', 'Killeen', 'Killen', 'Killick', 'Killock', 'Kilminster', 'Kilmurry', 'Kilnan', 'Kilner', 'Kilroy', 'Kilshaw', 'Kimber', 'Kimble', 'Kinch', 'Kinchin', 'Kinder', 'King', 'Kingdon', 'Kinghorn', 'Kingman', 'Kings', 'Kingscott', 'Kingsley', 'Kingston', 'Kinnaird', 'Kinnear', 'Kinnersley', 'Kinniburgh', 'Kinnison', 'Kinrade', 'Kinsella', 'Kinsey', 'Kinsley', 'Kipling', 'Kirby', 'Kirk', 'Kirkbride', 'Kirkbright', 'Kirkby', 'Kirkland', 'Kirkman', 'Kirkpatrick', 'Kirkwood', 'Kirtley', 'Kirwan', 'Kirwin', 'Kitchen', 'Kitchin', 'Kitching', 'Kitson', 'Kitt', 'Klam', 'Klein', 'Knab', 'Knappett', 'Knibb', 'Knigge', 'Knight', 'Knightley', 'Knighton', 'Knights', 'Knott', 'Knowler', 'Knowles', 'Knox', 'Knoxville', 'Knuckles', 'Knutt', 'Koban', 'Kolt', 'Kone', 'Kore', 'Kouma', 'Kram', 'Kreyling', 'Kristensen', 'Kromberg', 'Kruger', 'Kumar', 'Kurian', 'Kurray', 'Kydd', 'Kyle', 'Kysel', 'Labbe', 'Lacey', 'Lacy', 'Laing', 'Laird', 'Lake', 'Lakey', 'Lakin', 'Lamb', 'Lambert', 'Lambton', 'Lame', 'Lamond', 'Lancaster', 'Lander', 'Lane', 'Lang', 'Langdon', 'Lange', 'Langford', 'Langley', 'Langridge', 'Langston', 'Langton', 'Lanham', 'Laraway', 'Large', 'Larkin', 'Larkings', 'Larsen', 'Larsson', 'Last', 'Latham', 'Lathan', 'Lathey', 'Lattimore', 'Laurie', 'Laver', 'Laverick', 'Lavery', 'Lawal', 'Lawler', 'Lawlor', 'Lawn', 'Lawrance', 'Lawrence', 'Lawrie', 'Laws', 'Lawson', 'Lawther', 'Lawton', 'Laycock', 'Layton', 'Le tissier', 'Leach', 'Leadley', 'Leahy', 'Leake', 'Leal', 'Leary', 'Leaver', 'Leck', 'Leckie', 'Ledger', 'Lee', 'Leech', 'Leedham', 'Leek', 'Leeming', 'Lees', 'Leese', 'Leeson', 'Legg', 'Legge', 'Leggett', 'Leigh', 'Leighton', 'Leitch', 'Leith', 'Lendon', 'Lenihan', 'Lennard', 'Lennon', 'Lennox', 'Leonard', 'Leroy', 'Leslie', 'Lester', 'Lethbridge', 'Levann', 'Levett', 'Levin', 'Levine', 'Levy', 'Lewin', 'Lewington', 'Lewins', 'Lewis', 'Lewry', 'Leyland', 'Leys', 'Leyshon', 'Liddell', 'Liddle', 'Lightfoot', 'Lilley', 'Lilly', 'Lilwall', 'Lincoln', 'Lind', 'Linden', 'Lindo', 'Lindop', 'Lindsay', 'Line', 'Lines', 'Linford', 'Ling', 'Linley', 'Linsby', 'Linton', 'Lister', 'Litchfield', 'Little', 'Littlewood', 'Livermore', 'Livingstone', 'Llewellyn', 'Lloyd', 'Loat', 'Lobb', 'Lock', 'Locke', 'Lockett', 'Lockhart', 'Lockie', 'Lockwood', 'Lockyer', 'Lodge', 'Loft', 'Lofthouse', 'Loftus', 'Logan', 'Lohan', 'Lois', 'Lomas', 'Lomax', 'London', 'Long', 'Longhurst', 'Longley', 'Longworth', 'Lonsdale', 'Lopes', 'Lopez', 'Lord', 'Loudon', 'Loughran', 'Louth', 'Lovatt', 'Love', 'Lovegrove', 'Lovell', 'Lovelock', 'Lovett', 'Lovey', 'Lowbridge', 'Lowdon', 'Lowe', 'Lowes', 'Lowis', 'Lowndes', 'Lowrie', 'Lowry', 'Lucas', 'Luce', 'Lucey', 'Luckhurst', 'Ludgrove', 'Ludkin', 'Ludlow', 'Luke', 'Luker', 'Lumb', 'Lumley', 'Lumsden', 'Lunn', 'Lunt', 'Luscombe', 'Luttrell', 'Luxton', 'Lyall', 'Lyes', 'Lyme', 'Lynas', 'Lynch', 'Lynes', 'Lynn', 'Lyon', 'Lyons', 'Mac', 'Macarthur', 'Macaulay', 'Macdonald', 'Mace', 'Macfarlane', 'Macgregor', 'Machin', 'Macintyre', 'Mack', 'Mackay', 'Mackenzie', 'Mackie', 'Maclean', 'Macleod', 'Macmillan', 'Macpherson', 'Macrae', 'Madden', 'Maddocks', 'Magee', 'Maguire', 'Maher', 'Mahoney', 'Main', 'Mair', 'Major', 'Makin', 'Malley', 'Mallinson', 'Malone', 'Maloney', 'Mangnall', 'Mann', 'Manning', 'Mansell', 'Mansfield', 'Manson', 'Markham', 'Marks', 'Marlow', 'Marr', 'Marriott', 'Marsden', 'Marsh', 'Marshall', 'Martin', 'Martinez', 'Martins', 'Mason', 'Masters', 'Mather', 'Mathers', 'Matheson', 'Mathews', 'Matthams', 'Matthews', 'Maughan', 'Mawson', 'Maxwell', 'May', 'Maynard', 'Mcarthur', 'Mcauley', 'Mcavoy', 'Mcbain', 'Mccabe', 'Mccaffrey', 'Mccall', 'Mccallum', 'Mccann', 'Mccarthy', 'Mccartney', 'Mccluskey', 'Mcclymont', 'Mcconnell', 'Mccormack', 'Mccormick', 'Mccourt', 'Mcculloch', 'Mccullough', 'Mcdermott', 'Mcdonagh', 'Mcdonald', 'Mcdonnell', 'Mcdougall', 'Mcelroy', 'Mcewan', 'Mcfadden', 'Mcfarlane', 'Mcgee', 'Mcghee', 'Mcgill', 'Mcginty', 'Mcgowan', 'Mcgrady', 'Mcgrath', 'Mcgregor', 'Mcgrory', 'Mcguinness', 'Mcguire', 'Mcintosh', 'Mcintyre', 'Mckay', 'Mckee', 'Mckenna', 'Mckenzie', 'Mckeown', 'Mckie', 'Mclaren', 'Mclaughlin', 'Mclean', 'Mclellan', 'Mcleod', 'Mcloughlin', 'Mcmahon', 'Mcmanus', 'Mcmillan', 'Mcnally', 'Mcnamara', 'Mcnaught', 'Mcneil', 'Mcneill', 'Mcnulty', 'Mcphail', 'Mcphee', 'Mcpherson', 'Mcrae', 'Mcshane', 'Mctaggart', 'Meadows', 'Meakin', 'Mears', 'Melia', 'Mellor', 'Meredith', 'Merritt', 'Metcalf', 'Metcalfe', 'Michael', 'Michel', 'Middleton', 'Miles', 'Milford', 'Mill', 'Millar', 'Millard', 'Miller', 'Millett', 'Milligan', 'Millington', 'Mills', 'Millward', 'Milne', 'Milner', 'Milward', 'Mistry', 'Mitchell', 'Moffat', 'Mohamed', 'Mohammed', 'Molloy', 'Molyneux', 'Monaghan', 'Montague', 'Montgomery', 'Moody', 'Moon', 'Mooney', 'Moore', 'Moorhouse', 'Moran', 'More', 'Moreno', 'Moreton', 'Morgan', 'Moriarty', 'Morley', 'Moroney', 'Morris', 'Morrison', 'Morrow', 'Mortimer', 'Morton', 'Moseley', 'Moss', 'Mottram', 'Mould', 'Muir', 'Mullen', 'Mulligan', 'Mullins', 'Mundy', 'Munro', 'Murphy', 'Murray', 'Murrell', 'Mustafa', 'Myatt', 'Myers', 'Nair', 'Nairn', 'Nandi', 'Nanson', 'Nanton', 'Napier', 'Napper', 'Nartey', 'Nash', 'Nason', 'Naughton', 'Naumann', 'Nayler', 'Naylor', 'Naysmith', 'Neal', 'Neale', 'Neary', 'Neave', 'Neaverson', 'Nedd', 'Needham', 'Neeson', 'Negros', 'Neighbour', 'Neill', 'Neilsen', 'Neilson', 'Neish', 'Nelmes', 'Nelms', 'Nelson', 'Nemeth', 'Nero', 'Nesbitt', 'Ness', 'Nessbert', 'Nettleton', 'Neville', 'Nevins', 'Nevis', 'Newall', 'Newberry', 'Newbold', 'Newbury', 'Newby', 'Newcombe', 'Newell', 'Newey', 'Newham', 'Newill', 'Newington', 'Newland', 'Newlands', 'Newman', 'Newsham', 'Newsome', 'Newson', 'Newstead', 'Newton', 'Neyland', 'Nichol', 'Nicholas', 'Nicholl', 'Nicholls', 'Nichols', 'Nicholson', 'Nickel', 'Nickolls', 'Nicks', 'Nicol', 'Nicolas', 'Nicoll', 'Nicolson', 'Nield', 'Nielsen', 'Nielson', 'Nightingale', 'Niles', 'Nilsen', 'Nineham', 'Nisbet', 'Nixon', 'Noach', 'Noakes', 'Nobbs', 'Noble', 'Noggins', 'Nokes', 'Nolan', 'Nood', 'Noon', 'Noonan', 'Norbert', 'Norburn', 'Norbury', 'Norcross', 'Nord', 'Norgate', 'Norgrove', 'Norm', 'Norman', 'Normington', 'Norris', 'Norsworthy', 'North', 'Northcott', 'Norton', 'Norville', 'Norwood', 'Notman', 'Nott', 'Nourse', 'Nova', 'Nowak', 'Nowell', 'Noyce', 'Noyes', 'Nugent', 'Number', 'Nunn', 'Nurse', 'Nurton', 'Nutella', 'Nutman', 'Nutt', 'Nuttall', 'Oakes', 'Oakey', 'Oakley', 'Oaks', 'Oakton', 'Oates', 'Oatridge', 'Oatway', 'Obrien', 'Ocallaghan', 'Oconnell', 'Oconnor', 'Odam', 'Oddie', 'Oddy', 'Odea', 'Odell', 'Odling', 'Odonnell', 'Odonoghue', 'Odriscoll', 'Oflynn', 'Ogden', 'Ogilvie', 'Ogilvy', 'Ogrady', 'Ohalloran', 'Ohara', 'Okeefe', 'Okey', 'Okten', 'Olan', 'Oldfield', 'Oldham', 'Olding', 'Oldland', 'Oldroyd', 'Olds', 'Oleary', 'Oliver', 'Olivier', 'Ollerhead', 'Olley', 'Oloughlin', 'Olsen', 'Olson', 'Omalley', 'Oman', 'Oneil', 'Oneill', 'Opayne', 'Openshaw', 'Oram', 'Orbell', 'Orchard', 'Oreilly', 'Oriley', 'Orman', 'Orme', 'Ormiston', 'Ormond', 'Ormsby', 'Ormston', 'Orrell', 'Orritt', 'Orton', 'Orvis', 'Orwin', 'Osborn', 'Osborne', 'Osman', 'Osmond', 'Ostcliffe', 'Ostler', 'Osullivan', 'Oswald', 'Otoole', 'Otten', 'Otter', 'Ottey', 'Ottley', 'Otton', 'Ould', 'Oulton', 'Overall', 'Overett', 'Overfield', 'Overing', 'Overson', 'Overton', 'Owen', 'Owens', 'Owings', 'Oxby', 'Oxenham', 'Oxley', 'Oxtoby', 'Pack', 'Packard', 'Packer', 'Pagan', 'Page', 'Paige', 'Pailing', 'Paine', 'Painter', 'Paisley', 'Palfrey', 'Palfreyman', 'Palin', 'Pallett', 'Palmer', 'Panesar', 'Pankhurst', 'Pannell', 'Parish', 'Park', 'Parker', 'Parkes', 'Parkin', 'Parkins', 'Parkinson', 'Parks', 'Parmar', 'Parnaby', 'Parnell', 'Parr', 'Parratt', 'Parrott', 'Parry', 'Parsons', 'Partington', 'Partlett', 'Partridge', 'Pascoe', 'Pasfield', 'Paskell', 'Passmore', 'Patchett', 'Patel', 'Pateman', 'Paterson', 'Paton', 'Patrick', 'Patten', 'Patterson', 'Pattinson', 'Pattison', 'Patton', 'Paul', 'Pavot', 'Pawson', 'Payne', 'Peace', 'Peach', 'Peacock', 'Peake', 'Peal', 'Peaper', 'Pearce', 'Pears', 'Pearson', 'Peat', 'Peck', 'Pedley', 'Peebles', 'Peel', 'Peers', 'Pegg', 'Peigne', 'Pell', 'Pelling', 'Pemberton', 'Pender', 'Pendlebury', 'Pendleton', 'Penfold', 'Penn', 'Pennell', 'Penney', 'Pennington', 'Percival', 'Pereira', 'Perez', 'Perkin', 'Perkins', 'Perks', 'Perowne', 'Perrett', 'Perrin', 'Perrins', 'Perry', 'Peters', 'Petersen', 'Peterson', 'Petrova', 'Pett', 'Petticrew', 'Peyton', 'Phelan', 'Phelps', 'Philip', 'Philips', 'Phillips', 'Philpott', 'Phipps', 'Phoenix', 'Pick', 'Pickard', 'Pickering', 'Pickersgill', 'Pickett', 'Pickford', 'Pickthall', 'Picot', 'Pierce', 'Piercey', 'Pierre', 'Pigott', 'Pike', 'Pilkington', 'Pillay', 'Pinder', 'Pine', 'Pinkney', 'Pinner', 'Pinnock', 'Pinsmail', 'Pipe', 'Piper', 'Pitcher', 'Pitchford', 'Pitt', 'Pitts', 'Plant', 'Plastow', 'Platt', 'Platts', 'Pledger', 'Plouvin', 'Plumb', 'Plummer', 'Pocock', 'Pointer', 'Pole', 'Pollard', 'Pollock', 'Polson', 'Pomeroy', 'Pomphrey', 'Pond', 'Pooke', 'Poole', 'Poon', 'Pope', 'Porter', 'Potter', 'Potts', 'Poulter', 'Poulton', 'Pounder', 'Povey', 'Powell', 'Power', 'Powers', 'Powis', 'Powles', 'Poyser', 'Pratt', 'Preece', 'Prendergast', 'Prentice', 'Prescott', 'Preston', 'Prevost', 'Price', 'Prime', 'Prince', 'Pringle', 'Prior', 'Pritchard', 'Privett', 'Probert', 'Procter', 'Proctor', 'Prosser', 'Provan', 'Pryor', 'Pugh', 'Pullen', 'Purcell', 'Purkis', 'Purnell', 'Purse', 'Purvis', 'Putt', 'Pyle', 'Quigley', 'Quinlivan', 'Quinn', 'Quinnell', 'Quinton', 'Quirk', 'Quirke', 'Rackham', 'Radcliffe', 'Radford', 'Radley', 'Raeburn', 'Rafferty', 'Rahman', 'Raine', 'Rainey', 'Rainford', 'Ralph', 'Ralston', 'Ramm', 'Rampling', 'Ramsay', 'Ramsden', 'Ramsey', 'Rand', 'Randall', 'Randle', 'Ranger', 'Rankin', 'Ranks', 'Rann', 'Ransom', 'Ranson', 'Rapson', 'Rashid', 'Ratcliffe', 'Raval', 'Raven', 'Ravenscroft', 'Rawlings', 'Rawlinson', 'Rawsthorne', 'Raymond', 'Rayner', 'Read', 'Reade', 'Reader', 'Reading', 'Readle', 'Readman', 'Reardon', 'Reasbeck', 'Reay', 'Redden', 'Redding', 'Reddy', 'Redfern', 'Redhead', 'Redin', 'Redman', 'Redmond', 'Redwood', 'Reed', 'Rees', 'Reese', 'Reeve', 'Reeves', 'Regan', 'Regent', 'Rehman', 'Reid', 'Reilly', 'Reisser', 'Render', 'Renna', 'Rennalls', 'Rennie', 'Renshaw', 'Renwick', 'Reveley', 'Reyes', 'Reygan', 'Reynolds', 'Rhoades', 'Rhodes', 'Rhys', 'Ricci', 'Rice', 'Rich', 'Richards', 'Richardson', 'Riches', 'Richman', 'Richmond', 'Richter', 'Rick', 'Rickard', 'Rickards', 'Rickett', 'Ricketts', 'Riddell', 'Riddle', 'Riddler', 'Ridge', 'Ridgway', 'Ridgwell', 'Ridle', 'Ridley', 'Rigby', 'Rigg', 'Rigley', 'Riley', 'Ring', 'Ripley', 'Rippin', 'Riseborough', 'Ritchie', 'Rivers', 'Rixon', 'Roach', 'Robb', 'Robbins', 'Robe', 'Robert', 'Roberts', 'Robertson', 'Robin', 'Robins', 'Robinson', 'Robishaw', 'Robotham', 'Robson', 'Roche', 'Rochford', 'Rockliffe', 'Rodden', 'Roden', 'Rodger', 'Rodgers', 'Rodham', 'Rodrigues', 'Rodriguez', 'Rodwell', 'Roebuck', 'Roff', 'Roffey', 'Rogan', 'Rogers', 'Rogerson', 'Roles', 'Rolfe', 'Rollinson', 'Roman', 'Romans', 'Ronald', 'Ronflard', 'Rook', 'Rooke', 'Roome', 'Rooney', 'Rootham', 'Roper', 'Ropple', 'Roscoe', 'Rose', 'Rosenblatt', 'Rosenbloom', 'Ross', 'Rosser', 'Rossi', 'Rosso', 'Roth', 'Rothery', 'Rothwell', 'Rouse', 'Roussel', 'Rousset', 'Routledge', 'Rowan', 'Rowe', 'Rowland', 'Rowlands', 'Rowley', 'Rowlinson', 'Rowson', 'Royall', 'Royle', 'Rudd', 'Ruff', 'Rugg', 'Rumbold', 'Rumsey', 'Ruscoe', 'Rush', 'Rushbrooke', 'Rushby', 'Rushton', 'Russel', 'Russell', 'Russon', 'Rust', 'Rutherford', 'Rutter', 'Ryan', 'Ryans', 'Rycroft', 'Ryder', 'Sadiq', 'Sadler', 'Said', 'Saleh', 'Salisbury', 'Sallis', 'Salmon', 'Salt', 'Salter', 'Sampson', 'Samuel', 'Samuels', 'Sanchez', 'Sanders', 'Sanderson', 'Sandison', 'Sands', 'Santos', 'Sargent', 'Saunders', 'Savage', 'Saville', 'Sawyer', 'Saxton', 'Sayers', 'Schmid', 'Schmidt', 'Schofield', 'Scott', 'Searle', 'Seddon', 'Seer', 'Selby', 'Sellars', 'Sellers', 'Senior', 'Sewell', 'Sexton', 'Seymour', 'Shackleton', 'Shah', 'Shakespeare', 'Shand', 'Shanks', 'Shannon', 'Sharkey', 'Sharma', 'Sharp', 'Sharpe', 'Sharples', 'Shaughnessy', 'Shaw', 'Shea', 'Shearer', 'Sheehan', 'Sheldon', 'Shelton', 'Shepherd', 'Sheppard', 'Sheridan', 'Sherman', 'Sherriff', 'Sherry', 'Sherwood', 'Shields', 'Shipley', 'Short', 'Shotton', 'Showell', 'Shuttleworth', 'Silcock', 'Silva', 'Simmonds', 'Simmons', 'Simms', 'Simon', 'Simons', 'Simpson', 'Sims', 'Sinclair', 'Singh', 'Singleton', 'Sinha', 'Sisson', 'Sissons', 'Skelly', 'Skelton', 'Skinner', 'Skipper', 'Slade', 'Slater', 'Slattery', 'Sloan', 'Slocombe', 'Small', 'Smallwood', 'Smart', 'Smit', 'Smith', 'Smithson', 'Smullen', 'Smyth', 'Smythe', 'Sneddon', 'Snell', 'Snelling', 'Snow', 'Snowden', 'Snowdon', 'Somerville', 'South', 'Southern', 'Southgate', 'Southwick', 'Sparkes', 'Sparrow', 'Spears', 'Speed', 'Speight', 'Spence', 'Spencer', 'Spicer', 'Spiller', 'Spinks', 'Spooner', 'Squire', 'Squires', 'Stacey', 'Stack', 'Staff', 'Stafford', 'Stainton', 'Stamp', 'Stanfield', 'Stanford', 'Stanley', 'Stannard', 'Stanton', 'Stark', 'Steadman', 'Stedman', 'Steel', 'Steele', 'Steer', 'Steere', 'Stenhouse', 'Stephen', 'Stephens', 'Stephenson', 'Sterling', 'Stevens', 'Stevenson', 'Steward', 'Stewart', 'Stock', 'Stocker', 'Stockley', 'Stoddart', 'Stokes', 'Stokoe', 'Stone', 'Stoppard', 'Storer', 'Storey', 'Storr', 'Stott', 'Stout', 'Strachan', 'Strange', 'Street', 'Stretton', 'Strickland', 'Stringer', 'Strong', 'Stroud', 'Stuart', 'Stubbs', 'Stuckey', 'Sturgess', 'Sturrock', 'Styles', 'Sugden', 'Sullivan', 'Summers', 'Sumner', 'Sunderland', 'Sutherland', 'Sutton', 'Swain', 'Swales', 'Swan', 'Swann', 'Swanson', 'Sweeney', 'Sweeting', 'Swift', 'Sykes', 'Sylvester', 'Symes', 'Symonds', 'Taggart', 'Tailor', 'Tait', 'Talbot', 'Tallett', 'Tamber', 'Tang', 'Tanner', 'Tansey', 'Tansley', 'Tappin', 'Tapping', 'Tapscott', 'Tarr', 'Tarrant', 'Tasker', 'Tate', 'Tatlock', 'Tatlow', 'Tatnell', 'Taurel', 'Tayler', 'Taylor', 'Teague', 'Teal', 'Teale', 'Teasdale', 'Tedd', 'Telford', 'Tell', 'Tellis', 'Tempest', 'Templar', 'Temple', 'Templeman', 'Templeton', 'Tennant', 'Terry', 'Thackeray', 'Thackray', 'Thake', 'Thatcher', 'Thelwell', 'Thirlwall', 'Thirlway', 'Thirlwell', 'Thistlethwaite', 'Thom', 'Thomas', 'Thomason', 'Thompson', 'Thoms', 'Thomson', 'Thonon', 'Thorley', 'Thorndyke', 'Thorne', 'Thornes', 'Thornhill', 'Thornley', 'Thornton', 'Thorp', 'Thorpe', 'Thurbon', 'Thurgood', 'Thurling', 'Thurlow', 'Thurman', 'Thurston', 'Tickner', 'Tidmarsh', 'Tierney', 'Till', 'Tillett', 'Tilley', 'Tilson', 'Tilston', 'Timberlake', 'Timmins', 'Timms', 'Timney', 'Timson', 'Tindall', 'Tindell', 'Tinker', 'Tinkler', 'Tinsley', 'Tipping', 'Tippins', 'Tips', 'Tisdall', 'Titmarsh', 'Titmus', 'Titmuss', 'Titterington', 'Toal', 'Tobin', 'Tocher', 'Todd', 'Tohill', 'Toland', 'Tolley', 'Tollis', 'Tolmay', 'Tomas', 'Tombs', 'Tomes', 'Tomkins', 'Tomlin', 'Tomlinson', 'Tompkin', 'Tompkins', 'Toms', 'Tong', 'Tonge', 'Tonks', 'Tonner', 'Toomer', 'Toomey', 'Topham', 'Topley', 'Topliss', 'Topp', 'Torney', 'Torrance', 'Torrens', 'Torres', 'Tosh', 'Totten', 'Toucet', 'Tovar', 'Tovey', 'Towell', 'Towers', 'Towle', 'Townend', 'Towns', 'Townsend', 'Townsley', 'Tozer', 'Trafford', 'Train', 'Trainor', 'Trattles', 'Travers', 'Travill', 'Travis', 'Traynor', 'Treble', 'Trennery', 'Trent', 'Treseder', 'Trevor', 'Trew', 'Trickett', 'Trigg', 'Trimble', 'Trinder', 'Trollope', 'Troon', 'Trotman', 'Trott', 'Trueman', 'Truman', 'Trump', 'Truscott', 'Tuck', 'Tucker', 'Tuckey', 'Tudor', 'Tuffnell', 'Tufnall', 'Tugwell', 'Tully', 'Tunks', 'Tunstall', 'Turford', 'Turke', 'Turkington', 'Turland', 'Turnbull', 'Turner', 'Turney', 'Turnham', 'Turnock', 'Turrell', 'Turton', 'Turvey', 'Tuthill', 'Tuttle', 'Tutton', 'Tweddle', 'Twigg', 'Twiggs', 'Twine', 'Tyler', 'Tyman', 'Tyne', 'Tyrer', 'Tyrrell', 'Uddin', 'Ullman', 'Ullmann', 'Ulyatt', 'Umney', 'Underdown', 'Underhill', 'Underwood', 'Unsworth', 'Unwin', 'Upfield', 'Upjohn', 'Upsdell', 'Upson', 'Upton', 'Urwin', 'Utley', 'Utterson', 'Uttley', 'Utton', 'Uttridge', 'Vale', 'Valentine', 'Vallance', 'Vallins', 'Vallory', 'Valmary', 'Vancoller', 'Vane', 'Vann', 'Vanstone', 'Vanwell', 'Vardy', 'Varey', 'Varley', 'Varndell', 'Vass', 'Vaughan', 'Vaughn', 'Veale', 'Veasey', 'Veevers', 'Veitch', 'Velds', 'Venables', 'Ventura', 'Verdon', 'Verell', 'Verney', 'Vernon', 'Vicary', 'Vicens', 'Vickars', 'Vickerman', 'Vickers', 'Vickery', 'Victor', 'Vikers', 'Villiger', 'Villis', 'Vince', 'Vincent', 'Vine', 'Viner', 'Vines', 'Viney', 'Vinicombe', 'Vinny', 'Vinton', 'Virgo', 'Voakes', 'Vockins', 'Vodden', 'Vollans', 'Voyse', 'Vyner', 'Wade', 'Wadham', 'Waghorn', 'Wagstaff', 'Wain', 'Wainwright', 'Waite', 'Wakefield', 'Wakeford', 'Wakeham', 'Wakelin', 'Waldron', 'Wale', 'Wales', 'Walkden', 'Walker', 'Wall', 'Wallace', 'Waller', 'Walling', 'Wallis', 'Walls', 'Walmsley', 'Walpole', 'Walsh', 'Walshe', 'Walter', 'Walters', 'Walton', 'Wane', 'Wang', 'Warburton', 'Warby', 'Ward', 'Warden', 'Wardle', 'Ware', 'Wareing', 'Waring', 'Warn', 'Warner', 'Warren', 'Warriner', 'Warrington', 'Warwick', 'Water', 'Waterfield', 'Waterhouse', 'Wateridge', 'Waterman', 'Waters', 'Waterson', 'Watkins', 'Watkinson', 'Watling', 'Watson', 'Watt', 'Watters', 'Watts', 'Waugh', 'Wears', 'Weasley', 'Weaver', 'Webb', 'Webber', 'Webster', 'Weeks', 'Weir', 'Welch', 'Weldon', 'Weller', 'Wellington', 'Wellman', 'Wells', 'Welsh', 'Welton', 'Were', 'Werner', 'Werrett', 'West', 'Western', 'Westgate', 'Westlake', 'Weston', 'Westwell', 'Westwood', 'Whalley', 'Wharton', 'Wheatcroft', 'Wheatley', 'Wheeldon', 'Wheeler', 'Whelan', 'Whitaker', 'Whitby', 'White', 'Whiteford', 'Whitehead', 'Whitehouse', 'Whitelaw', 'Whiteley', 'Whitfield', 'Whitham', 'Whiting', 'Whitley', 'Whitlock', 'Whitmore', 'Whittaker', 'Whittingham', 'Whittington', 'Whittle', 'Whittley', 'Whitworth', 'Whyte', 'Wickens', 'Wickham', 'Wicks', 'Widdows', 'Widdowson', 'Wiggins', 'Wigley', 'Wilcox', 'Wild', 'Wilde', 'Wildman', 'Wileman', 'Wiles', 'Wilkes', 'Wilkie', 'Wilkin', 'Wilkins', 'Wilkinson', 'Wilks', 'Wilkshire', 'Will', 'Willett', 'Willetts', 'Williams', 'Williamson', 'Willis', 'Wills', 'Willson', 'Wilmot', 'Wilson', 'Wilton', 'Wiltshire', 'Winder', 'Windsor', 'Winfer', 'Winfield', 'Winman', 'Winn', 'Winship', 'Winstanley', 'Winter', 'Wintersgill', 'Winward', 'Wise', 'Wiseman', 'Wither', 'Withers', 'Wolf', 'Wolfe', 'Wolstencroft', 'Wong', 'Wood', 'Woodcock', 'Woodford', 'Woodhall', 'Woodham', 'Woodhams', 'Woodhead', 'Woodhouse', 'Woodland', 'Woodley', 'Woods', 'Woodward', 'Wooldridge', 'Woollard', 'Woolley', 'Woolnough', 'Wootton', 'Worgan', 'Wormald', 'Worrall', 'Worsnop', 'Worth', 'Worthington', 'Wotherspoon', 'Wragg', 'Wraight', 'Wray', 'Wren', 'Wrench', 'Wrenn', 'Wrigglesworth', 'Wright', 'Wrightson', 'Wyatt', 'Wyer', 'Yabsley', 'Yallop', 'Yang', 'Yapp', 'Yard', 'Yardley', 'Yarker', 'Yarlett', 'Yarnall', 'Yarnold', 'Yarwood', 'Yasmin', 'Yates', 'Yeadon', 'Yeardley', 'Yeardsley', 'Yeates', 'Yeatman', 'Yeldon', 'Yeoman', 'Yeomans', 'Yetman', 'Yeung', 'Yoman', 'Yomkins', 'York', 'Yorke', 'Yorston', 'Youlden', 'Young', 'Younge', 'Younis', 'Youssouf', 'Yule', 'Yusuf', 'Zaoui'], 'Arabic': ['Khoury', 'Nahas', 'Daher', 'Gerges', 'Nazari', 'Maalouf', 'Gerges', 'Naifeh', 'Guirguis', 'Baba', 'Sabbagh', 'Attia', 'Tahan', 'Haddad', 'Aswad', 'Najjar', 'Dagher', 'Maloof', 'Isa', 'Asghar', 'Nader', 'Gaber', 'Abboud', 'Maalouf', 'Zogby', 'Srour', 'Bahar', 'Mustafa', 'Hanania', 'Daher', 'Tuma', 'Nahas', 'Saliba', 'Shamoon', 'Handal', 'Baba', 'Amari', 'Bahar', 'Atiyeh', 'Said', 'Khouri', 'Tahan', 'Baba', 'Mustafa', 'Guirguis', 'Sleiman', 'Seif', 'Dagher', 'Bahar', 'Gaber', 'Harb', 'Seif', 'Asker', 'Nader', 'Antar', 'Awad', 'Srour', 'Shadid', 'Hajjar', 'Hanania', 'Kalb', 'Shadid', 'Bazzi', 'Mustafa', 'Masih', 'Ghanem', 'Haddad', 'Isa', 'Antoun', 'Sarraf', 'Sleiman', 'Dagher', 'Najjar', 'Malouf', 'Nahas', 'Naser', 'Saliba', 'Shamon', 'Malouf', 'Kalb', 'Daher', 'Maalouf', 'Wasem', 'Kanaan', 'Naifeh', 'Boutros', 'Moghadam', 'Masih', 'Sleiman', 'Aswad', 'Cham', 'Assaf', 'Quraishi', 'Shalhoub', 'Sabbag', 'Mifsud', 'Gaber', 'Shammas', 'Tannous', 'Sleiman', 'Bazzi', 'Quraishi', 'Rahal', 'Cham', 'Ghanem', 'Ghanem', 'Naser', 'Baba', 'Shamon', 'Almasi', 'Basara', 'Quraishi', 'Bata', 'Wasem', 'Shamoun', 'Deeb', 'Touma', 'Asfour', 'Deeb', 'Hadad', 'Naifeh', 'Touma', 'Bazzi', 'Shamoun', 'Nahas', 'Haddad', 'Arian', 'Kouri', 'Deeb', 'Toma', 'Halabi', 'Nazari', 'Saliba', 'Fakhoury', 'Hadad', 'Baba', 'Mansour', 'Sayegh', 'Antar', 'Deeb', 'Morcos', 'Shalhoub', 'Sarraf', 'Amari', 'Wasem', 'Ganim', 'Tuma', 'Fakhoury', 'Hadad', 'Hakimi', 'Nader', 'Said', 'Ganim', 'Daher', 'Ganem', 'Tuma', 'Boutros', 'Aswad', 'Sarkis', 'Daher', 'Toma', 'Boutros', 'Kanaan', 'Antar', 'Gerges', 'Kouri', 'Maroun', 'Wasem', 'Dagher', 'Naifeh', 'Bishara', 'Ba', 'Cham', 'Kalb', 'Bazzi', 'Bitar', 'Hadad', 'Moghadam', 'Sleiman', 'Shamoun', 'Antar', 'Atiyeh', 'Koury', 'Nahas', 'Kouri', 'Maroun', 'Nassar', 'Sayegh', 'Haik', 'Ghanem', 'Sayegh', 'Salib', 'Cham', 'Bata', 'Touma', 'Antoun', 'Antar', 'Bata', 'Botros', 'Shammas', 'Ganim', 'Sleiman', 'Seif', 'Moghadam', 'Ba', 'Tannous', 'Bazzi', 'Seif', 'Salib', 'Hadad', 'Quraishi', 'Halabi', 'Essa', 'Bahar', 'Kattan', 'Boutros', 'Nahas', 'Sabbagh', 'Kanaan', 'Sayegh', 'Said', 'Botros', 'Najjar', 'Toma', 'Bata', 'Atiyeh', 'Halabi', 'Tannous', 'Kouri', 'Shamoon', 'Kassis', 'Haddad', 'Tuma', 'Mansour', 'Antar', 'Kassis', 'Kalb', 'Basara', 'Rahal', 'Mansour', 'Handal', 'Morcos', 'Fakhoury', 'Hadad', 'Morcos', 'Kouri', 'Quraishi', 'Almasi', 'Awad', 'Naifeh', 'Koury', 'Asker', 'Maroun', 'Fakhoury', 'Sabbag', 'Sarraf', 'Shamon', 'Assaf', 'Boutros', 'Malouf', 'Nassar', 'Qureshi', 'Ghanem', 'Srour', 'Almasi', 'Qureshi', 'Ghannam', 'Mustafa', 'Najjar', 'Kassab', 'Shadid', 'Shamoon', 'Morcos', 'Atiyeh', 'Isa', 'Ba', 'Baz', 'Asker', 'Seif', 'Asghar', 'Hajjar', 'Deeb', 'Essa', 'Qureshi', 'Abboud', 'Ganem', 'Haddad', 'Koury', 'Nassar', 'Abadi', 'Toma', 'Tannous', 'Harb', 'Issa', 'Khouri', 'Mifsud', 'Kalb', 'Gaber', 'Ganim', 'Boulos', 'Samaha', 'Haddad', 'Sabbag', 'Wasem', 'Dagher', 'Rahal', 'Atiyeh', 'Antar', 'Asghar', 'Mansour', 'Awad', 'Boulos', 'Sarraf', 'Deeb', 'Abadi', 'Nazari', 'Daher', 'Gerges', 'Shamoon', 'Gaber', 'Amari', 'Sarraf', 'Nazari', 'Saliba', 'Naifeh', 'Nazari', 'Hakimi', 'Shamon', 'Abboud', 'Quraishi', 'Tahan', 'Safar', 'Hajjar', 'Srour', 'Gaber', 'Shalhoub', 'Attia', 'Safar', 'Said', 'Ganem', 'Nader', 'Asghar', 'Mustafa', 'Said', 'Antar', 'Botros', 'Nader', 'Ghannam', 'Asfour', 'Tahan', 'Mansour', 'Attia', 'Touma', 'Najjar', 'Kassis', 'Abboud', 'Bishara', 'Bazzi', 'Shalhoub', 'Shalhoub', 'Safar', 'Khoury', 'Nazari', 'Sabbag', 'Sleiman', 'Atiyeh', 'Kouri', 'Bitar', 'Zogby', 'Ghanem', 'Assaf', 'Abadi', 'Arian', 'Shalhoub', 'Khoury', 'Morcos', 'Shamon', 'Wasem', 'Abadi', 'Antoun', 'Baz', 'Naser', 'Assaf', 'Saliba', 'Nader', 'Mikhail', 'Naser', 'Daher', 'Morcos', 'Awad', 'Nahas', 'Sarkis', 'Malouf', 'Mustafa', 'Fakhoury', 'Ghannam', 'Shadid', 'Gaber', 'Koury', 'Atiyeh', 'Shamon', 'Boutros', 'Sarraf', 'Arian', 'Fakhoury', 'Abadi', 'Kassab', 'Nahas', 'Quraishi', 'Mansour', 'Samaha', 'Wasem', 'Seif', 'Fakhoury', 'Saliba', 'Cham', 'Bahar', 'Shamoun', 'Essa', 'Shamon', 'Asfour', 'Bitar', 'Cham', 'Tahan', 'Tannous', 'Daher', 'Khoury', 'Shamon', 'Bahar', 'Quraishi', 'Ghannam', 'Kassab', 'Zogby', 'Basara', 'Shammas', 'Arian', 'Sayegh', 'Naifeh', 'Mifsud', 'Sleiman', 'Arian', 'Kassis', 'Shamoun', 'Kassis', 'Harb', 'Mustafa', 'Boulos', 'Asghar', 'Shamon', 'Kanaan', 'Atiyeh', 'Kassab', 'Tahan', 'Bazzi', 'Kassis', 'Qureshi', 'Basara', 'Shalhoub', 'Sayegh', 'Haik', 'Attia', 'Maroun', 'Kassis', 'Sarkis', 'Harb', 'Assaf', 'Kattan', 'Antar', 'Sleiman', 'Touma', 'Sarraf', 'Bazzi', 'Boulos', 'Baz', 'Issa', 'Shamon', 'Shadid', 'Deeb', 'Sabbag', 'Wasem', 'Awad', 'Mansour', 'Saliba', 'Fakhoury', 'Arian', 'Bishara', 'Dagher', 'Bishara', 'Koury', 'Fakhoury', 'Naser', 'Nader', 'Antar', 'Gerges', 'Handal', 'Hanania', 'Shadid', 'Gerges', 'Kassis', 'Essa', 'Assaf', 'Shadid', 'Seif', 'Shalhoub', 'Shamoun', 'Hajjar', 'Baba', 'Sayegh', 'Mustafa', 'Sabbagh', 'Isa', 'Najjar', 'Tannous', 'Hanania', 'Ganem', 'Gerges', 'Fakhoury', 'Mifsud', 'Nahas', 'Bishara', 'Bishara', 'Abadi', 'Sarkis', 'Masih', 'Isa', 'Attia', 'Kalb', 'Essa', 'Boulos', 'Basara', 'Halabi', 'Halabi', 'Dagher', 'Attia', 'Kassis', 'Tuma', 'Gerges', 'Ghannam', 'Toma', 'Baz', 'Asghar', 'Zogby', 'Aswad', 'Hadad', 'Dagher', 'Naser', 'Shadid', 'Atiyeh', 'Zogby', 'Abboud', 'Tannous', 'Khouri', 'Atiyeh', 'Ganem', 'Maalouf', 'Isa', 'Maroun', 'Issa', 'Khouri', 'Harb', 'Nader', 'Awad', 'Nahas', 'Said', 'Baba', 'Totah', 'Ganim', 'Handal', 'Mansour', 'Basara', 'Malouf', 'Said', 'Botros', 'Samaha', 'Safar', 'Tahan', 'Botros', 'Shamoun', 'Handal', 'Sarraf', 'Malouf', 'Bishara', 'Aswad', 'Khouri', 'Baz', 'Asker', 'Toma', 'Koury', 'Gerges', 'Bishara', 'Boulos', 'Najjar', 'Aswad', 'Shamon', 'Kouri', 'Srour', 'Assaf', 'Tannous', 'Attia', 'Mustafa', 'Kattan', 'Asghar', 'Amari', 'Shadid', 'Said', 'Bazzi', 'Masih', 'Antar', 'Fakhoury', 'Shadid', 'Masih', 'Handal', 'Sarraf', 'Kassis', 'Salib', 'Hajjar', 'Totah', 'Koury', 'Totah', 'Mustafa', 'Sabbagh', 'Moghadam', 'Toma', 'Srour', 'Almasi', 'Totah', 'Maroun', 'Kattan', 'Naifeh', 'Sarkis', 'Mikhail', 'Nazari', 'Boutros', 'Guirguis', 'Gaber', 'Kassis', 'Masih', 'Hanania', 'Maloof', 'Quraishi', 'Cham', 'Hadad', 'Tahan', 'Bitar', 'Arian', 'Gaber', 'Baz', 'Mansour', 'Kalb', 'Sarkis', 'Attia', 'Antar', 'Asfour', 'Said', 'Essa', 'Koury', 'Hadad', 'Tuma', 'Moghadam', 'Sabbagh', 'Amari', 'Dagher', 'Srour', 'Antoun', 'Sleiman', 'Maroun', 'Tuma', 'Nahas', 'Hanania', 'Sayegh', 'Amari', 'Sabbagh', 'Said', 'Cham', 'Asker', 'Nassar', 'Bitar', 'Said', 'Dagher', 'Safar', 'Khouri', 'Totah', 'Khoury', 'Salib', 'Basara', 'Abboud', 'Baz', 'Isa', 'Cham', 'Amari', 'Mifsud', 'Hadad', 'Rahal', 'Khoury', 'Bazzi', 'Basara', 'Totah', 'Ghannam', 'Koury', 'Malouf', 'Zogby', 'Zogby', 'Boutros', 'Nassar', 'Handal', 'Hajjar', 'Maloof', 'Abadi', 'Maroun', 'Mifsud', 'Kalb', 'Amari', 'Hakimi', 'Boutros', 'Masih', 'Kattan', 'Haddad', 'Arian', 'Nazari', 'Assaf', 'Attia', 'Wasem', 'Gerges', 'Asker', 'Tahan', 'Fakhoury', 'Shadid', 'Sarraf', 'Attia', 'Naifeh', 'Aswad', 'Deeb', 'Tannous', 'Totah', 'Cham', 'Baba', 'Najjar', 'Hajjar', 'Shamoon', 'Handal', 'Awad', 'Guirguis', 'Awad', 'Ganem', 'Naifeh', 'Khoury', 'Hajjar', 'Moghadam', 'Mikhail', 'Ghannam', 'Guirguis', 'Tannous', 'Kanaan', 'Handal', 'Khoury', 'Kalb', 'Qureshi', 'Najjar', 'Atiyeh', 'Gerges', 'Nassar', 'Tahan', 'Hadad', 'Fakhoury', 'Salib', 'Wasem', 'Bitar', 'Fakhoury', 'Attia', 'Awad', 'Totah', 'Deeb', 'Touma', 'Botros', 'Nazari', 'Nahas', 'Kouri', 'Ghannam', 'Assaf', 'Asfour', 'Sarraf', 'Naifeh', 'Toma', 'Asghar', 'Abboud', 'Issa', 'Sabbag', 'Sabbagh', 'Isa', 'Koury', 'Kattan', 'Shamoon', 'Rahal', 'Kalb', 'Naser', 'Masih', 'Sayegh', 'Dagher', 'Asker', 'Maroun', 'Dagher', 'Sleiman', 'Botros', 'Sleiman', 'Harb', 'Tahan', 'Tuma', 'Said', 'Hadad', 'Samaha', 'Harb', 'Cham', 'Atiyeh', 'Haik', 'Malouf', 'Bazzi', 'Harb', 'Malouf', 'Ghanem', 'Cham', 'Asghar', 'Samaha', 'Khouri', 'Nassar', 'Rahal', 'Baz', 'Kalb', 'Rahal', 'Gerges', 'Cham', 'Sayegh', 'Shadid', 'Morcos', 'Shamoon', 'Hakimi', 'Shamoon', 'Qureshi', 'Ganim', 'Shadid', 'Khoury', 'Boutros', 'Hanania', 'Antoun', 'Naifeh', 'Deeb', 'Samaha', 'Awad', 'Asghar', 'Awad', 'Saliba', 'Shamoun', 'Mikhail', 'Hakimi', 'Mikhail', 'Cham', 'Halabi', 'Sarkis', 'Kattan', 'Nazari', 'Safar', 'Morcos', 'Khoury', 'Essa', 'Nassar', 'Haik', 'Shadid', 'Fakhoury', 'Najjar', 'Arian', 'Botros', 'Daher', 'Saliba', 'Saliba', 'Kattan', 'Hajjar', 'Nader', 'Daher', 'Nassar', 'Maroun', 'Harb', 'Nassar', 'Antar', 'Shammas', 'Toma', 'Antar', 'Koury', 'Nader', 'Botros', 'Bahar', 'Najjar', 'Maloof', 'Salib', 'Malouf', 'Mansour', 'Bazzi', 'Atiyeh', 'Kanaan', 'Bishara', 'Hakimi', 'Saliba', 'Tuma', 'Mifsud', 'Hakimi', 'Assaf', 'Nassar', 'Sarkis', 'Bitar', 'Isa', 'Halabi', 'Shamon', 'Qureshi', 'Bishara', 'Maalouf', 'Srour', 'Boulos', 'Safar', 'Shamoun', 'Ganim', 'Abadi', 'Koury', 'Shadid', 'Zogby', 'Boutros', 'Shadid', 'Hakimi', 'Bazzi', 'Isa', 'Totah', 'Salib', 'Shamoon', 'Gaber', 'Antar', 'Antar', 'Najjar', 'Fakhoury', 'Malouf', 'Salib', 'Rahal', 'Boulos', 'Attia', 'Said', 'Kassis', 'Bahar', 'Bazzi', 'Srour', 'Antar', 'Nahas', 'Kassis', 'Samaha', 'Quraishi', 'Asghar', 'Asker', 'Antar', 'Totah', 'Haddad', 'Maloof', 'Kouri', 'Basara', 'Bata', 'Antar', 'Shammas', 'Arian', 'Gerges', 'Seif', 'Almasi', 'Tuma', 'Shamoon', 'Khoury', 'Hakimi', 'Abboud', 'Baz', 'Seif', 'Issa', 'Nazari', 'Harb', 'Shammas', 'Amari', 'Totah', 'Malouf', 'Sarkis', 'Naser', 'Zogby', 'Handal', 'Naifeh', 'Cham', 'Hadad', 'Gerges', 'Kalb', 'Shalhoub', 'Saliba', 'Tannous', 'Tahan', 'Tannous', 'Kassis', 'Shadid', 'Sabbag', 'Tahan', 'Abboud', 'Nahas', 'Shamoun', 'Dagher', 'Botros', 'Amari', 'Maalouf', 'Awad', 'Gerges', 'Shamoon', 'Haddad', 'Salib', 'Attia', 'Kassis', 'Sleiman', 'Maloof', 'Maroun', 'Koury', 'Asghar', 'Kalb', 'Asghar', 'Touma', 'Ganim', 'Rahal', 'Haddad', 'Zogby', 'Mansour', 'Guirguis', 'Touma', 'Maroun', 'Tannous', 'Hakimi', 'Baba', 'Toma', 'Botros', 'Sarraf', 'Koury', 'Sarraf', 'Nassar', 'Boutros', 'Guirguis', 'Qureshi', 'Aswad', 'Basara', 'Toma', 'Tuma', 'Mansour', 'Ba', 'Naifeh', 'Mikhail', 'Amari', 'Shamon', 'Malouf', 'Boutros', 'Hakimi', 'Srour', 'Morcos', 'Halabi', 'Bazzi', 'Abadi', 'Shamoun', 'Haddad', 'Baz', 'Baba', 'Hadad', 'Saliba', 'Haddad', 'Maalouf', 'Bitar', 'Shammas', 'Totah', 'Said', 'Najjar', 'Mikhail', 'Samaha', 'Boulos', 'Kalb', 'Shamon', 'Shamoun', 'Seif', 'Touma', 'Hajjar', 'Hadad', 'Atiyeh', 'Totah', 'Mansour', 'Nazari', 'Quraishi', 'Ba', 'Sarkis', 'Gerges', 'Shalhoub', 'Nazari', 'Issa', 'Salib', 'Shalhoub', 'Nassar', 'Guirguis', 'Daher', 'Hakimi', 'Attia', 'Cham', 'Isa', 'Hakimi', 'Amari', 'Boutros', 'Sarraf', 'Antoun', 'Botros', 'Haddad', 'Tahan', 'Bishara', 'Shalhoub', 'Safar', 'Haik', 'Tahan', 'Seif', 'Awad', 'Antoun', 'Atiyeh', 'Samaha', 'Assaf', 'Guirguis', 'Hadad', 'Sayegh', 'Khouri', 'Asghar', 'Tannous', 'Maalouf', 'Khouri', 'Hajjar', 'Abadi', 'Ghanem', 'Salib', 'Botros', 'Bitar', 'Bishara', 'Quraishi', 'Boutros', 'Aswad', 'Srour', 'Shamon', 'Abboud', 'Almasi', 'Baba', 'Tahan', 'Essa', 'Sabbag', 'Issa', 'Abadi', 'Abboud', 'Bazzi', 'Nader', 'Bahar', 'Ghannam', 'Asghar', 'Gaber', 'Sayegh', 'Guirguis', 'Srour', 'Asghar', 'Quraishi', 'Sayegh', 'Rahal', 'Tahan', 'Morcos', 'Cham', 'Kanaan', 'Nahas', 'Essa', 'Mifsud', 'Kouri', 'Isa', 'Saliba', 'Asfour', 'Guirguis', 'Isa', 'Bishara', 'Assaf', 'Naser', 'Moghadam', 'Kalb', 'Baba', 'Guirguis', 'Naifeh', 'Bitar', 'Samaha', 'Abboud', 'Hadad', 'Ghannam', 'Hanania', 'Shadid', 'Totah', 'Tahan', 'Toma', 'Maloof', 'Botros', 'Issa', 'Deeb', 'Nahas', 'Khoury', 'Sayegh', 'Harb', 'Said', 'Guirguis', 'Nader', 'Harb', 'Atiyeh', 'Zogby', 'Basara', 'Nassar', 'Kalb', 'Khoury', 'Mifsud', 'Wasem', 'Handal', 'Ganim', 'Harb', 'Ganim', 'Malouf', 'Sayegh', 'Khoury', 'Sabbag', 'Sabbag', 'Boulos', 'Malouf', 'Gaber', 'Shammas', 'Fakhoury', 'Halabi', 'Haddad', 'Asker', 'Morcos', 'Hanania', 'Amari', 'Kassab', 'Malouf', 'Khouri', 'Moghadam', 'Totah', 'Maloof', 'Atiyeh', 'Abadi', 'Baz', 'Khoury', 'Arian', 'Handal', 'Dagher', 'Awad', 'Atiyeh', 'Arian', 'Khoury', 'Amari', 'Attia', 'Ganim', 'Nader', 'Dagher', 'Sabbag', 'Halabi', 'Khouri', 'Khouri', 'Saliba', 'Mifsud', 'Koury', 'Awad', 'Bahar', 'Mustafa', 'Kassis', 'Gaber', 'Mifsud', 'Bishara', 'Asker', 'Nahas', 'Wasem', 'Sleiman', 'Bata', 'Daher', 'Antar', 'Isa', 'Ganim', 'Rahal', 'Toma', 'Rahal', 'Shamoun', 'Maloof', 'Hakimi', 'Safar', 'Gerges', 'Hanania', 'Koury', 'Assaf', 'Safar', 'Gerges', 'Ganim', 'Morcos', 'Awad', 'Arian', 'Tahan', 'Sleiman', 'Asker', 'Boulos', 'Koury', 'Mifsud', 'Sabbag', 'Dagher', 'Bazzi', 'Mustafa', 'Almasi', 'Handal', 'Isa', 'Guirguis', 'Sayegh', 'Ganim', 'Ghanem', 'Toma', 'Mustafa', 'Basara', 'Bitar', 'Samaha', 'Mifsud', 'Tahan', 'Issa', 'Salib', 'Khoury', 'Hadad', 'Haik', 'Gaber', 'Mansour', 'Hakimi', 'Ba', 'Mustafa', 'Gaber', 'Kattan', 'Koury', 'Awad', 'Maalouf', 'Masih', 'Harb', 'Atiyeh', 'Zogby', 'Nahas', 'Assaf', 'Morcos', 'Ganem', 'Ganem', 'Wasem', 'Fakhoury', 'Ghanem', 'Salib', 'Khouri', 'Maloof', 'Khouri', 'Shalhoub', 'Issa', 'Najjar', 'Kassis', 'Mustafa', 'Sayegh', 'Kassis', 'Hajjar', 'Nader', 'Sarkis', 'Tahan', 'Haddad', 'Antar', 'Sayegh', 'Zogby', 'Mifsud', 'Kassab', 'Hanania', 'Bishara', 'Shamoun', 'Abboud', 'Mustafa', 'Sleiman', 'Abadi', 'Sarraf', 'Zogby', 'Daher', 'Issa', 'Nazari', 'Shamon', 'Tuma', 'Asghar', 'Morcos', 'Mifsud', 'Cham', 'Sarraf', 'Antar', 'Ba', 'Aswad', 'Mikhail', 'Kouri', 'Mikhail', 'Awad', 'Halabi', 'Moghadam', 'Mikhail', 'Naifeh', 'Kattan', 'Shammas', 'Malouf', 'Najjar', 'Srour', 'Masih', 'Fakhoury', 'Khouri', 'Assaf', 'Mifsud', 'Malouf', 'Abboud', 'Shamoon', 'Mansour', 'Halabi', 'Ganem', 'Deeb', 'Wasem', 'Kalb', 'Safar', 'Tuma', 'Fakhoury', 'Toma', 'Guirguis', 'Kassab', 'Nader', 'Handal', 'Baba', 'Fakhoury', 'Haik', 'Guirguis', 'Seif', 'Almasi', 'Shamon', 'Ba', 'Salib', 'Zogby', 'Koury', 'Najjar', 'Atiyeh', 'Morcos', 'Antar', 'Awad', 'Hadad', 'Maroun', 'Touma', 'Almasi', 'Kassis', 'Arian', 'Malouf', 'Koury', 'Sarraf', 'Hadad', 'Bata', 'Tuma', 'Sarkis', 'Quraishi', 'Gaber', 'Abadi', 'Nader', 'Bazzi', 'Ghannam', 'Botros', 'Deeb', 'Awad', 'Kattan', 'Kanaan', 'Sarraf', 'Nahas', 'Assaf', 'Shadid', 'Gaber', 'Samaha', 'Harb', 'Samaha', 'Zogby', 'Atiyeh', 'Mustafa', 'Hanania', 'Isa', 'Almasi', 'Bitar', 'Fakhoury', 'Moghadam', 'Handal', 'Seif', 'Mustafa', 'Rahal', 'Antoun', 'Kassab', 'Bazzi', 'Hadad', 'Nader', 'Tuma', 'Basara', 'Totah', 'Nassar', 'Seif', 'Nassar', 'Daher', 'Daher', 'Maalouf', 'Rahal', 'Quraishi', 'Hadad', 'Bahar', 'Sabbag', 'Halabi', 'Tuma', 'Antoun', 'Boutros', 'Gerges', 'Bishara', 'Baba', 'Zogby', 'Nahas', 'Atiyeh', 'Rahal', 'Sabbagh', 'Bitar', 'Botros', 'Tuma', 'Ganim', 'Handal', 'Daher', 'Boutros', 'Khouri', 'Maroun', 'Mifsud', 'Arian', 'Safar', 'Koury', 'Deeb', 'Shamoun', 'Cham', 'Asghar', 'Morcos', 'Tahan', 'Salib', 'Aswad', 'Shadid', 'Saliba', 'Ganim', 'Haik', 'Kattan', 'Antoun', 'Hajjar', 'Toma', 'Toma', 'Antoun', 'Tahan', 'Haik', 'Kassis', 'Shamoun', 'Shammas', 'Kassis', 'Shadid', 'Samaha', 'Sarraf', 'Nader', 'Ganem', 'Zogby', 'Maloof', 'Kalb', 'Gerges', 'Seif', 'Nahas', 'Arian', 'Asfour', 'Hakimi', 'Ba', 'Handal', 'Abadi', 'Harb', 'Nader', 'Asghar', 'Sabbag', 'Touma', 'Amari', 'Kanaan', 'Hajjar', 'Said', 'Sarraf', 'Haddad', 'Mifsud', 'Shammas', 'Sleiman', 'Asfour', 'Deeb', 'Kattan', 'Naser', 'Said', 'Bishara', 'Harb', 'Morcos', 'Sayegh', 'Said', 'Naser', 'Aswad', 'Seif', 'Kouri', 'Dagher', 'Shamon', 'Hadad', 'Handal', 'Tuma', 'Shamon', 'Hakimi', 'Rahal', 'Hadad', 'Ghannam', 'Almasi', 'Daher', 'Handal', 'Malouf', 'Mansour', 'Sabbagh', 'Sabbag', 'Saliba', 'Haddad', 'Tahan', 'Khoury', 'Harb', 'Ganim', 'Mansour', 'Ganem', 'Handal', 'Handal', 'Antar', 'Asfour', 'Kouri', 'Cham', 'Masih', 'Saliba', 'Qureshi', 'Daher', 'Safar', 'Assaf', 'Harb', 'Abboud', 'Haik', 'Ghannam', 'Maalouf', 'Daher', 'Najjar', 'Mifsud', 'Daher', 'Amari', 'Saliba', 'Kanaan', 'Guirguis', 'Atiyeh', 'Sleiman', 'Mikhail', 'Arian', 'Wasem', 'Attia', 'Nassar', 'Cham', 'Koury', 'Baba', 'Guirguis', 'Morcos', 'Quraishi', 'Seif', 'Sarkis', 'Moghadam', 'Ba', 'Boutros', 'Nader', 'Gerges', 'Salib', 'Salib', 'Guirguis', 'Essa', 'Guirguis', 'Antoun', 'Kassis', 'Abboud', 'Najjar', 'Aswad', 'Srour', 'Mifsud', 'Ghanem', 'Bitar', 'Ghannam', 'Asghar', 'Deeb', 'Kalb', 'Nader', 'Srour', 'Attia', 'Shamon', 'Bata', 'Nahas', 'Gerges', 'Kanaan', 'Kassis', 'Sarkis', 'Maloof', 'Almasi', 'Nassar', 'Saliba', 'Arian', 'Ghanem', 'Awad', 'Naifeh', 'Boutros', 'Fakhoury', 'Sabbag', 'Antar', 'Tahan', 'Mustafa', 'Almasi', 'Shammas', 'Totah', 'Boutros', 'Cham', 'Shamon', 'Ganim', 'Ghanem', 'Assaf', 'Khoury', 'Naifeh', 'Bahar', 'Quraishi', 'Bishara', 'Cham', 'Asfour', 'Ghannam', 'Khoury', 'Sayegh', 'Hanania', 'Maroun', 'Kouri', 'Sarkis', 'Haik', 'Basara', 'Salib', 'Shammas', 'Fakhoury', 'Nahas', 'Ganim', 'Botros', 'Arian', 'Shalhoub', 'Hadad', 'Mustafa', 'Shalhoub', 'Kassab', 'Asker', 'Botros', 'Kanaan', 'Gaber', 'Bazzi', 'Sayegh', 'Nassar', 'Kassis', 'Fakhoury', 'Kassis', 'Amari', 'Sarraf', 'Mifsud', 'Salib', 'Samaha', 'Mustafa', 'Asfour', 'Najjar', 'Essa', 'Naifeh', 'Cham', 'Sarraf', 'Moghadam', 'Fakhoury', 'Assaf', 'Almasi', 'Asghar', 'Nader', 'Kalb', 'Shamoun', 'Gerges', 'Wasem', 'Morcos', 'Nader', 'Said', 'Safar', 'Quraishi', 'Samaha', 'Kassab', 'Deeb', 'Sarraf', 'Rahal', 'Naifeh', 'Ba', 'Nazari', 'Ganim', 'Arian', 'Asker', 'Touma', 'Kassab', 'Tahan', 'Mansour', 'Morcos', 'Shammas', 'Baba', 'Morcos', 'Isa', 'Moghadam', 'Ganem', 'Baz', 'Totah', 'Nader', 'Kouri', 'Guirguis', 'Koury', 'Zogby', 'Basara', 'Baz', 'Deeb', 'Mustafa', 'Shadid', 'Awad', 'Sarraf', 'Quraishi', 'Kanaan', 'Tahan', 'Ghannam', 'Shammas', 'Abboud', 'Najjar', 'Bishara', 'Tuma', 'Srour', 'Mifsud', 'Srour', 'Hajjar', 'Qureshi', 'Bitar', 'Hadad', 'Almasi', 'Wasem', 'Abadi', 'Maroun', 'Baz', 'Koury', 'Ganem', 'Awad', 'Maalouf', 'Mifsud', 'Haik', 'Sleiman', 'Arian', 'Seif', 'Mansour', 'Koury', 'Kattan', 'Koury', 'Aswad', 'Ba', 'Rahal', 'Zogby', 'Bahar', 'Fakhoury', 'Samaha', 'Sarraf', 'Mifsud', 'Antar', 'Moghadam', 'Botros', 'Srour', 'Sabbag', 'Sayegh', 'Rahal', 'Attia', 'Naifeh', 'Saliba', 'Mustafa', 'Amari', 'Issa', 'Masih', 'Khouri', 'Haddad', 'Kalb', 'Bazzi', 'Salib', 'Hanania', 'Shamoon', 'Tuma', 'Cham', 'Antoun', 'Wasem', 'Kouri', 'Ghanem', 'Wasem', 'Khoury', 'Assaf', 'Ganem', 'Seif', 'Nader', 'Essa', 'Shadid', 'Botros', 'Sleiman', 'Bishara', 'Basara', 'Maalouf', 'Issa', 'Nassar', 'Moghadam', 'Ganim', 'Kassis', 'Antoun', 'Said', 'Khouri', 'Salib', 'Baz', 'Sarkis', 'Tuma', 'Naifeh', 'Najjar', 'Asker', 'Khouri', 'Mustafa', 'Najjar', 'Sabbag', 'Malouf', 'Wasem', 'Maalouf', 'Gaber', 'Said', 'Zogby', 'Bahar', 'Hanania', 'Shalhoub', 'Abadi', 'Handal', 'Qureshi', 'Kanaan', 'Abboud', 'Mifsud', 'Touma', 'Ganim', 'Bishara', 'Bazzi', 'Gaber', 'Haik', 'Ghanem', 'Sarraf', 'Sarkis', 'Mustafa', 'Baz', 'Kanaan', 'Nazari', 'Bahar', 'Malouf', 'Quraishi', 'Kattan', 'Arian', 'Shadid', 'Tuma', 'Nader', 'Khoury', 'Safar', 'Wasem', 'Toma', 'Haddad', 'Quraishi', 'Nassar', 'Kanaan', 'Gaber', 'Haddad', 'Rahal', 'Koury', 'Harb', 'Mikhail', 'Dagher', 'Shadid', 'Boutros', 'Mikhail', 'Khouri', 'Nader', 'Issa', 'Harb', 'Dagher', 'Gerges', 'Morcos', 'Essa', 'Fakhoury', 'Tuma', 'Kattan', 'Totah', 'Qureshi', 'Nahas', 'Bitar', 'Tahan', 'Daher', 'Shammas', 'Kouri', 'Ganim', 'Daher', 'Awad', 'Malouf', 'Mustafa', 'Aswad'], 'Korean': ['Ahn', 'Baik', 'Bang', 'Byon', 'Cha', 'Chang', 'Chi', 'Chin', 'Cho', 'Choe', 'Choi', 'Chong', 'Chou', 'Chu', 'Chun', 'Chung', 'Chweh', 'Gil', 'Gu', 'Gwang ', 'Ha', 'Han', 'Ho', 'Hong', 'Hung', 'Hwang', 'Hyun ', 'Jang', 'Jeon', 'Jeong', 'Jo', 'Jon', 'Jong', 'Jung ', 'Kang', 'Kim', 'Ko', 'Koo', 'Ku', 'Kwak', 'Kwang ', 'Lee', 'Li', 'Lim ', 'Ma', 'Mo', 'Moon', 'Nam', 'Ngai', 'Noh', 'Oh ', 'Pae', 'Pak', 'Park ', 'Ra', 'Rhee', 'Rheem', 'Ri', 'Rim', 'Ron', 'Ryom', 'Ryoo', 'Ryu', 'San', 'Seo', 'Seok', 'Shim', 'Shin', 'Shon', 'Si', 'Sin', 'So', 'Son', 'Song', 'Sook', 'Suh', 'Suk', 'Sun', 'Sung', 'Tsai ', 'Wang', 'Woo', 'Yang', 'Yeo', 'Yeon', 'Yi', 'Yim', 'Yoo', 'Yoon', 'You', 'Youj', 'Youn', 'Yu', 'Yun'], 'Spanish': ['Abana', 'Abano', 'Abarca', 'Abaroa', 'Abascal', 'Abasolo', 'Abel', 'Abello', 'Aberquero', 'Abreu', 'Acosta', 'Agramunt', 'Aiza', 'Alamilla', 'Albert', 'Albuquerque', 'Aldana', 'Alfaro', 'Alvarado', 'Alvarez', 'Alves', 'Amador', 'Andreu', 'Antunez', 'Aqua', 'Aquino', 'Araujo', 'Araullo', 'Araya', 'Arce', 'Arechavaleta', 'Arena', 'Aritza', 'Armando', 'Arreola', 'Arriola', 'Asis', 'Asturias', 'Avana', 'Azarola', 'Banderas', 'Barros', 'Basurto', 'Bautista', 'Bello', 'Belmonte', 'Bengochea', 'Benitez', 'Bermudez', 'Blanco', 'Blanxart', 'Bolivar', 'Bonaventura', 'Bosque', 'Bustillo', 'Busto', 'Bustos', 'Cabello', 'Cabrera', 'Campo', 'Campos', 'Capello', 'Cardona', 'Caro', 'Casales', 'Castell', 'Castellano', 'Castillion', 'Castillo', 'Castro', 'Chavarria', 'Chavez', 'Colon', 'Costa', 'Crespo', 'Cruz', 'Cuellar', 'Cuevas', \"D'cruz\", \"D'cruze\", 'De la cruz', 'De la fuente', 'Del bosque', 'De leon', 'Delgado', 'Del olmo', 'De santigo', 'Diaz', 'Dominguez', 'Duarte', 'Durante', 'Echevarria', 'Echeverria', 'Elizondo', 'Escamilla', 'Escarcega', 'Escarra', 'Esparza', 'Espina', 'Espino', 'Espinosa', 'Espinoza', 'Estevez', 'Etxebarria', 'Etxeberria', 'Felix', 'Fernandez', 'Ferrer', 'Fierro', 'Flores', 'Fonseca', 'Franco', 'Fuentes', 'Gallego', 'Gallo', 'Garcia', 'Garrastazu', 'Garza', 'Gaspar', 'Gebara', 'Gomez', 'Gonzales', 'Gonzalez', 'Grec', 'Guadarrama', 'Guerra', 'Guerrero', 'Gutierrez', 'Gutierrez', 'Hernandez', 'Herrera', 'Herrero', 'Hierro', 'Holguin', 'Huerta', 'Ibanez', 'Ibarra', 'Iniguez', 'Iturburua', 'Jaso', 'Jasso', 'Jimenez', 'Jorda', 'Juarez', 'Lobo', 'Lopez', 'Losa', 'Loyola', 'Machado', 'Macias', 'Maradona', 'Maria', 'Marino', 'Marquez', 'Martell', 'Marti', 'Martinez', 'Martinez', 'Mas', 'Mata', 'Mateu', 'Medina', 'Melendez', 'Mendez', 'Mendoza', 'Menendez', 'Merlo', 'Michel', 'Mingo', 'Moles', 'Molina', 'Montero', 'Morales', 'Moralez', 'Moreno', 'Narvaez', 'Nieves', 'Noguerra', 'Nunez', 'Obando', 'Ochoa', 'Ojeda', 'Ola', 'Oleastro', 'Olguin', 'Oliver', 'Olmos', 'Oquendo', 'Orellana', 'Oriol', 'Ortega', 'Ortiz', 'Palomo', 'Paredes', 'Pavia', 'Pelaez', 'Pena', 'Perez', 'Perez', 'Petit', 'Picasso', 'Porra', 'Porras', 'Prieto', 'Puerta', 'Puga', 'Puig', 'Quinones', 'Quintana', 'Quiros', 'Ramirez', 'Ramos', 'Rana', 'Rendon', 'Rey', 'Reyes', 'Rios', 'Rivera', 'Rivero', 'Robledo', 'Robles', 'Rocha', 'Rodriguez', 'Rodriquez', 'Roig', 'Rojas', 'Rojo', 'Roldan', 'Roma', 'Roma', 'Romero', 'Rosa', 'Rosales', 'Rubio', 'Ruiz', 'Sala', 'Salamanca', 'Salazar', 'Salcedo', 'Salinas', 'Sanchez', 'Sandoval', 'San nicolas', 'Santana', 'Santiago', 'Santillian', 'Santos', 'Sastre', 'Sepulveda', 'Sierra', 'Silva', 'Soler', 'Solo', 'Solos', 'Soto', 'Suarez', 'Suero', 'Tapia', 'Terrazas', 'Tomas', 'Torres', 'Tos', 'Tosell', 'Toset', 'Travieso', 'Trujillo', 'Ubina', 'Urbina', 'Urena', 'Valdez', 'Valencia', 'Varela', 'Vargas', 'Vasquez', 'Vazquez', 'Vega', 'Vela', 'Vela', 'Velazquez', 'Ventura', 'Vicario', 'Vilaro', 'Villa', 'Villalobos', 'Villanueva', 'Villaverde', 'Viola', 'Viteri', 'Vivas', 'Vives', 'Ybarra', 'Zabala', 'Zambrano', 'Zamorano', 'Zapatero', 'Zavala', 'Zubizarreta', 'Zuniga'], 'German': ['Abbing', 'Abel', 'Abeln', 'Abt', 'Achilles', 'Achterberg', 'Acker', 'Ackermann', 'Adam', 'Adenauer', 'Adler', 'Adlersflugel', 'Aeschelman', 'Albert', 'Albrecht', 'Aleshire', 'Aleshite', 'Althaus', 'Amsel', 'Andres', 'Armbruster', 'Armbruster', 'Artz', 'Aue', 'Auer', 'Augustin', 'Aust', 'Autenburg', 'Auttenberg', 'Baasch', 'Bach', 'Bachmeier', 'Backer', 'Bader', 'Bahr', 'Bambach', 'Bauer', 'Bauers', 'Baum', 'Baumann', 'Baumbach', 'Baumgartner', 'Baumgartner', 'Baumhauer', 'Bayer', 'Beck', 'Becke', 'Beckenbauer', 'Becker', 'Beckert', 'Behrend', 'Behrends', 'Beitel', 'Beltz', 'Benn', 'Berg', 'Berger', 'Bergfalk', 'Beringer', 'Bernat', 'Best', 'Beutel', 'Beyer', 'Beyersdorf', 'Bieber', 'Biermann', 'Bischoffs', 'Blau', 'Blecher', 'Bleier', 'Blumenthal', 'Blumstein', 'Bocker', 'Boehler', 'Boer', 'Boesch', 'Bohler', 'Bohm', 'Bohme', 'Bohmer', 'Bohn', 'Borchard', 'Bosch', 'Bosch', 'Bottcher', 'Brahms', 'Brand', 'Brandt', 'Brant', 'Brauer', 'Braun', 'Braune', 'Breiner', 'Breisacher', 'Breitbarth', 'Bretz', 'Brinkerhoff', 'Brodbeck', 'Brose', 'Brotz', 'Bruhn', 'Brun', 'Brune', 'Buchholz', 'Buckholtz', 'Buhr', 'Bumgarner', 'Burgstaller', 'Busch', 'Carver', 'Chevrolet', 'Cline', 'Dahl', 'Denzel', 'Derrick', 'Diefenbach', 'Dieter', 'Dietrich', 'Dirchs', 'Dittmar', 'Dohman', 'Drechsler', 'Dreher', 'Dreschner', 'Dresdner', 'Dressler', 'Duerr', 'Dunkle', 'Dunst', 'Durr', 'Eberhardt', 'Ebner', 'Ebner', 'Eckstein', 'Egger', 'Eichel', 'Eilerts', 'Engel', 'Enns', 'Esser', 'Essert', 'Everhart', 'Fabel', 'Faerber', 'Falk', 'Falkenrath', 'Farber', 'Fashingbauer', 'Faust', 'Feigenbaum', 'Feld', 'Feldt', 'Fenstermacher', 'Fertig', 'Fiedler', 'Fischer', 'Flater', 'Fleischer', 'Foerstner', 'Forst', 'Forstner', 'Foth', 'Frank', 'Franke', 'Frei', 'Freud', 'Freudenberger', 'Freund', 'Fried', 'Friedrich', 'Fromm', 'Frost', 'Fuchs', 'Fuhrmann', 'Furst', 'Fux', 'Gabler', 'Gaertner', 'Garb', 'Garber', 'Gartner', 'Garver', 'Gass', 'Gehrig', 'Gehring', 'Geier', 'Geiger', 'Geisler', 'Geissler', 'Geiszler', 'Gensch', 'Gerber', 'Gerhard', 'Gerhardt', 'Gerig', 'Gerst', 'Gerstle', 'Gerver', 'Giehl', 'Giese', 'Glockner', 'Goebel', 'Goldschmidt', 'Gorman', 'Gott', 'Gotti', 'Gottlieb', 'Gottschalk', 'Graner', 'Greenberg', 'Groos', 'Gros', 'Gross', 'Gro', 'Groe', 'Grosse', 'Groel', 'Groel', 'Groer', 'Grosser', 'Grosz', 'Grunewald', 'Gunther', 'Gunther', 'Gutermuth', 'Gwerder', 'Haas', 'Haase', 'Haber', 'Habich', 'Habicht', 'Hafner', 'Hahn', 'Hall', 'Halle', 'Harman', 'Hartmann', 'Hase', 'Hasek', 'Hasenkamp', 'Hass', 'Hauer', 'Haupt', 'Hausler', 'Havener', 'Heidrich', 'Heinrich', 'Heinrichs', 'Heintze', 'Hellewege', 'Heppenheimer', 'Herbert', 'Hermann', 'Herrmann', 'Herschel', 'Hertz', 'Hildebrand', 'Hinrichs', 'Hintzen', 'Hirsch', 'Hoch', 'Hochberg', 'Hoefler', 'Hofer', 'Hoffman', 'Hoffmann', 'Hofler', 'Hofmann', 'Hofmeister', 'Holst', 'Holtzer', 'Holzer', 'Holzer', 'Holzknecht', 'Holzmann', 'Hoover', 'Horn', 'Horn', 'Horowitz', 'Houk', 'Huber', 'Huber', 'Huff', 'Huffman', 'Huffmann', 'Hummel', 'Hummel', 'Hutmacher', 'Ingersleben', 'Jaeger', 'Jager', 'Jager', 'Jans', 'Janson', 'Janz', 'Jollenbeck', 'Jordan', 'Jund', 'Jung', 'Junge', 'Kahler', 'Kaiser', 'Kalb', 'Kalbfleisch', 'Kappel', 'Karl', 'Kaspar', 'Kassmeyer', 'Kastner', 'Katz', 'Kaube', 'Kaufer', 'Kaufer', 'Kauffmann', 'Kaufman', 'Keil', 'Keller', 'Kempf', 'Kerner', 'Kerper', 'Kerwar', 'Kerwer', 'Kiefer', 'Kiefer', 'Kirchner', 'Kistler', 'Kistner', 'Kleid', 'Klein', 'Klossner', 'Knef', 'Kneib', 'Kneller', 'Knepp', 'Knochenmus', 'Knopf', 'Knopp', 'Koch', 'Kock', 'Koenig', 'Koenigsmann', 'Kohl', 'Kohl', 'Kohler', 'Kohler', 'Kolbe', 'Konig', 'Konigsmann', 'Kopp', 'Kraemer', 'Kramer', 'Kramer', 'Krantz', 'Kranz', 'Kraus', 'Krause', 'Krauss', 'Krau', 'Krebs', 'Kroger', 'Kron', 'Kruckel', 'Kruger', 'Kruger', 'Kruger', 'Kruse', 'Kruse', 'Kuchler', 'Kuhn', 'Kundert', 'Kunkel', 'Kunkle', 'Kuntz', 'Kunze', 'Kurzmann', 'Laberenz', 'Lafrentz', 'Lafrenz', 'Landau', 'Lang', 'Lange', 'Langenberg', 'Langer', 'Larenz', 'Laurenz', 'Lauritz', 'Lawerenz', 'Lawrenz', 'Lehmann', 'Lehrer', 'Leitner', 'Leitz', 'Leitzke', 'Lenz', 'Leverenz', 'Lewerentz', 'Lewerenz', 'Lichtenberg', 'Lieberenz', 'Linden', 'Loewe', 'Lohrenz', 'Lorentz', 'Lorenz', 'Lorenzen', 'Loris', 'Loritz', 'Lowe', 'Ludwig', 'Luther', 'Maas', 'Maier', 'Mandel', 'Mann', 'Markwardt', 'Marquardt', 'Marquering', 'Marquerink', 'Martell', 'Martin', 'Martz', 'Mas', 'Maurer', 'Maus', 'Mayer', 'Meier', 'Mein', 'Meindl', 'Meinhardt', 'Meisner', 'Meissner', 'Melsbach', 'Mendel', 'Mendelsohn', 'Mendelssohn', 'Messer', 'Messerli', 'Messmann', 'Messner', 'Metz', 'Metz', 'Metzger', 'Meyer', 'Michel', 'Mohren', 'Moller', 'Morgenstern', 'Moser', 'Mueller', 'Muhlfeld', 'Muller', 'Nagel', 'Neuman', 'Neumann', 'Nuremberg', 'Nussbaum', 'Nussenbaum', 'Oberst', 'Oelberg', 'Ohme', 'Oliver', 'Oppenheimer', 'Ott', 'Otto', 'Oursler', 'Pahlke', 'Papke', 'Papp', 'Paternoster', 'Paul', 'Paulis', 'Pawlitzki', 'Penzig', 'Peter', 'Peters', 'Pfaff', 'Pfenning', 'Plank', 'Pletcher', 'Porsche', 'Portner', 'Prinz', 'Protz', 'Rademacher', 'Rademaker', 'Rapp', 'Raske', 'Raskob', 'Raskop', 'Raskoph', 'Regenbogen', 'Reier', 'Reiher', 'Reiter', 'Rettig', 'Reuter', 'Reuter', 'Richard', 'Richter', 'Rier', 'Riese', 'Ritter', 'Rose', 'Rosenberg', 'Rosenberger', 'Rosenfeld', 'Rot', 'Roth', 'Rothbauer', 'Rothenberg', 'Rothschild', 'Sachs', 'Saller', 'Saller', 'Salomon', 'Salzwedel', 'Samuel', 'Sander', 'Sauber', 'Schafer', 'Scheer', 'Scheinberg', 'Schenck', 'Schermer', 'Schindler', 'Schirmer', 'Schlender', 'Schlimme', 'Schlusser', 'Schmeling', 'Schmid', 'Schmidt', 'Schmitt', 'Schmitz', 'Schneider', 'Schnoor', 'Schnur', 'Schoettmer', 'Schrader', 'Schrader', 'Schreck', 'Schreier', 'Schroder', 'Schroder', 'Schroeder', 'Schroeter', 'Schroter', 'Schubert', 'Schuchard', 'Schuchardt', 'Schuchert', 'Schuhart', 'Schuhmacher', 'Schuler', 'Schult', 'Schulte', 'Schultes', 'Schultheis', 'Schultheiss', 'Schulthei', 'Schultz', 'Schultze', 'Schulz', 'Schulze', 'Schumacher', 'Schuster', 'Schuttmann', 'Schwangau', 'Schwartz', 'Schwarz', 'Schwarzenegger', 'Schwenke', 'Schwinghammer', 'Seelenfreund', 'Seidel', 'Senft', 'Senft', 'Sheinfeld', 'Shriver', 'Siegel', 'Siegel', 'Siekert', 'Siemon', 'Silverstein', 'Simen', 'Simmon', 'Simon', 'Simons', 'Siskin', 'Siskind', 'Sitz', 'Sitz', 'Slusser', 'Solberg', 'Sommer', 'Sommer', 'Sommer', 'Sommer', 'Sonnen', 'Sorg', 'Sorge', 'Spannagel', 'Specht', 'Spellmeyer', 'Spitznogle', 'Sponaugle', 'Stark', 'Stauss', 'Steen', 'Steffen', 'Stein', 'Steinmann', 'Stenger', 'Sternberg', 'Steube', 'Steuben', 'Stieber', 'Stoppelbein', 'Stoppelbein', 'Strand', 'Straub', 'Strobel', 'Strohkirch', 'Stroman', 'Stuber', 'Stueck', 'Stumpf', 'Sturm', 'Suess', 'Sulzbach', 'Swango', 'Switzer', 'Tangeman', 'Tanzer', 'Teufel', 'Tiedeman', 'Tifft', 'Tillens', 'Tobias', 'Tolkien', 'Tresler', 'Tritten', 'Trumbauer', 'Tschida', 'Unkle', 'Unruh', 'Unterbrink', 'Ursler', 'Vann', 'Van tonder', 'Vieth', 'Vogel', 'Vogt', 'Vogts', 'Voigt', 'Voigts', 'Volk', 'Voll', 'Von brandt', 'Von essen', 'Von grimmelshausen', 'Von ingersleben', 'Vonnegut', 'Von wegberg', 'Voss', 'Vo', 'Wagner', 'Wagner', 'Wahner', 'Wahner', 'Waldfogel', 'Waldvogel', 'Walkenhorst', 'Walter', 'Walther', 'Waltz', 'Wang', 'Warner', 'Waxweiler', 'Weber', 'Wechsler', 'Wedekind', 'Weeber', 'Wegener', 'Wegner', 'Wehner', 'Wehunt', 'Weigand', 'Weiman', 'Weiner', 'Weiss', 'Wei', 'Welter', 'Wendel', 'Wendell', 'Werner', 'Wernher', 'West', 'Westerberg', 'Wetterman', 'Wetzel', 'Wexler', 'Wieck', 'Wiegand', 'Wildgrube', 'Winter', 'Winther', 'Winther', 'Wirner', 'Wirnhier', 'Wirt', 'Wirth', 'Wolf', 'Wolff', 'Wolter', 'Worner', 'Wornhor', 'Wruck', 'Wyman', 'Xylander', 'Zellweger', 'Zilberschlag', 'Zimmerman', 'Zimmermann'], 'Portuguese': ['Abreu', 'Albuquerque', 'Almeida', 'Alves', 'Araujo', 'Araullo', 'Barros', 'Basurto', 'Belo', 'Cabral', 'Campos', 'Cardozo', 'Castro', 'Coelho', 'Costa', 'Crespo', 'Cruz', \"D'cruz\", \"D'cruze\", 'Delgado', 'De santigo', 'Duarte', 'Esteves', 'Fernandes', 'Ferreira', 'Ferreiro', 'Ferro', 'Fonseca', 'Franco', 'Freitas', 'Garcia', 'Gaspar', 'Gomes', 'Gouveia', 'Guerra', 'Henriques', 'Lobo', 'Machado', 'Madeira', 'Magalhaes', 'Maria', 'Mata', 'Mateus', 'Matos', 'Medeiros', 'Melo', 'Mendes', 'Moreno', 'Nunes', 'Palmeiro', 'Paredes', 'Pereira', 'Pinheiro', 'Pinho', 'Ramires', 'Ribeiro', 'Rios', 'Rocha', 'Rodrigues', 'Romao', 'Rosario', 'Salazar', 'Santana', 'Santiago', 'Santos', 'Serafim', 'Silva', 'Silveira', 'Simoes', 'Soares', 'Souza', 'Torres', 'Vargas', 'Ventura'], 'Vietnamese': ['Nguyen', 'Tron', 'Le', 'Pham', 'Huynh', 'Hoang', 'Phan', 'Vu', 'Vo', 'Dang', 'Bui', 'Do', 'Ho', 'Ngo', 'Duong', 'Ly', 'An', 'an', 'Bach', 'Banh', 'Cao', 'Chau', 'Chu', 'Chung', 'Chu', 'Diep', 'Doan', 'Dam', 'Dao', 'Dinh', 'Doan', 'Giang', 'Ha', 'Han', 'Kieu', 'Kim', 'La', 'Lac', 'Lam', 'Lieu', 'Luc', 'Luong', 'Luu', 'Ma', 'Mach', 'Mai', 'Nghiem', 'Phi', 'Pho', 'Phung', 'Quach', 'Quang', 'Quyen', 'Ta', 'Thach', 'Thai', 'Sai', 'Thi', 'Than', 'Thao', 'Thuy', 'Tieu', 'To', 'Ton', 'Tong', 'Trang', 'Trieu', 'Trinh', 'Truong', 'Van', 'Vinh', 'Vuong', 'Vuu'], 'Irish': ['Adam', 'Ahearn', 'Aodh', 'Aodha', 'Aonghuis', 'Aonghus', 'Bhrighde', 'Bradach', 'Bradan', 'Braden', 'Brady', 'Bran', 'Brannon', 'Brian', 'Callaghan', 'Caomh', 'Carey', 'Casey', 'Cassidy', 'Cathain', 'Cathan', 'Cathasach', 'Ceallach', 'Ceallachan', 'Cearbhall', 'Cennetig', 'Ciardha', 'Clark', 'Cleirich', 'Cleirigh', 'Cnaimhin', 'Coghlan', 'Coilean', 'Collins', 'Colman', 'Conall', 'Conchobhar', 'Conn', 'Connell', 'Connolly', 'Cormac', 'Corraidhin', 'Cuidightheach', 'Curran', 'Dubhshlaine', 'Dalach', 'Daly', 'Damhain', 'Damhan', 'Delaney', 'Desmond', 'Devin', 'Diarmaid', 'Doherty', 'Domhnall', 'Donnchadh', 'Donndubhan', 'Donnell', 'Donoghue', 'Donovan', 'Doyle', 'Dubhain', 'Dubhan', 'Duncan', 'Eoghan', 'Eoin', 'Eoin', 'Faolan', 'Farrell', 'Fearghal', 'Fergus', 'Finn', 'Finnegan', 'Fionn', 'Flanagan', 'Flann', 'Flynn', 'Gallchobhar', 'Gerald', 'Giolla', 'Gorman', 'Hayden', 'Ivor', 'John', 'Kavanagh', 'Keefe', 'Kelly', 'Kennedy', 'Lennon', 'Login', 'Macclelland', 'Macdermott', 'Maceachthighearna', 'Macfarland', 'Macghabhann', 'Maciomhair', 'Macshuibhne', 'Madaidhin', 'Madden', 'Maguire', 'Mahoney', 'Maille', 'Malone', 'Manus', 'Maolmhuaidh', 'Mathghamhain', 'Maurice', 'Mcguire', 'Mckay', 'Mclain', 'Mcmahon', 'Mcnab', 'Mcneil', 'Meadhra', 'Michael', 'Milligan', 'Mochan', 'Mohan', 'Molloy', 'Monahan', 'Mooney', 'Muirchertach', 'Mullen', 'Mulryan', 'Murchadh', 'Murphy', 'Names', 'Naoimhin', 'Naomhan', 'Neil', 'Neville', 'Nevin', 'Niadh', 'Niall', 'Nolan', 'Nuallan', \"O'Boyle\", \"O'Brien\", \"O'Byrne\", \"O'Donnell\", \"O'Hannagain\", \"O'Hannigain\", \"O'Keefe\", \"O'Mooney\", \"O'Neal\", \"O'Boyle\", \"O'Bree\", \"O'Brian\", \"O'Brien\", \"O'Callaghann\", \"O'Connell\", \"O'Connor\", \"O'Dell\", \"O'Doherty\", \"O'Donnell\", \"O'Donoghue\", \"O'Dowd\", \"O'Driscoll\", \"O'Gorman\", \"O'Grady\", \"O'Hagan\", \"O'Halloran\", \"O'Hanlon\", \"O'Hara\", \"O'Hare\", \"O'Kane\", \"O'Keefe\", \"O'Keeffe\", \"O'Kelly\", \"O'Leary\", \"O'Loughlin\", \"O'Mahoney\", \"O'Mahony\", \"O'Malley\", \"O'Meara\", \"O'Neal\", \"O'Neill\", \"O'Reilly\", \"O'Rourke\", \"O'Ryan\", \"O'Shea\", \"O'Sullivan\", \"O'Toole\", 'Patrick', 'Peatain', 'Pharlain', 'Power', 'Quigley', 'Quinn', 'Quirke', 'Raghailligh', 'Reagan', 'Register', 'Reilly', 'Reynold', 'Rhys', 'Riagain', 'Riagan', 'Riain', 'Rian', 'Rinn', 'Roach', 'Rodagh', 'Rory', 'Ruadh', 'Ruadhain', 'Ruadhan', 'Ruaidh', 'Samuel', 'Scolaidhe', 'Seaghdha', 'Sechnall', 'Seighin', 'Shannon', 'Sheehy', 'Simon', 'Sioda', 'Sloan', 'Sluaghadhan', 'Suaird', 'Sullivan', 'Tadhg', 'Tadhgan', 'Taidhg', 'Teagan', 'Teague', 'Tighearnach', 'Tracey', 'Treasach', 'Whalen', 'Whelan', 'William'], 'Russian': ['Ababko', 'Abaev', 'Abagyan', 'Abaidulin', 'Abaidullin', 'Abaimoff', 'Abaimov', 'Abakeliya', 'Abakovsky', 'Abakshin', 'Abakumoff', 'Abakumov', 'Abakumtsev', 'Abakushin', 'Abalakin', 'Abalakoff', 'Abalakov', 'Abaleshev', 'Abalihin', 'Abalikhin', 'Abalkin', 'Abalmasoff', 'Abalmasov', 'Abaloff', 'Abalov', 'Abamelek', 'Abanin', 'Abankin', 'Abarinoff', 'Abarinov', 'Abasheev', 'Abashev', 'Abashidze', 'Abashin', 'Abashkin', 'Abasov', 'Abatsiev', 'Abaturoff', 'Abaturov', 'Abaza', 'Abaziev', 'Abbakumov', 'Abbakumovsky', 'Abbasov', 'AbdankKossovsky', 'Abdeev', 'Abdildin', 'Abdrahimoff', 'Abdrahimov', 'Abdrahmanoff', 'Abdrahmanov', 'Abdrakhimoff', 'Abdrakhimov', 'Abdrakhmanoff', 'Abdrakhmanov', 'Abdrashitoff', 'Abdrashitov', 'Abdrazakoff', 'Abdrazakov', 'Abdulaev', 'Abdulatipoff', 'Abdulatipov', 'Abdulazizoff', 'Abdulazizov', 'Abdulbasiroff', 'Abdulbasirov', 'Abdulbekoff', 'Abdulbekov', 'Abdulgapuroff', 'Abdulgapurov', 'Abdulgaziev', 'Abdulhabiroff', 'Abdulhabirov', 'Abdulin', 'Abdulkadyroff', 'Abdulkadyrov', 'Abdulkhabiroff', 'Abdulkhabirov', 'Abdulladjanov', 'Abdulladzhanoff', 'Abdulladzhanov', 'Abdullaev', 'Abdullin', 'Abduloff', 'Abdulov', 'Abdulrahmanoff', 'Abdulrahmanov', 'Abdulrakhmanoff', 'Abdulrakhmanov', 'Abdurahmanoff', 'Abdurahmanov', 'Abdurakhmanoff', 'Abdurakhmanov', 'Abegyan', 'Abel', 'Abeldyaev', 'Abelev', 'Abelman', 'Abelmazoff', 'Abelmazov', 'Abels', 'Abelsky', 'Abeltsev', 'Abelyan', 'Aberson', 'Abertasov', 'Abesadze', 'Abezgauz', 'Abgaryan', 'Abibulaev', 'Abidoff', 'Abidov', 'Abih', 'Abikh', 'Abisaloff', 'Abisalov', 'Abitoff', 'Abitov', 'Abjaliloff', 'Abjalilov', 'Abkin', 'Ablaev', 'Ablesimoff', 'Ablesimov', 'Abletsoff', 'Abletsov', 'Ableuhoff', 'Ableuhov', 'Ableukhoff', 'Ableukhov', 'Abloff', 'Ablov', 'Ablyakimoff', 'Ablyakimov', 'Ablyazov', 'Aboev', 'Aboff', 'Aboimoff', 'Aboimov', 'Abolihin', 'Abolikhin', 'Abolin', 'Abolins', 'Abov', 'Abovin', 'Abovyan', 'Aboyantsev', 'Abragam', 'Abragamson', 'Abrahimoff', 'Abrahimov', 'Abrajevich', 'Abrakhimoff', 'Abrakhimov', 'Abramchikoff', 'Abramchikov', 'Abramchuk', 'Abrameitsev', 'Abramenko', 'Abramenkoff', 'Abramenkov', 'Abramkoff', 'Abramkov', 'Abramoff', 'Abramov', 'Abramovich', 'Abramovitch', 'Abramovsky', 'Abramowich', 'Abramowitch', 'Abramowsky', 'Abramson', 'Abramtchikoff', 'Abramtchikov', 'Abramtchuk', 'Abramtsev', 'Abramyan', 'Abraroff', 'Abrarov', 'Abrashin', 'Abrashitov', 'Abrasimoff', 'Abrasimov', 'Abrazhevich', 'Abrikosoff', 'Abrikosov', 'Abrosimoff', 'Abrosimov', 'Abroskin', 'Abrosoff', 'Abrosov', 'Abrukov', 'Absalyamoff', 'Absalyamov', 'Absattaroff', 'Absattarov', 'Abubakiroff', 'Abubakirov', 'Abubekeroff', 'Abubekerov', 'Abudihin', 'Abudikhin', 'Abugoff', 'Abugov', 'Abuhoff', 'Abuhov', 'Abukhoff', 'Abukhov', 'Abuladze', 'Abulgatin', 'Abulhanoff', 'Abulhanov', 'Abulkhanoff', 'Abulkhanov', 'Abulmambetoff', 'Abulmambetov', 'Abushenko', 'Abutaliev', 'Abuzoff', 'Abuzov', 'Abylgaziev', 'Abyshev', 'Abyzgiddin', 'Abyzoff', 'Abyzov', 'Abzaev', 'Abzgildin', 'Abzhaliloff', 'Abzhalilov', 'Abzyaparoff', 'Abzyaparov', 'Adabash', 'Adabashian', 'Adabir', 'Adadurov', 'Adaikin', 'Adaksin', 'Adam', 'Adamenko', 'Adamiants', 'Adamishin', 'Adamoff', 'Adamov', 'Adamovich', 'Adamovitch', 'Adams', 'Adamski', 'Adamsky', 'Adamson', 'Adamyan', 'Adamyants', 'Adamyuk', 'Adarchenko', 'Adaryukov', 'Adashev', 'Adashevski', 'Adashevsky', 'Adashik', 'Adelfinski', 'Adelfinsky', 'Adelgeim', 'Adelhanoff', 'Adelhanov', 'Adelhanyan', 'Adelkhanoff', 'Adelkhanov', 'Adelkhanyan', 'Adelson', 'Adelung', 'Aden', 'Ader', 'Aderihin', 'Aderikhin', 'Aderkas', 'Adibekoff', 'Adibekov', 'Adiev', 'Adigamoff', 'Adigamov', 'Adiloff', 'Adilov', 'Adjaloff', 'Adjalov', 'Adjemoff', 'Adjemov', 'Adjemyan', 'Adjubei', 'Adler', 'Adlerberg', 'Adleroff', 'Adlerov', 'Admakin', 'Admoni', 'Adno', 'Ado', 'Adodin', 'Adoduroff', 'Adodurov', 'Adoff', 'Adohin', 'Adokhin', 'Adolf', 'Adomaitis', 'Adoniev', 'Adonts', 'Adoratski', 'Adoratsky', 'Adov', 'Adriankin', 'Adrianoff', 'Adrianov', 'Adriyanoff', 'Adriyanov', 'Adroff', 'Adrov', 'Aduloff', 'Adulov', 'Adushkin', 'Adyan', 'Adylov', 'Adyrhaev', 'Adyrkhaev', 'Adzhaloff', 'Adzhalov', 'Adzhemoff', 'Adzhemov', 'Adzhemyan', 'Adzhubei', 'Aedonitsky', 'Agababoff', 'Agababov', 'Agababyan', 'Agabekoff', 'Agabekov', 'Agadjanoff', 'Agadjanov', 'Agadjanyan', 'Agadzhanoff', 'Agadzhanov', 'Agadzhanyan', 'Agaev', 'Agafonoff', 'Agafonov', 'Agahanyan', 'Agaigeldiev', 'Agakhanyan', 'Agakoff', 'Agakov', 'Agalakoff', 'Agalakov', 'Agalaradze', 'Agalaroff', 'Agalarov', 'Agaloff', 'Agalov', 'Agaltsoff', 'Agaltsov', 'Agamiroff', 'Agamirov', 'Agamirzyan', 'Agamoff', 'Agamov', 'Aganbegyan', 'Aganoff', 'Aganov', 'Agapeev', 'Agaphonoff', 'Agaphonov', 'Agapiev', 'Agapitoff', 'Agapitov', 'Agapkin', 'Agapochkin', 'Agapoff', 'Agaponoff', 'Agaponov', 'Agapotchkin', 'Agapov', 'Agarev', 'Agarin', 'Agarkoff', 'Agarkov', 'Agaryshev', 'Agasaroff', 'Agasarov', 'Agashin', 'Agatoff', 'Agatov', 'Agatyev', 'Agayan', 'Agayants', 'Agdaroff', 'Agdarov', 'Ageenko', 'Ageenkov', 'Ageev', 'Ageevets', 'Ageichev', 'Ageichik', 'Ageikin', 'Ageitchev', 'Ageitchik', 'Agenosoff', 'Agenosov', 'Ageshin', 'Aggeev', 'Agibaloff', 'Agibalov', 'Agilera', 'Agin', 'Agishev', 'Agitshtein', 'Aglinskas', 'Agliullin', 'Agnivtsev', 'Agoev', 'Agol', 'Agoshkoff', 'Agoshkov', 'Agrachev', 'Agramoff', 'Agramov', 'Agranat', 'Agranenko', 'Agranoff', 'Agranov', 'Agranovich', 'Agranovitch', 'Agranovski', 'Agranovsky', 'Agranowich', 'Agranowitch', 'Agranowski', 'Agranowsky', 'Agrashev', 'Agratchev', 'Agratin', 'Agrba', 'Agrenev', 'Agrest', 'Agrikoff', 'Agrikov', 'Agroskin', 'Agudoff', 'Agudov', 'Agulian', 'Agulnik', 'Agumaa', 'Agureev', 'Agurski', 'Agursky', 'Agutin', 'Aguzaroff', 'Aguzarov', 'Agzamoff', 'Agzamov', 'Aivazovski', 'Aivazovsky', 'Ajaev', 'Ajiganoff', 'Ajiganov', 'Ajinoff', 'Ajinov', 'Ajnikoff', 'Ajnikov', 'Ajogin', 'Akimov', 'Albanov', 'Albats', 'Albedinsky', 'Albert', 'Albertini', 'Albinesku', 'Albitsky', 'Albov', 'Alchangyan', 'Alcheka', 'Alchevsky', 'Alchin', 'Alchubaev', 'Alferaki', 'Alferiev', 'Alferov', 'Alfimov', 'Alfionov', 'Alfonsky', 'Alfonsov', 'Alftan', 'Alhimenko', 'Alhimov', 'Alianaki', 'Alianov', 'Alkov', 'Alkvist', 'Alman', 'Almedingen', 'Almetiev', 'Almetov', 'Almondinov', 'Almuhametov', 'Almut', 'Almyashkin', 'Alper', 'Alperovich', 'Alpert', 'Alshansky', 'Alshevsky', 'Alshibaya', 'Alshits', 'Alshtut', 'Alsky', 'Altentaller', 'Alter', 'Altfater', 'Altman', 'Altshtein', 'Altshuler', 'Altshuller', 'Alybin', 'Alymov', 'Alypov', 'Alyrchikov', 'Alytsky', 'Amelin', 'Amelkin', 'Amelyakin', 'Amerhanov', 'AmetHan', 'Ametistov', 'Andreenko', 'Andreev', 'Andreevsky', 'Andreichenko', 'Andreichev', 'Andreichik', 'Andreichin', 'Andreichuk', 'Andreiko', 'Andreli', 'Andreyak', 'Andreyanov', 'Androhanov', 'Androkhanov', 'Andronchik', 'Andronikov', 'Andronnikov', 'Andronov', 'Andropov', 'Androsenko', 'Androsik', 'Androsov', 'Androsyuk', 'Androvsky', 'Andruhov', 'Andruhovich', 'Andrukhov', 'Andrukhovich', 'Andruschenko', 'Andrusenko', 'Andrushkevich', 'Andrushko', 'Andrusiv', 'Andrusiw', 'Andrusov', 'Andruzsky', 'Andryuhin', 'Andryuk', 'Andryukov', 'Andryunin', 'Andryuschenko', 'Andryushin', 'Anedchenko', 'Anekshtein', 'Anert', 'Anikanov', 'Anikeev', 'Anikiev', 'Anikin', 'Anikst', 'Anikushin', 'Animitsa', 'Anin', 'Anipkin', 'Anisemenok', 'Anisfeld', 'Anisihin', 'Anisikhin', 'Anisimkin', 'Anisimov', 'Aniskin', 'Anisovets', 'Anisovich', 'Anistratenko', 'Anodin', 'Anofriev', 'Anoprienko', 'Anopriev', 'Anorin', 'Anoskov', 'Anosov', 'Antohin', 'Antonchenko', 'Antonchenkov', 'Antonts', 'Antontsev', 'Antonyuk', 'Antopolsky', 'Antoschenko', 'Antoschin', 'Antoshevsky', 'Antoshin', 'Antoshkin', 'Antropov', 'Antufiev', 'Antushevsky', 'Antyshev', 'Antyufeev', 'Antyuganov', 'Antyuhov', 'Antyushin', 'Anuchin', 'Anufrienko', 'Anufriev', 'Anuprienko', 'Anuriev', 'Anurin', 'Anurov', 'Anutriev', 'Anzimirov', 'Anzonger', 'Aparin', 'Arapov', 'Araslanov', 'Arbudu', 'Arbuzov', 'Arsky', 'Artemev', 'Artemiev', 'Artenov', 'Artibyakin', 'Artischev', 'Artizov', 'Artobolevsky', 'Artseulov', 'Artyuhin', 'Artyuhov', 'Artyukhin', 'Artyukhov', 'Artyushin', 'Artyushkov', 'Asfandiyarov', 'Astrahankin', 'Astrahansky', 'Astrahantsev', 'Astrakhankin', 'Astrakhansky', 'Astrakhantsev', 'Astratov', 'Astronomov', 'Astrov', 'Astsaturov', 'Astyrev', 'Asylmuratov', \"At'Kov\", 'Atabekov', 'Atabekyan', 'Atabiev', 'Ataev', 'Atajahov', 'Atajakhov', 'Atalian', 'Atalikov', 'Atallahanov', 'Atallakhanov', 'Atamanchuk', 'Atamanenko', 'Atamanov', 'Atamanyuk', 'Atamoglanov', 'Atanasyan', 'Atanov', 'Atarskih', 'Atarskikh', 'Atazhahov', 'Atazhakhov', 'Ateev', 'Atepko', 'Atiskov', 'Atlanov', 'Atlantov', 'Atlas', 'Atlasov', 'Atopov', 'Atramov', 'Atroshenko', 'Atvilov', 'Atyashev', 'Atyashkin', 'Atyasov', 'Atyurievsky', 'Atyushov', 'Auerbach', 'Auerbah', 'Auerbakh', 'August', 'Augustoff', 'Augustov', 'Auktsionek', 'Aulov', 'Aurov', 'Aushev', 'Auslender', 'Autlev', 'Auzan', 'Avaev', 'Avagimoff', 'Avagimov', \"Avak'Yan\", 'Avakoff', 'Avakov', 'Avakshin', 'Avakyan', 'Avaliani', 'Avalishvili', 'Avalov', 'Avalyan', 'Avanesov', 'Avanesyan', 'Avash', 'Avatyan', 'Avchenko', 'Avchinnikov', 'Avdakoff', 'Avdakov', 'Avdeeff', 'Avdeenko', 'Avdeev', 'Avdeichikov', 'Avdienko', 'Avdiev', 'Avdievsky', 'Avdiewski', 'Avdiyants', 'Avdiyski', 'Avdiysky', 'Avdonin', 'Avdoshin', 'Avduevsky', 'Avduewski', 'Avduloff', 'Avdulov', 'Avdyukov', 'Avdyunin', 'Avdyushin', 'Avelan', 'Avelichev', 'Avelitchev', 'Aven', 'Avenarius', 'Averbah', 'Averbakh', 'Averbuch', 'Averbuh', 'Averbukh', 'Averchenko', 'Averchev', 'Averianoff', 'Averianov', 'Averichkin', 'Averin', 'Averintsev', 'Averitchkin', 'Averkiev', 'Averkin', 'Averkoff', 'Averkov', 'Averkovich', 'Averkovitch', 'Averochkin', 'Averotchkin', 'Avertchenko', 'Avertchev', 'Averyanov', 'Avetisov', 'Avetisyan', 'Avetyan', 'Avgustoff', 'Avgustov', 'Avhadiev', 'Avhimovich', 'Avhimovitch', 'Avik', 'Avilkin', 'Avilov', 'Avinov', 'Avinovitski', 'Avinovitsky', 'Avkhadiev', 'Avkhimovich', 'Avkhimovitch', 'Avksentiev', 'Avksentievski', 'Avksentievsky', 'Avladeev', 'Avlov', 'Avlukov', 'Avraamov', 'Avramchik', 'Avramenko', 'Avramov', 'Avramtchik', 'Avranek', 'Avrorin', 'Avrorov', 'Avrov', 'Avrus', 'Avrutin', 'Avrutsky', 'Avryasov', 'Avseenko', 'Avsenev', 'Avsyuk', 'Avtaev', 'Avtamonov', 'Avtandilov', 'Avtchenko', 'Avtchinnikov', 'Avtokratov', 'Avtomovich', 'Avtomovitch', 'Avtonomov', 'Avtorhanov', 'Avtorkhanov', 'Avtsin', 'Avtsyn', 'Avtuhov', 'Avtukhov', 'Avturhanov', 'Avturkhanov', 'Avvakumoff', 'Avvakumov', 'Avzalov', 'Awaeff', 'Awagimoff', \"Awak'Yan\", 'Awakoff', 'Awakshin', 'Awakyan', 'Awaliani', 'Awalishwili', 'Awaloff', 'Awalyan', 'Awanesov', 'Awanesyan', 'Awash', 'Awatyan', 'Awchenko', 'Awchinnikoff', 'Awdakoff', 'Awdeeff', 'Awdeenko', 'Awdeichikoff', 'Awdieff', 'Awdienko', 'Awdiewsky', 'Awdiyants', 'Awdiyski', 'Awdiysky', 'Awdonin', 'Awdoshin', 'Awduewski', 'Awduewsky', 'Awduloff', 'Awdyukoff', 'Awdyunin', 'Awdyushin', 'Awelan', 'Awelicheff', 'Awelitcheff', 'Awen', 'Awenarius', 'Awerbah', 'Awerbakh', 'Awerbuh', 'Awerbukh', 'Awercheff', 'Awerchenko', 'Awerianoff', 'Awerichkin', 'Awerin', 'Awerintsev', 'Aweritchkin', 'Awerkieff', 'Awerkin', 'Awerkoff', 'Awerkowich', 'Awerkowitch', 'Awerochkin', 'Awerotchkin', 'Awertcheff', 'Awertchenko', 'Aweryanoff', 'Awetisoff', 'Awetisyan', 'Awetyan', 'Awgustoff', 'Awhadieff', 'Awhimowich', 'Awik', 'Awilkin', 'Awiloff', 'Awinoff', 'Awinowitski', 'Awinowitsky', 'Awkhadieff', 'Awkhimovich', 'Awkhimovitch', 'Awksentiev', 'Awksentiewski', 'Awksentiewsky', 'Awladeeff', 'Awloff', 'Awlukoff', 'Awraamoff', 'Awramchik', 'Awramenko', 'Awramoff', 'Awramtchik', 'Awranek', 'Awroff', 'Awrorin', 'Awroroff', 'Awrus', 'Awrutin', 'Awrutsky', 'Awryasoff', 'Awseenko', 'Awseneff', 'Awsyuk', 'Awtaeff', 'Awtamonoff', 'Awtandiloff', 'Awtchenko', 'Awtchinnikoff', 'Awtokratoff', 'Awtomovich', 'Awtomovitch', 'Awtonomoff', 'Awtorhanoff', 'Awtorkhanoff', 'Awtsin', 'Awtsyn', 'Awtuhoff', 'Awtukhoff', 'Awturhanoff', 'Awturkhanoff', 'Awwakumoff', 'Awzaloff', 'Azhaev', 'Azhiganoff', 'Azhiganov', 'Azhinoff', 'Azhinov', 'Azhnikoff', 'Azhnikov', 'Azhogin', 'Babadei', 'Babadjan', 'Babadjanoff', 'Babadjanov', 'Babadjanyan', 'Babadzhan', 'Babadzhanoff', 'Babadzhanov', 'Babadzhanyan', 'Babaev', 'Babaevsky', 'Babahanov', 'Babaitsev', 'Babak', 'Babakhanoff', 'Babakhanov', 'Babakin', 'Babakov', 'Babakulov', 'Baban', 'Babanin', 'Babanoff', 'Babanov', 'Babansky', 'Babarin', 'Babarykin', 'Babashoff', 'Babashov', 'Babaskin', 'Babayan', 'Babayants', 'Babchenko', 'Babel', 'Babenchikoff', 'Babenchikov', 'Babenko', 'Babenkoff', 'Babenkov', 'Babentsev', 'Babenyshev', 'Babeshkin', 'Babeshko', 'Babetoff', 'Babetov', 'Babich', 'Babichenko', 'Babichev', 'Babienko', 'Babikoff', 'Babikov', 'Babilyas', 'Babin', 'Babinich', 'Babinoff', 'Babinov', 'Babintsev', 'Babitsky', 'Babiy', 'Babkeev', 'Babkin', 'Babkoff', 'Babkov', 'Babloev', 'Bablumyan', 'Babochkin', 'Baboshin', 'Baboshkin', 'Babosoff', 'Babosov', 'Babst', 'Babuh', 'Babuhin', 'Babukh', 'Babukhin', 'Baburin', 'Baburkin', 'Baburoff', 'Baburov', 'Babusenko', 'Babushkin', 'Babutski', 'Babutsky', 'Babynin', 'Babyuk', 'Bachaev', 'Bachaldin', 'Bachelis', 'Bacherikoff', 'Bacherikov', 'Bachev', 'Bachilo', 'Bachinski', 'Bachinsky', 'Bachish', 'Bachmanoff', 'Bachmanov', 'Bachuk', 'Bachurin', 'Bachyanskas', 'Badaev', 'Badalbeili', 'Badalov', 'Badalyants', 'Badamshin', 'Badanin', 'Badanoff', 'Badanov', 'Badelin', 'Bader', 'Baderski', 'Baderskoff', 'Baderskov', 'Badersky', 'Badeschenkov', 'Badich', 'Badikoff', 'Badikov', 'Badmaev', 'Badoev', 'Badoff', 'Badov', 'Badridze', 'Badukin', 'Badyaev', 'Badyagin', 'Badyashin', 'Badych', 'Badygin', 'Badyin', 'Badykshanoff', 'Badykshanov', 'Badylkin', 'Badyunoff', 'Badyunov', 'Baer', 'Baev', 'Baevski', 'Baevsky', 'Baewski', 'Baewsky', 'Bag', 'Bagachev', 'Bagaev', 'BagaiOol', 'Bagalei', 'Bagalin', 'Bagandaliev', 'Bagaryakoff', 'Bagaryakov', 'Bagaryatsky', 'Bagashev', 'Bagaturiya', 'Bagautdinov', 'Bagdasaroff', 'Bagdasarov', 'Bagdasaryan', 'Bagdatiev', 'Baggovut', 'Bagimoff', 'Bagimov', 'Bagin', 'Baginoff', 'Baginov', 'Bagiroff', 'Bagirov', 'Bagishaev', 'Bagishvili', 'Baglaenko', 'Baglai', 'Baglanoff', 'Baglanov', 'Bagler', 'Bagmet', 'Bagmevski', 'Bagmevsky', 'Bagmewski', 'Bagmewsky', 'Bagmut', 'Bagomaev', 'Bagrak', 'Bagramoff', 'Bagramov', 'Bagramyan', 'Bagration', 'Bagretsoff', 'Bagretsov', 'Bagrich', 'Bagrintsev', 'Bagritch', 'Bagroff', 'Bagrov', 'Bagryanski', 'Bagryansky', 'Bagryantsev', 'Bah', 'Bahanoff', 'Bahanov', 'Baharev', 'Bahchivandji', 'Bahchivandzhi', 'Baheloff', 'Bahelov', 'Bahin', 'Bahir', 'Bahlaev', 'Bahlulzade', 'Bahmat', 'Bahmatoff', 'Bahmatov', 'Bahmetev', 'Bahmetiev', 'Bahmetoff', 'Bahmetov', 'Bahmin', 'Bahmutoff', 'Bahmutov', 'Bahmutsky', 'Baholdin', 'Bahorin', 'Bahovkin', 'Bahovtsev', 'Bahrah', 'Bahrushin', 'Bahshiev', 'Bahtadze', 'Bahtchivandji', 'Bahtchivandzhi', 'Bahtiaroff', 'Bahtiarov', 'Bahtiev', 'Bahtigareev', 'Bahtin', 'Bahtinoff', 'Bahtinov', 'Bahtiyaroff', 'Bahtiyarov', 'Bahtizin', 'Bahtoff', 'Bahtov', 'Bahturin', 'Bahurin', 'Bahusov', 'Bahuta', 'Bahvaloff', 'Bahvalov', 'Baibakoff', 'Baibakov', 'Baibikoff', 'Baibikov', 'Baiborodoff', 'Baiborodov', 'Baiburin', 'Baiburski', 'Baibursky', 'Baiburtyan', 'Baichenko', 'Baichikoff', 'Baichikov', 'Baichoroff', 'Baichorov', 'Baidachny', 'Baidak', 'Baidakoff', 'Baidakov', 'Baidalin', 'Baidavletoff', 'Baidavletov', 'Baidin', 'Baidjanoff', 'Baidjanov', 'Baidukoff', 'Baidukov', 'Baidyuk', 'Baidzhanoff', 'Baidzhanov', 'Baier', 'Baigildeev', 'Baigozin', 'Baiguloff', 'Baigulov', 'Baigushev', 'Baiguzin', 'Baiguzoff', 'Baiguzov', 'Baikaloff', 'Baikalov', 'Baikin', 'Baikin', 'Baikoff', 'Baikov', 'Baikovski', 'Baikovsky', 'Baikowski', 'Baikowsky', 'Baimakoff', 'Baimakov', 'Baimiev', 'Bair', 'Bairak', 'Bairamkuloff', 'Bairamkulov', 'Bairamukoff', 'Bairamukov', 'Bairashevski', 'Bairashevsky', 'Bairashewski', 'Bairashewsky', 'Bairov', 'Baisak', 'Baisaroff', 'Baisarov', 'Baiseitoff', 'Baiseitov', 'Baishev', 'Baistryuchenko', 'Baistryutchenko', 'Baitalsky', 'Baitchenko', 'Baitchikoff', 'Baitchikov', 'Baitchoroff', 'Baitchorov', 'Baiteryakoff', 'Baiteryakov', 'Baitin', 'Baitoff', 'Baitov', 'Bajaev', 'Bajan', 'Bajanoff', 'Bajanov', 'Bajenin', 'Bajenoff', 'Bajenov', 'Bajev', 'Bajin', 'Bajinoff', 'Bajinov', 'Bajoff', 'Bajov', 'Bajukoff', 'Bajukov', 'Bajutkin', 'Bak', 'Baka', 'Bakadoroff', 'Bakadorov', 'Bakaev', 'Bakai', 'Bakaleiko', 'Bakaleinik', 'Bakaleinikoff', 'Bakaleinikov', 'Bakalinsky', 'Bakaloff', 'Bakalov', 'Bakanchuk', 'Bakanoff', 'Bakanov', 'Bakastoff', 'Bakastov', 'Bakatin', 'Bakeev', 'Bakerkin', 'Bakh', 'Bakhanoff', 'Bakhanov', 'Bakharev', 'Bakhchivandji', 'Bakhchivandzhi', 'Bakheloff', 'Bakhelov', 'Bakhin', 'Bakhir', 'Bakhlaev', 'Bakhlulzade', 'Bakhmat', 'Bakhmatoff', 'Bakhmatov', 'Bakhmetev', 'Bakhmetiev', 'Bakhmetoff', 'Bakhmetov', 'Bakhmin', 'Bakhmutoff', 'Bakhmutov', 'Bakhmutski', 'Bakhmutsky', 'Bakholdin', 'Bakhorin', 'Bakhovkin', 'Bakhovtsev', 'Bakhrakh', 'Bakhrushin', 'Bakhshiev', 'Bakhtadze', 'Bakhtchivandji', 'Bakhtchivandzhi', 'Bakhtiaroff', 'Bakhtiarov', 'Bakhtiev', 'Bakhtigareev', 'Bakhtin', 'Bakhtinoff', 'Bakhtinov', 'Bakhtiyaroff', 'Bakhtiyarov', 'Bakhtizin', 'Bakhtoff', 'Bakhtov', 'Bakhturin', 'Bakhurin', 'Bakhusoff', 'Bakhusov', 'Bakhuta', 'Bakhvaloff', 'Bakhvalov', 'Bakiev', 'Bakihanoff', 'Bakihanov', 'Bakikhanoff', 'Bakikhanov', 'Bakin', 'Bakinoff', 'Bakinov', 'Bakiroff', 'Bakirov', 'Bakis', 'Bakitski', 'Bakitsky', 'Bakkarevich', 'Bakkarevitch', 'Baklagin', 'Baklan', 'Baklanoff', 'Baklanov', 'Baklashoff', 'Baklashov', 'Baklastoff', 'Baklastov', 'Baklund', 'Baklykoff', 'Baklykov', 'Bakmeister', 'Bakoff', 'Bakoni', 'Bakotin', 'Bakov', 'Bakradze', 'Bakrymoff', 'Bakrymov', 'Baksaraev', 'Bakshandaev', 'Bakshanski', 'Bakshansky', 'Baksheev', 'Bakshtanovski', 'Bakshtanovsky', 'Bakshtanowski', 'Bakshtanowsky', 'Bakshtein', 'Bakst', 'Bakulev', 'Bakulin', 'Bakum', 'Bakun', 'Bakunin', 'Bakunoff', 'Bakunov', 'Bakunovets', 'Bakunts', 'Bakuridze', 'Bakurinsky', 'Bakuroff', 'Bakurov', 'Bakushinsky', 'Bakusoff', 'Bakusov', 'Balabaev', 'Balabai', 'Balaban', 'Balabanoff', 'Balabanov', 'Balabas', 'Balabko', 'Balabolkin', 'Balabudkin', 'Balabuev', 'Balabuha', 'Balabukha', 'Balaev', 'Balagul', 'Balagula', 'Balaguroff', 'Balagurov', 'Balahnin', 'Balahonov', 'Balahonsky', 'Balahontsev', 'Balahovski', 'Balahovsky', 'Balahowski', 'Balahowsky', 'Balakaev', 'Balakhnin', 'Balakhonoff', 'Balakhonov', 'Balakhonsky', 'Balakhontsev', 'Balakhovski', 'Balakhovsky', 'Balakhowski', 'Balakhowsky', 'Balakin', 'Balakirev', 'Balakleevski', 'Balakleevsky', 'Balakshin', 'Balalaev', 'Balamutenko', 'Balamykin', 'Balanchivadze', 'Balanda', 'Balandin', 'Balandyuk', 'Balanev', 'Balanovski', 'Balanovsky', 'Balanowski', 'Balanowsky', 'Balarev', 'Balasanyan', 'Balashev', 'Balashoff', 'Balashov', 'Balasoglo', 'Balavensky', 'Balavin', 'Balawensky', 'Balawin', 'Balayan', 'Balazovski', 'Balazovsky', 'Balazowski', 'Balazowsky', 'Barabanov', 'Barabanschikov', 'Barabash', 'Barabashev', 'Barabolya', 'Baraboshkin', 'Barakin', 'Barakov', 'Barakovsky', 'Baraks', 'Baram', 'Baramidze', 'Barandych', 'Baranenko', 'Baranetsky', 'Barankin', 'Barannikov', 'Barazbiev', 'Barazgov', \"Bas'Holov\", 'Bashkov', 'Basov', 'Basovsky', 'Bass', 'Bassin', 'Bastanov', 'Bastian', 'Basto', 'Bastrygin', 'Basygysov', 'Basyrov', 'Basyuk', 'Batchaev', 'Batchaldin', 'Batchelis', 'Batcherikov', 'Batchev', 'Batchilo', 'Batchinsky', 'Batchish', 'Batchmanoff', 'Batchmanov', 'Batchuk', 'Batchurin', 'Batchyanskas', 'Batsanov', 'Batsev', 'Batsevich', 'Batskaev', 'Batsman', 'Batsura', 'Batsyn', 'Batuev', 'Batugin', 'Batuhtin', 'Batukov', 'Batunov', 'Batura', 'Baturin', 'Baturkin', 'Baturov', 'Bauer', 'Baukin', 'Baulin', 'Baum', 'Bauman', 'Baumgarten', 'Baushev', 'Bausov', 'Bautin', 'Bauze', 'Bavarin', 'Bavidoff', 'Bavidov', 'Bavilin', 'Bavin', 'Bavtrukevich', 'Bavtrukevitch', 'Bavykin', 'Bawarin', 'Bawidov', 'Bawilin', 'Bawin', 'Bawtrukevich', 'Bawtrukevitch', 'Bawvykin', 'Bazaev', 'Bazai', 'Bazanov', 'Bazarbaev', 'Bazarevich', 'Bazarhandaev', 'Bazarov', 'Bazen', 'Bazetskov', 'Bazhaev', 'Bazhan', 'Bazhanov', 'Bazhenin', 'Bazhenov', 'Bazhev', 'Bazhin', 'Bazhinov', 'Bazhov', 'Bazhukov', 'Bazhutkin', 'Bazikov', 'Bazil', 'Bazilev', 'Bazilevich', 'Bazilevitch', 'Bazilevsky', 'Bazili', 'Baziner', 'Bazjin', 'Bazovski', 'Bazovsky', 'Bazowski', 'Bazowsky', 'Bazulev', 'Bazulin', 'Bazunov', 'Bazylev', 'Bazylnikov', 'Bazyuta', 'Bazzhin', 'Beh', 'Behmetiev', 'Behoev', 'Behteev', 'Behtenev', 'Behterev', 'Behtin', 'Behtold', 'BeiBienko', 'Beider', 'Beilin', 'Beilis', 'Beilshtein', 'Beiman', 'Bein', 'Beinenson', 'Beizerov', 'Bekh', 'Bekhmetiev', 'Bekhoev', 'Bekhteev', 'Bekhtenev', 'Bekhterev', 'Bekhtin', 'Bekhtold', 'Bekk', 'Bekkarevich', 'Bekker', 'Beklemeshev', 'Beklemischev', 'Beklemishev', 'Beklenischev', 'Bekleshev', 'Bekleshov', 'Beklov', 'Bekmahanov', 'Bekman', 'Bekmurzov', 'BeknazarYuzbashev', 'Bekoryukov', 'Bekov', 'BekovichCherkassky', 'Bekrenev', 'Bekshansky', 'Bekshtrem', 'Bektabegov', 'Bektemirov', 'Bektimirov', 'Bektuganov', 'Bekuh', 'Bekyashev', 'Belbaev', 'Belchenko', 'Belchenkov', 'Belchikov', 'Belchuk', 'Beldy', 'Belgibaev', 'Belgov', 'Belich', 'Belichenko', 'Belichev', 'Belik', 'Belikin', 'Belikov', 'Belikovetsky', 'Belikovich', 'Belilovsky', 'Belimov', 'Belin', 'Belinder', 'Belinskij', 'Belinsky', 'Belishko', 'Belitsky', 'Belkov', 'Belman', 'Belnikov', 'Belnov', 'Beloborodov', 'Belobrov', 'Belobrovkin', 'Beloded', 'Belodubrovsky', 'Beloenko', 'Beloglazov', 'Belogolovkin', 'Belogolovy', 'Belogorsky', 'Belogrud', 'Belogubov', 'Belohin', 'Belohvostikov', 'Belokhin', 'Belokhvostikov', 'Belorossov', 'Belorusov', 'Belorussov', 'Beloschin', 'Beloselsky', 'Beloshapka', 'Beloshapkin', 'Beloshapkov', 'Beloshitsky', 'Belosludtsev', 'Belosohov', 'Belostotsky', 'Belosvet', 'Belotelov', 'Belotserkovets', 'Belotserkovsky', 'Belotsitsky', 'Belotsvetov', 'Belous', 'Belousko', 'Belousov', 'Belov', 'Belovol', 'Beloyartsev', 'Belshtein', 'Belsky', 'Beltov', 'Beltsev', 'Beltsov', 'Beltyukov', 'Belyaninov', 'Belyavin', 'Belyavsky', 'Belyusov', 'Benevolensky', 'Berezansky', 'Berezin', 'Berezinsky', 'Berezitsky', 'Berezitzky', 'Berezkin', 'Bereznev', 'Bereznevich', 'Bereznikov', 'Bereznitsky', 'Bereznitzky', 'Berezovaya', 'Berezovikov', 'Berezovoi', 'Berezovsky', 'Berezutsky', 'Berezutzky', 'Berezyuk', 'Besschetny', 'Bessogonov', 'Bessonov', 'Bestemyanov', 'Bestolov', 'Bestov', 'Bestujev', 'BestujevLada', 'BestujevRyumin', 'Bestuzhev', 'BestuzhevLada', 'BestuzhevRyumin', 'Bezruchenkov', 'Bezrukavnikov', 'Bezrukih', 'Bezrukikh', 'Bezrukov', 'Bezubyak', 'Bezuglov', 'Bezugly', 'Bezumov', 'Bezusko', 'Bezyazykov', 'Bezyuk', 'Bezyzvestnyh', 'Bezyzvestnykh', 'Bibichev', 'Bibin', 'Bibishev', 'Bibitinsky', 'Bibler', 'Bilalov', 'Bilbasov', 'Bilderling', 'Bildin', 'Bilenkin', 'Bilenko', 'Bilenshtein', 'Bilibin', 'Bilichenko', 'Bilihodze', 'Bilik', 'Bilimovich', 'Bilinsky', 'Biljo', 'Bill', 'Billert', 'Billevich', 'Bilmus', 'Bilonog', 'Bilov', 'Bilyaev', 'Bilyarsky', 'Bilyk', 'Bim', 'BimBad', 'Bimbas', 'Bindyukov', 'Binevich', 'Binshtok', 'Bir', 'Biragov', 'Birentsveig', 'Birger', 'Birich', 'Birilev', 'Birin', 'Birk', 'Birkenberg', 'Birkin', 'Birman', 'Birnbaum', 'Biron', 'Birshtein', 'Birut', 'Biryukov', 'Biryukovich', 'Biryulev', 'Biryulin', 'Biryuzov', 'Bass', 'Bass', 'Chaadaev', 'Chabanov', 'Chabanov', 'Chabrov', 'Chabrov', 'Chadin', 'Chadin', 'Chadov', 'Chadov', 'Chadovich', 'Chadovich', 'Chadrantsev', 'Chadrantsev', 'Chaganov', 'Chagin', 'Chajegov', 'Chajengin', 'Chaldymov', 'Chaleev', 'Chalov', 'Chalovsky', 'Chaly', 'Chalyh', 'Chalykh', 'Chalyshev', 'Chamov', 'Chamushev', 'Chanchikov', 'Changli', 'Chanov', 'Chanturia', 'Chanyshev', 'Chapko', 'Charkin', 'Charnetsky', 'Charnolusky', 'Charoshnikov', 'Chartorijsky', 'Chartorizhsky', 'Charuhin', 'Charukhin', 'Charushin', 'Charushkin', 'Charykov', 'Chazov', 'Cheh', 'Chehanov', 'Cheharin', 'Chehladze', 'Chehlakovsky', 'Chehluev', 'Chehoev', 'Chehonin', 'Chehov', 'Chehovich', 'Chehovsky', 'Chekachev', 'Chekh', 'Chekhanov', 'Chekharin', 'Chekhladze', 'Chekhlakovsky', 'Chekhluev', 'Chekhoev', 'Chekhonin', 'Chekhov', 'Chekhovich', 'Chekhovsky', 'Chekin', 'Chekis', 'Chekletsov', 'Cheklyanov', 'Chekmarev', 'Chekmasov', 'Chekmenev', 'Chekmezov', 'Chekoev', 'Chekomasov', 'Chekonov', 'Chekvin', 'Chepaksin', 'Cheparev', 'Chepasov', 'Chepchyak', 'Chepel', 'Chepelkin', 'Chepelyanov', 'Chepik', 'Chepikov', 'Chepin', 'Chepko', 'Cheplakov', 'Chepraga', 'Cheptsov', 'Cheptygmashev', 'Chepulyanis', 'Chepurenko', 'Chepurin', 'Chepurkovsky', 'Chepurnov', 'Chepurnoy', 'Chepurnyh', 'Chepurov', 'Chepygin', 'Cherchen', 'Cherchesov', 'Chernin', 'Chernov', 'Chernovisov', 'Chernovol', 'Cherov', 'Cherpakov', 'Chershintsev', 'Chersky', 'Chertakov', 'Chertischev', 'Chertkov', 'Chertkovsky', 'Chertok', 'Chertolyas', 'Chertorijsky', 'Chertorinsky', 'Chertoritsky', 'Chertorizhsky', 'Chertorogov', 'Chertov', 'Chertushkin', 'Chertykov', 'Cheruhin', 'Cherukhin', 'Cherushov', 'Cheryshev', 'Chevtzoff', 'Chihachev', 'Chihanchin', 'Chijevsky', 'Chijik', 'Chijikov', 'Chijov', 'Chikanov', 'Chikhachev', 'Chikhanchin', 'Chikichev', 'Chikin', 'Chikirev', 'Chikishev', 'Chikomasov', 'Chikov', 'Chikulaev', 'Chikun', 'Chikurov', 'Chikviladze', 'Chizhevsky', 'Chizhik', 'Chizhikov', 'Chizhov', 'Chkhartishvili', 'Chkheidze', 'Chkhenkeli', 'Chkhikvadze', 'Chugaev', 'Chugainov', 'Chugreev', 'Chuguev', 'Chugunov', 'Chuhadjyan', 'Chuhalov', 'Chuhanov', 'Chuharev', 'Chuhin', 'Chuhlomin', 'Chuhlomsky', 'Chuhlov', 'Chuhman', 'Chuhmantsev', 'Chuhnin', 'Chuhnov', 'Chuhnovsky', 'Chuho', 'Chuhonkin', 'Chuhontsev', 'Chuhraev', 'Chuhray', 'Chuhrov', 'Chukhadzhyan', 'Chukhalov', 'Chukhanov', 'Chukharev', 'Chukhin', 'Chukhlomin', 'Chukhlomsky', 'Chukhlov', 'Chukhman', 'Chukhmantsev', 'Chukhnin', 'Chukhnov', 'Chukhnovsky', 'Chukho', 'Chukhonkin', 'Chukhontsev', 'Chukhraev', 'Chukhray', 'Chukhrov', 'Churnosov', 'Chursalov', 'Churshukov', 'Chursin', 'Chursinov', 'Churuksaev', 'Churyukin', 'Chusov', 'Chusovitin', 'Chuta', 'Chutchenko', 'Chutchev', 'Chutchikov', 'Chutko', 'Chuvahin', 'Chuvailov', 'Chuvaldin', 'Chuvanov', 'Chuvashev', 'Chuvashov', 'Chuvatkin', 'Chuvilev', 'Chuvilkin', 'Chuvilo', 'Chuvilyaev', 'Chuvstvin', 'Chuvyrov', 'ChyrgalOol', 'Ciurlionis', 'Dabahov', 'Dagaev', 'Dahaev', 'Dahin', 'Dahno', 'Dahnov', 'Dahov', 'Dakhaev', 'Dakhin', 'Dakhno', 'Dakhnov', 'Dakhov', \"Dan'Ko\", \"Dan'Shin\", 'Danchenko', 'Danchuk', 'Danich', 'Danichenko', 'Danichkin', 'Danilchenko', 'Danilchuk', 'Daniltsev', 'Danilyak', 'Danilyan', 'Danilyuk', 'Danin', 'Danisevich', 'Dankin', 'Dankov', 'Dankuldinets', 'Dannenberg', 'Danshin', 'Dantsig', 'Dantsiger', 'Danyarov', 'Danyukov', 'Danyushevsky', \"Dar'In\", \"Dar'Kin\", 'Daraev', 'Daragan', 'Darakov', 'Darchiashvili', 'Darchiev', 'Darchinyants', 'Dardyk', 'Dardyrenko', 'Darenkov', 'Darevsky', 'Dargevich', 'Dargomyjsky', 'Darichev', 'Darinsky', 'Darjaev', 'Darkov', 'Darkshevich', 'Darminov', 'Darsigov', 'Darsky', 'Daryalov', 'Dasaev', 'Datdeev', 'Dats', 'Datsenko', 'Daty', 'Daue', 'Dauengauer', 'Daugelo', 'Daugule', 'Daugulis', 'Dauman', 'Daunene', 'Daursky', 'Daushev', 'Dautov', 'Dav', 'David', 'Davidchuk', 'Davidenko', 'Davidenkov', 'Davidov', 'Davidovich', 'Davidson', 'Davidyants', 'Davidyuk', 'Davidzon', 'Davitashvili', 'Davlatov', 'Davlertgareev', 'Davletgaraev', 'Davletkildeev', 'Davletov', 'Davletshin', 'Davletyarov', 'Davlyatov', 'Davydchenko', 'Davydchenkov', 'Davydenko', 'Davydenkov', 'Davydkin', 'Davydov', 'Davydovich', 'Defabr', 'Dehanov', 'Dehant', 'Dehtyar', 'Dehtyar', 'Dehtyarenko', 'Dehtyarev', 'Demeshko', 'Demetkin', 'Demetr', 'Demich', 'Demichev', 'Demidenko', 'Demidoff', 'Demidov', 'Demidovich', 'Demihov', 'Demin', 'Deminov', 'Demirchyan', 'Demirhanov', 'Demishev', 'Deniskin', 'Denisov', 'Denisovsky', 'Derchansky', 'Derfel', 'Derfelden', 'Deribas', 'Deribin', 'Deribo', 'Derich', 'Deriglazov', 'Deripaska', 'Derjavets', 'Derjavin', 'Derkach', 'Derkachenko', 'Derkachev', 'Derkovsky', 'Derman', 'Dermelev', 'Dernov', 'Dertynov', 'Derunov', 'Deryabin', 'Deryabkin', 'Deryagin', 'Deryugin', 'Deryujinsky', 'Deryujkov', 'Deryushev', 'Deryuzhinsky', 'Deryuzhkov', 'Derzhavets', 'Derzhavin', 'Deshesko', 'Deshevyh', 'Deshkin', 'Desnitsky', 'Destunis', 'Desyatchikov', 'Desyatkin', 'Desyatkov', 'Desyatnichenko', 'Desyatnikov', 'Desyatov', 'Desyatovsky', 'Desyatskov', 'Detengof', 'Detinko', 'Detkov', 'Detsenko', 'Deulenko', 'Deulin', 'Deyanov', 'Didarov', 'Didenko', 'Diderihs', 'Didevich', 'Didichenko', 'Didigov', 'Didkovsky', 'Didrikil', 'Diduh', 'Didychenko', 'Dienko', 'Diev', 'Digurov', 'Dijbak', 'Dijin', 'Dijur', 'Dik', 'Dikansky', 'Dikarev', 'Dikarevsky', 'Dikih', 'Dikikh', 'Dikolenko', 'Dikov', 'Dikovenko', 'Dikovsky', 'Dikson', 'Dikul', 'Dikusar', 'Dikushin', 'Diky', 'Divaev', 'Divakov', 'Divavin', 'Diveev', 'Divilkovsky', 'Divin', 'Divinets', 'Divnich', 'Divnov', 'Divov', 'Diyajev', 'Dizhbak', 'Dizhin', 'Dizhur', 'Djabrailov', 'Djabruev', 'Djahaya', 'Djahbarov', 'Djakson', 'Djaldjireev', 'Djamaldinov', 'Djanaev', 'Djanakavov', 'Djanashia', 'Djanashiya', 'Djangirli', 'Djanibekov', 'Djankezov', 'Djanumov', 'Djarimov', 'Djatdoev', 'Djatiev', 'Djavahishvili', 'Djejela', 'Djeladze', 'Djelepov', 'Djemal', 'Djemilev', 'Djevetsky', 'Djibladze', 'Djibuti', 'Djigarhanyan', 'Djigit', 'Djikaev', 'Djikovich', 'Djincharadze', 'Djindo', 'Djirin', 'Djisev', 'Djugashvili', 'Djumabaev', 'Djumaev', 'Djumagaliev', 'Djumaniyazov', 'Djunkovsky', 'Djunusov', 'Djura', 'Djuro', 'Djuromsky', 'Dmitrochenko', 'Dmitrov', 'Dmitrovsky', 'Dmohovsky', 'Dmokhovsky', 'Dmuhovsky', 'Dmukhovsky', 'Dneprov', 'Dnishev', 'Dobrajansky', 'Dobreitser', 'Dobrenkov', 'Dobretsky', 'Dobretsov', 'Dobridnyuk', 'Dobrik', 'Dobrinsky', 'Dobritsky', 'Dobrivsky', 'Dobriyan', 'Dobrjansky', 'Dobrodeev', 'Dobrohotov', 'Dobrojanov', 'Dobroklonsky', 'Dobrolensky', 'Dobrolyubov', 'Dobromyslov', 'Dobronos', 'Dobronravov', 'Dobropolsky', 'Dobroserdov', 'Dobroslavin', 'Dobrosotsky', 'Dobrotin', 'Dobrotvorsky', 'Dobrotvortsev', 'Dobrov', 'Dobrovolsky', 'Dobrovsky', 'Dobrushin', 'Dobrushkin', 'Dobrusin', 'Dobryakov', 'Dobryansky', 'Dobrynchenko', 'Dobrynin', 'Dobrynsky', 'Dobryshev', 'Dobryshin', 'Dobujinsky', 'Dobulevich', 'Dobuzhinsky', 'Dobychin', 'Dodin', 'Dodolev', 'Dodonov', 'Doev', 'Doga', 'Dogadaev', 'Dogadin', 'Dogadkin', 'Dogadov', 'Dogel', 'Dogilev', 'Dogmarov', 'Dogujiev', 'Doguzov', 'Doich', 'Doikov', 'Doinikov', 'Doino', 'Dojdikov', 'Dojin', 'Donchak', 'Donchenko', 'Dontsov', 'Dopiro', 'Dorofeev', 'Dovator', 'Dovbyschuk', 'Doveiko', 'Dovetov', 'Dovgaev', 'Dovgalev', 'Dovgalevsky', 'Dovgan', 'Dovgel', 'Dovgello', 'Dovgolevsky', 'Dovgopoly', 'Dovgun', 'Dovgusha', 'Dovgyallo', 'Dovjenko', 'Dovjuk', 'Dovladbegyan', 'Dovlatov', 'Dovlatyan', 'Dovnar', 'Dovydenko', 'Dovzhenko', 'Dovzhuk', 'Dozmorov', 'Dozorny', 'Dozortsev', 'Drojdin', 'Drojjin', 'Drojjinov', 'Drozdenko', 'Drozdetsky', 'Drozdkov', 'Drozdov', 'Drozdovsky', 'Dubakin', 'Dubasov', 'Dubatkov', 'Dubatolov', 'Dubelir', 'Dubelt', 'Duben', 'Dubenetsky', 'Dubenkov', 'Dubensky', 'Dubentsov', 'Dubik', 'Dubin', 'Dubina', 'Dubinin', 'Dubinkin', 'Dubinovsky', 'Dubinsky', 'Dubitsky', 'Dubko', 'Dubkoff', 'Dubkov', 'Dublin', 'Dublyansky', 'Dubman', 'Dubnikov', 'Dubnitsky', 'Dubnov', 'Dubnyakov', 'Dubrouski', 'Dubrov', 'Dubrovin', 'Dubrovo', 'Dubrovsky', 'Dubrowski', 'Dubrowsky', 'Dudchik', 'Dudnakov', 'Dudnik', 'Dudnikov', 'Dudochkin', 'Dudorov', 'Dudunov', 'Dudurich', 'Durakov', 'Durasov', 'Durdin', 'Durdyev', 'Durgaryan', 'Durkin', 'Durmanov', 'Durmashkin', 'Durnev', 'Durnopeiko', 'Durnov', 'Durnovo', 'Durnovtsev', 'Duronov', 'Durov', 'Duryagin', 'Durylin', 'Dutikov', 'Dutov', 'Dyachkov', 'Dyachkovsky', 'Dyakov', 'Dyo', 'Dzhabrailov', 'Dzhabruev', 'Dzhahaya', 'Dzhahbarov', 'Dzhakson', 'Dzhaldzhireev', 'Dzhamaldinov', 'Dzhanaev', 'Dzhanakavov', 'Dzhanashia', 'Dzhanashiya', 'Dzhangirli', 'Dzhanibekov', 'Dzhankezov', 'Dzhanumov', 'Dzharimov', 'Dzhatdoev', 'Dzhatiev', 'Dzhavahishvili', 'Dzhavakhishvili', 'Dzheladze', 'Dzhelepov', 'Dzhemal', 'Dzhemilev', 'Dzhevetsky', 'Dzhezhela', 'Dzhibladze', 'Dzhibuti', 'Dzhigarhanyan', 'Dzhigit', 'Dzhikaev', 'Dzhikovich', 'Dzhincharadze', 'Dzhindo', 'Dzhirin', 'Dzhisev', 'Dzhugashvili', 'Dzhumabaev', 'Dzhumaev', 'Dzhumagaliev', 'Dzhumaniyazov', 'Dzhunkovsky', 'Dzhunusov', 'Dzhura', 'Dzhuro', 'Dzhuromsky', 'Eberg', 'Ebergard', 'Eberling', 'Eberman', 'Ebers', 'Ebert', 'Ebralidze', 'Ebsvort', 'Ebzeev', 'Efanov', 'Egamberdiev', 'Eganov', 'Eganyan', 'Egarmin', 'Eger', 'Egerev', 'Egershtrom', 'Eggert', 'Egiazarov', 'Egiazaryan', 'Egides', 'Egides', 'Egin', 'Egipko', 'Egishev', 'Egle', 'Eglevsky', 'Eglevsky', 'Egof', 'Egolin', 'Egorenko', 'Egorenkov', 'Egorichev', 'Egorihin', 'Egorin', 'Egorkin', 'Egorov', 'Eidelman', 'Eidelnant', 'Eidelstein', 'Eideman', 'Eides', 'Eidinov', 'Eidlin', 'Eidman', 'Eifman', 'Eig', 'Eigin', 'Eihe', 'Eihenbaum', 'Eihengolts', 'Eihenvald', 'Eihfeld', 'Eihmans', 'Eihvald', 'Eijvertin', 'Eikalovich', 'Eikhe', 'Eikhenbaum', 'Eikhengolts', 'Eikhenvald', 'Eikhfeld', 'Eikhmans', 'Eikhvald', 'Eilenkrig', 'Eiler', 'Eimontov', 'Eindorf', 'Eingorn', 'Eirih', 'Eizen', 'Eizenstein', 'Eizhvertin', 'Ekaterininsky', 'Ekelchik', 'Ekimov', 'Ekin', 'Elachich', 'Elagin', 'Elanchik', 'Elanin', 'Elansky', 'Elapov', 'Elashkin', 'Elatontsev', 'Elebaev', 'Elehin', 'Elenin', 'Elensky', 'Elentuh', 'Elepin', 'Elepov', 'Elesin', 'Eletskih', 'Eletsky', 'Elez', 'Elgin', 'Eliasberg', 'Eliashberg', 'Eliasov', 'Elinson', 'Eliovitch', 'Elisman', 'Eltsin', 'Emanov', 'Emchenko', 'Emelianenko', 'Emelianenkov', 'Emelianov', 'Emelin', 'Emelyantsev', 'Emeshin', 'Emets', 'Emkov', 'Emlin', 'Emohonov', 'Emtsov', 'Emyashev', 'Emyshev', \"En'Ko\", \"En'Kov\", 'Enchev', 'Enden', 'Endogurov', 'Endolov', 'Endzelin', 'Eneev', 'Enenko', 'Engalychev', 'Engel', 'Engelgard', 'Engelgardt', 'Engelke', 'Engelmeier', 'Engelsberg', 'Engibarov', 'Engman', 'Engver', 'Enik', 'Enikeev', 'Enikolopov', 'Enileev', 'Enin', 'Enman', 'Enner', 'Ennikeev', 'Enns', 'Enohin', 'Ens', 'Enshin', 'Entin', 'Entov', 'Entov', 'Ents', 'Entus', 'Enukidze', 'Enyagin', 'Eremchenko', 'Eremkin', 'Eremushkin', 'Erenkov', 'Erepov', 'Eretsky', 'Eretzky', 'Erjenkov', 'Eroschenko', 'Eroschenkov', 'Eroshenko', 'Eroshevsky', 'Eroshin', 'Eroshkevich', 'Eroshkin', 'Eroshov', 'Eruhimovich', 'Erunov', 'Erusalimchik', 'Erusalimsky', 'Eruzalimchik', 'Erzhenkov', \"Es'Kin\", \"Es'Kov\", 'Esaulov', 'Esenchuk', 'Esenin', 'Esenkov', 'Esennikov', 'Esikov', 'Esimontovsky', 'Esin', 'Esionov', 'Esipenko', 'Esipov', 'Esipovich', 'Esmansky', 'Esmonsky', 'Estafiev', 'Esyp', 'Evald', 'Evarestov', 'Evdakov', 'Evdokimov', 'Evdoshenko', 'Evelson', 'Eventov', 'Evers', 'Eversman', 'Everstov', 'Evert', 'Evranov', 'Evsiukov', 'Evstafiev', 'Evstafiev', 'Evstifeev', 'Evstigneev', 'Evstratov', 'Evsyukov', 'Evsyutin', 'Fabelinsky', 'Fabr', 'Fabri', 'Fabrichnikov', 'Fabrichnov', 'Fabrichny', 'Fabrikant', 'Faddeev', 'Fadeechev', 'Fadeev', 'Fadin', 'Fadyaev', 'Fadyuhin', 'Fadzaev', 'Faen', 'Favorsky', 'Fazilov', 'Fazleev', 'Fazlov', 'Fazylzyanov', 'Fedchenko', 'Fedchenkov', 'Fedosov', 'Fedotenko', 'Fedotiev', 'Fedotkin', 'Fedotko', 'Fedotov', 'Fedotovskih', 'Felkerzam', 'Feschenko', 'Feschuk', 'Filipchenko', 'Filipchuk', 'Filipenko', 'Filipiev', 'Filipkov', 'Filipov', 'Filipovich', 'Filipovsky', 'Filippenko', 'Filippenkov', 'Filippishin', 'Filippkin', 'Filippov', 'Filippovich', 'Fin', 'Finagin', 'Finchuk', 'Finenko', 'Fingrut', 'Finik', 'Finkel', 'Finkelshtein', 'Finkelson', 'Finko', 'Finn', 'Finochkin', 'Finogeev', 'Finogenov', 'Finoshin', 'Finov', 'Finsky', 'Fintiktikov', 'Finyagin', 'Finyutin', 'Fiohin', 'Fiokhin', 'Fionin', 'Fionov', 'Fisichev', 'Fisik', 'Fiskin', 'Fistal', 'Fisun', 'Fofanov', 'Foht', 'Fominov', 'Fomintsev', 'Fominyh', 'Forer', 'Forsh', 'Forshteter', 'Fortov', 'Fortunatov', 'Fortunov', 'Fortygin', 'Fotiadi', 'Fotiev', 'Fotinov', 'Foya', 'Frolandin', 'Frolenkov', 'Frolkov', 'Frolov', 'Frolovsky', 'Froltsov', 'Frolushkin', 'From', 'Froman', 'Fromberg', 'Frontov', 'Froyanov', 'Frukalov', 'Frumin', 'Frumkin', 'Frunze', 'Frush', 'First', 'Gach', 'Gachegov', 'Gachev', 'Gachinsky', 'Gafarov', 'Gafin', 'Gafiyatullin', 'Gaft', 'Gafurov', 'Gaganov', 'Gagarin', 'Gagarinov', 'Gagarinsky', 'Gagemeister', 'Gagen', 'Gagentorn', 'Gagiev', 'Gagin', 'Gagonin', 'Gagrin', 'Gagulin', 'Gaguliya', 'Gagut', 'Galda', 'Galdin', 'Galdus', 'Galeev', 'Galei', 'Galena', 'Galenkov', 'Galenkovsky', 'Galenovich', 'Galepa', 'Galerkin', 'Galetsky', 'Galev', 'Galevko', 'Galevsky', 'Galkin', 'GalkinVraskoi', 'Galko', 'Galkov', 'Galkovsky', 'Galkovsky', 'Galkus', 'Gall', 'Gall', 'Gallai', 'Galler', 'Galli', 'Gallinger', 'Gallutdinov', 'Gallyamov', 'Galochkin', 'Galoganov', 'Galstyan', 'Galteev', 'Gansky', 'Gasanov', 'Gaschenkov', 'Gasfort', 'Gashibayazov', 'Gashkin', 'Gashkov', 'Gasho', 'Gasich', 'Gasilin', 'Gasilov', 'Gasinov', 'Gaskoin', 'Gaskov', 'Gasman', 'Gasnikov', 'Gasparov', 'Gasparyan', 'Gaspirovich', 'Gassan', 'Gasselblat', 'Gassiy', 'Gastello', 'Gastev', 'Gastfreind', 'Gasvitsky', 'Gasymov', 'Gasyukov', 'Gatashov', 'Gataullin', 'Gateev', 'Gatiev', 'Gatilov', 'Gatin', 'Gatiyatullin', 'Gatovsky', 'Gatsak', 'Gatsenko', 'Gatsuk', 'Gatsukov', 'Gatsunaev', 'Gatturov', 'Gau', 'Gaubrich', 'Gaudasinsky', 'Gauer', 'Gauk', 'Gaur', 'Gayanov', 'Gayazov', 'Gayulsky', 'Geft', 'Gefter', 'Geftler', 'Gehfenbaum', 'Gehman', 'Geht', 'Gehtman', 'Gerasimov', 'Gerasimovich', 'Gerasimovsky', 'Geroeff', 'Geroev', 'Gerojev', 'Gerschcovich', 'Gershkovich', 'Gershkovitsh', 'Geshtovt', 'Gess', 'Gesse', 'Gessen', 'Gest', 'Gesti', \"Get'Man\", 'Geta', 'Getelmaher', 'Getie', 'Getling', 'Getman', 'Getmanchuk', 'Getmanenko', 'Getmanov', 'Gets', 'Getselev', 'Getsen', 'Getsov', 'Getta', 'Getya', 'Gladchenko', 'Gladenkov', 'Gladilin', 'Gladilschikov', 'Gladkih', 'Gladkikh', 'Gladkov', 'Gladky', 'Gladshtein', 'Gladston', 'Gladtsin', 'Gladun', 'Gladysh', 'Gladyshev', 'Glagolev', 'Glagolevskii', 'Glagolevsky', 'Glasko', 'Glasov', 'Glavak', 'Glavatskih', 'Glavatsky', 'Glavchev', 'Glavin', 'Glavinsky', 'Glaz', 'Glazachev', 'Glazanov', 'Glazatov', 'Glazaty', 'Glazenap', 'Glaziev', 'Glazkov', 'Glazman', 'Glaznev', 'Glazov', 'Glazovsky', 'Glazunov', 'Glazychev', 'Glazyrin', 'Glebov', 'Glebovich', 'Glebovitsky', 'Gleizer', 'Glek', 'Glezarov', 'Glezer', 'Glezerman', 'Glezmer', 'Glubokovsky', 'Glubotsky', 'Gludin', 'Gluharev', 'Gluhih', 'Gluhman', 'Gluhonkov', 'Gluhotko', 'Gluhov', 'Glukharev', 'Glukhih', 'Glukhman', 'Glukhonkov', 'Glukhotko', 'Glukhov', 'Glumov', 'Gluskin', 'Glusov', 'Glussky', 'Gluz', 'Gluzman', 'Gluzsky', 'Golobokih', 'Golobokov', 'Goloborodko', 'Goloborodov', 'Golochevsky', 'Golofaev', 'Golofastov', 'Golofeev', 'Goloha', 'Golohvastov', 'Gololobov', 'Golomolzin', 'Golomovzy', 'Goloschapov', 'Goloschekin', 'Goloschuk', 'Golosenin', 'Golosenko', 'Goloshov', 'Goloskokov', 'Golosnenko', 'Golosov', 'Golosovker', 'Golostenov', 'Golota', 'Golotik', 'Golotyuk', 'Goloulin', 'Goloushev', 'Goloushin', 'Golov', 'Golovach', 'Golovachev', 'Golovan', 'Golovanchikov', 'Golovanets', 'Golovanov', 'Golovanyov', 'Golovatov', 'Golovatsky', 'Golovaty', 'Golovei', 'Golovenchenko', 'Golovenkin', 'Golovenok', 'Goloveshkin', 'Goloveshko', 'Goncharuk', 'Gorbach', 'Gorbachev', 'Gorbachevsky', 'Gorbenko', 'Gorbikov', 'Gorbman', 'Gorbov', 'Gorbovsky', 'Gorbulin', 'Gorbulsky', 'Gorbunov', 'GorbunovPosadov', 'Gorbushin', 'Gorbuzenko', 'Gorchak', 'Gorchakov', 'Gorchakovsky', 'Gorcharenko', 'Gorchatov', 'Gorchilin', 'Gorchinsky', 'Gorchkhanov', 'Gordasevich', 'Gordeenko', 'Gordeev', 'Gordeichik', 'Gordon', 'Gordopolov', 'Gordov', 'Gordusenko', 'Gordyagin', 'Gordyushin', 'Gorfinkel', 'Gorfunkel', 'Gorlov', 'Gorski', 'Gorskih', 'Gorskikh', 'Gorskin', 'Gorskov', 'Gorsky', 'Gorst', 'Gorstkin', 'Gorsun', 'Gortikov', 'Gortyshov', 'Govallo', 'Govendyaev', 'Govoretsky', 'Govorin', 'Govorkov', 'Govorov', 'Govoruhin', 'Govorun', 'Govorushin', 'Govyadin', 'Govyrin', 'Graifer', 'Grakovich', 'Gramatke', 'Gramberg', 'Gramenitsky', 'Grametsky', 'Graminovsky', 'Grammatikov', 'Grammatin', 'Granat', 'Granatkin', 'Granberg', 'Grandberg', 'Granik', 'Granikov', 'Granin', 'Granitov', 'Grankin', 'Grankov', 'Granov', 'Granovsky', 'Gransky', 'Grant', 'Grib', 'Gribachev', 'Gribakin', 'Gribalev', 'Gribanov', 'Gribanovsky', 'Gribashev', 'Gribenkin', 'Gribin', 'Gribkov', 'Gribnov', 'Griboedov', 'Gribov', 'Gribovsky', 'Gributsky', 'Gridchin', 'Gridnev', 'Grigolyuk', 'Grigoraschuk', 'Grigorchikov', 'Grigorenko', 'Grigorevsky', 'Grigoriadi', 'Grigoriev', 'Grigoriev', 'Grigorishin', 'Grigorov', 'Grigorovich', 'Grischenko', 'Grischuk', 'Grizodubov', 'Grobivker', 'Grobovsky', 'Grodensky', 'Grodetsky', 'Grodko', 'Grodsky', 'Grodzensky', 'Groer', 'Grohar', 'Groholsky', 'Grohotov', 'Grohov', 'Grohovsky', 'Groisberg', 'Groisman', 'Groizman', 'Grojantsev', 'Grokhar', 'Grokholsky', 'Grokhotov', 'Grokhov', 'Grokhovsky', 'Gromyhalin', 'Gromyko', 'Gronsky', 'Gropyanov', 'Grosfeld', 'Groshev', 'Groshikov', 'Groshkov', 'Groshopf', 'Groshovkin', 'Grositsky', 'Groskov', 'Grosov', 'Gross', 'Grosse', 'Grossgeim', 'Grosshopf', 'Grossman', 'Grosu', 'Grosul', 'Grot', 'Grotus', 'Groundon', 'Groza', 'Grozdov', 'Grozhantsev', 'Grozovsky', 'Gruschak', 'Grusha', 'Grushelevsky', 'Grushenko', 'Grushetsky', 'Grushevenko', 'Grushevoi', 'Grushevsky', 'Grushi', 'Grushihin', 'Grushikhin', 'Grushin', 'Grushinsky', 'Grushka', 'Grushko', 'Gudarenko', 'Gudenko', 'Gudenok', 'Gudev', 'Gudilin', 'Gudim', 'Gudima', 'Gudimov', 'Gudjabidze', 'Gudkov', 'Gudojnik', 'Gudoshin', 'Gudov', 'Gudovich', 'Gudovsky', 'Gudtsov', 'Gudvan', 'Gudymenko', 'Gudymo', 'Gudz', 'Gudzenko', 'Guio', 'Gujavin', 'Gujo', 'Gujov', 'Gujva', 'Gujvin', 'Guk', 'Gukasov', 'Guketlev', 'Gukov', 'Gukovsky', 'Gul', 'Gulaev', 'Gulai', 'Gulak', 'Gulamov', 'Gulaya', 'Gulbinsky', 'Gulchenko', 'Gulchinsky', 'Guldenbalk', 'Guldin', 'Guldreih', 'Guleichik', 'Gulenko', 'Gulenkov', 'Gulentsov', 'Gulevich', 'Gulevsky', 'Gulia', 'Gulichev', 'Gulidov', 'Guliev', 'Gulimov', 'Gulin', 'Gulishambarov', 'Gulkevich', 'Gulkin', 'Gulko', 'Gulshin', 'Gultyaev', 'Gulyaev', 'Gulyak', 'Gulyakov', 'Gulyansky', 'Gulyaschih', 'Gulyashko', 'Gulyga', 'Guzairov', 'Guzanov', 'Guzatov', 'Guzeev', 'Guzei', 'Guzenko', 'Guzenkov', 'Guzev', 'Guzevatov', 'Guzichenko', 'Guzik', 'Guzilov', 'Guzner', 'Guznischev', 'Guzov', 'Guzovatsker', 'Guzovsky', 'Guzun', 'Gzovsky', 'Habalov', 'Habarin', 'Habarov', 'Habarovsky', 'Habelashvili', 'Habibulaev', 'Habibulin', 'Habibullaev', 'Habibullin', 'Habichev', 'Habin', 'Habirov', 'Habitsov', 'Habov', 'Habriev', 'Hachapuridze', \"Hachatur'Yan\", 'Hachaturov', 'Hachaturyan', 'Hachirov', 'Hadarin', 'Hadartsev', 'Hadjiev', 'Hadjula', 'Hadonov', 'Haesh', 'Hafizov', 'Hagajeev', 'Hagondokov', 'Hagur', 'Hagurov', 'Hahaev', 'Hahalev', 'Hahanyan', 'Hahulin', 'Hahva', 'Haibullin', 'Haidakin', 'Haidin', 'Haidukov', 'Haidurov', 'Haikin', 'Haikov', 'Hailov', 'Haimi', 'Hain', 'Hainadsky', 'Hairetdinov', 'Hairov', 'Hairulin', 'Hairullin', 'Hairullov', 'Hairutdinov', 'Hairyuzov', 'Hait', 'Hait', 'Haitov', 'Haitsin', 'Hajkasimov', 'Hakamada', 'Hakhaev', 'Hakhalev', 'Hakhanyan', 'Hakhulin', 'Hakhva', 'Hakimov', 'Hakmaza', 'Haladjan', 'Haladzhan', 'Halaev', 'Halansky', 'Halaphaev', 'Halapkhaev', 'Halatnikov', 'Halatov', 'Halatyan', 'Haldei', 'Haldoyanidi', 'Haleev', 'Halenkov', 'Halepsky', 'Haletsky', 'Halevin', 'Halevinsky', 'Halfin', 'Halichevsky', 'Halifman', 'Halikov', 'Halileev', 'Halilov', 'Halilulin', 'Halimov', 'Halin', 'Halip', 'Halipov', 'Halitov', 'Haliulin', 'Haliullin', 'Halkechev', 'Halkin', 'Halkiopov', 'Hallyev', 'Halo', 'Haluev', 'Haluga', 'Halutin', 'Halyapin', 'Halyavin', 'Halyavkin', 'Halymbadja', 'Halymbadzha', 'Halyuta', 'Hamadeev', 'Hamadullin', 'Hamaev', 'Hamatnurov', 'Hamatov', 'Hamchiev', 'Hamenkov', 'Hamidulin', 'Hamidullin', 'Hamikoev', 'Hamitov', 'Hamitsev', 'Hamitski', 'Hamlov', 'Hamraev', 'Hamukov', 'Hamzin', 'Han', 'Hanaev', 'Hanafiev', 'Hanahu', 'Hanakhu', 'Hananaev', 'Hanbikov', 'Hanchuk', 'Handirov', 'Handjaevsky', 'Handjyan', 'Handohin', 'Handokhin', 'Handorin', 'Handrikov', 'Handrilov', 'Handruev', 'Handurin', 'Handzhaevsky', 'Handzhyan', 'Haneev', 'Hanenko', 'Hanenya', 'Hanetsky', 'Hanevich', 'Hangurian', 'Hanifatullin', 'Hanikyan', 'Hanin', 'Hanjiev', 'Hanjin', 'Hanjin', 'Hanjonkov', 'Hankeev', 'Hankoev', 'Hannanov', 'Hanok', 'Hanov', 'Hantimerov', 'Hantsev', 'Hantuev', 'Hanukov', 'Hanutin', 'Hanykov', 'Hanyutin', 'Hanzhiev', 'Hanzhin', 'Hanzhin', 'Hanzhonkov', 'Hapachev', 'Hapaev', 'Hapchaev', 'Hapitsky', 'Hapkov', 'Hapov', 'Haprov', 'Hapsirokov', 'Haptahaev', 'Haptakhaev', 'Hapy', 'Harabornikov', 'Haradurov', 'Haradze', 'Haraev', 'Harahinov', 'Harakhinov', 'Haraman', 'Harash', 'Haratyan', 'Haraz', 'Harchenko', 'Harchenkov', 'Harchev', 'Harchevnikov', 'Harchikov', 'Hardaev', 'Hardin', 'Harebov', 'Harev', 'Harharov', 'Harik', 'Harin', 'Harinov', 'Harionovsky', 'Harisov', 'Harito', 'Hariton', 'Haritonenko', 'Haritonov', 'Haritoshkin', 'Harkevich', 'Harkharov', 'Harkin', 'Harkov', 'Harkovchuk', 'Harkovsky', 'Harlachev', 'Harlamov', 'Harlampovich', 'Harlanov', 'Harlap', 'Harlashenkov', 'Harlashkin', 'Harlinsky', 'Harlov', 'Harmansky', 'Harms', 'Harnikov', 'Hartukov', 'Harybin', 'Haryuchi', 'Haryukov', 'Hasabov', 'Hasaev', 'Hasainov', 'Hasanov', 'Hasbulatov', 'Haschenko', 'Haschev', 'Hashaba', 'Hashachih', 'Hasiev', 'Hasis', 'Haskin', 'Haslavsky', 'Hasminsky', 'Hasnulin', 'Hasyanov', 'Hataevich', 'Hatagov', 'Hatin', 'Hatit', 'Hatkevich', 'Hatkov', 'Hatmullin', 'Hatov', 'Hatskevich', 'Hatukaev', 'Hatuntsev', 'Haustov', 'Haustovich', 'Hautiev', 'Havanov', 'Havin', 'Havinson', 'Havkin', 'Havkunov', 'Havrichev', 'Havronin', 'Havroshin', 'Havroshkin', 'Hayaletdinov', 'Hayaliev', 'Hayutin', 'Hazan', 'Hazanov', 'Hazanovich', 'Hazbulatov', 'Hazeev', 'Haziahmetov', 'Haziev', 'Hazipov', 'Hazov', 'Hegai', 'Heifets', 'Helashvili', 'Helimsky', 'Helkvist', 'Helvas', 'Henkin', 'Hentov', 'Her', 'Heraskov', 'Herheulidzev', 'Herovets', 'Hersonsky', 'Heruvimov', 'Hesin', 'Hetagurov', 'Heveshi', 'Hevrolin', 'Hidirov', 'Hidiyatullin', 'Hihich', 'Hij', 'Hijny', 'Hijnyak', 'Hijnyakov', 'Hil', 'Hilchevsky', 'Hilkov', 'Hilyuk', 'Himenko', 'Himich', 'Himichev', 'Himonenko', 'Hinchin', 'Hinchuk', 'Hinich', 'Hirikilis', 'Hisametdinov', 'Hisamutdinov', 'Hismatullin', 'Hismatulov', 'Histyaev', 'Hitarov', 'Hitrenko', 'Hitrin', 'Hitrinsky', 'Hitro', 'Hitrov', 'Hitrovo', 'Hitruk', 'Hitrun', 'Hityaev', 'Hizh', 'Hizhny', 'Hizhnyak', 'Hizhnyakov', 'Hizriev', 'Hlamov', 'Hlebanov', 'Hlebnikov', 'Hlebodarov', 'Hlebovich', 'Hlestkov', 'Hlestov', 'Hlevniuk', 'Hlgatyan', 'Hlobystin', 'Hlobystov', 'Hlopetsky', 'Hlopiev', 'Hlopin', 'Hlopkin', 'Hlopkov', 'Hloponin', 'Hlopotin', 'Hlopotnya', 'Hlopov', 'Hludeev', 'Hludov', 'Hlupin', 'Hlusov', 'Hlutkov', 'Hlybov', 'Hlynov', 'Hlypovka', 'Hlystov', 'Hlystun', 'Hlyupin', 'Hlyzov', 'Hodorovich', 'Holboev', 'Holeva', 'Holin', 'Holkin', 'Holkin', 'Holmansky', 'Holminov', 'Holmogorov', 'Holmogortsev', 'Holmov', 'Holmsky', 'Holod', 'Holodilin', 'Holodilov', 'Holodkov', 'Holodkovsky', 'Holodny', 'Holodnyh', 'Holodnykh', 'Holodov', 'Holodovsky', 'Holoevsky', 'Holomeev', 'Holomenko', 'Holopov', 'Holoshevsky', 'Holoshin', 'Holschevnikov', 'Holschigin', 'Holshevnikov', 'Holstov', 'Holuev', 'Holyavin', 'Holyuchenko', 'Holzakov', 'Homa', 'Homaiko', 'Homar', 'Homatsky', 'Homenko', 'Homentovsky', 'Homeriki', 'Homich', 'Homichenko', 'Hominsky', 'Homsky', 'Homuha', 'Homusko', 'Homutnikov', 'Homutov', 'Homyakov', 'Hon', 'Honenev', 'Honov', 'Horalya', 'Horanov', 'Horev', 'Horhordin', 'Horkin', 'Horkov', 'Horobryh', 'Horohorkin', 'Horos', 'Horoshavin', 'Horoshavtsev', 'Horoshev', 'Horoshevsky', 'Horoshih', 'Horoshilov', 'Horoshiltsev', 'Horoshkevich', 'Horoshko', 'Horujenko', 'Horujev', 'Horujy', 'Horuzhenko', 'Horuzhev', 'Horuzhy', 'Horvat', 'Hot', 'Hoteev', 'Hotetovsky', 'Hotimsky', 'Hramchenkov', 'Hramov', 'Hramtsov', 'Huajev', 'Huako', 'Hubaev', 'Hubiev', 'Hublaryan', 'Hubulava', 'Hubutiya', 'Hudabirdin', 'Hudaiberdin', 'Hudainatov', 'Hudekov', 'Hudiev', 'Hudik', 'Hudilainen', 'Hudkov', 'Hudoinatov', 'Hudojnikov', 'Hudokormov', 'Hudoleev', 'Hudolei', 'Hudonogov', 'Hudoshin', 'Hudyaev', 'Hudyak', 'Hudyakov', 'Hudyh', 'Hudyshkin', 'Hugaev', 'Hujev', 'Hujin', 'Hulhachiev', 'Humaryan', 'Hunagov', 'Hundanov', 'Hunov', 'Huramshin', 'Huranov', 'Huraskin', 'Hurdey', 'Hurinov', 'Huroshvili', 'Hurtov', 'Hurtsilava', 'Huzangai', 'Huzin', 'Huziyatov', 'Ignatyuk', 'Ilyahin', 'Ilyakhin', 'Ilyasov', 'Ilyuhin', 'Ilyukhin', 'Ilyumjinov', 'Ilyunin', 'Ilyushin', 'Ilyushkin', 'Ilyutenko', 'Imamaliev', 'Imamutdinov', 'Imanov', 'Imatkulov', 'Imbulgin', 'Imedoev', 'Imendaev', 'Imenin', 'Imeretinsky', 'Imerlishvili', 'Imnadze', 'Imniaminov', 'Imshenetsky', 'Imukov', 'Isaakidis', 'Isachenko', 'Isachenkov', 'Isachenok', 'Isadjanov', 'Isaenko', 'Isaev', 'Isaevich', 'Isagaliev', 'Isaichenkov', 'Isaichev', 'Isaichikov', 'Isaikin', 'Isaiko', 'Isaikov', 'Isakov', 'Isakovich', 'Isakovsky', 'Isanbet', 'Isangulov', 'Isanin', 'Isasev', 'Isayan', 'Iskaev', 'Iskakov', 'Iskandarov', 'Iskandaryan', 'Iskander', 'Iskenderov', 'Iskin', 'Iskortsev', 'Iskos', 'Iskoz', 'Iskra', 'Iskritsky', 'Iskrov', 'Iskujin', 'Iskyul', 'Islakaev', 'Islambekov', 'Islamov', 'Islamshin', 'Islanov', 'Islavin', 'Isleniev', 'Islon', 'Islyamov', 'Ivanov', 'Ivchenko', 'Jaba', 'Jabin', 'Jabinsky', 'Jabitsky', 'Jablochkin', 'Jablochkov', 'Jablokov', 'Jablonovsky', 'Jablonowsky', 'Jablonsky', 'Jablontsev', 'Jablontzev', 'Jablovsky', 'Jaboev', 'Jabotinsky', 'Jabrev', 'Jabrov', 'Jabsky', 'Jaburov', 'Jabykin', 'Jachevsky', 'Jachikov', 'Jachmenev', 'Jachmenkov', 'Jachmentsev', 'Jachnik', 'Jadaev', 'Jadan', 'Jadanov', 'Jadanovsky', 'Jadenov', 'Jadin', 'Jadkevich', 'Jadne', 'Jadov', 'Jadovsky', 'Jadrennikov', 'Jadrihinsky', 'Jadrikhinsky', 'Jadrov', 'Jadryshnikov', 'Jafaev', 'Jafarov', 'Jafrakov', 'Jagafarov', 'Jagalin', 'Jaganov', 'Jagello', 'Jageman', 'Jagfarov', 'Jagich', 'Jaglintsev', 'Jagoda', 'Jagodin', 'Jagodinsky', 'Jagodnikov', 'Jagofarov', 'Jagovenko', 'Jagubov', 'Jagubsky', 'Jagudin', 'Jagujinsky', 'Jagunov', 'Jagupa', 'Jagupets', 'Jagutkin', 'Jagutyan', 'Jaguzhinsky', 'Jagya', 'Jahaev', 'Jahimovich', 'Jahin', 'Jahlakov', 'Jahnenko', 'Jahno', 'Jahnyuk', 'Jahontov', 'Jahot', 'Jaikbaev', 'Jaimov', 'Jaitsky', 'Jaivoronok', 'Jakhaev', 'Jakhimovich', 'Jakhin', 'Jakhlakov', 'Jakhnenko', 'Jakhno', 'Jakhnyuk', 'Jakhontov', 'Jakhot', 'Jakimchik', 'Jakimchuk', 'Jakimenko', 'Jakimets', 'Jakimov', 'Jakimovich', 'Jakimovsky', 'Jakimychev', 'Jakir', 'Jaklashkin', 'Jakmon', 'Jakon', 'Jakov', 'Jakov', 'Jakovchenko', 'Jakovchuk', 'Jakovenko', 'Jakovets', 'Jakovichenko', 'Jakovkin', 'Jakovlenko', 'Jakovlev', 'Jakovuk', 'Jakshibaev', 'Jakshin', 'Jakub', 'Jakuba', 'Jakubchik', 'Jakubenko', 'Jakubik', 'Jakubonis', 'Jakubov', 'Jakubovich', 'Jakubovsky', 'Jakunchikov', 'Jakunichev', 'Jakunin', 'Jakunkin', 'Jakunov', 'Jakupov', 'Jakurin', 'Jakuschenko', 'Jakush', 'Jakushev', 'Jakushevich', 'Jakushin', 'Jakushkin', 'Jakushkov', 'Jakushov', 'Jakutin', 'Jakutkin', 'Jalagin', 'Jalamov', 'Jalchevsky', 'Jalilo', 'Jalkovsky', 'Jalnin', 'Jalovenko', 'Jalovets', 'Jalovoi', 'Jalunin', 'Jalybin', 'Jam', 'Jamaletdinov', 'Jamaltdinov', 'Jambaev', 'Jamburg', 'Jamilov', 'Jaminsky', 'Jamlihanov', 'Jamlikhanov', 'Jamoida', 'Jamoido', 'Jamov', 'Jampolsky', 'Jamschikov', 'Jamskov', 'Jamsuev', 'Jan', 'Janaev', 'Janaki', 'Janalov', 'Janaslov', 'Janbarisov', 'Jandarbiev', 'Jandarov', 'Jandiev', 'Jandr', 'Jandulsky', 'Jandutkin', 'Janek', 'Janenko', 'Jangarber', 'Jangel', 'Janibekov', 'Janimov', 'Janin', 'Janishevsky', 'Janishin', 'Janitsky', 'Janjul', 'Jankelevich', 'Jankevich', 'Jankilevsky', 'Jankilovich', 'Jankin', 'Jankis', 'Janko', 'Jankov', 'Jankov', 'Jankovsky', 'Janochkin', 'Janov', 'Janover', 'Janovich', 'Janovitsky', 'Janovka', 'Janovsky', 'Janowich', 'Janpolsky', 'Janshin', 'Janshole', 'Janzhul', 'Japaskurt', 'Japondych', 'Japparov', 'Jardetsky', 'Jarihin', 'Jarikhin', 'Jarikov', 'Jarinov', 'Jarkih', 'Jarkikh', 'Jarkov', 'Jarkovsky', 'Jarmuhamedov', 'Jarmukhamedov', 'Jarnikov', 'Jarnov', 'Jarov', 'Jarovtsev', 'Jarsky', 'Jaruev', 'Jashkov', 'Jatkov', 'Jatsenko', 'Jatsevich', 'Jatskevich', 'Jatskov', 'Jatskovsky', 'Jatsuba', 'Jatsun', 'Jatsunov', 'Jatsyk', 'Jatsyshin', 'Jatzenko', 'Jatzevich', 'Jatzkevich', 'Jatzkov', 'Jatzkovsky', 'Jatzuba', 'Jatzun', 'Jatzunov', 'Jatzyk', 'Jatzyshin', 'Javoronkov', 'Javoronok', 'Javoronsky', 'Javrid', 'Jbankov', 'Jbanov', 'Jdakaev', 'Jdan', 'Jdankin', 'Jdanko', 'Jdankov', 'Jdanov', 'Jdanovich', 'Jdanovsky', 'Jebelev', 'Jebit', 'Jebo', 'Jebrovsky', 'Jebryakov', 'Jechkov', 'Jedrinsky', 'Jegin', 'Jeglov', 'Jegulin', 'Jegunov', 'Jeimo', 'Jejel', 'Jejera', 'Jekov', 'Jekulin', 'Jelaev', 'Jeldakov', 'Jelehovsky', 'Jelekhovsky', 'Jelezko', 'Jeleznikov', 'Jeleznov', 'Jelezny', 'Jeleznyak', 'Jeleznyakov', 'Jelezov', 'Jelezovsky', 'Jeleztsov', 'Jeliba', 'Jelnin', 'Jelnov', 'Jelobinsky', 'Jelohovtsev', 'Jelokhovtsev', 'Jeltouhov', 'Jeltoukhov', 'Jeltov', 'Jeltuhin', 'Jeltukhin', 'Jeltyannikov', 'Jeludev', 'Jeludkov', 'Jelvakov', 'Jelyabov', 'Jelyabovsky', 'Jelyabujsky', 'Jemaitis', 'Jemaldinov', 'Jemchugov', 'Jemchujnikov', 'Jemchujny', 'Jemlihanov', 'Jemlikhanov', 'Jemoitel', 'Jemuhov', 'Jemukhov', 'Jendarov', 'Jenin', 'Jenovach', 'Jeravin', 'Jerbin', 'Jerdev', 'Jerebin', 'Jerebko', 'Jerebovich', 'Jerebtsov', 'Jerebyatiev', 'Jerihin', 'Jerikhin', 'Jernakov', 'Jernevsky', 'Jernokleev', 'Jernosek', 'Jernov', 'Jernovoy', 'Jeromsky', 'Jeronkin', 'Jeryapin', 'Jerzdev', 'Jestkov', 'Jestovsky', 'Jeurov', 'Jevahov', 'Jevaikin', 'Jevakhov', 'Jevanov', 'Jeverjeev', 'Jevlakov', 'Jevolojnov,', 'Jgutov', 'Jiboedov', 'Jidelev', 'Jidenko', 'Jidilev', 'Jidilin', 'Jidkih', 'Jidkikh', 'Jidkin', 'Jidkov', 'Jidomirov', 'Jigachev', 'Jigailo', 'Jigailov', 'Jigalev', 'Jigalin', 'Jigalkin', 'Jigalov', 'Jiganov', 'Jigarev', 'Jigily', 'Jigin', 'Jigmytov', 'Jigulenkov', 'Jigulin', 'Jigulsky', 'Jigultsov', 'Jigun', 'Jigunov', 'Jiharev', 'Jiharevitch', 'Jija', 'Jijchenko', 'Jijemsky', 'Jijikin', 'Jijilev', 'Jijin', 'Jijnov', 'Jikharev', 'Jikharevitch', 'Jikin', 'Jikov', 'Jilchikov', 'Jilenko', 'Jilenkov', 'Jilin', 'Jilinsky', 'Jilis', 'Jilkin', 'Jilnikov', 'Jilov', 'Jiltsov', 'Jilyaev', 'Jilyakov', 'Jilyardy', 'Jilyuk', 'Jimailov', 'Jimerin', 'Jimila', 'Jimirov', 'Jimulev', 'Jinkin', 'Jinov', 'Jirdetsky', 'Jirenkin', 'Jirikov', 'Jiril', 'Jirinovsky', 'Jiritsky', 'Jirkevich', 'Jirkov', 'Jirmunsky', 'Jirnikov', 'Jirnov', 'Jirnyakov', 'Jiro', 'Jirov', 'Jiryakov', 'Jitarev', 'Jitenev', 'Jitetsky', 'Jitin', 'Jitinev', 'Jitinkin', 'Jitkov', 'Jitluhin', 'Jitlukhin', 'Jitnik', 'Jitnikov', 'Jitny', 'Jitomirsky', 'Jituhin', 'Jitukhin', 'Jivaev', 'Jivago', 'Jivilo', 'Jivin', 'Jivkovich', 'Jivlyuk', 'Jivoderov', 'Jivokini', 'Jivoluk', 'Jivopistsev', 'Jivotenko', 'Jivotinsky', 'Jivotovsky', 'Jivov', 'Jivulin', 'Jizdik', 'Jiznevsky', 'Jiznyakov', 'Jjenov', 'Jloba', 'Jluktov', 'Jmaev', 'Jmakin', 'Jmakov', 'Jmelkov', 'Jminko', 'Jmotov', 'Jmudsky', 'Jmulev', 'Jmuro', 'Jogin', 'Jogov', 'Johin', 'Johov', 'Jokhin', 'Jokhov', 'Jokin', 'Jolkov', 'Jolobov', 'Jolovan', 'Joltovsky', 'Joludev', 'Jongolovich', 'Jorin', 'Jorjev', 'Jornyak', 'Jorov', 'Jovnerik', 'Jovnir', 'Jovtun', 'Jovtyak', 'Juchenko', 'Juchkov', 'Judaev', 'Judahin', 'Judakhin', 'Judakov', 'Judanov', 'Judashkin', 'Judasin', 'Judelevich', 'Judenich', 'Judenkov', 'Judin', 'Judinsky', 'Juditsky', 'Judkin', 'Judkov', 'Judkovich', 'Judochkin', 'Judolovich', 'Judovich', 'Judushkin', 'Juferev', 'Juferov', 'Jufit', 'Jufryakov', 'Jugai', 'Jugin', 'Jugov', 'Juhanaev', 'Juhimenko', 'Juhimuk', 'Juhma', 'Juhman', 'Juhnev', 'Juhnin', 'Juhno', 'Juhotsky', 'Juhov', 'Juhtanov', 'Juhtman', 'Juhvidov', 'Juikov', 'Jujlev', 'Jujnev', 'Juk', 'Jukalov', 'Jukhanaev', 'Jukhimenko', 'Jukhimuk', 'Jukhma', 'Jukhman', 'Jukhnev', 'Jukhnin', 'Jukhno', 'Jukhotsky', 'Jukhov', 'Jukhtanov', 'Jukhtman', 'Jukhvidov', 'Jukov', 'Jukovets', 'Jukovich', 'Jukovin', 'Jukovsky', 'Julebin', 'Julev', 'Julidov', 'Julyabin', 'Jumenko', 'Jun', 'Junda', 'Junin', 'Junusov', 'Juon', 'Jupanenko', 'Jupikov', 'Jura', 'Jurakovsky', 'Juravel', 'Juravkov', 'Juravlenko', 'Juravliov', 'Juravov', 'Juravsky', 'Jurba', 'Jurbenko', 'Jurbin', 'Jurihin', 'Jurikhin', 'Jurin', 'Jurkin', 'Jurko', 'Jurkov', 'Jurkovsky', 'Jurman', 'Juromsky', 'Jurov', 'Juruli', 'Jushman', 'Juzeev', 'Juzefov', 'Juzefovich', 'Juzgin', 'Juzhakov', 'Juzhalin', 'Juzhanov', 'Juzhenko', 'Juzhilin', 'Juzin', 'Juzva', 'Juzvikov', 'Juzvishin', 'Juzvyuk', 'Jvachkin', 'Jvanetsky', 'Jvirblis', 'Jvykin', 'Kabachev', 'Kabachnik', 'Kabaev', 'Kabaidze', 'Kabak', 'Kabakchi', 'Kabakov', 'Kabalevsky', 'Kabalin', 'Kabalkin', 'Kabaloev', 'Kabanov', 'Kabashkin', 'Kabatsky', 'Kaberman', 'Kaberov', 'Kabes', 'Kabeshov', 'Kabirov', 'Kabisha', 'Kabitsin', 'Kabitsky', 'Kabjihov', 'Kablahov', 'Kablits', 'Kablov', 'Kablukov', 'Kabulahin', 'Kabulov', 'Kaburneev', 'Kabuzan', 'Kabysh', 'Kabyshev', 'Kabytov', 'Kachaev', 'Kachainik', 'Kachalin', 'Kachalkin', 'Kachalov', 'Kachalovsky', 'Kachan', 'Kachanov', 'Kachanovsky', 'Kacharov', 'Kacharyants', 'Kachemaev', 'Kachenovsky', 'Kachimov', 'Kachin', 'Kachinsky', 'Kachioni', 'Kachkaev', 'Kachkov', 'Kachnov', 'Kachur', 'Kachurin', 'Kalabekov', 'Kalaberda', 'Kalabin', 'Kalabuhov', 'Kalabukhov', 'Kalachev', 'Kalachihin', 'Kalachikhin', 'Kalachinsky', 'Kalachov', 'Kalaev', 'Kalaganov', 'Kalaichev', 'Kalaida', 'Kalaidjan', 'Kalaidovich', 'Kalakin', 'Kalakutsky', 'Kalamanov', 'Kalambetov', 'Kalamkaryan', 'Kalandarov', 'Kalandinsky', 'Kalashnik', 'Kalashnikov', 'Kalatin', 'Kalatsky', 'Kalautov', 'Kaldin', 'Kaldybaev', 'Kaledin', 'Kaleev', 'Kalekin', 'Kalenik', 'Kalenov', 'Kalentiev', 'Kaleri', 'Kaleshin', 'Kalesnik', 'Kaletin', 'Kaletkin', 'Kaletsky', 'Kalganov', 'Kalgashkin', 'Kaliashvili', 'Kaliberda', 'Kalievsky', 'Kalihanov', 'Kalihman', 'Kalihov', 'Kalikhanov', 'Kalikhman', 'Kalikhov', 'Kalikyan', 'Kalimahi', 'Kalimakhi', 'Kalimulin', 'Kalimullin', 'Kalin', 'Kalina', 'Kalinchenko', 'Kalinchuk', 'Kalinich', 'Kalinichenko', 'Kalinichev', 'Kalinin', 'Kalinka', 'Kalinkin', 'Kalinko', 'Kalinnikov', 'Kalinochkin', 'Kalinov', 'Kalinovich', 'Kalinovsky', 'Kalinsky', 'Kalintsev', 'Kalinushkin', 'Kalishevsky', 'Kalishewsky', 'Kalisov', 'Kalistratov', 'Kalita', 'Kaliteevsky', 'Kalitievsky', 'Kalitin', 'Kalitinkin', 'Kalitinsky', 'Kalitkin', 'Kalitvin', 'Kalitvintsev', 'Kaliyants', 'Kallash', 'Kallik', 'Kaloshin', 'Kamenetzky', 'Kartaev', 'Kartajev', 'Kartalov', 'Kartamyshev', 'Kartashev', 'Kartashevsky', 'Kartashkin', 'Kartashov', 'Kartavenko', 'Kartavtsev', 'Kartazhev', 'Karteshkin', 'Kartomyshev', 'Kartoshkin', 'Kartovenko', 'Kartoziya', 'Kartunov', 'Kartushin', 'Kartuzov', 'Kartvelin', 'Kartyshov', 'Kats', 'Katsan', 'Katsarev', 'Katsari', 'Katsebin', 'Katsenelenbaum', 'Katsenellenbogen', 'Katsepov', 'Katsev', 'Katsevman', 'Katsibin', 'Katsis', 'Katsman', 'Katsnelson', 'Katsovsky', 'Katsuba', 'Katsukov', 'Katsur', 'Katz', 'Katzan', 'Katzarev', 'Katzari', 'Katzebin', 'Katzenelenbaum', 'Katzenellenbogen', 'Katzepov', 'Katzev', 'Katzevman', 'Katzibin', 'Katzis', 'Katzman', 'Katznelson', 'Katzovsky', 'Katzuba', 'Katzukov', 'Katzur', 'Kaufman', 'Ladyjensky', 'Ladyjets', 'Ladyjnikov', 'Ladyzhensky', 'Ladyzhets', 'Ladyzhnikov', 'Lajentsev', 'Lajintsev', 'Lapaev', 'Lapakov', 'Lapegin', 'Lapenko', 'Lapenkov', 'Lapidus', 'Lapikov', 'Lapin', 'Lapinsky', 'Lapinus', 'Lapir', 'Lapisov', 'Lapitsky', 'Lapkin', 'Lapochkin', 'Lappo', 'Laps', 'Lazhentsev', 'Lazhintsev', 'Lebed', 'Lebedenko', 'Lebedev', 'Lebedevich', 'Lebedich', 'Lebedinets', 'Lebedinsky', 'Lebedintsev', 'Lebedkin', 'Lebedyansky', 'Lebereht', 'Lebeshev', 'Lebidko', 'Lebin', 'Lebinson', 'Leboperov', 'Lebsky', 'Lebzak', 'Lebzyak', 'Leiba', 'Leibe', 'Leibenzon', 'Leiberov', 'Leibin', 'Leibkin', 'Leibov', 'Leibovich', 'Leibovsky', 'Leichik', 'Leiferkus', 'Leihtenbergsky', 'Leikam', 'Leikin', 'Leikisman', 'Leiko', 'Leiman', 'Leimon', 'Lein', 'Leipunsky', 'Leites', 'Leitis', 'Leitman', 'Leiviman', 'Leizarenko', 'Leizerman', 'Lejankin', 'Lejankov', 'Lejava', 'Lejebokov', 'Lejenko', 'Lejepekov', 'Lejikov', 'Lejnev', 'Lejnin', 'Leonenko', 'Lepehin', 'Lepekhin', 'Lepihin', 'Lepihov', 'Lepikhin', 'Lepikhov', 'Lermontov', 'Lerner', 'Levichev', 'Levish', 'Levit', 'Levitan', 'Levitansky', 'Levite', 'Levitin', 'Levitis', 'Levitov', 'Levitsky', 'Levitsky', 'Levitt', 'Levitzky', 'Lewitckyj', 'Lezdinysh', 'Lezhankin', 'Lezhankov', 'Lezhava', 'Lezhebokov', 'Lezhenko', 'Lezhepekov', 'Lezhikov', 'Lezhnev', 'Lezhnin', 'Lezjov', 'Lezov', 'Lgov', 'Li', 'Lianozov', 'Liberman', 'Liberzon', 'Libkin', 'Libman', 'Libreht', 'Libson', 'Libusov', 'Lichagin', 'Lichenko', 'Lichintser', 'Lichkanovsky', 'Lichko', 'Lichkov', 'Lichkun', 'Lichkus', 'Lichman', 'Lichnov', 'Liders', 'Lidorenko', 'Lidval', 'Liepa', 'Ligachev', 'Ligin', 'Ligorner', 'Ligostaev', 'Lih', 'Lihachev', 'Lihanov', 'Liharev', 'Lihobaba', 'Lihobabin', 'Lihodedov', 'Lihodeev', 'Lihodei', 'Liholat', 'Liholobov', 'Lihomanov', 'Lihonosov', 'Lihosherstov', 'Lihov', 'Lihovidov', 'Lihovskih', 'Lihovtsev', 'Lihtenshtedt', 'Lihtenshtein', 'Lihtentul', 'Lihterman', 'Lihtin', 'Lihvantsev', 'Likh', 'Likhachev', 'Likhanov', 'Likharev', 'Likhobaba', 'Likhobabin', 'Likhodedov', 'Likhodeev', 'Likhodei', 'Likholat', 'Likholobov', 'Likhomanov', 'Likhonosov', 'Likhosherstov', 'Likhov', 'Likhovidov', 'Likhovskikh', 'Likhovtsev', 'Likhtenshtedt', 'Likhtenshtein', 'Likhtentul', 'Likhterman', 'Likhtin', 'Likhvantsev', 'Likin', 'Likov', 'Likum', 'Likunov', 'Likutov', 'Lileev', 'Liliental', 'Lilov', 'Lilyin', 'Lim', 'Limanov', 'Limansky', 'Limar', 'Limarev', 'Limarov', 'Limitovsky', 'Limonov', 'Limorenko', 'Limoshin', 'Lischenko', 'Lischuk', 'Lishansky', 'Lishin', 'Lishtovny', 'Lishtva', 'Litovchenko', 'Livadin', 'Livadny', 'Livanov', 'Livansky', 'Liven', 'Liventsev', 'Liventsov', 'Livenzon', 'Liverovsky', 'Livnev', 'Livshin', 'Livshitz', 'Livson', 'Lizander', 'Lizogub', 'Lizorkin', 'Lizunov', 'Loder', 'Lodkin', 'Lodochnikov', 'Lody', 'Lodyagin', 'Lodygin', 'Lodyjensky', 'Loenko', 'Loevsky', 'Loh', 'Lohanin', 'Lohanov', 'Lohin', 'Lohmatikov', 'Lohno', 'Lohov', 'Lohtin', 'Lohvitsky', 'Loi', 'Loifman', 'Loiko', 'Loiter', 'Loitzyansky', 'Lojchenko', 'Lojkin', 'Lokh', 'Lokhanin', 'Lokhanov', 'Lokhin', 'Lokhmatikov', 'Lokhno', 'Lokhov', 'Lokhtin', 'Lokhvitsky', 'Los', 'Losenko', 'Losev', 'Losik', 'Lositsky', 'Loskov', 'Loskutov', 'Loson', 'Lossky', 'Losyukov', 'Lotarev', 'Lotkov', 'Lotman', 'Lotorev', 'Lotosh', 'Lotsmanov', 'Lotter', 'Loza', 'Lozben', 'Lozhchenko', 'Lozhkin', 'Lozin', 'Lozinsky', 'Lozivets', 'Lozovoy', 'Lozovsky', 'Lubsky', 'Lubushkin', 'Lubutin', 'Lubutov', 'Luferov', 'Luha', 'Luhmanov', 'Luhovitsky', 'Luhvich', 'Lukha', 'Lukhmanov', 'Lukhovitsky', 'Lukhvich', 'Lupachev', 'Lupalenko', 'Lupan', 'Lupandin', 'Lupanenko', 'Lupanov', 'Lupehin', 'Lupei', 'Lupekhin', 'Lupenko', 'Lupenkov', 'Lupichev', 'Lupin', 'Lupov', 'Luppa', 'Luppian', 'Luppol', 'Luppov', 'Luptsov', 'Lurie', 'Luriya', 'Luskanov', 'Luspekaev', 'Luss', 'Lustgarten', 'Lut', 'Lutchenko', 'Lutchenkov', 'Lutfullin', 'Lutkov', 'Lutkovsky', 'Lutohin', 'Lutoshkin', 'Lutoshnikov', 'Lutov', 'Lutovich', 'Lutovinov', 'Luts', 'Lutsev', 'Lychagin', 'Lychakov', 'Lychanaya', 'Lychev', 'Lygach', 'Lygin', 'Lyhin', 'Lyjenkov', 'Lyjin', 'Lykasov', 'Lykhin', 'Lykin', 'Lykoshin', 'Lykosov', 'Lykov', 'Lymar', 'Lymarev', 'Lyndin', 'Lyndyaev', 'Lyrschikov', 'Lysak', 'Lysakov', 'Lysansky,', 'Lysenko', 'Lysenkov', 'Lysenny', 'Lysev', 'Lysihin', 'Lysikhin', 'Lysikov', 'Lyskin', 'Lysko', 'Lyskov', 'Lysov', 'Lystsov', 'Lysy', 'Lysyakov', 'Lysyansky', 'Lysyh', 'Lysykh', 'Lysyuk', 'Lytkin,', 'Lyvin', 'Lyzhenkov', 'Lyzhin', 'Lyzin', 'Lyzlov', 'Mahachev', 'Mahaev', 'Mahagonov', 'Mahalin', 'Mahalov', 'Mahankov', 'Mahanov', 'Maharov', 'Mahin', 'Mahinov', 'Mahinya', 'Mahlai', 'Mahlinsky', 'Mahlov', 'Mahmudov', 'Mahmutov', 'Mahnenko', 'Mahnev', 'Mahno', 'Mahonin', 'Mahonov', 'Mahorin', 'Mahortov', 'Mahotin', 'Mahotkin', 'Mahov', 'Mahovikov', 'Mahro', 'Mahrov', 'Mahrovsky', 'Mahtiev', 'Mahurov', 'Mahutov', 'Makaseev', 'Makferson', 'Makhachev', 'Makhaev', 'Makhagonov', 'Makhalin', 'Makhalov', 'Makhankov', 'Makhanov', 'Makharov', 'Makhin', 'Makhinov', 'Makhinya', 'Makhlai', 'Makhlinsky', 'Makhlov', 'Makhmudov', 'Makhmutov', 'Makhnenko', 'Makhnev', 'Makhno', 'Makhonin', 'Makhonov', 'Makhorin', 'Makhortov', 'Makhotin', 'Makhotkin', 'Makhov', 'Makhovikov', 'Makhro', 'Makhrov', 'Makhrovsky', 'Makhtiev', 'Makhurov', 'Makhutov', 'Makshakov', 'Maksheev', 'Maksimchenko', 'Maksimchik', 'Maksimchikov', 'Maksimchuk', 'Maksimov', 'Maksimovich', 'Maksimovsky', 'Maksimtsev', 'Maksimychev', 'Maksimyuk', 'Maksin', 'Maksinev', 'Maksumov', 'Maksutov', 'Maksyuta', 'Maksyutenko', 'Maksyutov', 'Makuha', 'Makuhin', 'Makukha', 'Makukhin', 'Makul', 'Makulov', 'Makunin', 'Makurov', 'Makusev', 'Makushev', 'Makushkin', 'Makushok', 'Makyshev', \"Mar'In\", 'Marchanukov', 'Marchenko', 'Marchenkov', 'Marchenov', 'Marchuk', 'Marchukov', 'Marfelev', 'Marfin', 'Marfunin', 'Marfusalov', 'Marhanov', 'Marhasin', 'Marhinin', 'Marholenko', 'Marievsky', 'Markhanov', 'Markhasin', 'Markhinin', 'Markholenko', 'Marks', 'Markus', 'Markushev', 'Markushevich', 'Markushin', 'Marlovetsky', 'Marmazov', 'Maron', 'Marov', 'Marr', 'Marshak', 'Marshalko', 'Marshansky', 'Marshev', 'Marsky', 'Martemyanov', 'Martens', 'Martidi', 'Martin', 'Martinenas', 'Martinkus', 'Martinovsky', 'Martinson', 'Martirosov', 'Martkovich', 'Martos', 'Martov', 'Martoyas', 'Martsenko', 'Martsenkov', 'Martsenyuk', 'Martsevich', 'Martsinkovsky', 'Martyanchik', 'Martyanov', 'Martynenko', 'Martynenkov', 'Martynov', 'Martynovsky', 'Martynyuk', 'Martyshevsky', 'Martyshin', 'Martyshkin', 'Martyshko', 'Martyshov', 'Martysyuk', 'Martyuk', 'Martyushev', 'Martyushin', 'Martyushov', 'Martzenko', 'Martzenkov', 'Martzenyuk', 'Martzevich', 'Martzinkovsky', 'Maruk', 'Marunin', 'Maruschak', 'Maruschenko', 'Marusev', 'Marushkin', 'Marushko', 'Marusin', 'Marutenkov', 'Marutsky', 'Maryanov', 'Maryanovsky', 'Maryashev', 'Maryasov', 'Marychev', 'Maryenko', 'Maryltsev', 'Maryshev', 'Marysyuk', 'Maryushkin', 'Maryutin', 'Matasoff', 'Matasov', 'Matsaev', 'Matsak', 'Matsakov', 'Matsevich', 'Matseyovsky', 'Matsiev', 'Matsievich', 'Matsievsky', 'Matsigura', 'Matskevich', 'Matsko', 'Matskov', 'Matskovsky', 'Matsnev', 'Matsotsky', 'Matsuev', 'Matsukevich', 'Matsyuk', 'Matzaev', 'Matzak', 'Matzakov', 'Matzevich', 'Matzeyovsky', 'Matziev', 'Matzievich', 'Matzievsky', 'Matzigura', 'Matzkevich', 'Matzko', 'Matzkov', 'Matzkovsky', 'Matznev', 'Matzotsky', 'Matzuev', 'Matzukevich', 'Matzyuk', 'Medved', 'Meshkovsky', 'Michkov', 'Michudo', 'Michurin', 'Mih', 'Mihailenko', 'Mihailets', 'Mihailichenko', 'Mihailidi', 'Mihailin', 'Mihailitsyn', 'Mihailov', 'Mihailovich', 'Mihailovsky', 'Mihailushkin', 'Mihailutsa', 'Mihailyants', 'Mihailychev', 'Mihailyuk', 'Mihalchenko', 'Mihalchev', 'Mihalchuk', 'Mihaleiko', 'Mihalenkov', 'Mihalev', 'Mihalevich', 'Mihalevsky', 'Mihalitsin', 'Mihalkin', 'Mihalkov', 'Mihalkov', 'Mihalkovsky', 'Mihalsky', 'Mihaltsev', 'Mihaltsov', 'Mihalushkin', 'Mihalychev', 'Mihasenko', 'Miheenkov', 'Miheev', 'Miheikin', 'Mihel', 'Mihels', 'Mihelson', 'Mihelyus', 'Mihersky', 'Mihilev', 'Mihin', 'Mihlin', 'Mihmel', 'Mihnenko', 'Mihnev', 'Mihnevich', 'Mihno', 'Mihnov', 'Mihoels', 'Mikh', 'Mikhailenko', 'Mikhailets', 'Mikhailichenko', 'Mikhailidi', 'Mikhailin', 'Mikhailitsyn', 'Mikhailjants', 'Mikhailjuk', 'Mikhailov', 'Mikhailovich', 'Mikhailovsky', 'Mikhailushkin', 'Mikhailutsa', 'Mikhailyants', 'Mikhailychev', 'Mikhailyuk', 'Mikhalchenko', 'Mikhalchev', 'Mikhalchuk', 'Mikhaleiko', 'Mikhalenkov', 'Mikhalev', 'Mikhalevich', 'Mikhalevsky', 'Mikhalitsin', 'Mikhalkin', 'Mikhalkov', 'Mikhalkov', 'Mikhalkovsky', 'Mikhalsky', 'Mikhaltsev', 'Mikhaltsov', 'Mikhalushkin', 'Mikhalychev', 'Mikhasenko', 'Mikheenkov', 'Mikheev', 'Mikheikin', 'Mikhel', 'Mikhels', 'Mikhelson', 'Mikhelyus', 'Mikhersky', 'Mikhilev', 'Mikhin', 'Mikhlin', 'Mikhmel', 'Mikhnenko', 'Mikhnev', 'Mikhnevich', 'Mikhno', 'Mikhnov', 'Mikhoels', 'Minchenkov', 'Minchev', 'Mindadze', 'Mindel', 'Mindeli', 'Mindiashvili', 'Mindibekov', 'Minding', 'Mindlin', 'Mindovsky', 'Mindra', 'Mineev', 'Minenko', 'Minenkov', 'Minervin', 'Minevich', 'Mingaleev', 'Mingalev', 'Mingazetdinov', 'Mingazov', 'Mingrelsky', 'Minh', 'Miniahhmetov', 'Minih', 'Minin', 'Minitsky', 'Minjurenko', 'Minkevich', 'Minkin', 'Minko', 'Minkov', 'Minkov', 'Minkovich', 'Minniahmetov', 'Minniakhmetov', 'Minnibaev', 'Minnihanov', 'Minnikhanov', 'Minnikov', 'Minnubaev', 'Minnulin', 'Minov', 'Minovalov', 'Minovitsky', 'Minovitzky', 'Minskoi', 'Mints', 'Mintskovsky', 'Mintz', 'Minuhin', 'Minukhin', 'Minushkin', 'Minyaev', 'Minyaichev', 'Minyajetdinov', 'Minyar', 'Minyazhetdinov', 'Minyukov', 'Minyushev', 'Miodushevsky', 'Mischenko', 'Mischenkov', 'Mischihin', 'Mischikhin', 'Mischuk', 'Mitskevich', 'Mitsukov', 'Mkervali', 'Mkrtchan', 'Mkrtchyants', 'Mkrtumov', 'Mkrtumyan', 'Mlachnev', 'Mladentsev', 'Mlechin', 'Mliss', 'Mlodik', 'Mlotkovsky', 'Mlynnik', 'Mnatsakanov', 'Mnatsakanyan', 'Mndjoyan', 'Mndoyants', 'Mniszech', 'Mnogogreshny', 'Mnuskin', 'Mochalin', 'Mochalov', 'Mochalsky', 'Mochalygin', 'Mochanov', 'Mochanovsky', 'Mocharov', 'Mochtarev', 'Mochulov', 'Mochulsky', 'Mochutkovsky', 'Model', 'Modenov', 'Moderah', 'Modestov', 'Modin', 'Modyaev', 'Modylevsky', 'Modzalevsky', 'Modzko', 'Mogila', 'Mogilensky', 'Mogilev', 'Mogilevich', 'Mogilevsky', 'Mogilevtsev', 'Mogilner', 'Mogilnichenko', 'Mogilnikov', 'Mogilnitsky', 'Mogilny', 'Mogilyuk', 'Moguchev', 'Moh', 'Mohnachev', 'Mohnatkin', 'Mohnatsky', 'Mohorov', 'Mohosoev', 'Mohov', 'Moisinovich', 'Mojaev', 'Mojaikin', 'Mojaiskov', 'Mojaisky', 'Mojar', 'Mojarenko', 'Mojarov', 'Mojarovsky', 'Mojartsev', 'Mojeiko', 'Mojin', 'Mokeenkov', 'Mokeev', 'Mokerov', 'Mokh', 'Mokhnachev', 'Mokhnatkin', 'Mokhnatsky', 'Mokhorov', 'Mokhosoev', 'Mokhov', 'Mokievsky', 'Mokin', 'Moklyachenko', 'Mokretsov', 'Mokrinsky', 'Mokritsky', 'Mokronosov', 'Mokrousov', 'Mokrov', 'Mokrushev', 'Mokry', 'Mokryak', 'Mokshin', 'Molcanovs', 'Molchadsky', 'Molchanov', 'Molchansky', 'Moldovanov', 'Moldovyan', 'Moletotov', 'Molev', 'Molevich', 'Molin', 'Mollaev', 'Moller', 'Mollo', 'Molnovetsky', 'Molochko', 'Molochkov', 'Molochnikov', 'Molodchinin', 'Molodensky', 'Molodin', 'Molodkin', 'Molodojenov', 'Molodtsov', 'Molodyh', 'Molodykh', 'Molojavy', 'Molokanov', 'Molokov', 'Molokovsky', 'Molorodov', 'Moloshnikov', 'Molostov', 'Molostvov', 'Molotilov', 'Molotkov', 'Molotov', 'Molov', 'Moltenskoi', 'Molvo', 'Molyakov', 'Molyavin', 'Molyavinsky', 'Mombelli', 'Momdji', 'Momdjyan', 'Momotov', 'Mordakov', 'Mordashov', 'Mordasov', 'Mordberg', 'Mordin', 'Mordinov', 'Mordkin', 'Mordkovich', 'Mordovin', 'Mordovtsev', 'Morduhovich', 'Mordvin', 'Mordvinoff', 'Mordvinov', 'Mordvintsev', 'Mordyukov', 'Morehin', 'Moreinis', 'Morekhin', 'Morenets', 'Morengeim', 'Morenshildt', 'Morev', 'Morjin', 'Morjitsky', 'Morozov', 'Morozovsky', 'Morzhin', 'Morzhitsky', 'Moschenko', 'Moshcovitsh', 'Mosheev', 'Moshenko', 'Moshenkov', 'Moshetov', 'Moshin', 'Moshkarkin', 'Moshkarnev', 'Moshkin', 'Moshkov', 'Moshkovich', 'Moshkovsky', 'Moshkunov', 'Moshnikov', 'Moshninov', 'Moshnyaga', 'Moshnyakov', 'Moshonkin', 'Movchan', 'Movchun', 'Movsaev', 'Movsarov', 'Movsesov', 'Movshovich', 'Movsumadze', 'Mozhaev', 'Mozhaikin', 'Mozhaiskov', 'Mozhaisky', 'Mozhar', 'Mozharenko', 'Mozharov', 'Mozharovsky', 'Mozhartsev', 'Mozheiko', 'Mozhin', 'Mravin', 'Mravinsky', 'Mrelashvili', 'Mrevlishvili', 'Mryhin', 'Mstislavets', 'Mstislavsky', 'Mubarakshin', 'Mubaryakov', 'Mudrak', 'Mudrik', 'Mudrov', 'Muijel', 'Muizhel', 'Mujdabaev', 'Mujikov', 'Mujitskih', 'Mujitskikh', 'Mujjavlev', 'Mujkaterov', 'Mukanov', 'Mukaseev', 'Mukasey', 'Mukin', 'Mukke', 'Muklevich', 'Mukomel', 'Mukov', 'Mukovozov', 'Muksinov', 'Muksunov', 'Mukubenov', 'Mukusev', 'Muladjanov', 'Mulatov', 'Muldashev', 'Mulenkov', 'Mulerman', 'Mulin', 'Mulinov', 'Mullayanov', 'Muller', 'Multah', 'Multakh', 'Multyh', 'Multykh', 'Mulyarchik', 'Mulyavin', 'Mulyukov', 'Mumdjian', 'Mumladze', 'Mun', 'Munaev', 'Munasipov', 'Munchaev', 'Munehin', 'Munekhin', 'Munin', 'Munsky', 'Munster', 'Munte', 'Muntyan', 'Munyabin', 'Murchenko', 'Murogov', 'Muromtsev', 'Muromtsov', 'Murov', 'Mursalimov', 'Murtazaliev', 'Murtazin', 'Muru', 'Murychev', 'Murygin', 'Murylev', 'Musabaev', 'Musaev', 'Musahanov', 'Musahanyants', 'Musakov', 'Musalatov', 'Musalimov', 'Musalnikov', 'Musatov', 'Musavirov', 'Muzafarov', 'Muzalevskih', 'Muzalevskikh', 'Muzalevsky', 'Muzarev', 'Muzenitov', 'Muzgin', 'Muzhdabaev', 'Muzhikov', 'Muzhitskih', 'Muzhitskikh', 'Muzhkaterov', 'Muzhzhavlev', 'Muzipov', 'Muzrukov', 'Muzychenko', 'Muzychka', 'Muzyka', 'Muzykantov', 'Muzykantsky', 'Muzykin', 'Muzylev', 'Muzyrya', 'Muzyukin', 'Myachkov', 'Myatishkin', 'Myatlev', 'Nahabtsev', 'Nahamkin', 'Nahamkis', 'Nahapetov', 'Nahimov', 'Nahmanovich', 'Nahodkin', 'Nahushev', 'Nahutin', 'Nakhabtsev', 'Nakhamkin', 'Nakhamkis', 'Nakhapetov', 'Nakhimov', 'Nakhmanovich', 'Nakhodkin', 'Nakhushev', 'Nakhutin', 'Nasakin', 'Nasedkin', 'Nasetkin', 'Nasibullaev', 'Nasibullin', 'Nasikan', 'Nasikovsky', 'Naslednikov', 'Nasledov', 'Nasonov', 'Nasretdinov', 'Nasrullaev', 'Nasrutdinov', 'Nastavin', 'Nastogunin', 'Nastoyaschy', 'Nasybullin', 'Nasyrov', 'Natalenko', 'Natalushko', 'Natapov', 'Natareev', 'Natashkin', 'Natho', 'Natochin', 'Nazarkin', 'Nazarko', 'Nejdanov', 'Nejentsev', 'Nejinsky', 'Nejlukto', 'Nelyubin', 'Nelyubov', 'Nesgovorov', 'Nesis', 'Neskorodev', 'Neskoromny', 'Neskrebin', 'Neskuchaev', 'Neslyuzov', 'Nesmachko', 'Nesmachnov', 'Nesmelov', 'Nesmeyanov', 'Nesselrode', 'Nessen', 'Nessler', 'Nesvetaev', 'Nevedomsky', 'Nevejin', 'Nevelskoi', 'Nevelsky', 'Neverkovets', 'Neverkovich', 'Neverov', 'Neverovsky', 'Neveselov', 'Nevezhin', 'Nevitsky', 'Nezabytovsky', 'Nezamai', 'Nezametdinov', 'Nezamutdinov', 'Nezavitin', 'Nezhdanov', 'Nezhentsev', 'Nezhinsky', 'Nezhlukto', 'Nezlin', 'Neznamov', 'Neznanov', 'Nezvigin', 'Nijegorodov', 'Nijegorodtsev', 'Nijevyasov', 'Nijinsky', 'Nizhegorodov', 'Nizhegorodtsev', 'Nizhevyasov', 'Nizhinsky', 'Nosach', 'Noschenko', 'Nosenko', 'Nosihin', 'Nosik', 'Nosikov', 'Noskin', 'Nosko', 'Noskov', 'Noskovsky', 'Nouvel', 'Novohatsky', 'Novokhatsky', 'Novosadov', 'Novosadsky', 'Novoselitsky', 'Novoselov', 'Novoselski', 'Novoselsky', 'Novoseltsev', 'Novoshinsky', 'Novosilsky', 'Novosiltsev', 'Novosiltsov', 'Novotortsev', 'Nudatov', 'Nugaev', 'Nugaibekov', 'Nugumanov', 'Nuikin', 'Nujdin', 'Numerov', 'Nunuev', 'Nuraliev', 'Nurdinov', 'Nureev', 'Nurgaleev', 'Nurgaliev', 'Nurgalin', 'Nurhamitov', 'Nuridjanov', 'Nuriev', 'Nurislamov', 'Nurjanov', 'Nurkaev', 'Nurmuhamedov', 'Nurmuhametov', 'Nurok', 'Nurov', 'Nursubin', 'Nurtdinov', 'Nuruchev', 'Nurullin', 'Nuryaev', 'Nuryshev', 'Nurzat', 'Nusberg', 'Nusinov', 'Nusuev', 'Nutrihin', 'Nyago', 'Nyamin', 'Nyashin', 'Nymmik', 'Nyrko', 'Nyrkov', 'Nyrtsev', 'Nyuhalov', 'Nyuhtilin', 'Nyuren', 'Nyurnberg', 'Oboldin', 'Obolensky', 'Obolonsky', 'Obolsky', 'Obolyaninov', 'Oborin', 'Oborkin', 'Oborotov', 'Obuh', 'Obuhov', 'Obukovkin', 'Obydennikov', 'Obydennov', 'Obyedkin', 'Obyedkov', 'Obysov', 'Olenev', 'Olenew', 'Omarjanov', 'Omarov', 'Omashev', 'Omegov', 'Omelchenko', 'Omelianovsky', 'Omelichev', 'Omelin', 'Omelko', 'Omelkov', 'Omelyanenko', 'Omelyansky', 'Omelyuk', 'Omischenko', 'Omoloev', 'Onchukov', 'Ondrikov', 'Onegin', 'Onenko', 'Onikov', 'Onilov', 'Onischenko', 'Onischuk', 'Onishko', 'Onkov', 'Onopko', 'Onoprienko', 'Onopriev', 'Onoshkin', 'Ontikov', 'Onuchin', 'Onufrienko', 'Onufriev', 'Onufrievich', 'Onusaitis', 'Onyky', 'Oom', 'Osipenko', 'Otain', 'Otchenashenko', 'Otdelnov', 'Otellin', 'Otiev', 'Otlesnov', 'Otletov', 'Otlivschikov', 'Otmahov', 'Otmakhov', 'Otov', 'Otradnov', 'Otrohov', 'Otrokhov', 'Otroshenko', 'Ots', 'Otsing', 'Otstavnoi', 'Otstavnov', 'Ott', 'Ottyasov', 'Otyaev', 'Otyutsky', 'Overchuk', 'Padalka', 'Padalkin', 'Paderin', 'Padkin', 'Paduchev', 'Padva', 'Padylin', 'Pagaev', 'Pagiev', 'Pahalchuk', 'Paharev', 'Paharkov', 'Pahmutov', 'Paholkov', 'Pahomov', 'Pahrin', 'Pahtanov', 'Pahtel', 'Pahunov', 'Paidoverov', 'Paidyshev', 'Paikin', 'Paimuhin', 'Paimukhin', 'Paimullin', 'Pain', 'Paivin', 'Pajinsky', 'Pajitnov', 'Pajukov', 'Pakhalchuk', 'Pakharev', 'Pakharkov', 'Pakhmutov', 'Pakholkov', 'Pakhomov', 'Pakhrin', 'Pakhtanov', 'Pakhtel', 'Pakhunov', 'Paradiz', 'Paradjanov', 'Paradzhanov', 'Paradzinsky', 'Paragulgov', 'Parahin', 'Parakhin', 'Parakin', 'Paramonov', 'Paramoshin', 'Paramoshkin', 'Paranin', 'Paraschenko', 'Paraskun', 'Parasyuk', 'Parenago', 'Parensky', 'Parensov', 'Pashkov', 'Pasternak', 'Pastreiter', 'Pats', 'Patsalo', 'Patsev', 'Patsevich', 'Patsiorkovsky', 'Patskevich', 'Patsyna', 'Patz', 'Patzalo', 'Patzev', 'Patzevich', 'Patziorkovsky', 'Patzkevich', 'Patzyna', 'Pavelko', 'Pavelyev', 'Pavin', 'Pavkin', 'Pavlenko', 'Pavlenkov', 'Pavlenok', 'Pavlichenko', 'Pavlin', 'Pavlinov', 'Pavlinsky', 'Pavlischev', 'Pavlishin', 'Pavluhin', 'Pavlukhin', 'Pavlunin', 'Pavlunovsky', 'Pavlusenko', 'Pavlusha', 'Pavlushin', 'Pavlychev', 'Pavlyuchenko', 'Pavlyuchkov', 'Pavlyuchuk', 'Pavlyuk', 'Pavlyukov', 'Pavlyukovsky', 'Pavlyushkevich', 'Pavsky', 'Pawluk', 'Pazdnikov', 'Pazhinsky', 'Pazhitnov', 'Pazhukov', 'Pazi', 'Pazuhin', 'Pazukhin', 'Pazy', 'Pazyun', 'Pechagin', 'Pechatkin', 'Pechatnov', 'Pechenejsky', 'Pechenev', 'Pechenezhsky', 'Pechenin', 'Pechenkin', 'Pecheny', 'Pecheritsa', 'Pecherkin', 'Pechernikov', 'Pechersky', 'Pechinin', 'Pechinkin', 'Pechkovsky', 'Pechkurov', 'Pechnikov', 'Pechuev', 'Pechurkin', 'Peftiev', 'Pehotin', 'Pehterev', 'Pehtin', 'Pekhotin', 'Pekhterev', 'Pekhtin', 'Peleev', 'Pelevin', 'Pelih', 'Pelin', 'Pellenen', 'Peller', 'Pelman', 'Pelmenev', 'Pelsh', 'Pelshe', 'Peltser', 'Peltsman', 'Pelyushenko', \"Pen'Kovsky\", 'Pen', 'Pendik', 'Pendyuhov', 'Pendyurin', 'Penev', 'Penkin', 'Penkov', 'Penkovsky', 'Pensky', 'Pentin', 'Pentsak', 'Penyaev', 'Penzin', 'Pepelyaev', 'Peresada', 'Persov', 'Petlenko', 'Petrov', 'Petsyk', 'Petsyuha', 'Pieha', 'Pietsuh', 'Piffer', 'Piradov', 'Pirashkov', 'Pirin', 'Pirogov', 'Pirojenko', 'Pirojkov', 'Pirozhenko', 'Pirozhkov', 'Pirsky', 'Pirtskhalava', 'Piruev', 'Pirumov', 'Pirushkin', 'Piruzyan', 'Pirzadyan', 'Piskarenkov', 'Piskarev', 'Pisklov', 'Piskoppel', 'Piskorsky', 'Piskotin', 'Piskovoy', 'Piskulov', 'Piskun', 'Piskunov', 'Piskus', 'Pismanik', 'Pismenny', 'Pismensky', 'Pismichenko', 'Pistolkors', 'Pitaevsky', 'Pitatelev', 'Pitel', 'Pitenin', 'Piterskih', 'Piterskikh', 'Pitersky', 'Pitkevich', 'Pitomets', 'Pituhin', 'Pitukhin', 'Piunov', 'Plichko', 'Pliev', 'Pligin', 'Plihin', 'Plikhin', 'Plimak', 'Pliner', 'Plis', 'Plisetsky', 'Pliska', 'Pliskanovsky', 'Plisov', 'Pliss', 'Plitman', 'Plotnicky', 'Plotnitsky', 'Pochechikin', 'Pochekin', 'Pocheshev', 'Pochevalov', 'Pochinkov', 'Pochinkovsky', 'Pochinok', 'Pochinsky', 'Pochitalin', 'Pochivalov', 'Pochkaev', 'Pochkailo', 'Pochkin', 'Pochkunov', 'Pochtarev', 'Pochtennyh', 'Pochuev', 'Pochupailov', 'Podolinsky', 'Podsevalov', 'Podshibihin', 'Podshibikhin', 'Podshivalov', 'Podsizertsev', 'Podstavka', 'Podsvirov', 'Podsyadlo', 'Pogosov', 'Pogosyan', 'Pohilchuk', 'Pohilenko', 'Pohilevich', 'Pohilko', 'Pohis', 'Pohitonov', 'Pohlebaev', 'Pohlebkin', \"Pohmel'Nyh\", 'Pohmelkin', 'Pohodeev', 'Pohodin', 'Pohodun', 'Pohojaev', 'Poholkov', 'Pohvisnev', 'Pohvoschev', 'Pokhilchuk', 'Pokhilenko', 'Pokhilevich', 'Pokhilko', 'Pokhis', 'Pokhitonov', 'Pokhlebaev', 'Pokhlebkin', \"Pokhmel'Nyh\", 'Pokhmelkin', 'Pokhodeev', 'Pokhodin', 'Pokhodun', 'Pokhojaev', 'Pokholkov', 'Pokhvisnev', 'Pokhvoschev', 'Polibin', 'Poliev', 'Polikanov', 'Polikarpov', 'Polikashkin', 'Polilov', 'Polivanov', 'Polivka', 'Polivkin', 'Polivoda', 'Ponafidin', 'Ponagushin', 'Ponarovsky', 'Ponasov', 'Ponedelkov', 'Ponedelnik', 'Ponidelko', 'Ponikarov', 'Ponikarovsky', 'Poninsky', 'Ponizov', 'Ponizovsky', 'Ponkratov', 'Ponomarenko', 'Ponomarev', 'Ponomarkov', 'Ponosov', 'Pontekorvo', 'Pontovich', 'Pontryagin', 'Pontyushenko', 'Ponurovsky', 'Ponyatkov', 'Ponyatovsky', 'Poogelman', 'Por', 'PoraiKoshits', 'Poret', 'Poretsky', 'Poretzky', 'Porfiriev', 'Porfirov', 'Porhun', 'Porhunov', 'Porkhun', 'Porkhunov', 'Porodnya', 'Poroh', 'Porohin', 'Porohnya', 'Porohov', 'Porohovschikov', 'Porokh', 'Porokhin', 'Porokhnya', 'Porokhov', 'Porokhovschikov', 'Porosenkov', 'Poroshin', 'Poroskov', 'Porosyuk', 'Poroykov', 'Porshenkov', 'Porshnev', 'Portnenko', 'Portnikov', 'Portnov', 'Portnoy', 'Portnyagin', 'Portnyakov', 'Portsevsky', 'Portsienko', 'Portugalsky', 'Portyanik', 'Portyankin', 'Portyanko', 'Portyansky', 'Porublev', 'Porus', 'Porva', 'Porval', 'Poryadin', 'Poryvaev', 'Poryvay', 'Poshehonov', 'Poshekhonov', 'Poshevnev', 'Poshibalov', 'Poshiklov', 'Poshlyakov', 'Poshumensky', 'Poshutilin', 'Postemsky', 'Postnikov', 'Potseiko', 'Potseluev', 'Potsepkin', 'Potsyapun', 'Poyarkov', 'Poyasnik', 'Pribylov', 'Pribylovsky', 'Pribylsky', 'Pribytkov', 'Pridannikov', 'Pridchenko', 'Pridvorov', 'Pridybailo', 'Priemyhov', 'Priemykhov', 'Priezjaev', 'Prigara', 'Prigarin', 'Prigoda', 'Prigojin', 'Prigojy', 'Prigorodov', 'Prigorovsky', 'Prigov', 'Prigozhin', 'Prigozhy', 'Priimkov', 'Prik', 'Prikazchikov', 'Priklonsky', 'Prikupets', 'Privalihin', 'Privalikhin', 'Privalov', 'Privorotsky', 'Priymak', 'Prokofiev', 'Prokoshev', 'Prokoshin', 'Prokoshkin', 'Prokudin', 'Prokuronov', 'Prokurorov', 'Prolubnikov', 'Promyslov', 'Prygoda', 'Puscharovsky', 'Puschin', 'Pushkov', 'Pyankov', 'Pyankovsky', 'Pyanochenko', 'Pyanov', 'Pyavchenko', 'Pyavko', 'Pyhov', 'Pyhteev', 'Pyhtin', 'Pyjev', 'Pyjiev', 'Pyjikov', 'Pyjov', 'Pyl', 'Pylev', 'Pylin', 'Pylnev', 'Pylyaev', 'Pypin', 'Pyrchenko', 'Pyrchenkov', 'Pyriev', 'Pyrikov', 'Pyrin', 'Pyrkov', 'Pyrlin', 'Pyschev', 'Pyshin', 'Pyshkin', 'Pyslar', 'Pytalev', 'Pytel', 'Pytov', 'Pytsky', 'Rahalsky', 'Rahamimov', 'Rahil', 'Rahimbaev', 'Rahimov', 'Rahletsky', 'Rahletzky', 'Rahlevsky', 'Rahlin', 'Rahmail', 'Rahmanin', 'Rahmaninov', 'Rahmanov', 'Rahmatulin', 'Rahmatullin', 'Rahmetov', 'Rahmilovich', 'Rahov', 'Rahvalov', 'Raich', 'Raifeld', 'Raifikesht', 'Raih', 'Raihelgauz', 'Raihelson', 'Raihert', 'Raihlin', 'Raihman', 'Raikevich', 'Raikh', 'Raikhelgauz', 'Raikhelson', 'Raikhert', 'Raikhlin', 'Raikhman', 'Raikin', 'Raikov', 'Raikovsky', 'Raimanov', 'Raimov', 'Rainbagin', 'Rainov', 'Raisky', 'Raiter', 'Raitses', 'Raitsin', 'Raizer', 'Raizman', 'Rakhalsky', 'Rakhamimov', 'Rakhil', 'Rakhimbaev', 'Rakhimov', 'Rakhletsky', 'Rakhletzky', 'Rakhlevsky', 'Rakhlin', 'Rakhmail', 'Rakhmanin', 'Rakhmaninov', 'Rakhmanov', 'Rakhmatulin', 'Rakhmatullin', 'Rakhmetov', 'Rakhmilovich', 'Rakhov', 'Rakhvalov', 'Rapota', 'Razygrin', 'Rebinder', 'Rehbinder', 'Rekemchuk', 'Rekitar', 'Rekke', 'Reks', 'Rekshinsky', 'Rekun', 'Rekunkov', 'Rekunov', 'Reles', 'Remaev', 'Rembeza', 'Remchukov', 'Remenny', 'Rementsov', 'Remeslo', 'Remez', 'Remezentsev', 'Remezov', 'Remih', 'Remikh', 'Remin', 'Remishevsky', 'Remizov', 'Remmer', 'Remmert', 'Remnev', 'Rempel', 'Rempler', 'Remyannikov', \"Ren'Kas\", 'Renard', 'Rendino', 'Rengarten', 'Renkas', 'Renkevich', 'Renne', 'Rennenkampf', 'Renov', 'Renovants', 'Renskov', 'Rents', 'Renzyaev', 'Ribakov', 'Ribopier', 'Richardson', 'Richman', 'Richter', 'Rifkind', 'Riga', 'Rigert', 'Rigin', 'Rihman', 'Rihter', 'Rikhman', 'Rikhter', 'Rishitnik', 'Rivel', 'Riverov', 'Rivkin', 'Rivkind', 'Rivman', 'Rjanitsin', 'Rjanov', 'Rjavin', 'Rjavinsky', 'Rjeshevsky', 'Rjeshotarsky', 'Rjeussky', 'Rjevsky', 'Robakidze', 'Robkanov', 'Robustov', 'Rochegov', 'Rochev', 'Rogachev', 'Rogachevsky', 'Rogal', 'Rogalev', 'Rogalnikov', 'Roganov', 'Roganovich', 'Rogashkov', 'Rogatkin', 'Rogatko', 'Rogatsky', 'Rohatsevich', 'Rohin', 'Rohlin', 'Rohmanov', 'Rohmistrov', 'Rokhatsevich', 'Rokhin', 'Rokhlin', 'Rokhmanov', 'Rokhmistrov', 'Rosenbloom', 'Rotai', 'Rotar', 'Rotaru', 'Rotast', 'Rotenberg', 'Rotermel', 'Rotgang', 'Rotin', 'Rotmistrov', 'Rotov', 'Rotshild', 'Rotshtein', 'Rott', 'Routiyainen', 'Rovbel', 'Rovensky', 'Rovinsky', 'Rovkov', 'Rovkovsky', 'Rovner', 'Rovnev', 'Rovnin', 'Rovnyansky', 'Rozenbloom', 'Rozenblum', 'Ruhimovich', 'Ruhledev', 'Ruhlin', 'Ruhlov', 'Ruhlyada', 'Ruhlyadko', 'Ruhtoev', 'Rujenkov', 'Rujentsov', 'Rujilo', 'Rujitsky', 'Rujje', 'Rujnikov', 'Rukhimovich', 'Rukhledev', 'Rukhlin', 'Rukhlov', 'Rukhlyada', 'Rukhlyadko', 'Rukhtoev', 'Ruslanov', 'Rusov', 'Russkih', 'Russkikh', 'Russkin', 'Russov', 'Rustamov', 'Rustikov', 'Rusu', 'Rusyaev', 'Rutberg', 'Rutenburg', 'Rutkevich', 'Rutkovsky', 'Rutman', 'Ruts', 'Rutshtein', 'Ruzaev', 'Ruzaikin', 'Ruzakov', 'Ruzankin', 'Ruzanov', 'Ruzavin', 'Ruzhenkov', 'Ruzhentsov', 'Ruzhilo', 'Ruzhitsky', 'Ruzhnikov', 'Ruzimatov', 'Ruzin', 'Ruzsky', 'Ryjak', 'Ryjakov', 'Ryjankov', 'Ryjanov', 'Ryjenko', 'Ryjenkov', 'Ryjev', 'Ryjih', 'Ryjik', 'Ryjikh', 'Ryjikov', 'Ryjkin', 'Ryjko', 'Ryjkov', 'Ryjkovsky', 'Ryjov', 'Ryjy', 'Ryzhak', 'Ryzhakov', 'Ryzhankov', 'Ryzhanov', 'Ryzhenko', 'Ryzhenkov', 'Ryzhev', 'Ryzhey', 'Ryzhih', 'Ryzhik', 'Ryzhikh', 'Ryzhikov', 'Ryzhkin', 'Ryzhko', 'Ryzhkov', 'Ryzhkovsky', 'Ryzhov', 'Ryzhy', 'Rzhanitsin', 'Rzhanov', 'Rzhavin', 'Rzhavinsky', 'Rzheshevsky', 'Rzheshotarsky', 'Rzheussky', 'Rzhevsky', 'Researcher', 'Researcher', 'Researcher', 'Researcher', 'Researcher', 'Researcher', 'Researcher', 'Researcher', 'Researcher', 'Sai', 'Saidbaev', 'Saidulaev', 'Saidullaev', 'Saifitdinov', 'Saifulaev', 'Saifulin', 'Saifullin', 'Saifulov', 'Saifutdinov', 'Saigin', 'Saigutin', 'Saihanov', 'Saikin', 'Saiko', 'Saikov', 'Sailotov', 'Saitanov', 'Saitiev', 'Saitov', 'Sak', 'Saker', 'Sakiev', 'Sakin', 'Sakiyaev', 'Sakov', 'Sakovich', 'Saks', 'Saksagansky', 'Sakson', 'Saksonov', 'Sakulin', 'Sakun', 'Sapojinsky', 'Sapojnikov', 'Sapon', 'Savinov', 'Scetintsev', 'Scheblykin', 'Schebrov', 'Schepansky', 'Schepatov', 'Schepelev', 'Schepetkov', 'Schepin', 'Schepiorko', 'Schepitsky', 'Schepkin', 'Schepotkin', 'Schepotyev', 'Schepovskih', 'Schetchikov', 'Schetinin', 'Schetinkin', 'Schevaev', 'Schevelev', 'Schirovsky', 'Schitov', 'Schits', 'Schitsyn', 'Schkrebitko', 'Schugorev', 'Sen', 'Senkov', 'Senkovsky', 'Senyagin', 'Senyakovich', 'Senyavin', 'Senyukov', 'Sepelev', 'Sepp', 'Serchuk', 'Serechenko', 'Sereda', 'Seredavin', 'Seredin', 'Seredinin', 'Seredkin', 'Serednitsky', 'Serednyakov', 'Seredohov', 'Seredov', 'Seredyuk', 'Serejin', 'Serejkin', 'Serejnikov', 'Serjantov', 'Sert', 'Shadhan', 'Shadkhan', 'Shadsky', 'Shadura', 'Shadursky', 'Shadyev', 'Shaer', 'Shaev', 'Shaevich', 'Shah', 'ShahNazaroff', 'Shahanov', 'Shahansky', 'Shahbanov', 'Shahbazov', 'Shahbazyan', 'Shahgildyan', 'Shahin', 'Shahkalamyan', 'Shahlamov', 'Shahlevich', 'Shahlin', 'Shahmaev', 'Shahmagon', 'Shahmametiev', 'Shahmatov', 'Shahmin', 'Shahnarovich', 'Shahnazarov', 'Shahnazaryan', 'Shahnazaryants', 'Shahno', 'Shahnovich', 'Shahnovsky', 'Shahorin', 'Shahov', 'Shahovskoi', 'Shahovsky', 'Shahpaev', 'Shahrai', 'Shahtin', 'Shahtmeister', 'Shahurin', 'Shahurov', 'Shahvorostov', 'Shaiahmetov', 'Shaidakov', 'Shaidarov', 'Shaidenko', 'Shaidullin', 'Shaidurov', 'Shaiewich', 'Shaihmurzin', 'Shaihutdinov', 'Shaikevich', 'Shaikhmurzin', 'Shaikhutdinov', 'Shaikin', 'Shaikov', 'Shaimardanov', 'Shaimiev', 'Shain', 'Shain', 'Shainsky', 'Shainurov', 'Shaitan', 'Shaitanov', 'Shakh', 'Shakhanov', 'Shakhansky', 'Shakhbanov', 'Shakhbazov', 'Shakhbazyan', 'Shakhgildyan', 'Shakhin', 'Shakhkalamyan', 'Shakhlamov', 'Shakhlevich', 'Shakhlin', 'Shakhmaev', 'Shakhmagon', 'Shakhmametiev', 'Shakhmatov', 'Shakhmin', 'Shakhnarovich', 'Shakhnazarov', 'Shakhnazaryan', 'Shakhnazaryants', 'Shakhno', 'Shakhnovich', 'Shakhnovsky', 'Shakhorin', 'Shakhov', 'Shakhovskoi', 'Shakhovsky', 'Shakhpaev', 'Shakhrai', 'Shakhtin', 'Shakhtmeister', 'Shakhurin', 'Shakhurov', 'Shakhvorostov', 'Shalabanov', 'Shalaev', 'Shalagaev', 'Shalagin', 'Shalaginov', 'Shalahonov', 'Shalai', 'Shalamanov', 'Shalamov', 'Shalashilin', 'Shalashov', 'Shalavin', 'Shaldenkov', 'Shaldybin', 'Shalenkov', 'Shalganov', 'Shalgin', 'Shalikov', 'Shalimo', 'Shalimov', 'Shalin', 'Shalitkin', 'Shalko', 'Shalmanov', 'Shalnev', 'Shalnikov', 'Shalnov', 'Shalonin', 'Shalov', 'Shalunov', 'Shalyapin', 'Shalygin', 'Shalyto', 'Shalyugin', 'Shamaev', 'Shamahov', 'Shamakhov', 'Shamakin', 'Shamanaev', 'Shamanin', 'Shamankov', 'Shamanov', 'Shamardin', 'Shamarin', 'Shamaro', 'Shambazov', 'Shamburkin', 'Shamgulov', 'Shamilyan', 'Shamin', 'Shamkov', 'Shammazov', 'Shamonin', 'Shamota', 'Shamov', 'Shamraev', 'Shamrai', 'Shamro', 'Shamrun', 'Shamsetdinov', 'Shamshev', 'Shamshin', 'Shamshurin', 'Shamshurov', 'Shamsiev', 'Shamsudinov', 'Shamsutdinov', 'Shamurin', 'Shamuzafarov', \"Shan'Gin\", 'Shanaev', 'Shananykin', 'Shanaurin', 'Shangareev', 'Shangin', 'Shazzo', 'Shel', 'Shelting', 'Sheludchenko', 'Sheludko', 'Sheludshev', 'Sheludyakov', 'Sheluhin', 'Sheluntsov', 'Shelyag', 'Shelyakin', 'Shelyuh', 'Shen', 'Shenaev', 'Shenagin', 'Shendalev', 'Shendel', 'Shenderovich', 'Shendrik', 'Shenfeld', 'Shenfeldt', 'Shenfer', 'Shengeliya', 'Shening', 'Shenk', 'Shenkarev', 'Shenker', 'Shenkovets', 'Shennikov', 'Shenshin', 'Shentel', 'Shenterev', 'Shenyavsky', 'Sherman', 'Shevtsov', 'Shinkaruk', 'Shiraev', 'Shirdov', 'Shirikov', 'Shirin', 'Shirinkin', 'ShirinskyShikhmatov', 'Shirinyan', 'Shirinyants', 'Shirko', 'Shirkov', 'Shirkovets', 'Shirle', 'Shirmankin', 'Shirmanov', 'Shirnin', 'Shirvindt', 'Tal', 'Talagaev', 'Talalaev', 'Talalai', 'Talalihin', 'Talalikhin', 'Talalykin', 'Talambum', 'Talankin', 'Talanov', 'Talapa', 'Talashkevich', 'Talbaev', 'Talberg', 'Taldykin', 'Talian', 'Taliev', 'Talikov', 'Talipov', 'Talitskih', 'Talitskikh', 'Talitsky', 'Talkov', 'Talkovsky', 'Tallat', 'Taller', 'Talmi', 'Talmin', 'Talmud', 'Talov', 'Taloverov', 'Talovirko', 'Talpin', 'Talroze', 'Taltangov', 'Taltskov', 'Talvik', 'Talvir', 'Talyantsev', 'Talygin', 'Talypin', 'Talyzin', 'Talzi', 'Tamaev', 'Tamanin', 'Tamanyan', 'Tamarchenko', 'Taube', 'Tchaadaev', 'Tchaganov', 'Tchagin', 'Tchajegov', 'Tchajengin', 'Tchaldymov', 'Tchaleev', 'Tchalov', 'Tchalovsky', 'Tchaly', 'Tchalyh', 'Tchalykh', 'Tchalyshev', 'Tchamov', 'Tchamushev', 'Tchanchikov', 'Tchangli', 'Tchanov', 'Tchanturia', 'Tchanyshev', 'Tchapko', 'Tcharkin', 'Tcharnetsky', 'Tcharnolusky', 'Tcharoshnikov', 'Tchartorijsky', 'Tchartorizhsky', 'Tcharuhin', 'Tcharukhin', 'Tcharushin', 'Tcharushkin', 'Tcharykov', 'Tchazov', 'Tcheh', 'Tchehanov', 'Tcheharin', 'Tchehladze', 'Tchehlakovsky', 'Tchehluev', 'Tchehoev', 'Tchehonin', 'Tchehov', 'Tchehovich', 'Tchehovsky', 'Tchekachev', 'Tchekh', 'Tchekhanov', 'Tchekharin', 'Tchekhladze', 'Tchekhlakovsky', 'Tchekhluev', 'Tchekhoev', 'Tchekhonin', 'Tchekhov', 'Tchekhovich', 'Tchekhovsky', 'Tchekin', 'Tchekis', 'Tchekletsov', 'Tcheklyanov', 'Tchekmarev', 'Tchekmasov', 'Tchekmenev', 'Tchekmezov', 'Tchekoev', 'Tchekomasov', 'Tchekonov', 'Tchekvin', 'Tetekin', 'Tetelmin', 'Teterev', 'Teterichev', 'Teterin', 'Teterkin', 'Teteruk', 'Tets', 'Tettenborn', 'Teumin', 'Teunaev', 'Tihankin', 'Tihenko', 'Tihin', 'Tihmenev', 'Tihobaev', 'Tihobrazov', 'Tihodeev', 'Tihomirnov', 'Tihomirov', 'Tihonchuk', 'Tihonenko', 'Tihonin', 'Tihonitsky', 'Tihonkih', 'Tihonov', 'Tihonravov', 'Tihotsky', 'Tihov', 'Tihvinsky', 'Tihy', 'Tikhankin', 'Tikhenko', 'Tikhin', 'Tikhmenev', 'Tikhobaev', 'Tikhobrazov', 'Tikhodeev', 'Tikhomirnov', 'Tikhomirov', 'Tikhonchuk', 'Tikhonenko', 'Tikhonin', 'Tikhonitsky', 'Tikhonkih', 'Tikhonov', 'Tikhonravov', 'Tikhotsky', 'Tikhov', 'Tikhvinsky', 'Tikhy', 'Timaev', 'Timakin', 'Timakov', 'Timarevsky', 'Timashev', 'Timashov', 'Timashuk', 'Time', 'Timerbaev', 'Timerbulatov', 'Timerhanov', 'Timin', 'Timirev', 'Timirgazeev', 'Timiryazev', 'Timiskov', 'Timkachev', 'Timkaev', 'Timkin', 'Timkov', 'Timlin', 'Timonin', 'Timonkin', 'Timonnikov', 'Timonov', 'Tkachuk', 'Tobias', 'Tobiash', 'Tobolev', 'Tobolin', 'Tobolkin', 'Tobulinsky', 'Todorov', 'Todorovsky', 'Todorsky', 'Todriya', 'Togoev', 'Togulev', 'Togunov', 'Toguzov', 'Toichkin', 'Toidze', 'Toien', 'Toka', 'Tokaev', 'Tokar', 'Tokarchuk', 'Tokarenko', 'Tokarev', 'Tokarovsky', 'Tokarsky', 'Tokin', 'Tokmachev', 'Tokmagambetov', 'Tokmakov', 'Tokombaev', 'Tokovoi', 'Toktahunov', 'Toktakhunov', 'Tokunov', 'Tolboev', 'Tolbuhin', 'Tolvinsky', 'Tomaev', 'Toman', 'Tomanov', 'Tomas', 'Tomashenko', 'Tomashev', 'Tomashevsky', 'Tomashov', 'Tomashpolsky', 'Tomashuk', 'Tomeev', 'Tomjevsky', 'Tovarovsky', 'Tovbich', 'Tovbin', 'Tovkan', 'Tovma', 'Tovstoles', 'Tovstolit', 'Tovstolujsky', 'Tovstonogov', 'Tovstuha', 'Tovstukha', 'Tovstyh', 'Tovstykh', 'Tovstyko', 'Tovuu', 'Troeglazov', 'Troekurov', 'Troepolsky', 'Troilin', 'Troinin', 'Troinitsky', 'Troitsky', 'Tromonin', 'Tron', 'Tronin', 'Tronko', 'Tronye', 'Tropin', 'Tropinin', 'Tropinov', 'Tropinsky', 'Tropko', 'Tropp', 'Truchanow', 'Truhachev', 'Truhanov', 'Truhanovsky', 'Truhin', 'Truhnin', 'Trukhachev', 'Trukhanov', 'Trukhanovsky', 'Trukhin', 'Trukhnin', 'Tsagadaev', 'Tsagareli', 'Tsagolov', 'Tsagunov', 'Tsah', 'Tsahilov', 'Tsai', 'Tsaizer', 'Tsakh', 'Tsakhilov', 'Tsakul', 'Tsakunov', 'Tsalaban', 'Tsaliev', 'Tsalikov', 'Tsalko', 'Tsallagov', 'Tsalyhin', 'Tsalykhin', 'Tsanava', 'Tsander', 'TsannKaySi', 'Tsapaev', 'Tsapelik', 'Tsapenko', 'Tsapin', 'Tsapko', 'Tsaplin', 'Tsaplinsky', 'Tsapov', 'Tsarakov', 'Tsaran', 'Tsaregorodtsev', 'Tsaregradsky', 'Tsarek', 'Tsarenko', 'Tsarenkov', 'Tsarev', 'Tsarevsky', 'Tsarik', 'Tsarikaev', 'Tsarkov', 'Tsarsky', 'Tsayukov', 'Tseboev', 'Tsebrikov', 'Tsederbaum', 'Tsegoev', 'Tsehanovich', 'Tsehansky', 'Tsehmistrenko', 'Tsei', 'Tseidler', 'Tseiger', 'Tseimen', 'Tseiner', 'Tseitlin', 'Tseizik', 'Tsekhanovich', 'Tsekhansky', 'Tsekhmistrenko', \"Tsel'Ko\", 'Tselibeev', 'Tselikov', 'Tselikovsky', 'Tselischev', 'Tselobenok', 'Tselovalnikov', 'Tselovalnov', 'Tseluiko', 'Tsenin', 'Tsenkovsky', 'Tsevlonsky', 'Tsevlovsky', 'Tsidilin', 'Tsidilkovsky', 'Tsigal', 'Tsigelnik', 'Tsigleev', 'Tsigler', 'Tsigra', 'Tsiolkovsky', 'Tsipushtanov', 'Tsiulev', 'Tsval', 'Tsvei', 'Tsveiba', 'Tsvelev', 'Tsvelihovsky', 'Tsvelikhovsky', 'Tsvelyuh', 'Tsvelyukh', 'Tsverkun', 'Tsvetaev', 'Tsvetkov', 'Tsvetnov', 'Tsvetov', 'Tsvibak', 'Tsvigun', 'Tsvilgnev', 'Tsvirko', 'Tsvylev', 'Tsyavlovsky', 'Tsyrba', 'Tsyrulik', 'Tsys', 'Tsytovich', 'Tsyurko', 'Tsyurupa', 'Tubelsky', 'Tubinov', 'Tubli', 'Tubolkin', 'Tuboltsev', 'Tubylov', 'Tudorovsky', 'Tueshev', 'Tuev', 'Tugaev', 'Tugai', 'Tuganaev', 'Tuganbaev', 'Tuganov', 'Tugarinov', 'Tugarov', 'Tugolukov', 'Tugov', 'Tugujekov', 'Tugushev', 'Tuguz', 'Tuikin', 'Tuikov', 'Tuinov', 'Tujikov', 'Tujilin', 'Tujilkin', 'Tukabaev', 'Tukmanov', 'Tuktarov', 'Tukumtsev', 'Tukvachinsky', 'Tulaev', 'Tulaikin', 'Tulaikov', 'Tulakov', 'Tulchinsky', 'Tulebaev', 'Tuleev', 'Tulikov', 'Tulin', 'Tulinov', 'Tulintsev', 'Tulkin', 'Tulnikov', 'Tulohonov', 'Tulov', 'Tultsev', 'Tulub', 'Tulubensky', 'Tulumbasov', 'Tulupov', 'Tulya', 'Tulyakov', 'Tumaev', 'Tumanov', 'Tumanovsky', 'Tumansky', 'Tumanyan', 'Tumarkin', 'Tumashev', 'Tumasiev', 'Tumbakov', 'Tumenov', 'Tumilovich', 'Tumin', 'Tumko', 'Tumolsky', 'Tumov', 'Tumunbayarov', 'Tundykov', 'Tuneev', 'Tunev', 'Tungusov', 'Tuniev', 'Tunik', 'Tunkin', 'Tunnikov', 'Tupalo', 'Tupihin', 'Tupikhin', 'Tupikin', 'Tupikov', 'Tupolev', 'Tuporshin', 'Tur', 'Turaev', 'Turanov', 'Turarov', 'Turashev', 'Turatbekov', 'Turbai', 'Turbanov', 'Turbin', 'Turchak', 'Turchaninov', 'Turchenko', 'Turchin', 'Turetskov', 'Turetsky', 'Turgenev', 'Turik', 'Turintsev', 'Turischev', 'Turiyansky', 'Turkestanov', 'Turkevich', 'Turkin', 'Turko', 'Turkov', 'Turkul', 'Turlak', 'Turlapov', 'Turlov', 'Turmanov', 'Turmilov', 'Turmov', 'Turno', 'Turov', 'Turoverov', 'Turovsky', 'Turovtsev', 'Turpaev', 'Turpyatko', 'Tursky', 'Tursunov', 'Turta', 'Turtsevich', 'Turtygin', 'Turubanov', 'Turuhin', 'Turukhin', 'Turulo', 'Turunov', 'Turupanov', 'Turushev', 'Turusin', 'Turusov', 'Turutin', 'Turyanov', 'Turyansky', 'Tuvin', 'Tuzin', 'Tuzov', 'Tzagadaev', 'Tzagareli', 'Tzagolov', 'Tzagunov', 'Tzah', 'Tzahilov', 'Tzai', 'Tzaizer', 'Tzakh', 'Tzakhilov', 'Tzakunov', 'Tzalaban', 'Tzaliev', 'Tzalikov', 'Tzalko', 'Tzallagov', 'Tzalyhin', 'Tzalykhin', 'Tzander', 'TzannKaySi', 'Tzapaev', 'Tzapelik', 'Tzapenko', 'Tzapin', 'Tzapko', 'Tzaplin', 'Tzaplinsky', 'Tzapov', 'Tzarakov', 'Tzaran', 'Tzaregorodtsev', 'Tzaregradsky', 'Tzarek', 'Tzarenko', 'Tzarenkov', 'Tzarev', 'Tzarevsky', 'Tzarik', 'Tzarikaev', 'Tzarkov', 'Tzarsky', 'Tzayukov', 'Tzeboev', 'Tzebrikov', 'Tzederbaum', 'Tzegoev', 'Tzehanovich', 'Tzehansky', 'Tzehmistrenko', 'Tzei', 'Tzeidler', 'Tzeiger', 'Tzeimen', 'Tzeiner', 'Tzeitlin', 'Tzeizik', 'Tzekhanovich', 'Tzekhansky', 'Tzekhmistrenko', \"Tzel'Ko\", 'Tzelibeev', 'Tzelikov', 'Tzelikovsky', 'Tzelischev', 'Tzelobenok', 'Tzelovalnikov', 'Tzelovalnov', 'Tzeluiko', 'Tzenin', 'Tzenkovsky', 'Tziolkovsky', 'Tzipushtanov', 'To The First Page', 'To The First Page', 'To The First Page', 'To The First Page', 'To The First Page', 'To The First Page', 'To The First Page', 'To The First Page', 'To The First Page', 'To The First Page', 'To The First Page', 'To The First Page', 'To The First Page', 'To The First Page', 'To The First Page', 'To The First Page', 'To The First Page', 'To The First Page', 'To The First Page', 'To The First Page', 'To The First Page', 'To The First Page', 'To The First Page', 'To The First Page', 'Uchaev', 'Uchaikin', 'Uchitel', 'Uchuev', 'Uchuvatkin', 'Uemlyanin', 'Uemov', 'Ufimkin', 'Ufimov', 'Ufimtsev', 'Uhabin', 'Uhanov', 'Uhin', 'Uhobotin', 'Uhov', 'Uhovsky', 'Uhtomsky', 'Ujentsev', 'Ujinov', 'Ujva', 'Ujvak', 'Ujvy', 'Ukhabin', 'Ukhanov', 'Ukhin', 'Ukhobotin', 'Ukhov', 'Ukhovsky', 'Ukhtomsky', 'Useev', 'Usenko', 'Usievich', 'Usik', 'Usikov', 'Usiskin', 'Uss', 'Ustenko', 'Ustilovsky', 'Ustimenko', 'Ustimkin', 'Ustimov', 'Ustimovich', 'Ustinchenko', 'Ustinkin', 'Ustinov', 'Ustinovich', 'Ustkachkintsev', 'Ustryalov', 'Ustvolsky', 'Ustyantsev', 'Ustynyuk', 'Ustyugov', 'Ustyujanin', 'Ustyuzhanin', 'Usynin', 'Usyskin', 'Utkin', 'Utochkin', 'Utoplov', 'Utrobin', 'Utropov', 'Utugunov', 'Utulov', 'Utyaganov', 'Utyashev', 'Utyugov', 'Uzakov', 'Uzbekov', 'Uzdenov', 'Uzenya', 'Uzhentsev', 'Uzhinov', 'Uzhva', 'Uzhvak', 'Uzhvy', 'Uzky', 'Uzlov', 'Uzov', 'Uzunov', \"V'Unnikov\", \"V'Yugin\", \"V'Yuhin\", \"V'Yun\", \"V'Yunkov\", \"V'Yunov\", \"V'Yurkov\", 'Vaarandi', 'Vabbe', 'Vadbolski', 'Vadbolsky', 'Vadeev', 'Vadin', 'Vadkovski', 'Vadkovsky', 'Vadovski', 'Vadovsky', 'Vaganoff', 'Vaganov', 'Vagapoff', 'Vagapov', 'Vagarshyan', 'Vagin', 'Vaginoff', 'Vaginov', 'Vagizoff', 'Vagizov', 'Vagner', 'Vagnoryus', 'Vagnyuk', 'Vagramenko', 'Vaidanovich', 'Vaidanovitch', 'Vaigant', 'Vaikin', 'Vaikule', 'Vaiman', 'Vaimer', 'Vainberg', 'Vainberger', 'Vaindrah', 'Vaindrakh', 'Vainer', 'Vainonen', 'Vainrub', 'Vainshtein', 'Vainshtok', 'Vainson', 'Vainunas', 'Vaipan', 'Vaisberg', 'Vaiserman', 'Vaiserman', 'Vaisero', 'Vaisfeld', 'Vaisman', 'Vaisner', 'Vaistuh', 'Vaitsehovsky', 'Vaitsekhovsky', 'Vajenin', 'Vajnichy', 'Vajorov', 'Vajov', 'Vakanya', 'Vakar', 'Vakichev', 'Vakilov', 'Vakitchev', 'Vakker', 'Vaks', 'Vaksberg', 'Vaksel', 'Vakser', 'Vaksman', 'Vakulenchuk', 'Vakulenko', 'Vakulentchuk', 'Vakulich', 'Vakulin', 'Vakulitch', 'Vakulko', 'Vakulov', 'Vakulovski', 'Vakulovsky', 'Vakulski', 'Vakulsky', 'Val', 'Val', 'Valaev', 'Valberh', 'Valchikovski', 'Valchikovsky', 'Valchitski', 'Valchitsky', 'Valchuk', 'Valdaev', 'Valden', 'Valdenberg', 'Valdes', 'Valdin', 'Valdman', 'Valednitsky', 'Valeev', 'Valendik', 'Valentei', 'Valentik', 'Valentinov', 'Valentinovich', 'Valentinovitch', 'Valentsev', 'Valetov', 'Valetto', 'Valev', 'Valevin', 'Valevsky', 'Valiahmetov', 'Valiakhmetov', 'Valiev', 'Valihanov', 'Valikhanov', 'Valikov', 'Valishin', 'Valitov', 'Valitsky', 'Valiullin', 'Valk', 'Valkevich', 'Valkevitch', 'Valkin', 'Valko', 'Valkov', 'Valkovoy', 'Vallah', 'Vallakh', 'Vallander', 'Valmasov', 'Valmus', 'Valnev', 'Valov', 'Valovoi', 'Valshin', 'Valtchikovski', 'Valtchikovsky', 'Valtchitski', 'Valtchitsky', 'Valtchuk', 'Valter', 'Valters', 'Valts', 'Valtuh', 'Valuev', 'Valy', 'Valyaev', 'Valyanov', 'Valyavski', 'Valyavsky', 'Valyushkin', 'Valyushkis', 'Vampilov', 'VanPuteren', 'Vanag', 'Vanchagov', 'Vanchugov', 'Vanchurov', 'Vandalkovsky', 'Vandyshev', 'Vanechkin', 'Vanetchkin', 'Vangengeim', 'Vanichev', 'Vaniev', 'Vanifatiev', 'Vanin', 'Vanitchev', 'Vanja', 'Vanjula', 'Vanke', 'Vankov', 'Vannikov', 'Vannovsky', 'Vansheidt', 'Vanshenkin', 'Vanshtein', 'Vanslov', 'Vansovich', 'Vanstein', 'Vantchagov', 'Vantchugov', 'Vantchurov', 'Vanteev', 'Vantenkov', 'Vantorin', 'Vanyashin', 'Vanyat', 'Vanykin', 'Vanyukov', 'Vanyushin', 'Vanzha', 'Vanzhula', 'Varaev', 'Varakin', 'Varaksin', 'Varakuta', 'Vasianov', 'Vasiliev', 'Vasilievsky', 'Vasin', 'Vasindin', 'Vaskin', 'Vaskov', 'Vaskovsky', 'Vaskovtsev', 'Vasserman', 'Vassoevich', 'Vasyaev', 'Vasyagin', 'Vasyakin', 'Vasyankin', 'Vasyanovich', 'Vasyatkin', 'Vasyuchkov', 'Vasyuk', 'Vasyukevich', 'Vasyukov', 'Vasyurin', 'Vasyutin', 'Vasyutinsky', 'Vasyutsky', 'Vasyutynsky', 'Vavakin', 'Vaver', 'Vavich', 'Vavilin', 'Vavilov', 'Vavkin', 'Vavra', 'Vavravsky', 'Vavrovsky', 'Vavulin', 'Vazhenin', 'Vazhnichy', 'Vazhorov', 'Vazhov', 'Vazyaev', 'Vazyulin', 'Vedeneev', 'Vedenin', 'Vedenisov', 'Vedenkin', 'Vedenkov', 'Vedenov', 'Vedensky', 'Vedenyapin', 'Vederman', 'Vedernikov', 'Vedev', 'Vedihov', 'Vedikhov', 'Vedinyapin', 'Vedischev', 'Vedrinsky', 'Vedrov', 'Vedyaev', 'Vedyakin', 'Vedyashkin', 'Vedyaskin', 'Veledeev', 'Veletsky', 'Velgus', 'Velichansky', 'Velichinsky', 'Velichkin', 'Velichko', 'Velichkovsky', 'Velidov', 'Veligjanin', 'Veligodsky', 'Veligorsky', 'Veligura', 'Velihov', 'Velikanov', 'Velikhov', 'Velikih', 'Velikin', 'Velikopolsky', 'Velikorechanin', 'Velikorechin', 'Velikorodny', 'Velikorussov', 'Velikov', 'Velikson', 'Veliky', 'Velio', 'Vellansky', 'Veller', 'Velli', 'Velmukin', 'Velovsky', 'Velsh', 'Velsovsky', 'Veltischev', 'Veltistov', 'Veltman', 'Velts', 'Velyaminov', 'Velyashev', 'Veprentsev', 'Veprentsov', 'Veprev', 'Veprik', 'Vepryushkin', 'Verba', 'Verbenko', 'Verber', 'Verbin', 'Verbitsky', 'Verpeto', 'Verre', 'Versan', 'Verstakov', 'Verstin', 'Verstovsky', 'Vertegel', 'Vertelko', 'Vertiev', 'Vertinsky', 'Vertiprahov', 'Vertkin', 'Vertkov', 'Vertman', 'Vertogradov', 'Vertogradsky', 'Vertyankin', 'Verushkin', 'Veselago', 'Veselenko', 'Veseliev', 'Veselitsky', 'Veselitsky', 'Veselkin', 'Veselkov', 'Veselov', 'Veselovsky', 'Vesich', 'Vesin', 'Vesner', 'Vesnik', 'Vesnin', 'Vesninov', 'Vesnitsky', 'Vesnovsky', 'Vestfrid', 'Vestman', 'Vestov', 'Vielgorsky', 'Vihansky', 'Viharev', 'Vihert', 'Vihirev', 'Vihlyaev', 'Vihnovich', 'Vihorev', 'Vihrev', 'Vihrov', 'Vijonsky', 'Vikhansky', 'Vikharev', 'Vikhert', 'Vikhirev', 'Vikhlyaev', 'Vikhnovich', 'Vikhorev', 'Vikhrev', 'Vikhrov', 'Vikuliev', 'Vikulin', 'Vikulov', 'Vil', 'Vilbreht', 'Vilbushevich', 'Vilchek', 'Vilchepolsky', 'Vilchinsky', 'Vilchitsky', 'Vilchur', 'Vild', 'Vildanov', 'Vilde', 'Vilenchik', 'Vilensky', 'Vilesov', 'Vilgelminin', 'Viliev', 'Vilimaa', 'Vilin', 'Vilinbahov', 'Vilke', 'Vilken', 'Vilkitsky', 'Vilkov', 'Vilkovsky', 'Villamov', 'Ville', 'Villevalde', 'Villiam', 'Vilm', 'Vilmont', 'Vilonov', 'Vilson', 'Vilutis', 'Vilyamovsky', 'Vilyams', 'Vilyunas', 'Vinarov', 'Vinaver', 'Vinberg', 'Vinchevsky', 'Vinchi', 'Vinchugov', 'Vinding', 'Vindman', 'Viner', 'Vingilevsky', 'Vingovatov', 'Vingranovsky', 'Vinichenko', 'Vinidiktov', 'Vinitsky', 'Vinius', 'Vinkler', 'Vinnichenko', 'Vinnik', 'Vinnikov', 'Vinnitsky', 'Vins', 'Vinsgeim', 'Vinter', 'Vinterfeldt', 'Vintergalter', 'Vintikov', 'Vintov', 'Vinyarsky', 'Vipper', 'Virachev', 'Viranovsky', 'Virehovsky', 'Virekhovsky', 'Virenius', 'Virgasov', 'Virichev', 'Viridarsky', 'Virkovsky', 'Viron', 'Viroslavsky', 'Virvitsiotti', 'Viselov', 'Visilkin', 'Viskhanov', 'Viskov', 'Viskovatov', 'Vislobokov', 'Visloguzov', 'Visly', 'Visnap', 'Visnapu', 'Vispovatyh', 'Vispovatykh', 'Vistchinsky', 'Vistitsky', 'Vitmer', 'Vitorgan', 'Vitorsky', 'Vitoshkin', 'Vitoshnov', 'Vitov', 'Vitovoi', 'Vitram', 'Vitrik', 'Vitruk', 'Vitryansky', 'Vizhonsky', 'Vlasenko', 'Vlasenkov', 'Vlasevich', 'Vlasievsky', 'Volsky', 'Vorogushin', 'Voronichev', 'Voronihin', 'Voronikhin', 'Voronin', 'Vorotnikov', 'Vorotnikov', 'Vozdvijensky', 'Vozgilevich', 'Vozgov', 'Vozianov', 'Vozilov', 'Vozlyubleny', 'Vozmitel', 'Voznesensky', 'Voznitsin', 'Voznov', 'Voznyak', 'Vozovik', 'Vyacheslavov', 'Vyahirev', 'Vyakhirev', 'Vyakkerev', 'Vyalba', 'Vyalbe', 'Vyalko', 'Vyalkov', 'Vyalov', 'Vyaltsev', 'Vyaltsin', 'Vyalushkin', 'Vyalyh', 'Vyalykh', 'Vyatkin', 'Vyatkovsky', 'Vyazalov', 'Vyazankin', 'Vyazikov', 'Vyazmikin', 'Vyazmin', 'Vyazmitinov', 'Vyaznikov', 'Vyaznikovtsev', 'Vyazov', 'Vyazovchenko', 'Vyazovoy', 'Vybornov', 'Vyborny', 'Vyborov', 'Vydrin', 'Vyglovsky', 'Vygodin', 'Vygodovsky', 'Vygotsky', 'Vygovsky', 'Vygran', 'Vyguzov', 'Vyhodtsev', 'Vyjletsov', 'Vyjutovich', 'Vykhodtsev', 'Vylegjanin', 'Vylko', 'Vylkov', 'Vylomov', 'Vyltsan', 'Vymenets', 'Vypirailenko', 'Vypolzov', 'Vyrenkov', 'Vyrodkov', 'Vyrodov', 'Vyrubov', 'Vyrupaev', 'Vyschepan', 'Vyschipan', 'Vyshegorodtsev', 'Vyshemirsky', 'Vysheslavtsev', 'Vyshinsky', 'Vyshkovsky', 'Vyshkvarko', 'Vyshnegradsky', 'Vyskrebtsov', 'Vyslouh', 'Vysochin', 'Vysokin', 'Vysokinsky', 'Vysokosov', 'Vysokov', 'Vysotskih', 'Vysotsky', 'Vystavkin', 'Vyucheisky', 'Vyuchnov', 'Vyvodtsev', 'Vyzhletsov', 'Vyzhutovich', 'Yablochkin', 'Yablochkov', 'Yablokov', 'Yablonovsky', 'Yablonowsky', 'Yablonsky', 'Yablontsev', 'Yablontzev', 'Yablovsky', 'Yabrov', 'Yaburov', 'Yachevsky', 'Yachikov', 'Yachmenev', 'Yachmenkov', 'Yachmentsev', 'Yachnik', 'Yadne', 'Yadov', 'Yadrennikov', 'Yadrihinsky', 'Yadrikhinsky', 'Yadrov', 'Yadryshnikov', 'Yafaev', 'Yafarov', 'Yafrakov', 'Yagafarov', 'Yaganov', 'Yagello', 'Yageman', 'Yagfarov', 'Yagich', 'Yaglintsev', 'Yagoda', 'Yagodin', 'Yagodinsky', 'Yagodnikov', 'Yagofarov', 'Yagovenko', 'Yagubov', 'Yagubsky', 'Yagudin', 'Yagujinsky', 'Yagunov', 'Yagupa', 'Yagupets', 'Yagutkin', 'Yagutyan', 'Yaguzhinsky', 'Yagya', 'Yahaev', 'Yahimovich', 'Yahin', 'Yahlakov', 'Yahnenko', 'Yahno', 'Yahnyuk', 'Yahontov', 'Yahot', 'Yaikbaev', 'Yaimov', 'Yaitsky', 'Yakhaev', 'Yakhimovich', 'Yakhin', 'Yakhlakov', 'Yakhnenko', 'Yakhno', 'Yakhnyuk', 'Yakhontov', 'Yakhot', 'Yakimchik', 'Yakimchuk', 'Yakimenko', 'Yakimets', 'Yakimov', 'Yakimovich', 'Yakimovsky', 'Yakimychev', 'Yakir', 'Yaklashkin', 'Yakob', 'Yakobi', 'Yakobson', 'Yakon', 'Yakov', 'Yakovchenko', 'Yakovchuk', 'Yakovenko', 'Yakovets', 'Yakovichenko', 'Yakovkin', 'Yakovlenko', 'Yakovlev', 'Yakovuk', 'Yakshibaev', 'Yakshin', 'Yakub', 'Yakuba', 'Yakubchik', 'Yakubenko', 'Yakubik', 'Yakubonis', 'Yakubov', 'Yakubovich', 'Yakubovsky', 'Yakunchikov', 'Yakunichev', 'Yakunin', 'Yakunkin', 'Yakunov', 'Yakupov', 'Yakurin', 'Yakuschenko', 'Yakush', 'Yakushev', 'Yakushevich', 'Yakushevich', 'Yakushin', 'Yakushkin', 'Yakushkov', 'Yakushov', 'Yakutin', 'Yakutkin', 'Yalamov', 'Yalchevsky', 'Yalovenko', 'Yalovets', 'Yalovoi', 'Yalunin', 'Yam', 'Yamaletdinov', 'Yamaltdinov', 'Yambaev', 'Yamburg', 'Yamilov', 'Yaminsky', 'Yamlihanov', 'Yamlikhanov', 'Yamov', 'Yampolsky', 'Yamschikov', 'Yamskov', 'Yan', 'Yanaev', 'Yanaki', 'Yanalov', 'Yanaslov', 'Yanbarisov', 'Yandarbiev', 'Yandiev', 'Yandulsky', 'Yandutkin', 'Yanek', 'Yanenko', 'Yangarber', 'Yangel', 'Yanibekov', 'Yanin', 'Yanishevsky', 'Yanishin', 'Yanitsky', 'Yanjul', 'Yankelevich', 'Yankevich', 'Yankilevsky', 'Yankilovich', 'Yankin', 'Yankis', 'Yanko', 'Yankov', 'Yankov', 'Yankovsky', 'Yanochkin', 'Yanov', 'Yanover', 'Yanovich', 'Yanovitsky', 'Yanovka', 'Yanovsky', 'Yanowich', 'Yanpolsky', 'Yanshin', 'Yanshole', 'Yanson', 'Yansons', 'Yanushevsky', 'Yanvarev', 'Yanzhul', 'Yanzinov', 'Yapaskurt', 'Yapondych', 'Yapparov', 'Yatsenko', 'Yatsevich', 'Yatskevich', 'Yatskov', 'Yatskovsky', 'Yatsuba', 'Yatsun', 'Yatsunov', 'Yatsyk', 'Yatsyshin', 'Yatzenko', 'Yatzevich', 'Yatzkevich', 'Yatzkov', 'Yatzkovsky', 'Yatzuba', 'Yatzun', 'Yatzunov', 'Yatzyk', 'Yatzyshin', 'Yepishev', 'Yudaev', 'Yudahin', 'Yudakhin', 'Yudakov', 'Yudanov', 'Yudashkin', 'Yudasin', 'Yudelevich', 'Yudenich', 'Yudenkov', 'Yudin', 'Yudinsky', 'Yuditsky', 'Yudkin', 'Yudkov', 'Yudkovich', 'Yudochkin', 'Yudolovich', 'Yudovich', 'Yudushkin', 'Yufa', 'Yuferev', 'Yuferov', 'Yufit', 'Yufryakov', 'Yugai', 'Yugin', 'Yugov', 'Yuhanaev', 'Yuhimenko', 'Yuhimuk', 'Yuhma', 'Yuhman', 'Yuhnev', 'Yuhnin', 'Yuhno', 'Yuhotsky', 'Yuhov', 'Yuhtanov', 'Yuhtman', 'Yuhvidov', 'Yujakov', 'Yujalin', 'Yujanov', 'Yujenko', 'Yujilin', 'Yukalov', 'Yukhanaev', 'Yukhimenko', 'Yukhimuk', 'Yukhma', 'Yukhman', 'Yukhnev', 'Yukhnin', 'Yukhno', 'Yukhotsky', 'Yukhov', 'Yukhtanov', 'Yukhtman', 'Yukhvidov', 'Yuschak', 'Yuschenko', 'Yushenkov', 'Yushin', 'Yushkevich', 'Yushkin', 'Yushkov', 'Yushmanov', 'Yushnevsky', 'Yuskevich', 'Yuzeev', 'Yuzefov', 'Yuzefovich', 'Yuzgin', 'Yuzhakov', 'Yuzhalin', 'Yuzhanov', 'Yuzhenko', 'Yuzhilin', 'Yuzin', 'Yuzva', 'Yuzvikov', 'Yuzvishin', 'Yuzvyuk', 'Zabrodin', 'Zabrovsky', 'Zasedatelev', 'Zasetsky', 'Zaskanov', 'Zasko', 'Zaskokin', 'Zaslavets', 'Zaslavsky', 'Zasluev', 'Zasoba', 'Zasodimsky', 'Zasosov', 'Zastavsky', 'Zastrojny', 'Zastrozhny', 'Zasuha', 'Zasuhin', 'Zasukha', 'Zasukhin', 'Zasulich', 'Zasursky', \"Zasyad'Ko\", 'Zasyadko', 'Zasypkin', 'Zavatsky', 'Zavodchikov', 'Zavodnov', 'Zavodov', 'Zavodskoi', 'Zavoisky', 'Zavolokin', 'Zavolokov', 'Zavorin', 'Zavorohin', 'Zavorokhin', 'Zavoruev', 'Zavrajnov', 'Zeifert', 'Zelenenkov', 'Zelenetsky', 'Zelenev', 'Zelenevsky', 'Zelenin', 'Zelenkevich', 'Zelenkin', 'Zelenko', 'Zelenkov', 'Zelenkov', 'Zelenoi', 'Zelenov', 'Zelenovsky', 'Zelensky', 'Zelent', 'Zelentsov', 'Zeleny', 'Zenbitsky', 'Zenchenko', 'Zenger', 'Zenilov', 'Zenin', 'Zenischev', 'Zenkevich', 'Zenkin', 'Zenkov', 'Zenkovich', 'Zenkovsky', 'Zenzinov', 'Zhaba', 'Zhabin', 'Zhabinsky', 'Zhabitsky', 'Zhaboev', 'Zhabotinsky', 'Zhabrev', 'Zhabsky', 'Zhabykin', 'Zhadaev', 'Zhadan', 'Zhadanov', 'Zhadanovsky', 'Zhadenov', 'Zhadin', 'Zhadkevich', 'Zhadovsky', 'Zhagalin', 'Zhaivoronok', 'Zhakmon', 'Zhakov', 'Zhalagin', 'Zhalilo', 'Zhalkovsky', 'Zhalnin', 'Zhalybin', 'Zhamoida', 'Zhamoido', 'Zhamsuev', 'Zhandarov', 'Zhandr', 'Zhanimov', 'Zhardetsky', 'Zharihin', 'Zharikhin', 'Zharikov', 'Zharinov', 'Zharkih', 'Zharkikh', 'Zharkov', 'Zharkovsky', 'Zharmuhamedov', 'Zharmukhamedov', 'Zharnikov', 'Zharnov', 'Zharov', 'Zharovtsev', 'Zharsky', 'Zharuev', 'Zhashkov', 'Zhatkov', 'Zhavoronkov', 'Zhavoronok', 'Zhavoronsky', 'Zhavrid', 'Zhbankov', 'Zhbanov', 'Zhdakaev', 'Zhdan', 'Zhdankin', 'Zhdanko', 'Zhdankov', 'Zhdanov', 'Zhdanovich', 'Zhdanovsky', 'Zhebelev', 'Zhebit', 'Zhebo', 'Zhebrovsky', 'Zhebryakov', 'Zhechkov', 'Zhedrinsky', 'Zhegin', 'Zheglov', 'Zhegulin', 'Zhegunov', 'Zheimo', 'Zhekov', 'Zhekulin', 'Zhelaev', 'Zheldakov', 'Zhelehovsky', 'Zhelekhovsky', 'Zhelezko', 'Zheleznikov', 'Zheleznov', 'Zhelezny', 'Zheleznyak', 'Zheleznyakov', 'Zhelezov', 'Zhelezovsky', 'Zheleztsov', 'Zheliba', 'Zhelnin', 'Zhelnov', 'Zhelobinsky', 'Zhelohovtsev', 'Zhelokhovtsev', 'Zheltouhov', 'Zheltoukhov', 'Zheltov', 'Zheltuhin', 'Zheltukhin', 'Zheltyannikov', 'Zheludev', 'Zheludkov', 'Zhelvakov', 'Zhelyabov', 'Zhelyabovsky', 'Zhelyabuzhsky', 'Zhemaitis', 'Zhemaldinov', 'Zhemchugov', 'Zhemchujnikov', 'Zhemchujny', 'Zhemlihanov', 'Zhemlikhanov', 'Zhemoitel', 'Zhemuhov', 'Zhemukhov', 'Zhendarov', 'Zhenin', 'Zhenovach', 'Zheravin', 'Zherbin', 'Zherdev', 'Zherebin', 'Zherebko', 'Zherebovich', 'Zherebtsov', 'Zherebyatiev', 'Zherihin', 'Zherikhin', 'Zhernakov', 'Zhernevsky', 'Zhernokleev', 'Zhernosek', 'Zhernov', 'Zhernovoy', 'Zheromsky', 'Zheronkin', 'Zheryapin', 'Zherzdev', 'Zhestkov', 'Zhestovsky', 'Zheurov', 'Zhevahov', 'Zhevaikin', 'Zhevakhov', 'Zhevanov', 'Zheverzheev', 'Zhevlakov', 'Zhevolozhnov', 'Zhezhel', 'Zhezhera', 'Zhgutov', 'Zhiboedov', 'Zhidelev', 'Zhidenko', 'Zhidilev', 'Zhidilin', 'Zhidkih', 'Zhidkikh', 'Zhidkin', 'Zhidkov', 'Zhidomirov', 'Zhigachev', 'Zhigailo', 'Zhigailov', 'Zhigalev', 'Zhigalin', 'Zhigalkin', 'Zhigalov', 'Zhiganov', 'Zhigarev', 'Zhigily', 'Zhigin', 'Zhigmytov', 'Zhigulenkov', 'Zhigulin', 'Zhigulsky', 'Zhigultsov', 'Zhigun', 'Zhigunov', 'Zhiharev', 'Zhiharevitch', 'Zhikharev', 'Zhikharevitch', 'Zhikin', 'Zhikov', 'Zhilchikov', 'Zhilenko', 'Zhilenkov', 'Zhilin', 'Zhilinsky', 'Zhilis', 'Zhilkin', 'Zhilnikov', 'Zhilov', 'Zhiltsov', 'Zhilyaev', 'Zhilyakov', 'Zhilyardy', 'Zhilyuk', 'Zhimailov', 'Zhimerin', 'Zhimila', 'Zhimirov', 'Zhimulev', 'Zhinkin', 'Zhinov', 'Zhirdetsky', 'Zhirenkin', 'Zhirikov', 'Zhiril', 'Zhirinovsky', 'Zhiritsky', 'Zhirkevich', 'Zhirkov', 'Zhirmunsky', 'Zhirnikov', 'Zhirnov', 'Zhirnyakov', 'Zhiro', 'Zhirov', 'Zhiryakov', 'Zhitarev', 'Zhitenev', 'Zhitetsky', 'Zhitin', 'Zhitinev', 'Zhitinkin', 'Zhitkov', 'Zhitluhin', 'Zhitlukhin', 'Zhitnik', 'Zhitnikov', 'Zhitny', 'Zhitomirsky', 'Zhituhin', 'Zhitukhin', 'Zhivaev', 'Zhivago', 'Zhivilo', 'Zhivin', 'Zhivkovich', 'Zhivlyuk', 'Zhivoderov', 'Zhivokini', 'Zhivoluk', 'Zhivopistsev', 'Zhivotenko', 'Zhivotinsky', 'Zhivotovsky', 'Zhivov', 'Zhivulin', 'Zhizdik', 'Zhizha', 'Zhizhchenko', 'Zhizhemsky', 'Zhizhikin', 'Zhizhilev', 'Zhizhin', 'Zhizhnov', 'Zhiznevsky', 'Zhiznyakov', 'Zhloba', 'Zhluktov', 'Zhmaev', 'Zhmakin', 'Zhmakov', 'Zhmelkov', 'Zhminko', 'Zhmotov', 'Zhmudsky', 'Zhmulev', 'Zhmuro', 'Zhogin', 'Zhogov', 'Zhohin', 'Zhohov', 'Zhokhin', 'Zhokhov', 'Zhokin', 'Zholkov', 'Zholobov', 'Zholovan', 'Zholtovsky', 'Zholudev', 'Zhongolovich', 'Zhorin', 'Zhornyak', 'Zhorov', 'Zhorzhev', 'Zhovnerik', 'Zhovnir', 'Zhovtun', 'Zhovtyak', 'Zhuchenko', 'Zhuchkov', 'Zhuikov', 'Zhuk', 'Zhukov', 'Zhukovets', 'Zhukovich', 'Zhukovin', 'Zhukovsky', 'Zhulebin', 'Zhulev', 'Zhulidov', 'Zhulyabin', 'Zhumenko', 'Zhun', 'Zhunda', 'Zhunin', 'Zhunusov', 'Zhupanenko', 'Zhupikov', 'Zhura', 'Zhurakovsky', 'Zhuravel', 'Zhuravkov', 'Zhuravlenko', 'Zhuravlev', 'Zhuravliov', 'Zhuravov', 'Zhuravsky', 'Zhurba', 'Zhurbenko', 'Zhurbin', 'Zhurihin', 'Zhurikhin', 'Zhurin', 'Zhurkin', 'Zhurko', 'Zhurkov', 'Zhurkovsky', 'Zhurman', 'Zhuromsky', 'Zhurov', 'Zhuruli', 'Zhushman', 'Zhuzhlev', 'Zhuzhnev', 'Zhvachkin', 'Zhvanetsky', 'Zhvirblis', 'Zhvykin', 'Zihanov', 'Zimaev', 'Zimakin', 'Zimakov', 'Zimarev', 'Zimarin', 'Zimatsky', 'Zimenkov', 'Zimin', 'Zimitsky', 'Zimnitsky', 'Zimnuhov', 'Zimny', 'Zimonin', 'Zimovets', 'Zimyanin', 'Zinatullin', 'Zinchenko', 'Zinchuk', 'Zinder', 'Zinevich', 'Zingarevich', 'Zinger', 'Zingerman', 'Zingman', 'Zinich', 'Zinin', 'Zinkevich', 'Zinkovsky', 'Zinkovsky', 'Zinnatov', 'Zinnurov', 'Zinov', 'Zinoviev', 'Zinovin', 'Zinyuhin', 'Zis', 'Zitev', 'Zitserman', 'Ziyakov', 'Ziyatdinov', 'Ziyazov', 'Zobanov', 'Zobkob', 'Zobnin', 'Zobov', 'Zogalev', 'Zolin', 'Zolkin', 'Zoloev', 'Zolotai', 'Zolotar', 'Zolotarev', 'Zolotarevsky', 'Zolotarsky', 'Zolotavin', 'Zolotdinov', 'Zolotenkov', 'Zolotilin', 'Zolotkov', 'Zolotnitsky', 'Zolotnitzky', 'Zozrov', 'Zozulya', 'Zukerman'], 'French': ['Abel', 'Abraham', 'Adam', 'Albert', 'Allard', 'Archambault', 'Armistead', 'Arthur', 'Augustin', 'Babineaux', 'Baudin', 'Beauchene', 'Beaulieu', 'Beaumont', 'Belanger', 'Bellamy', 'Bellerose', 'Belrose', 'Berger', 'Beringer', 'Bernard', 'Bertrand', 'Bisset', 'Bissette', 'Blaise', 'Blanc', 'Blanchet', 'Blanchett', 'Bonfils', 'Bonheur', 'Bonhomme', 'Bonnaire', 'Bonnay', 'Bonner', 'Bonnet', 'Borde', 'Bordelon', 'Bouchard', 'Boucher', 'Brisbois', 'Brodeur', 'Bureau', 'Caron', 'Cavey', 'Chaput', 'Charbonneau', 'Charpentier', 'Charron', 'Chastain', 'Chevalier', 'Chevrolet', 'Cloutier', 'Colbert', 'Comtois', 'Cornett', 'Cote', 'Coupe', 'Courtemanche', 'Cousineau', 'Couture', 'Daniau', \"D'aramitz\", 'Daviau', 'David', 'Deforest', 'Degarmo', 'Delacroix', 'De la fontaine', 'Deniau', 'Deniaud', 'Deniel', 'Denis', 'De sauveterre', 'Deschamps', 'Descoteaux', 'Desjardins', 'Desrochers', 'Desrosiers', 'Dubois', 'Duchamps', 'Dufort', 'Dufour', 'Duguay', 'Dupond', 'Dupont', 'Durand', 'Durant', 'Duval', 'Emile', 'Eustis', 'Fabian', 'Fabre', 'Fabron', 'Faucher', 'Faucheux', 'Faure', 'Favager', 'Favre', 'Favreau', 'Fay', 'Felix', 'Firmin', 'Fontaine', 'Forest', 'Forestier', 'Fortier', 'Foss', 'Fournier', 'Gage', 'Gagne', 'Gagnier', 'Gagnon', 'Garcon', 'Gardinier', 'Germain', 'Geroux', 'Giles', 'Girard', 'Giroux', 'Glaisyer', 'Gosse', 'Gosselin', 'Granger', 'Guerin', 'Guillory', 'Hardy', 'Harman', 'Hebert', 'Herbert', 'Herriot', 'Jacques', 'Janvier', 'Jordan', 'Joubert', 'Labelle', 'Lachance', 'Lachapelle', 'Lamar', 'Lambert', 'Lane', 'Langlais', 'Langlois', 'Lapointe', 'Larue', 'Laurent', 'Lavigne', 'Lavoie', 'Leandres', 'Lebeau', 'Leblanc', 'Leclair', 'Leclerc', 'Lecuyer', 'Lefebvre', 'Lefevre', 'Lefurgey', 'Legrand', 'Lemaire', 'Lemieux', 'Leon', 'Leroy', 'Lesauvage', 'Lestrange', 'Leveque', 'Levesque', 'Linville', 'Lyon', 'Lyon', 'Macon', 'Marchand', 'Marie', 'Marion', 'Martel', 'Martel', 'Martin', 'Masson', 'Masson', 'Mathieu', 'Mercier', 'Merle', 'Michaud', 'Michel', 'Monet', 'Monette', 'Montagne', 'Moreau', 'Moulin', 'Mullins', 'Noel', 'Oliver', 'Olivier', 'Page', 'Paget', 'Palomer', 'Pan', 'Pape', 'Paquet', 'Paquet', 'Parent', 'Paris', 'Parris', 'Pascal', 'Patenaude', 'Paternoster', 'Paul', 'Pelletier', 'Perrault', 'Perreault', 'Perrot', 'Petit', 'Pettigrew', 'Pierre', 'Plamondon', 'Plourde', 'Poingdestre', 'Poirier', 'Porcher', 'Poulin', 'Proulx', 'Renaud', 'Rey', 'Reyer', 'Richard', 'Richelieu', 'Robert', 'Roche', 'Rome', 'Romilly', 'Rose', 'Rousseau', 'Roux', 'Roy', 'Royer', 'Salomon', 'Salvage', 'Samson', 'Samuel', 'Sargent', 'Sarkozi', 'Sarkozy', 'Sartre', 'Sault', 'Sauvage', 'Sauvageau', 'Sauvageon', 'Sauvageot', 'Sauveterre', 'Savatier', 'Segal', 'Sergeant', 'Severin', 'Simon', 'Solomon', 'Soucy', 'St martin', 'St pierre', 'Tailler', 'Tasse', 'Thayer', 'Thibault', 'Thomas', 'Tobias', 'Tolbert', 'Traver', 'Travere', 'Travers', 'Traverse', 'Travert', 'Tremblay', 'Tremble', 'Victor', 'Victors', 'Villeneuve', 'Vincent', 'Vipond', 'Voclain', 'Yount'], 'Dutch': ['Aalsburg', 'Aalst', 'Aarle', 'Achteren', 'Achthoven', 'Adrichem', 'Aggelen', 'Agteren', 'Agthoven', 'Akkeren', 'Aller', 'Alphen', 'Alst', 'Altena', 'Althuis', 'Amelsvoort', 'Amersvoort', 'Amstel', 'Andel', 'Andringa', 'Ankeren', 'Antwerp', 'Antwerpen', 'Apeldoorn', 'Arendonk', 'Asch', 'Assen', 'Baarle', 'Bokhoven', 'Breda', 'Bueren', 'Buggenum', 'Buiren', 'Buren', 'Can', 'Cann', 'Canne', 'Daal', 'Daalen', 'Dael', 'Daele', 'Dale', 'Dalen', 'Laar', 'Vliert', 'Akker', 'Andel', 'Denend', 'Aart', 'Beek', 'Berg', 'Hout', 'Laar', 'See', 'Stoep', 'Veen', 'Ven', 'Venn', 'Venne', 'Vennen', 'Zee', 'Donk', 'Haanraads', 'Haanraats', 'Haanrade', 'Haanrath', 'Haenraats', 'Haenraets', 'Hanraets', 'Hassel', 'Hautem', 'Hautum', 'Heel', 'Herten', 'Hofwegen', 'Horn', 'Hout', 'Houte', 'Houtem', 'Houten', 'Houttum', 'Houtum', 'Kan', 'Kann', 'Kanne', 'Kappel', 'Karl', 'Kikkert', 'Klein', 'Klerk', 'Klerken', 'Klerks', 'Klerkse', 'Klerkx', 'Klerx', 'Kloet', 'Kloeten', 'Kloeter', 'Koeman', 'Koemans', 'Kolen', 'Kolijn', 'Kollen', 'Koning', 'Kool', 'Koole', 'Koolen', 'Kools', 'Kouman', 'Koumans', 'Krantz', 'Kranz', 'Krusen', 'Kuijpers', 'Kuiper', 'Kuipers', 'Laar', 'Langbroek', 'Laren', 'Lauwens', 'Lauwers', 'Leeuwenhoeck', 'Leeuwenhoek', 'Leeuwenhoek', 'Lucas', 'Lucassen', 'Lyon', 'Maas', 'Maes', 'Maessen', 'Marquering', 'Marqueringh', 'Marquerink', 'Mas', 'Meeuwe', 'Meeuwes', 'Meeuwessen', 'Meeuweszen', 'Meeuwis', 'Meeuwissen', 'Meeuwsen', 'Meisner', 'Merckx', 'Mertens', 'Michel', 'Middelburg', 'Middlesworth', 'Mohren', 'Mooren', 'Mulder', 'Muyskens', 'Nagel', 'Nelissen', 'Nifterick', 'Nifterick', 'Nifterik', 'Nifterik', 'Niftrik', 'Niftrik', 'Offermans', 'Ogterop', 'Ogtrop', 'Oirschot', 'Oirschotten', 'Oomen', 'Oorschot', 'Oorschot', 'Ophoven', 'Otten', 'Pander', 'Panders', 'Paulis', 'Paulissen', 'Peerenboom', 'Peeters', 'Peij', 'Pender', 'Penders', 'Pennders', 'Penner', 'Penners', 'Peter', 'Peusen', 'Pey', 'Philips', 'Prinsen', 'Rademaker', 'Rademakers', 'Ramaaker', 'Ramaker', 'Ramakers', 'Ramecker', 'Rameckers', 'Raske', 'Reijnder', 'Reijnders', 'Reinder', 'Reinders', 'Reynder', 'Reynders', 'Richard', 'Rietveld', 'Rijnder', 'Rijnders', 'Robert', 'Roggeveen', 'Roijacker', 'Roijackers', 'Roijakker', 'Roijakkers', 'Romeijn', 'Romeijnders', 'Romeijnsen', 'Romijn', 'Romijnders', 'Romijnsen', 'Rompa', 'Rompa', 'Rompaeij', 'Rompaey', 'Rompaij', 'Rompay', 'Rompaye', 'Rompu', 'Rompuy', 'Rooiakker', 'Rooiakkers', 'Rooijakker', 'Rooijakkers', 'Roosa', 'Roosevelt', 'Rossem', 'Rossum', 'Rumpade', 'Rutten', 'Ryskamp', 'Samson', 'Sanna', 'Schenck', 'Schermer', 'Schneider', 'Schneiders', 'Schneijder', 'Schneijders', 'Schoonenburg', 'Schoonraad', 'Schoorel', 'Schoorel', 'Schoorl', 'Schorel', 'Schrijnemakers', 'Schuyler', 'Schwarzenberg', 'Seeger', 'Seegers', 'Seelen', 'Segers', 'Segher', 'Seghers', 'Severijns', 'Severins', 'Sevriens', 'Silje', 'Simon', 'Simonis', 'Slootmaekers', 'Smeets', 'Smets', 'Smit', 'Smits', 'Snaaijer', 'Snaijer', 'Sneiders', 'Sneijder', 'Sneijders', 'Sneijer', 'Sneijers', 'Snell', 'Snider', 'Sniders', 'Snijder', 'Snijders', 'Snyder', 'Snyders', 'Specht', 'Spijker', 'Spiker', 'Ter Avest', 'Teunissen', 'Theunissen', 'Tholberg', 'Tillens', 'Tunison', 'Tunneson', 'Vandale', 'Vandroogenbroeck', 'Vann'], 'Czech': ['Abl', 'Adsit', 'Ajdrna', 'Alt', 'Antonowitsch', 'Antonowitz', 'Bacon', 'Ballalatak', 'Ballaltick', 'Bartonova', 'Bastl', 'Baroch', 'Benesch', 'Betlach', 'Biganska', 'Bilek', 'Blahut', 'Blazek', 'Blazek', 'Blazejovsky', 'Blecha', 'Bleskan', 'Blober', 'Bock', 'Bohac', 'Bohunovsky', 'Bolcar', 'Borovka', 'Borovski', 'Borowski', 'Borovsky', 'Brabbery', 'Brezovjak', 'Brousil', 'Bruckner', 'Buchta', 'Cablikova', 'Camfrlova', 'Cap', 'Cerda', 'Cermak', 'Chermak', 'Cermak', 'Cernochova', 'Cernohous', 'Cerny', 'Cerney', 'Cerny', 'Cerv', 'Cervenka', 'Chalupka', 'Charlott', 'Chemlik', 'Chicken', 'Chilar', 'Chromy', 'Cihak', 'Clineburg', 'Klineberg', 'Cober', 'Colling', 'Cvacek', 'Czabal', 'Damell', 'Demall', 'Dehmel', 'Dana', 'Dejmal', 'Dempko', 'Demko', 'Dinko', 'Divoky', 'Dolejsi', 'Dolezal', 'Doljs', 'Dopita', 'Drassal', 'Driml', 'Duyava', 'Dvorak', 'Dziadik', 'Egr', 'Entler', 'Faltysek', 'Faltejsek', 'Fencl', 'Fenyo', 'Fillipova', 'Finfera', 'Finferovy', 'Finke', 'Fojtikova', 'Fremut', 'Friedrich', 'Frierdich', 'Fritsch', 'Furtsch', 'Gabrisova', 'Gavalok', 'Geier', 'Georgijev', 'Geryk', 'Giersig', 'Glatter', 'Glockl', 'Grabski', 'Grozmanova', 'Grulich', 'Grygarova', 'Hadash', 'Hafernik', 'Hajek', 'Hajicek', 'Hajkova', 'Hana', 'Hanek', 'Hanek', 'Hanika', 'Hanusch', 'Hanzlick', 'Handzlik', 'Hanzlik', 'Harger', 'Hartl', 'Havlatova', 'Havlice', 'Hawlata', 'Heidl', 'Herback', 'Herodes', 'Hiorvst', 'Hladky', 'Hlavsa', 'Hnizdil', 'Hodowal', 'Hodoval', 'Holan', 'Holub', 'Homulka', 'Hora', 'Hovanec', 'Hrabak', 'Hradek', 'Hrdy', 'Hrula', 'Hruska', 'Hruskova', 'Hudecek', 'Husk', 'Hynna', 'Jaluvka', 'Janca', 'Janicek', 'Jenicek', 'Janacek', 'Janick', 'Janoch', 'Janosik', 'Janutka', 'Jares', 'Jarzembowski', 'Jedlicka', 'Jelinek', 'Jindra', 'Jirava', 'Jirik', 'Jirku', 'Jirovy', 'Jobst', 'Jonas', 'Kacirek', 'Kafka', 'Kafka', 'Kaiser', 'Kanak', 'Kaplanek', 'Kara', 'Karlovsky', 'Kasa', 'Kasimor', 'Kazimor', 'Kazmier', 'Katschker', 'Kauphsman', 'Kenzel', 'Kerner', 'Kesl', 'Kessel', 'Kessler', 'Khork', 'Kirchma', 'Klein', 'Klemper', 'Klimes', 'Kober', 'Koberna', 'Koci', 'Kocian', 'Kocian', 'Kofron', 'Kolacny', 'Koliha', 'Kolman', 'Koma', 'Komo', 'Coma', 'Konarik', 'Kopp', 'Kopecky', 'Korandak', 'Korycan', 'Korycansky', 'Kosko', 'Kouba', 'Kouba', 'Koukal', 'Koza', 'Kozumplikova', 'Kratschmar', 'Krawiec', 'Kreisinger', 'Kremlacek', 'Kremlicka', 'Kreutschmer', 'Krhovsky', 'Krivan', 'Krivolavy', 'Kriz', 'Kruessel', 'Krupala', 'Krytinar', 'Kubin', 'Kucera', 'Kucharova', 'Kudrna', 'Kuffel', 'Kupfel', 'Kofel', 'Kulhanek', 'Kunik', 'Kurtz', 'Kusak', 'Kvasnicka', 'Lawa', 'Linart', 'Lind', 'Lokay', 'Loskot', 'Ludwig', 'Lynsmeier', 'Macha', 'Machacek', 'Macikova', 'Malafa', 'Malec', 'Malecha', 'Maly', 'Marek', 'Marik', 'Marik', 'Markytan', 'Matejka', 'Matjeka', 'Matocha', 'MaxaB', 'Mayer', 'Meier', 'Merta', 'Meszes', 'Metjeka', 'Michalovic', 'Michalovicova', 'Miksatkova', 'Mojzis', 'Mojjis', 'Mozzis', 'Molcan', 'Monfort', 'MonkoAustria', 'Morava', 'Morek', 'Muchalon', 'Mudra', 'Muhlbauer', 'Nadvornizch', 'Nadwornik', 'Navara', 'Navratil', 'Navratil', 'Navrkal', 'Nekuza', 'Nemec', 'Nemecek', 'Nestrojil', 'Netsch', 'Neusser', 'Neisser', 'Naizer', 'Novak', 'Nowak', 'Novotny', 'Novy Novy', 'Oborny', 'Ocasek', 'Ocaskova', 'Oesterreicher', 'Okenfuss', 'Olbrich', 'Ondrisek', 'Opizka', 'Opova', 'Opp', 'Osladil', 'Ozimuk', 'Pachr', 'Palzewicz', 'Panek', 'Patril', 'Pavlik', 'Pavlicka', 'Pavlu', 'Pawlak', 'Pear', 'Peary', 'Pech', 'Peisar', 'Paisar', 'Paiser', 'Perevuznik', 'Perina', 'Persein', 'Petrezelka', 'Petru', 'Pesek', 'Petersen', 'Pfeifer', 'Picha', 'Pillar', 'Pellar', 'Piller', 'Pinter', 'Pitterman', 'Planick', 'Piskach', 'Plisek', 'Plisko', 'Pokorny', 'Ponec', 'Ponec', 'Prachar', 'Praseta', 'Prchal', 'Prehatney', 'Pretsch', 'Prill', 'Psik', 'Pudel', 'Purdes', 'Quasninsky', 'Raffel', 'Rafaj', 'Ransom', 'Rezac', 'Riedel', 'Riha', 'Riha', 'Ritchie', 'Rozinek', 'Ruba', 'Ruda', 'Rumisek', 'Ruzicka', 'Rypka', 'Rebka', 'Rzehak', 'Sabol', 'Safko', 'Samz', 'Sankovsky', 'Sappe', 'Sappe', 'Sarna', 'Satorie', 'Savchak', 'Svotak', 'Swatchak', 'Svocak', 'Svotchak', 'Schallom', 'Schenk', 'Schlantz', 'Schmeiser', 'Schneider', 'Schmied', 'Schubert', 'Schwarz', 'Schwartz', 'Sedmik', 'Sedmikova', 'Seger', 'Sekovora', 'Semick', 'Serak', 'Sherak', 'Shima', 'Shula', 'Siegl', 'Silhan', 'Simecek', 'Simodines', 'Simonek', 'Sip', 'Sitta', 'Skala', 'Skeril', 'Skokan', 'Skomicka', 'Skwor', 'Slapnickova', 'Slejtr', 'Slepicka', 'Slepica', 'Slezak', 'Slivka', 'Smith', 'Snelker', 'Sokolik', 'Soucek', 'Soukup', 'Soukup', 'Spicka', 'Spoerl', 'Sponer', 'Srda', 'Srpcikova', 'Stangl', 'Stanzel', 'Stary', 'Staska', 'Stedronsky', 'Stegon', 'Sztegon', 'Steinborn', 'Stepan', 'Stites', 'Stluka', 'Stotzky', 'StrakaO', 'Stramba', 'Stupka', 'Subertova', 'Suchanka', 'Sula', 'Svejda', 'Svejkovsky', 'Svoboda', 'Tejc', 'Tikal', 'Tykal', 'Till', 'Timpe', 'Timpy', 'Toman', 'Tomanek', 'Tomasek', 'Tomes', 'Trampotova', 'Trampota', 'Treblik', 'Trnkova', 'Uerling', 'Uhlik', 'Urbanek', 'Urbanek', 'Urbanovska', 'Urista', 'Ustohal', 'Vaca', 'Vaculova', 'Vavra', 'Vejvoda', 'Veverka', 'Victor', 'Vlach', 'Vlach', 'Vlasak', 'Vlasek', 'Volcik', 'Voneve', 'Votke', 'Vozab', 'Vrazel', 'Vykruta', 'Wykruta', 'Waclauska', 'Weichert', 'Weineltk', 'Weisener', 'Wiesner', 'Wizner', 'Weiss', 'Werlla', 'Whitmire', 'Widerlechner', 'Wilchek', 'Wondracek', 'Wood', 'Zajicek', 'Zak', 'Zajicek', 'Zaruba', 'Zaruba', 'Zelinka', 'Zeman', 'Zimola', 'Zipperer', 'Zitka', 'Zoucha', 'Zwolenksy'], 'Italian': ['Abandonato', 'Abatangelo', 'Abatantuono', 'Abate', 'Abategiovanni', 'Abatescianni', 'Abba', 'Abbadelli', 'Abbascia', 'Abbatangelo', 'Abbatantuono', 'Abbate', 'Abbatelli', 'Abbaticchio', 'Abbiati', 'Abbracciabene', 'Abbracciabeni', 'Abelli', 'Abello', 'Abrami', 'Abramo', 'Acardi', 'Accardi', 'Accardo', 'Acciai', 'Acciaio', 'Acciaioli', 'Acconci', 'Acconcio', 'Accorsi', 'Accorso', 'Accosi', 'Accursio', 'Acerbi', 'Acone', 'Aconi', 'Acqua', 'Acquafredda', 'Acquarone', 'Acquati', 'Adalardi', 'Adami', 'Adamo', 'Adamoli', 'Addario', 'Adelardi', 'Adessi', 'Adimari', 'Adriatico', 'Affini', 'Africani', 'Africano', 'Agani', 'Aggi', 'Aggio', 'Agli', 'Agnelli', 'Agnellutti', 'Agnusdei', 'Agosti', 'Agostini', 'Agresta', 'Agrioli', 'Aiello', 'Aiolfi', 'Airaldi', 'Airo', 'Aita', 'Ajello', 'Alagona', 'Alamanni', 'Albanesi', 'Albani', 'Albano', 'Alberghi', 'Alberghini', 'Alberici', 'Alberighi', 'Albero', 'Albini', 'Albricci', 'Albrici', 'Alcheri', 'Aldebrandi', 'Alderisi', 'Alduino', 'Alemagna', 'Aleppo', 'Alesci', 'Alescio', 'Alesi', 'Alesini', 'Alesio', 'Alessandri', 'Alessi', 'Alfero', 'Aliberti', 'Alinari', 'Aliprandi', 'Allegri', 'Allegro', 'Alo', 'Aloia', 'Aloisi', 'Altamura', 'Altimari', 'Altoviti', 'Alunni', 'Amadei', 'Amadori', 'Amalberti', 'Amantea', 'Amato', 'Amatore', 'Ambrogi', 'Ambrosi', 'Amello', 'Amerighi', 'Amoretto', 'Angioli', 'Ansaldi', 'Anselmetti', 'Anselmi', 'Antonelli', 'Antonini', 'Antonino', 'Aquila', 'Aquino', 'Arbore', 'Ardiccioni', 'Ardizzone', 'Ardovini', 'Arena', 'Aringheri', 'Arlotti', 'Armani', 'Armati', 'Armonni', 'Arnolfi', 'Arnoni', 'Arrighetti', 'Arrighi', 'Arrigucci', 'Aucciello', 'Azzara', 'Baggi', 'Baggio', 'Baglio', 'Bagni', 'Bagnoli', 'Balboni', 'Baldi', 'Baldini', 'Baldinotti', 'Baldovini', 'Bandini', 'Bandoni', 'Barbieri', 'Barone', 'Barsetti', 'Bartalotti', 'Bartolomei', 'Bartolomeo', 'Barzetti', 'Basile', 'Bassanelli', 'Bassani', 'Bassi', 'Basso', 'Basurto', 'Battaglia', 'Bazzoli', 'Bellandi', 'Bellandini', 'Bellincioni', 'Bellini', 'Bello', 'Bellomi', 'Belloni', 'Belluomi', 'Belmonte', 'Bencivenni', 'Benedetti', 'Benenati', 'Benetton', 'Benini', 'Benivieni', 'Benvenuti', 'Berardi', 'Bergamaschi', 'Berti', 'Bertolini', 'Biancardi', 'Bianchi', 'Bicchieri', 'Biondi', 'Biondo', 'Boerio', 'Bologna', 'Bondesan', 'Bonomo', 'Borghi', 'Borgnino', 'Borgogni', 'Bosco', 'Bove', 'Bover', 'Boveri', 'Brambani', 'Brambilla', 'Breda', 'Brioschi', 'Brivio', 'Brunetti', 'Bruno', 'Buffone', 'Bulgarelli', 'Bulgari', 'Buonarroti', 'Busto', 'Caiazzo', 'Caito', 'Caivano', 'Calabrese', 'Calligaris', 'Campana', 'Campo', 'Cantu', 'Capello', 'Capello', 'Capello', 'Capitani', 'Carbone', 'Carboni', 'Carideo', 'Carlevaro', 'Caro', 'Carracci', 'Carrara', 'Caruso', 'Cassano', 'Castro', 'Catalano', 'Cattaneo', 'Cavalcante', 'Cavallo', 'Cingolani', 'Cino', 'Cipriani', 'Cisternino', 'Coiro', 'Cola', 'Colombera', 'Colombo', 'Columbo', 'Como', 'Como', 'Confortola', 'Conti', 'Corna', 'Corti', 'Corvi', 'Costa', 'Costantini', 'Costanzo', 'Cracchiolo', 'Cremaschi', 'Cremona', 'Cremonesi', 'Crespo', 'Croce', 'Crocetti', 'Cucinotta', 'Cuocco', 'Cuoco', \"D'ambrosio\", 'Damiani', \"D'amore\", \"D'angelo\", \"D'antonio\", 'De angelis', 'De campo', 'De felice', 'De filippis', 'De fiore', 'De laurentis', 'De luca', 'De palma', 'De rege', 'De santis', 'De vitis', 'Di antonio', 'Di caprio', 'Di mercurio', 'Dinapoli', 'Dioli', 'Di pasqua', 'Di pietro', 'Di stefano', 'Donati', \"D'onofrio\", 'Drago', 'Durante', 'Elena', 'Episcopo', 'Ermacora', 'Esposito', 'Evangelista', 'Fabbri', 'Fabbro', 'Falco', 'Faraldo', 'Farina', 'Farro', 'Fattore', 'Fausti', 'Fava', 'Favero', 'Fermi', 'Ferrara', 'Ferrari', 'Ferraro', 'Ferrero', 'Ferro', 'Fierro', 'Filippi', 'Fini', 'Fiore', 'Fiscella', 'Fiscella', 'Fonda', 'Fontana', 'Fortunato', 'Franco', 'Franzese', 'Furlan', 'Gabrielli', 'Gagliardi', 'Gallo', 'Ganza', 'Garfagnini', 'Garofalo', 'Gaspari', 'Gatti', 'Genovese', 'Gentile', 'Germano', 'Giannino', 'Gimondi', 'Giordano', 'Gismondi', 'Giugovaz', 'Giunta', 'Goretti', 'Gori', 'Greco', 'Grillo', 'Grimaldi', 'Gronchi', 'Guarneri', 'Guerra', 'Guerriero', 'Guidi', 'Guttuso', 'Idoni', 'Innocenti', 'Labriola', 'Laconi', 'Lagana', 'Lagomarsino', 'Lagorio', 'Laguardia', 'Lama', 'Lamberti', 'Lamon', 'Landi', 'Lando', 'Landolfi', 'Laterza', 'Laurito', 'Lazzari', 'Lecce', 'Leccese', 'Leggieri', 'Lemmi', 'Leone', 'Leoni', 'Lippi', 'Locatelli', 'Lombardi', 'Longo', 'Lupo', 'Luzzatto', 'Maestri', 'Magro', 'Mancini', 'Manco', 'Mancuso', 'Manfredi', 'Manfredonia', 'Mantovani', 'Marchegiano', 'Marchesi', 'Marchetti', 'Marchioni', 'Marconi', 'Mari', 'Maria', 'Mariani', 'Marino', 'Marmo', 'Martelli', 'Martinelli', 'Masi', 'Masin', 'Mazza', 'Merlo', 'Messana', 'Micheli', 'Milani', 'Milano', 'Modugno', 'Mondadori', 'Mondo', 'Montagna', 'Montana', 'Montanari', 'Monte', 'Monti', 'Morandi', 'Morello', 'Moretti', 'Morra', 'Moschella', 'Mosconi', 'Motta', 'Muggia', 'Muraro', 'Murgia', 'Murtas', 'Nacar', 'Naggi', 'Naggia', 'Naldi', 'Nana', 'Nani', 'Nanni', 'Nannini', 'Napoleoni', 'Napoletani', 'Napoliello', 'Nardi', 'Nardo', 'Nardovino', 'Nasato', 'Nascimbene', 'Nascimbeni', 'Natale', 'Nave', 'Nazario', 'Necchi', 'Negri', 'Negrini', 'Nelli', 'Nenci', 'Nepi', 'Neri', 'Neroni', 'Nervetti', 'Nervi', 'Nespola', 'Nicastro', 'Nicchi', 'Nicodemo', 'Nicolai', 'Nicolosi', 'Nicosia', 'Nicotera', 'Nieddu', 'Nieri', 'Nigro', 'Nisi', 'Nizzola', 'Noschese', 'Notaro', 'Notoriano', 'Oberti', 'Oberto', 'Ongaro', 'Orlando', 'Orsini', 'Pace', 'Padovan', 'Padovano', 'Pagani', 'Pagano', 'Palladino', 'Palmisano', 'Palumbo', 'Panzavecchia', 'Parisi', 'Parma', 'Parodi', 'Parri', 'Parrino', 'Passerini', 'Pastore', 'Paternoster', 'Pavesi', 'Pavone', 'Pavoni', 'Pecora', 'Pedrotti', 'Pellegrino', 'Perugia', 'Pesaresi', 'Pesaro', 'Pesce', 'Petri', 'Pherigo', 'Piazza', 'Piccirillo', 'Piccoli', 'Pierno', 'Pietri', 'Pini', 'Piovene', 'Piraino', 'Pisani', 'Pittaluga', 'Poggi', 'Poggio', 'Poletti', 'Pontecorvo', 'Portelli', 'Porto', 'Portoghese', 'Potenza', 'Pozzi', 'Profeta', 'Prosdocimi', 'Provenza', 'Provenzano', 'Pugliese', 'Quaranta', 'Quattrocchi', 'Ragno', 'Raimondi', 'Rais', 'Rana', 'Raneri', 'Rao', 'Rapallino', 'Ratti', 'Ravenna', 'Re', 'Ricchetti', 'Ricci', 'Riggi', 'Righi', 'Rinaldi', 'Riva', 'Rizzo', 'Robustelli', 'Rocca', 'Rocchi', 'Rocco', 'Roma', 'Roma', 'Romagna', 'Romagnoli', 'Romano', 'Romano', 'Romero', 'Roncalli', 'Ronchi', 'Rosa', 'Rossi', 'Rossini', 'Rotolo', 'Rovigatti', 'Ruggeri', 'Russo', 'Rustici', 'Ruzzier', 'Sabbadin', 'Sacco', 'Sala', 'Salomon', 'Salucci', 'Salvaggi', 'Salvai', 'Salvail', 'Salvatici', 'Salvay', 'Sanna', 'Sansone', 'Santini', 'Santoro', 'Sapienti', 'Sarno', 'Sarti', 'Sartini', 'Sarto', 'Savona', 'Scarpa', 'Scarsi', 'Scavo', 'Sciacca', 'Sciacchitano', 'Sciarra', 'Scordato', 'Scotti', 'Scutese', 'Sebastiani', 'Sebastino', 'Segreti', 'Selmone', 'Selvaggio', 'Serafin', 'Serafini', 'Serpico', 'Sessa', 'Sgro', 'Siena', 'Silvestri', 'Sinagra', 'Sinagra', 'Soldati', 'Somma', 'Sordi', 'Soriano', 'Sorrentino', 'Spada', 'Spano', 'Sparacello', 'Speziale', 'Spini', 'Stabile', 'Stablum', 'Stilo', 'Sultana', 'Tafani', 'Tamaro', 'Tamboia', 'Tanzi', 'Tarantino', 'Taverna', 'Tedesco', 'Terranova', 'Terzi', 'Tessaro', 'Testa', 'Tiraboschi', 'Tivoli', 'Todaro', 'Toloni', 'Tornincasa', 'Toselli', 'Tosetti', 'Tosi', 'Tosto', 'Trapani', 'Traversa', 'Traversi', 'Traversini', 'Traverso', 'Trucco', 'Trudu', 'Tumicelli', 'Turati', 'Turchi', 'Uberti', 'Uccello', 'Uggeri', 'Ughi', 'Ungaretti', 'Ungaro', 'Vacca', 'Vaccaro', 'Valenti', 'Valentini', 'Valerio', 'Varano', 'Ventimiglia', 'Ventura', 'Verona', 'Veronesi', 'Vescovi', 'Vespa', 'Vestri', 'Vicario', 'Vico', 'Vigo', 'Villa', 'Vinci', 'Vinci', 'Viola', 'Vitali', 'Viteri', 'Voltolini', 'Zambrano', 'Zanetti', 'Zangari', 'Zappa', 'Zeni', 'Zini', 'Zino', 'Zunino'], 'Japanese': ['Abe', 'Abukara', 'Adachi', 'Aida', 'Aihara', 'Aizawa', 'Ajibana', 'Akaike', 'Akamatsu', 'Akatsuka', 'Akechi', 'Akera', 'Akimoto', 'Akita', 'Akiyama', 'Akutagawa', 'Amagawa', 'Amaya', 'Amori', 'Anami', 'Ando', 'Anzai', 'Aoki', 'Arai', 'Arakawa', 'Araki', 'Arakida', 'Arato', 'Arihyoshi', 'Arishima', 'Arita', 'Ariwa', 'Ariwara', 'Asahara', 'Asahi', 'Asai', 'Asano', 'Asanuma', 'Asari', 'Ashia', 'Ashida', 'Ashikaga', 'Asuhara', 'Atshushi', 'Ayabito', 'Ayugai', 'Baba', 'Baisotei', 'Bando', 'Bunya', 'Chiba', 'Chikamatsu', 'Chikanatsu', 'Chino', 'Chishu', 'Choshi', 'Daishi', 'Dan', 'Date', 'Dazai', 'Deguchi', 'Deushi', 'Doi', 'Ebina', 'Ebisawa', 'Eda', 'Egami', 'Eguchi', 'Ekiguchi', 'Endo', 'Endoso', 'Enoki', 'Enomoto', 'Erizawa', 'Eto', 'Etsuko', 'Ezakiya', 'Fuchida', 'Fugunaga', 'Fujikage', 'Fujimaki', 'Fujimoto', 'Fujioka', 'Fujishima', 'Fujita', 'Fujiwara', 'Fukao', 'Fukayama', 'Fukuda', 'Fukumitsu', 'Fukunaka', 'Fukuoka', 'Fukusaku', 'Fukushima', 'Fukuyama', 'Fukuzawa', 'Fumihiko', 'Funabashi', 'Funaki', 'Funakoshi', 'Furusawa', 'Fuschida', 'Fuse', 'Futabatei', 'Fuwa', 'Gakusha', 'Genda', 'Genji', 'Gensai', 'Godo', 'Goto', 'Gushiken', 'Hachirobei', 'Haga', 'Hagino', 'Hagiwara', 'Hama', 'Hamacho', 'Hamada', 'Hamaguchi', 'Hamamoto', 'Hanabusa', 'Hanari', 'Handa', 'Hara', 'Harada', 'Haruguchi', 'Hasegawa', 'Hasekura', 'Hashimoto', 'Hasimoto', 'Hatakeda', 'Hatakeyama', 'Hatayama', 'Hatoyama', 'Hattori', 'Hayakawa', 'Hayami', 'Hayashi', 'Hayashida', 'Hayata', 'Hayuata', 'Hida', 'Hideaki', 'Hideki', 'Hideyoshi', 'Higashikuni', 'Higashiyama', 'Higo', 'Higoshi', 'Higuchi', 'Hike', 'Hino', 'Hira', 'Hiraga', 'Hiraki', 'Hirano', 'Hiranuma', 'Hiraoka', 'Hirase', 'Hirasi', 'Hirata', 'Hiratasuka', 'Hirayama', 'Hiro', 'Hirose', 'Hirota', 'Hiroyuki', 'Hisamatsu', 'Hishida', 'Hishikawa', 'Hitomi', 'Hiyama', 'Hohki', 'Hojo', 'Hokusai', 'Honami', 'Honda', 'Hori', 'Horigome', 'Horigoshi', 'Horiuchi', 'Horri', 'Hoshino', 'Hosokawa', 'Hosokaya', 'Hotate', 'Hotta', 'Hyata', 'Hyobanshi', 'Ibi', 'Ibu', 'Ibuka', 'Ichigawa', 'Ichihara', 'Ichikawa', 'Ichimonji', 'Ichiro', 'Ichisada', 'Ichiyusai', 'Idane', 'Iemochi', 'Ienari', 'Iesada', 'Ieyasu', 'Ieyoshi', 'Igarashi', 'Ihara', 'Ii', 'Iida', 'Iijima', 'Iitaka', 'Ijichi', 'Ijiri', 'Ikeda', 'Ikina', 'Ikoma', 'Imada', 'Imagawa', 'Imai', 'Imaizumi', 'Imamura', 'Imoo', 'Ina', 'Inaba', 'Inao', 'Inihara', 'Ino', 'Inoguchi', 'Inokuma', 'Inoue', 'Inouye', 'Inukai', 'Ippitsusai', 'Irie', 'Iriye', 'Isayama', 'Ise', 'Iseki', 'Iseya', 'Ishibashi', 'Ishida', 'Ishiguro', 'Ishihara', 'Ishikawa', 'Ishimaru', 'Ishimura', 'Ishinomori', 'Ishiyama', 'Isobe', 'Isoda', 'Isozaki', 'Itagaki', 'Itami', 'Ito', 'Itoh', 'Iwahara', 'Iwahashi', 'Iwakura', 'Iwasa', 'Iwasaki', 'Izumi', 'Jimbo', 'Jippensha', 'Jo', 'Joshuya', 'Joshuyo', 'Jukodo', 'Jumonji', 'Kada', 'Kagabu', 'Kagawa', 'Kahae', 'Kahaya', 'Kaibara', 'Kaima', 'Kajahara', 'Kajitani', 'Kajiwara', 'Kajiyama', 'Kakinomoto', 'Kakutama', 'Kamachi', 'Kamata', 'Kaminaga', 'Kamio', 'Kamioka', 'Kamisaka', 'Kamo', 'Kamon', 'Kan', 'Kanada', 'Kanagaki', 'Kanegawa', 'Kaneko', 'Kanesaka', 'Kano', 'Karamorita', 'Karube', 'Karubo', 'Kasahara', 'Kasai', 'Kasamatsu', 'Kasaya', 'Kase', 'Kashiwagi', 'Kasuse', 'Kataoka', 'Katayama', 'Katayanagi', 'Kate', 'Kato', 'Katoaka', 'Katsu', 'Katsukawa', 'Katsumata', 'Katsura', 'Katsushika', 'Kawabata', 'Kawachi', 'Kawagichi', 'Kawagishi', 'Kawaguchi', 'Kawai', 'Kawaii', 'Kawakami', 'Kawamata', 'Kawamura', 'Kawasaki', 'Kawasawa', 'Kawashima', 'Kawasie', 'Kawatake', 'Kawate', 'Kawayama', 'Kawazu', 'Kaza', 'Kazuyoshi', 'Kenkyusha', 'Kenmotsu', 'Kentaro', 'Ki', 'Kido', 'Kihara', 'Kijimuta', 'Kijmuta', 'Kikkawa', 'Kikuchi', 'Kikugawa', 'Kikui', 'Kikutake', 'Kimio', 'Kimiyama', 'Kimura', 'Kinashita', 'Kinoshita', 'Kinugasa', 'Kira', 'Kishi', 'Kiski', 'Kita', 'Kitabatake', 'Kitagawa', 'Kitamura', 'Kitano', 'Kitao', 'Kitoaji', 'Ko', 'Kobayashi', 'Kobi', 'Kodama', 'Koga', 'Kogara', 'Kogo', 'Koguchi', 'Koiso', 'Koizumi', 'Kojima', 'Kokan', 'Komagata', 'Komatsu', 'Komatsuzaki', 'Komine', 'Komiya', 'Komon', 'Komura', 'Kon', 'Konae', 'Konda', 'Kondo', 'Konishi', 'Kono', 'Konoe', 'Koruba', 'Koshin', 'Kotara', 'Kotoku', 'Koyama', 'Koyanagi', 'Kozu', 'Kubo', 'Kubota', 'Kudara', 'Kudo', 'Kuga', 'Kumagae', 'Kumasaka', 'Kunda', 'Kunikida', 'Kunisada', 'Kuno', 'Kunomasu', 'Kuramochi', 'Kuramoto', 'Kurata', 'Kurkawa', 'Kurmochi', 'Kuroda', 'Kurofuji', 'Kurogane', 'Kurohiko', 'Kuroki', 'Kurosawa', 'Kurusu', 'Kusatsu', 'Kusonoki', 'Kusuhara', 'Kusunoki', 'Kuwabara', 'Kwakami', 'Kyubei', 'Maeda', 'Maehata', 'Maeno', 'Maita', 'Makiguchi', 'Makino', 'Makioka', 'Makuda', 'Marubeni', 'Marugo', 'Marusa', 'Maruya', 'Maruyama', 'Masanobu', 'Masaoka', 'Mashita', 'Masoni', 'Masudu', 'Masuko', 'Masuno', 'Masuzoe', 'Matano', 'Matokai', 'Matoke', 'Matsuda', 'Matsukata', 'Matsuki', 'Matsumara', 'Matsumoto', 'Matsumura', 'Matsuo', 'Matsuoka', 'Matsura', 'Matsushina', 'Matsushita', 'Matsuya', 'Matsuzawa', 'Mayuzumi', 'Mazaki', 'Mazawa', 'Mazuka', 'Mifune', 'Mihashi', 'Miki', 'Mimasuya', 'Minabuchi', 'Minami', 'Minamoto', 'Minatoya', 'Minobe', 'Mishima', 'Mitsubishi', 'Mitsuharu', 'Mitsui', 'Mitsukuri', 'Mitsuwa', 'Mitsuya', 'Mitzusaka', 'Miura', 'Miwa', 'Miyagi', 'Miyahara', 'Miyajima', 'Miyake', 'Miyamae', 'Miyamoto', 'Miyazaki', 'Miyazawa', 'Miyoshi', 'Mizoguchi', 'Mizumaki', 'Mizuno', 'Mizutani', 'Modegi', 'Momotami', 'Momotani', 'Monomonoi', 'Mori', 'Moriguchi', 'Morimoto', 'Morinaga', 'Morioka', 'Morishita', 'Morisue', 'Morita', 'Morri', 'Moto', 'Motoori', 'Motoyoshi', 'Munakata', 'Munkata', 'Muraguchi', 'Murakami', 'Muraoka', 'Murasaki', 'Murase', 'Murata', 'Murkami', 'Muro', 'Muruyama', 'Mushanaokoji', 'Mushashibo', 'Muso', 'Mutsu', 'Nagahama', 'Nagai', 'Nagano', 'Nagasawa', 'Nagase', 'Nagata', 'Nagatsuka', 'Nagumo', 'Naito', 'Nakada', 'Nakadai', 'Nakadan', 'Nakae', 'Nakagawa', 'Nakahara', 'Nakajima', 'Nakamoto', 'Nakamura', 'Nakane', 'Nakanishi', 'Nakano', 'Nakanoi', 'Nakao', 'Nakasato', 'Nakasawa', 'Nakasone', 'Nakata', 'Nakatoni', 'Nakayama', 'Nakazawa', 'Namiki', 'Nanami', 'Narahashi', 'Narato', 'Narita', 'Nataga', 'Natsume', 'Nawabe', 'Nemoto', 'Niijima', 'Nijo', 'Ninomiya', 'Nishi', 'Nishihara', 'Nishikawa', 'Nishimoto', 'Nishimura', 'Nishimuraya', 'Nishio', 'Nishiwaki', 'Nitta', 'Nobunaga', 'Noda', 'Nogi', 'Noguchi', 'Nogushi', 'Nomura', 'Nonomura', 'Noro', 'Nosaka', 'Nose', 'Nozaki', 'Nozara', 'Numajiri', 'Numata', 'Obata', 'Obinata', 'Obuchi', 'Ochiai', 'Ochida', 'Odaka', 'Ogata', 'Ogiwara', 'Ogura', 'Ogyu', 'Ohba', 'Ohira', 'Ohishi', 'Ohka', 'Ohmae', 'Ohmiya', 'Oichi', 'Oinuma', 'Oishi', 'Okabe', 'Okada', 'Okakura', 'Okamoto', 'Okamura', 'Okanao', 'Okanaya', 'Okano', 'Okasawa', 'Okawa', 'Okazaki', 'Okazawaya', 'Okimasa', 'Okimoto', 'Okita', 'Okubo', 'Okuda', 'Okui', 'Okuma', 'Okuma', 'Okumura', 'Okura', 'Omori', 'Omura', 'Onishi', 'Ono', 'Onoda', 'Onoe', 'Onohara', 'Ooka', 'Osagawa', 'Osaragi', 'Oshima', 'Oshin', 'Ota', 'Otaka', 'Otake', 'Otani', 'Otomo', 'Otsu', 'Otsuka', 'Ouchi', 'Oyama', 'Ozaki', 'Ozawa', 'Ozu', 'Raikatuji', 'Royama', 'Ryusaki', 'Sada', 'Saeki', 'Saga', 'Saigo', 'Saiki', 'Saionji', 'Saito', 'Saitoh', 'Saji', 'Sakagami', 'Sakai', 'Sakakibara', 'Sakamoto', 'Sakanoue', 'Sakata', 'Sakiyurai', 'Sakoda', 'Sakubara', 'Sakuraba', 'Sakurai', 'Sammiya', 'Sanda', 'Sanjo', 'Sano', 'Santo', 'Saromi', 'Sarumara', 'Sasada', 'Sasakawa', 'Sasaki', 'Sassa', 'Satake', 'Sato', 'Satoh', 'Satoya', 'Sawamatsu', 'Sawamura', 'Sayuki', 'Segawa', 'Sekigawa', 'Sekine', 'Sekozawa', 'Sen', 'Senmatsu', 'Seo', 'Serizawa', 'Shiba', 'Shibaguchi', 'Shibanuma', 'Shibasaki', 'Shibasawa', 'Shibata', 'Shibukji', 'Shichirobei', 'Shidehara', 'Shiga', 'Shiganori', 'Shige', 'Shigeki', 'Shigemitsu', 'Shigi', 'Shikitei', 'Shikuk', 'Shima', 'Shimada', 'Shimakage', 'Shimamura', 'Shimanouchi', 'Shimaoka', 'Shimazaki', 'Shimazu', 'Shimedzu', 'Shimizu', 'Shimohira', 'Shimon', 'Shimura', 'Shimuzu', 'Shinko', 'Shinozaki', 'Shinozuka', 'Shintaro', 'Shiokawa', 'Shiomi', 'Shiomiya', 'Shionoya', 'Shiotani', 'Shioya', 'Shirahata', 'Shirai', 'Shiraishi', 'Shirane', 'Shirasu', 'Shiratori', 'Shirokawa', 'Shiroyama', 'Shiskikura', 'Shizuma', 'Shobo', 'Shoda', 'Shunji', 'Shunsen', 'Siagyo', 'Soga', 'Sohda', 'Soho', 'Soma', 'Someya', 'Sone', 'Sonoda', 'Soseki', 'Sotomura', 'Suenami', 'Sugai', 'Sugase', 'Sugawara', 'Sugihara', 'Sugimura', 'Sugisata', 'Sugita', 'Sugitani', 'Sugiyama', 'Sumitimo', 'Sunada', 'Suzambo', 'Suzuki', 'Tabuchi', 'Tadeshi', 'Tagawa', 'Taguchi', 'Taira', 'Taka', 'Takabe', 'Takagaki', 'Takagawa', 'Takagi', 'Takahama', 'Takahashi', 'Takaki', 'Takamura', 'Takano', 'Takaoka', 'Takara', 'Takarabe', 'Takashi', 'Takashita', 'Takasu', 'Takasugi', 'Takayama', 'Takecare', 'Takeda', 'Takei', 'Takekawa', 'Takemago', 'Takemitsu', 'Takemura', 'Takenouchi', 'Takeshita', 'Taketomo', 'Takeuchi', 'Takewaki', 'Takimoto', 'Takishida', 'Takishita', 'Takizawa', 'Taku', 'Takudo', 'Takudome', 'Tamazaki', 'Tamura', 'Tamuro', 'Tanaka', 'Tange', 'Tani', 'Taniguchi', 'Tanizaki', 'Tankoshitsu', 'Tansho', 'Tanuma', 'Tarumi', 'Tatenaka', 'Tatsuko', 'Tatsuno', 'Tatsuya', 'Tawaraya', 'Tayama', 'Temko', 'Tenshin', 'Terada', 'Terajima', 'Terakado', 'Terauchi', 'Teshigahara', 'Teshima', 'Tochikura', 'Togo', 'Tojo', 'Tokaji', 'Tokuda', 'Tokudome', 'Tokuoka', 'Tomika', 'Tomimoto', 'Tomioka', 'Tommii', 'Tomonaga', 'Tomori', 'Tono', 'Torii', 'Torisei', 'Toru', 'Toshishai', 'Toshitala', 'Toshusai', 'Toyama', 'Toyoda', 'Toyoshima', 'Toyota', 'Toyotomi', 'Tsubouchi', 'Tsucgimoto', 'Tsuchie', 'Tsuda', 'Tsuji', 'Tsujimoto', 'Tsujimura', 'Tsukada', 'Tsukade', 'Tsukahara', 'Tsukamoto', 'Tsukatani', 'Tsukawaki', 'Tsukehara', 'Tsukioka', 'Tsumemasa', 'Tsumura', 'Tsunoda', 'Tsurimi', 'Tsuruga', 'Tsuruya', 'Tsushima', 'Tsutaya', 'Tsutomu', 'Uboshita', 'Uchida', 'Uchiyama', 'Ueda', 'Uehara', 'Uemura', 'Ueshima', 'Uesugi', 'Uetake', 'Ugaki', 'Ui', 'Ukiyo', 'Umari', 'Umehara', 'Umeki', 'Uno', 'Uoya', 'Urogataya', 'Usami', 'Ushiba', 'Utagawa', 'Wakai', 'Wakatsuki', 'Watabe', 'Watanabe', 'Watari', 'Watnabe', 'Watoga', 'Yakuta', 'Yamabe', 'Yamada', 'Yamagata', 'Yamaguchi', 'Yamaguchiya', 'Yamaha', 'Yamahata', 'Yamakage', 'Yamakawa', 'Yamakazi', 'Yamamoto', 'Yamamura', 'Yamana', 'Yamanaka', 'Yamanouchi', 'Yamanoue', 'Yamaoka', 'Yamashita', 'Yamato', 'Yamawaki', 'Yamazaki', 'Yamhata', 'Yamura', 'Yanagawa', 'Yanagi', 'Yanagimoto', 'Yanagita', 'Yano', 'Yasuda', 'Yasuhiro', 'Yasui', 'Yasujiro', 'Yasukawa', 'Yasutake', 'Yoemon', 'Yokokawa', 'Yokoyama', 'Yonai', 'Yosano', 'Yoshida', 'Yoshifumi', 'Yoshihara', 'Yoshikawa', 'Yoshimatsu', 'Yoshinobu', 'Yoshioka', 'Yoshitomi', 'Yoshizaki', 'Yoshizawa', 'Yuasa', 'Yuhara', 'Yunokawa'], 'Chinese': ['Ang', 'AuYong', 'Bai', 'Ban', 'Bao', 'Bei', 'Bian', 'Bui', 'Cai', 'Cao', 'Cen', 'Chai', 'Chaim', 'Chan', 'Chang', 'Chao', 'Che', 'Chen', 'Cheng', 'Cheung', 'Chew', 'Chieu', 'Chin', 'Chong', 'Chou', 'Chu', 'Cui', 'Dai', 'Deng', 'Ding', 'Dong', 'Dou', 'Duan', 'Eng', 'Fan', 'Fei', 'Feng', 'Foong', 'Fung', 'Gan', 'Gauk', 'Geng', 'Gim', 'Gok', 'Gong', 'Guan', 'Guang', 'Guo', 'Gwock', 'Han', 'Hang', 'Hao', 'Hew', 'Hiu', 'Hong', 'Hor', 'Hsiao', 'Hua', 'Huan', 'Huang', 'Hui', 'Huie', 'Huo', 'Jia', 'Jiang', 'Jin', 'Jing', 'Joe', 'Kang', 'Kau', 'Khoo', 'Khu', 'Kong', 'Koo', 'Kwan', 'Kwei', 'Kwong', 'Lai', 'Lam', 'Lang', 'Lau', 'Law', 'Lew', 'Lian', 'Liao', 'Lim', 'Lin', 'Ling', 'Liu', 'Loh', 'Long', 'Loong', 'Luo', 'Mah', 'Mai', 'Mak', 'Mao', 'Mar', 'Mei', 'Meng', 'Miao', 'Min', 'Ming', 'Moy', 'Mui', 'Nie', 'Niu', 'OuYang', 'OwYang', 'Pan', 'Pang', 'Pei', 'Peng', 'Ping', 'Qian', 'Qin', 'Qiu', 'Quan', 'Que', 'Ran', 'Rao', 'Rong', 'Ruan', 'Sam', 'Seah', 'See ', 'Seow', 'Seto', 'Sha', 'Shan', 'Shang', 'Shao', 'Shaw', 'She', 'Shen', 'Sheng', 'Shi', 'Shu', 'Shuai', 'Shui', 'Shum', 'Siew', 'Siu', 'Song', 'Sum', 'Sun', 'Sze ', 'Tan', 'Tang', 'Tao', 'Teng', 'Teoh', 'Thean', 'Thian', 'Thien', 'Tian', 'Tong', 'Tow', 'Tsang', 'Tse', 'Tsen', 'Tso', 'Tze', 'Wan', 'Wang', 'Wei', 'Wen', 'Weng', 'Won', 'Wong', 'Woo', 'Xiang', 'Xiao', 'Xie', 'Xing', 'Xue', 'Xun', 'Yan', 'Yang', 'Yao', 'Yap', 'Yau', 'Yee', 'Yep', 'Yim', 'Yin', 'Ying', 'Yong', 'You', 'Yuan', 'Zang', 'Zeng', 'Zha', 'Zhan', 'Zhang', 'Zhao', 'Zhen', 'Zheng', 'Zhong', 'Zhou', 'Zhu', 'Zhuo', 'Zong', 'Zou', 'Bing', 'Chi', 'Chu', 'Cong', 'Cuan', 'Dan', 'Fei', 'Feng', 'Gai', 'Gao', 'Gou', 'Guan', 'Gui', 'Guo', 'Hong', 'Hou', 'Huan', 'Jian', 'Jiao', 'Jin', 'Jiu', 'Juan', 'Jue', 'Kan', 'Kuai', 'Kuang', 'Kui', 'Lao', 'Liang', 'Lu', 'Luo', 'Man', 'Nao', 'Pian', 'Qiao', 'Qing', 'Qiu', 'Rang', 'Rui', 'She', 'Shi', 'Shuo', 'Sui', 'Tai', 'Wan', 'Wei', 'Xian', 'Xie', 'Xin', 'Xing', 'Xiong', 'Xuan', 'Yan', 'Yin', 'Ying', 'Yuan', 'Yue', 'Yun', 'Zha', 'Zhai', 'Zhang', 'Zhi', 'Zhuan', 'Zhui'], 'Scottish': ['Smith', 'Brown', 'Wilson', 'Campbell', 'Stewart', 'Thomson', 'Robertson', 'Anderson', 'Macdonald', 'Scott', 'Reid', 'Murray', 'Taylor', 'Clark', 'Ross', 'Watson', 'Morrison', 'Paterson', 'Young', 'Mitchell', 'Walker', 'Fraser', 'Miller', 'Mcdonald', 'Gray', 'Henderson', 'Hamilton', 'Johnston', 'Duncan', 'Graham', 'Ferguson', 'Kerr', 'Davidson', 'Bell', 'Cameron', 'Kelly', 'Martin', 'Hunter', 'Allan', 'Mackenzie', 'Grant', 'Simpson', 'Mackay', 'Mclean', 'Macleod', 'Black', 'Russell', 'Marshall', 'Wallace', 'Gibson', 'Kennedy', 'Gordon', 'Burns', 'Sutherland', 'Stevenson', 'Munro', 'Milne', 'Watt', 'Murphy', 'Craig', 'Wood', 'Muir', 'Wright', 'Mckenzie', 'Ritchie', 'Johnstone', 'Sinclair', 'White', 'Mcmillan', 'Williamson', 'Dickson', 'Hughes', 'Cunningham', 'Mckay', 'Bruce', 'Millar', 'Crawford', 'Mcintosh', 'Douglas', 'Docherty', 'King', 'Jones', 'Boyle', 'Fleming', 'Mcgregor', 'Aitken', 'Christie', 'Shaw', 'Maclean', 'Jamieson', 'Mcintyre', 'Hay', 'Lindsay', 'Alexander', 'Ramsay', 'Mccallum', 'Whyte', 'Jackson', 'Mclaughlin', 'Hill']}\n",
            "['Greek', 'Polish', 'English', 'Arabic', 'Korean', 'Spanish', 'German', 'Portuguese', 'Vietnamese', 'Irish', 'Russian', 'French', 'Dutch', 'Czech', 'Italian', 'Japanese', 'Chinese', 'Scottish']\n"
          ]
        }
      ],
      "source": [
        "from __future__ import unicode_literals, print_function, division\n",
        "from io import open\n",
        "import glob\n",
        "import random\n",
        "import os\n",
        "\n",
        "def findFiles(path): return glob.glob(path)\n",
        "\n",
        "print(findFiles('data/names/*.txt'))\n",
        "\n",
        "import unicodedata\n",
        "import string\n",
        "\n",
        "all_letters = string.ascii_letters + \" .,;'\"\n",
        "n_letters = len(all_letters)\n",
        "print(n_letters)\n",
        "\n",
        "# Turn a Unicode string to plain ASCII, thanks to https://stackoverflow.com/a/518232/2809427\n",
        "def unicodeToAscii(s):\n",
        "    return ''.join(\n",
        "        c for c in unicodedata.normalize('NFD', s)\n",
        "        if unicodedata.category(c) != 'Mn'\n",
        "        and c in all_letters\n",
        "    )\n",
        "\n",
        "print(unicodeToAscii('Ślusàrski'))\n",
        "\n",
        "# Build the category_lines dictionary, a list of names per language\n",
        "category_lines = {}\n",
        "all_categories = []\n",
        "\n",
        "# Read a file and split into lines\n",
        "def readLines(filename):\n",
        "    lines = open(filename, encoding='utf-8').read().strip().split('\\n')\n",
        "    return [unicodeToAscii(line) for line in lines]\n",
        "\n",
        "for filename in findFiles('data/names/*.txt'):\n",
        "    category = os.path.splitext(os.path.basename(filename))[0]\n",
        "    all_categories.append(category)\n",
        "    lines = readLines(filename)\n",
        "    category_lines[category] = lines\n",
        "\n",
        "n_categories = len(all_categories)\n",
        "\n",
        "print(category_lines)\n",
        "\n",
        "\n",
        "# print(len(all_categories))\n",
        "print(all_categories)"
      ]
    },
    {
      "cell_type": "code",
      "execution_count": null,
      "metadata": {
        "colab": {
          "base_uri": "https://localhost:8080/"
        },
        "id": "UlP9UgztGYyp",
        "outputId": "aadb6b3a-1303-4c25-f733-eb5427128cc3"
      },
      "outputs": [
        {
          "name": "stdout",
          "output_type": "stream",
          "text": [
            "203\n",
            "139\n",
            "3668\n",
            "2000\n",
            "94\n",
            "298\n",
            "724\n",
            "74\n",
            "73\n",
            "232\n",
            "9408\n",
            "277\n",
            "297\n",
            "519\n",
            "709\n",
            "991\n",
            "268\n",
            "100\n"
          ]
        }
      ],
      "source": [
        "for i in category_lines:\n",
        "  print(len(category_lines[i]))"
      ]
    },
    {
      "cell_type": "code",
      "execution_count": null,
      "metadata": {
        "colab": {
          "base_uri": "https://localhost:8080/"
        },
        "id": "lWjAASoT1WP8",
        "outputId": "2fa2d1b0-48ab-4263-ed7e-c9fad187049f"
      },
      "outputs": [
        {
          "data": {
            "text/plain": [
              "(\"abcdefghijklmnopqrstuvwxyzABCDEFGHIJKLMNOPQRSTUVWXYZ .,;'\",\n",
              " ['Greek',\n",
              "  'Polish',\n",
              "  'English',\n",
              "  'Arabic',\n",
              "  'Korean',\n",
              "  'Spanish',\n",
              "  'German',\n",
              "  'Portuguese',\n",
              "  'Vietnamese',\n",
              "  'Irish',\n",
              "  'Russian',\n",
              "  'French',\n",
              "  'Dutch',\n",
              "  'Czech',\n",
              "  'Italian',\n",
              "  'Japanese',\n",
              "  'Chinese',\n",
              "  'Scottish'])"
            ]
          },
          "execution_count": 7,
          "metadata": {},
          "output_type": "execute_result"
        }
      ],
      "source": [
        "all_letters, all_categories"
      ]
    },
    {
      "cell_type": "markdown",
      "metadata": {
        "id": "CKYe-VYRzMUY"
      },
      "source": [
        "\n",
        "\n",
        "* To represent a single letter, we use a “one-hot vector” of size <1 x n_letters>. A one-hot vector is filled with 0s except for a 1 at index of the current letter, e.g. \"b\" = <0 1 0 0 0 ...>.\n",
        "* To make a word we join a bunch of those into a 2D matrix <line_length x 1 x n_letters>.\n",
        "\n",
        "\n",
        "\n",
        "\n"
      ]
    },
    {
      "cell_type": "code",
      "execution_count": null,
      "metadata": {
        "id": "kns5TUaIm1Iu"
      },
      "outputs": [],
      "source": [
        "ll=[]\n",
        "for key in category_lines:\n",
        "  for i in range(len(category_lines[key])):\n",
        "    ll.append([key,category_lines[key][i]])\n"
      ]
    },
    {
      "cell_type": "code",
      "execution_count": null,
      "metadata": {
        "colab": {
          "base_uri": "https://localhost:8080/",
          "height": 423
        },
        "id": "tx2qMMjjmtty",
        "outputId": "2ffa20a4-d2cc-48f7-ddd7-e772a422bc59"
      },
      "outputs": [
        {
          "data": {
            "text/html": [
              "\n",
              "  <div id=\"df-20656d60-6bec-4129-802a-10a6d3f2f6ee\">\n",
              "    <div class=\"colab-df-container\">\n",
              "      <div>\n",
              "<style scoped>\n",
              "    .dataframe tbody tr th:only-of-type {\n",
              "        vertical-align: middle;\n",
              "    }\n",
              "\n",
              "    .dataframe tbody tr th {\n",
              "        vertical-align: top;\n",
              "    }\n",
              "\n",
              "    .dataframe thead th {\n",
              "        text-align: right;\n",
              "    }\n",
              "</style>\n",
              "<table border=\"1\" class=\"dataframe\">\n",
              "  <thead>\n",
              "    <tr style=\"text-align: right;\">\n",
              "      <th></th>\n",
              "      <th>class</th>\n",
              "      <th>name</th>\n",
              "    </tr>\n",
              "  </thead>\n",
              "  <tbody>\n",
              "    <tr>\n",
              "      <th>0</th>\n",
              "      <td>Greek</td>\n",
              "      <td>Adamidis</td>\n",
              "    </tr>\n",
              "    <tr>\n",
              "      <th>1</th>\n",
              "      <td>Greek</td>\n",
              "      <td>Adamou</td>\n",
              "    </tr>\n",
              "    <tr>\n",
              "      <th>2</th>\n",
              "      <td>Greek</td>\n",
              "      <td>Agelakos</td>\n",
              "    </tr>\n",
              "    <tr>\n",
              "      <th>3</th>\n",
              "      <td>Greek</td>\n",
              "      <td>Akrivopoulos</td>\n",
              "    </tr>\n",
              "    <tr>\n",
              "      <th>4</th>\n",
              "      <td>Greek</td>\n",
              "      <td>Alexandropoulos</td>\n",
              "    </tr>\n",
              "    <tr>\n",
              "      <th>...</th>\n",
              "      <td>...</td>\n",
              "      <td>...</td>\n",
              "    </tr>\n",
              "    <tr>\n",
              "      <th>20069</th>\n",
              "      <td>Scottish</td>\n",
              "      <td>Mccallum</td>\n",
              "    </tr>\n",
              "    <tr>\n",
              "      <th>20070</th>\n",
              "      <td>Scottish</td>\n",
              "      <td>Whyte</td>\n",
              "    </tr>\n",
              "    <tr>\n",
              "      <th>20071</th>\n",
              "      <td>Scottish</td>\n",
              "      <td>Jackson</td>\n",
              "    </tr>\n",
              "    <tr>\n",
              "      <th>20072</th>\n",
              "      <td>Scottish</td>\n",
              "      <td>Mclaughlin</td>\n",
              "    </tr>\n",
              "    <tr>\n",
              "      <th>20073</th>\n",
              "      <td>Scottish</td>\n",
              "      <td>Hill</td>\n",
              "    </tr>\n",
              "  </tbody>\n",
              "</table>\n",
              "<p>20074 rows × 2 columns</p>\n",
              "</div>\n",
              "      <button class=\"colab-df-convert\" onclick=\"convertToInteractive('df-20656d60-6bec-4129-802a-10a6d3f2f6ee')\"\n",
              "              title=\"Convert this dataframe to an interactive table.\"\n",
              "              style=\"display:none;\">\n",
              "        \n",
              "  <svg xmlns=\"http://www.w3.org/2000/svg\" height=\"24px\"viewBox=\"0 0 24 24\"\n",
              "       width=\"24px\">\n",
              "    <path d=\"M0 0h24v24H0V0z\" fill=\"none\"/>\n",
              "    <path d=\"M18.56 5.44l.94 2.06.94-2.06 2.06-.94-2.06-.94-.94-2.06-.94 2.06-2.06.94zm-11 1L8.5 8.5l.94-2.06 2.06-.94-2.06-.94L8.5 2.5l-.94 2.06-2.06.94zm10 10l.94 2.06.94-2.06 2.06-.94-2.06-.94-.94-2.06-.94 2.06-2.06.94z\"/><path d=\"M17.41 7.96l-1.37-1.37c-.4-.4-.92-.59-1.43-.59-.52 0-1.04.2-1.43.59L10.3 9.45l-7.72 7.72c-.78.78-.78 2.05 0 2.83L4 21.41c.39.39.9.59 1.41.59.51 0 1.02-.2 1.41-.59l7.78-7.78 2.81-2.81c.8-.78.8-2.07 0-2.86zM5.41 20L4 18.59l7.72-7.72 1.47 1.35L5.41 20z\"/>\n",
              "  </svg>\n",
              "      </button>\n",
              "      \n",
              "  <style>\n",
              "    .colab-df-container {\n",
              "      display:flex;\n",
              "      flex-wrap:wrap;\n",
              "      gap: 12px;\n",
              "    }\n",
              "\n",
              "    .colab-df-convert {\n",
              "      background-color: #E8F0FE;\n",
              "      border: none;\n",
              "      border-radius: 50%;\n",
              "      cursor: pointer;\n",
              "      display: none;\n",
              "      fill: #1967D2;\n",
              "      height: 32px;\n",
              "      padding: 0 0 0 0;\n",
              "      width: 32px;\n",
              "    }\n",
              "\n",
              "    .colab-df-convert:hover {\n",
              "      background-color: #E2EBFA;\n",
              "      box-shadow: 0px 1px 2px rgba(60, 64, 67, 0.3), 0px 1px 3px 1px rgba(60, 64, 67, 0.15);\n",
              "      fill: #174EA6;\n",
              "    }\n",
              "\n",
              "    [theme=dark] .colab-df-convert {\n",
              "      background-color: #3B4455;\n",
              "      fill: #D2E3FC;\n",
              "    }\n",
              "\n",
              "    [theme=dark] .colab-df-convert:hover {\n",
              "      background-color: #434B5C;\n",
              "      box-shadow: 0px 1px 3px 1px rgba(0, 0, 0, 0.15);\n",
              "      filter: drop-shadow(0px 1px 2px rgba(0, 0, 0, 0.3));\n",
              "      fill: #FFFFFF;\n",
              "    }\n",
              "  </style>\n",
              "\n",
              "      <script>\n",
              "        const buttonEl =\n",
              "          document.querySelector('#df-20656d60-6bec-4129-802a-10a6d3f2f6ee button.colab-df-convert');\n",
              "        buttonEl.style.display =\n",
              "          google.colab.kernel.accessAllowed ? 'block' : 'none';\n",
              "\n",
              "        async function convertToInteractive(key) {\n",
              "          const element = document.querySelector('#df-20656d60-6bec-4129-802a-10a6d3f2f6ee');\n",
              "          const dataTable =\n",
              "            await google.colab.kernel.invokeFunction('convertToInteractive',\n",
              "                                                     [key], {});\n",
              "          if (!dataTable) return;\n",
              "\n",
              "          const docLinkHtml = 'Like what you see? Visit the ' +\n",
              "            '<a target=\"_blank\" href=https://colab.research.google.com/notebooks/data_table.ipynb>data table notebook</a>'\n",
              "            + ' to learn more about interactive tables.';\n",
              "          element.innerHTML = '';\n",
              "          dataTable['output_type'] = 'display_data';\n",
              "          await google.colab.output.renderOutput(dataTable, element);\n",
              "          const docLink = document.createElement('div');\n",
              "          docLink.innerHTML = docLinkHtml;\n",
              "          element.appendChild(docLink);\n",
              "        }\n",
              "      </script>\n",
              "    </div>\n",
              "  </div>\n",
              "  "
            ],
            "text/plain": [
              "          class             name\n",
              "0         Greek         Adamidis\n",
              "1         Greek           Adamou\n",
              "2         Greek         Agelakos\n",
              "3         Greek     Akrivopoulos\n",
              "4         Greek  Alexandropoulos\n",
              "...         ...              ...\n",
              "20069  Scottish         Mccallum\n",
              "20070  Scottish            Whyte\n",
              "20071  Scottish          Jackson\n",
              "20072  Scottish       Mclaughlin\n",
              "20073  Scottish             Hill\n",
              "\n",
              "[20074 rows x 2 columns]"
            ]
          },
          "execution_count": 9,
          "metadata": {},
          "output_type": "execute_result"
        }
      ],
      "source": [
        "data=pd.DataFrame(ll)\n",
        "data.columns=['class','name']\n",
        "data"
      ]
    },
    {
      "cell_type": "code",
      "execution_count": null,
      "metadata": {
        "id": "vNZcT3FTsUEf"
      },
      "outputs": [],
      "source": [
        "X=data['name']\n",
        "y=data['class']"
      ]
    },
    {
      "cell_type": "code",
      "execution_count": null,
      "metadata": {
        "id": "jvdrxgQtsQ1Y"
      },
      "outputs": [],
      "source": [
        "X_tv, X_test, y_tv, y_test = train_test_split(X, y, test_size=0.1, random_state=42,stratify=y)"
      ]
    },
    {
      "cell_type": "code",
      "execution_count": null,
      "metadata": {
        "id": "S0KV1P_ateAh"
      },
      "outputs": [],
      "source": [
        "X_train,X_val,y_train,y_val=train_test_split(X_tv,y_tv,test_size=0.11111,random_state=42,stratify=y_tv)"
      ]
    },
    {
      "cell_type": "code",
      "execution_count": null,
      "metadata": {
        "colab": {
          "base_uri": "https://localhost:8080/"
        },
        "id": "znSTq5Y3yuGq",
        "outputId": "050d831b-88c2-4699-eacf-2e1e7386f8ab"
      },
      "outputs": [
        {
          "name": "stdout",
          "output_type": "stream",
          "text": [
            "tensor([[0., 0., 0., 0., 0., 0., 0., 0., 0., 0., 0., 0., 0., 0., 0., 0., 0., 0.,\n",
            "         0., 0., 0., 0., 0., 0., 0., 0., 0., 0., 0., 0., 0., 0., 0., 0., 0., 1.,\n",
            "         0., 0., 0., 0., 0., 0., 0., 0., 0., 0., 0., 0., 0., 0., 0., 0., 0., 0.,\n",
            "         0., 0., 0.]])\n",
            "torch.Size([5, 1, 57])\n"
          ]
        }
      ],
      "source": [
        "import torch\n",
        "\n",
        "# Find letter index from all_letters, e.g. \"a\" = 0\n",
        "def letterToIndex(letter):\n",
        "    return all_letters.find(letter)\n",
        "\n",
        "# Just for demonstration, turn a letter into a <1 x n_letters> Tensor\n",
        "def letterToTensor(letter):\n",
        "    tensor = torch.zeros(1, n_letters)\n",
        "    tensor[0][letterToIndex(letter)] = 1\n",
        "    return tensor\n",
        "\n",
        "# Turn a line into a <line_length x 1 x n_letters>,\n",
        "# or an array of one-hot letter vectors\n",
        "def lineToTensor(line):\n",
        "    tensor = torch.zeros(len(line), 1, n_letters)\n",
        "    for li, letter in enumerate(line):\n",
        "        tensor[li][0][letterToIndex(letter)] = 1\n",
        "    return tensor\n",
        "\n",
        "def categoryToTensor(category):\n",
        "  return torch.tensor([all_categories.index(category)], dtype=torch.long)\n",
        "\n",
        "\n",
        "print(letterToTensor('J'))\n",
        "\n",
        "\n",
        "# print(lineToTensor('Jones'))\n",
        "print(lineToTensor('Jones').size())\n"
      ]
    },
    {
      "cell_type": "markdown",
      "metadata": {
        "id": "1ngXaZ_8J2Je"
      },
      "source": [
        "# Architecture-1"
      ]
    },
    {
      "cell_type": "code",
      "execution_count": null,
      "metadata": {
        "id": "ZO-_0HXtJ2Jf"
      },
      "outputs": [],
      "source": [
        "import torch.nn as nn\n",
        "\n",
        "class RNN(nn.Module):\n",
        "    def __init__(self, input_size, hidden_size, output_size):\n",
        "        super(RNN, self).__init__()\n",
        "\n",
        "        self.hidden_size = hidden_size\n",
        "\n",
        "        self.i2h = nn.Linear(input_size + hidden_size, hidden_size)\n",
        "        self.i2o = nn.Linear(input_size + hidden_size, output_size)\n",
        "        self.softmax = nn.LogSoftmax(dim=1)\n",
        "\n",
        "    def forward(self, input, hidden):\n",
        "        combined = torch.cat((input, hidden), 1)\n",
        "        hidden = self.i2h(combined)\n",
        "        output = self.i2o(combined)\n",
        "        output = self.softmax(output)\n",
        "        return output, hidden\n",
        "\n",
        "    def initHidden(self):\n",
        "        return torch.zeros(1, self.hidden_size)\n",
        "\n"
      ]
    },
    {
      "cell_type": "code",
      "execution_count": null,
      "metadata": {
        "id": "JpVvukFuJ2Jg"
      },
      "outputs": [],
      "source": [
        "def categoryFromOutput(output):\n",
        "    top_n, top_i = output.topk(1)\n",
        "\n",
        "    category_i = top_i[0].item()\n",
        "    return all_categories[category_i], category_i"
      ]
    },
    {
      "cell_type": "code",
      "execution_count": null,
      "metadata": {
        "id": "XwMv7pVDJ2Jg"
      },
      "outputs": [],
      "source": [
        "criterion = nn.NLLLoss()"
      ]
    },
    {
      "cell_type": "code",
      "execution_count": 1,
      "metadata": {
        "id": "9S6IX07HJ2Jh"
      },
      "outputs": [],
      "source": [
        "def train(category_tensor, line_tensor,model,optimizer):\n",
        "    hidden = model.initHidden()\n",
        "    line_tensor = line_tensor.cuda()\n",
        "    hidden = hidden.cuda()\n",
        "    model.zero_grad()\n",
        "    \n",
        "\n",
        "\n",
        "    for i in range(line_tensor.size()[0]):\n",
        "\n",
        "        output, hidden = model(line_tensor[i], hidden)\n",
        "\n",
        "    loss = criterion(output, category_tensor.cuda())\n",
        "    optimizer.zero_grad()\n",
        "    loss.backward()\n",
        "    optimizer.step()\n",
        "\n",
        "    # Add parameters' gradients to their values, multiplied by learning rate\n",
        "    # for p in rnn.parameters():\n",
        "    #     p.data.add_(p.grad.data, alpha=-learning_rate)\n",
        "\n",
        "    return output, loss.item()\n",
        "\n",
        "def eval(category_tensor, line_tensor,model):\n",
        "  hidden = model.initHidden()\n",
        "  hidden = hidden.cuda()\n",
        "  line_tensor =line_tensor.cuda()\n",
        "  for i in range(line_tensor.size()[0]):\n",
        "      output, hidden = model(line_tensor[i], hidden)\n",
        "  loss = criterion(output, category_tensor.cuda())\n",
        "  return output, loss.item()\n",
        "  \n"
      ]
    },
    {
      "cell_type": "code",
      "execution_count": null,
      "metadata": {
        "id": "8C7U0Da_J2Jj"
      },
      "outputs": [],
      "source": [
        "import time\n",
        "import math\n",
        "\n",
        "\n",
        "def timeSince(since):\n",
        "    now = time.time()\n",
        "    s = now - since\n",
        "    m = math.floor(s / 60)\n",
        "    s -= m * 60\n",
        "    return '%dm %ds' % (m, s)\n",
        "\n",
        "start = time.time()\n",
        "\n",
        "print_every = 500\n",
        "\n",
        "def evaluate_model(epochs,model,optimiser):\n",
        "  train_losses = []\n",
        "  val_losses=[]\n",
        "  for k in range(epochs):\n",
        "    train_loss = 0\n",
        "    val_loss=0\n",
        "    for iter in range(len(X_train)):\n",
        "      category=y_train.iloc[iter]\n",
        "      line=X_train.iloc[iter]\n",
        "      category_tensor=categoryToTensor(category)\n",
        "      line_tensor=lineToTensor(line)\n",
        "\n",
        "      output,loss=train(category_tensor, line_tensor,model,optimiser)\n",
        "      train_loss += loss\n",
        "\n",
        "      # Print iter number, loss, name and guess\n",
        "      # if iter % 2000 == 0:\n",
        "      #     guess, guess_i = categoryFromOutput(output)\n",
        "      #     correct = '✓' if guess == category else '✗ (%s)' % category\n",
        "      #     print('%d %d%% (%s) %.4f %s / %s %s' % (iter, iter / len(X_train) * 100, timeSince(start), loss, line, guess, correct))\n",
        "\n",
        "\n",
        "    print(f\"Epoch {k+1} Train Loss :\",train_loss /len(X_train))\n",
        "    train_losses.append(train_loss /len(X_train) )\n",
        "    train_loss = 0\n",
        "\n",
        "\n",
        "    Preds=[]\n",
        "    for iter in range(len(X_val)):\n",
        "      category=y_val.iloc[iter]\n",
        "      line=X_val.iloc[iter]\n",
        "      category_tensor=categoryToTensor(category)\n",
        "      line_tensor=lineToTensor(line)\n",
        "\n",
        "      output,loss=eval(category_tensor, line_tensor,model)\n",
        "\n",
        "      val_loss +=loss\n",
        "\n",
        "      p,p_index=categoryFromOutput(output)\n",
        "\n",
        "      Preds.append(p)\n",
        "      # if iter % print_every == 0:\n",
        "      #     guess, guess_i = categoryFromOutput(output)\n",
        "      #     correct = '✓' if guess == category else '✗ (%s)' % category\n",
        "      #     print('%d %d%% (%s) %.4f %s / %s %s' % (iter, iter / len(X_val) * 100, timeSince(start), loss, line, guess, correct))\n",
        "      \n",
        "    print(f\"============= Epoch {k+1} Val Loss :\",val_loss /len(X_val))\n",
        "    val_losses.append(val_loss /len(X_val) )\n",
        "    val_loss = 0\n",
        "\n",
        "  return train_losses,val_losses,Preds\n",
        "\n",
        "  "
      ]
    },
    {
      "cell_type": "markdown",
      "metadata": {
        "id": "TSBOieTSJ2Jk"
      },
      "source": [
        "Model 1  (SGD optimiser)"
      ]
    },
    {
      "cell_type": "code",
      "execution_count": null,
      "metadata": {
        "id": "S1R8s-KiJ2Jk"
      },
      "outputs": [],
      "source": [
        "n_hidden1 = 128\n",
        "rnn1 = RNN(n_letters, n_hidden1, n_categories).cuda()\n",
        "learning_rate = 0.001\n",
        "optimizer1 = torch.optim.SGD(rnn1.parameters(),lr= learning_rate)\n"
      ]
    },
    {
      "cell_type": "code",
      "execution_count": null,
      "metadata": {
        "colab": {
          "base_uri": "https://localhost:8080/"
        },
        "id": "tkdi_QVvJ2Jl",
        "outputId": "6006915e-b54a-437e-d7b8-e6264ab45b70"
      },
      "outputs": [
        {
          "name": "stdout",
          "output_type": "stream",
          "text": [
            "Epoch 1 Train Loss : 1.7136896492053613\n",
            "============= Epoch 1 Val Loss : 1.5296980438761383\n",
            "Epoch 2 Train Loss : 1.4429066058558662\n",
            "============= Epoch 2 Val Loss : 1.3603924065559316\n",
            "Epoch 3 Train Loss : 1.2961565404305624\n",
            "============= Epoch 3 Val Loss : 1.2375256373295171\n",
            "Epoch 4 Train Loss : 1.2055033391248542\n",
            "============= Epoch 4 Val Loss : 1.1690797498419536\n",
            "Epoch 5 Train Loss : 1.1483648477070068\n",
            "============= Epoch 5 Val Loss : 1.125729176960584\n",
            "Epoch 6 Train Loss : 1.1063900415497014\n",
            "============= Epoch 6 Val Loss : 1.094658942095575\n",
            "Epoch 7 Train Loss : 1.0723073016364346\n",
            "============= Epoch 7 Val Loss : 1.0696680104778917\n",
            "Epoch 8 Train Loss : 1.0427124730706034\n",
            "============= Epoch 8 Val Loss : 1.0469551489262507\n",
            "Epoch 9 Train Loss : 1.0165440458194086\n",
            "============= Epoch 9 Val Loss : 1.025400531934336\n",
            "Epoch 10 Train Loss : 0.9934463268326447\n",
            "============= Epoch 10 Val Loss : 1.0052986076036352\n",
            "Epoch 11 Train Loss : 0.9730348961127978\n",
            "============= Epoch 11 Val Loss : 0.9868480963564343\n",
            "Epoch 12 Train Loss : 0.9546608019343914\n",
            "============= Epoch 12 Val Loss : 0.9698328942793458\n",
            "Epoch 13 Train Loss : 0.9372757011339238\n",
            "============= Epoch 13 Val Loss : 0.9535863299225527\n",
            "Epoch 14 Train Loss : 0.9198579741663077\n",
            "============= Epoch 14 Val Loss : 0.9374456739754593\n",
            "Epoch 15 Train Loss : 0.9037986198892354\n",
            "============= Epoch 15 Val Loss : 0.9238831427493237\n",
            "Epoch 16 Train Loss : 0.8902971529952035\n",
            "============= Epoch 16 Val Loss : 0.9130615872379866\n",
            "Epoch 17 Train Loss : 0.8783429332213055\n",
            "============= Epoch 17 Val Loss : 0.903901762527435\n",
            "Epoch 18 Train Loss : 0.8674120462979944\n",
            "============= Epoch 18 Val Loss : 0.8957023487737497\n",
            "Epoch 19 Train Loss : 0.8572370500868733\n",
            "============= Epoch 19 Val Loss : 0.8879265209462607\n",
            "Epoch 20 Train Loss : 0.8476424521672082\n",
            "============= Epoch 20 Val Loss : 0.8803579885077533\n"
          ]
        }
      ],
      "source": [
        "trL1,vL1,preds1=evaluate_model(20,rnn1,optimizer1)"
      ]
    },
    {
      "cell_type": "code",
      "execution_count": null,
      "metadata": {
        "colab": {
          "base_uri": "https://localhost:8080/",
          "height": 368
        },
        "id": "s4Czv0IvNwjn",
        "outputId": "10be9bf1-f6c3-4c50-b6e7-85c5d8857342"
      },
      "outputs": [
        {
          "data": {
            "text/plain": [
              "<matplotlib.legend.Legend at 0x7f0ff83c06a0>"
            ]
          },
          "execution_count": 20,
          "metadata": {},
          "output_type": "execute_result"
        },
        {
          "data": {
            "image/png": "[encoded data removed]",
            "text/plain": [
              "<Figure size 720x360 with 1 Axes>"
            ]
          },
          "metadata": {
            "needs_background": "light"
          },
          "output_type": "display_data"
        }
      ],
      "source": [
        "plt.figure(figsize=(10,5))\n",
        "epochArr=[i for i in range(1,21)]\n",
        "plt.plot(epochArr,trL1)\n",
        "plt.plot(epochArr,vL1)\n",
        "plt.xticks(epochArr)\n",
        "plt.xlabel(\"Epochs\")\n",
        "plt.ylabel(\"Loss\")\n",
        "plt.title(\"Loss v/s Epoch\")\n",
        "plt.legend([\"Train Loss\",\"Validation Loss\"])"
      ]
    },
    {
      "cell_type": "markdown",
      "metadata": {
        "id": "wNcCtawAJ2Jm"
      },
      "source": [
        "Model 2 (Adam optimiser)"
      ]
    },
    {
      "cell_type": "code",
      "execution_count": null,
      "metadata": {
        "id": "SGlOZJZhJ2Jm"
      },
      "outputs": [],
      "source": [
        "n_hidden1 = 128\n",
        "rnn2 = RNN(n_letters, n_hidden1, n_categories).cuda()\n",
        "learning_rate = 0.001\n",
        "optimizer2 = torch.optim.Adam(rnn2.parameters(),lr= learning_rate)"
      ]
    },
    {
      "cell_type": "code",
      "execution_count": null,
      "metadata": {
        "colab": {
          "base_uri": "https://localhost:8080/"
        },
        "id": "5lGuOCaZJ2Jn",
        "outputId": "4a201006-c061-489f-eda3-ba8be0f552b8"
      },
      "outputs": [
        {
          "name": "stdout",
          "output_type": "stream",
          "text": [
            "Epoch 1 Train Loss : 1.1897038032388703\n",
            "============= Epoch 1 Val Loss : 0.996488901734183\n",
            "Epoch 2 Train Loss : 0.9402249852800079\n",
            "============= Epoch 2 Val Loss : 0.9204598666717031\n",
            "Epoch 3 Train Loss : 0.8839543913300186\n",
            "============= Epoch 3 Val Loss : 0.9021395868784255\n",
            "Epoch 4 Train Loss : 0.8537799862796331\n",
            "============= Epoch 4 Val Loss : 0.8717451399039469\n",
            "Epoch 5 Train Loss : 0.8381168325058707\n",
            "============= Epoch 5 Val Loss : 0.8511684630899717\n",
            "Epoch 6 Train Loss : 0.826559218482236\n",
            "============= Epoch 6 Val Loss : 0.8606796655169014\n",
            "Epoch 7 Train Loss : 0.8185204311960087\n",
            "============= Epoch 7 Val Loss : 0.8585393581065989\n",
            "Epoch 8 Train Loss : 0.8115161620996713\n",
            "============= Epoch 8 Val Loss : 0.8564956104276129\n",
            "Epoch 9 Train Loss : 0.8072527327966975\n",
            "============= Epoch 9 Val Loss : 0.8574928116947511\n",
            "Epoch 10 Train Loss : 0.8038956580186243\n",
            "============= Epoch 10 Val Loss : 0.8268333719842\n",
            "Epoch 11 Train Loss : 0.8001713687207167\n",
            "============= Epoch 11 Val Loss : 0.8427508347143432\n",
            "Epoch 12 Train Loss : 0.7969446100118502\n",
            "============= Epoch 12 Val Loss : 0.8448703997466547\n",
            "Epoch 13 Train Loss : 0.7939606208280796\n",
            "============= Epoch 13 Val Loss : 0.8417713155362563\n",
            "Epoch 14 Train Loss : 0.7901601251239616\n",
            "============= Epoch 14 Val Loss : 0.8375409025787771\n",
            "Epoch 15 Train Loss : 0.789201523267453\n",
            "============= Epoch 15 Val Loss : 0.8340295688893619\n",
            "Epoch 16 Train Loss : 0.7868621280084603\n",
            "============= Epoch 16 Val Loss : 0.8350502442999581\n",
            "Epoch 17 Train Loss : 0.7836156882518739\n",
            "============= Epoch 17 Val Loss : 0.8329391799690609\n",
            "Epoch 18 Train Loss : 0.7825553920399313\n",
            "============= Epoch 18 Val Loss : 0.8579575789246138\n",
            "Epoch 19 Train Loss : 0.7838460190947777\n",
            "============= Epoch 19 Val Loss : 0.819870188519341\n",
            "Epoch 20 Train Loss : 0.782812160588054\n",
            "============= Epoch 20 Val Loss : 0.8455474019861476\n"
          ]
        }
      ],
      "source": [
        "trL2,vL2,preds2=evaluate_model(20,rnn2,optimizer2)"
      ]
    },
    {
      "cell_type": "code",
      "execution_count": null,
      "metadata": {
        "colab": {
          "base_uri": "https://localhost:8080/",
          "height": 368
        },
        "id": "cHjk8-QlOyn9",
        "outputId": "6c6e84e1-1537-4703-ee81-78552dd1293f"
      },
      "outputs": [
        {
          "data": {
            "text/plain": [
              "<matplotlib.legend.Legend at 0x7f0ff8286430>"
            ]
          },
          "execution_count": 23,
          "metadata": {},
          "output_type": "execute_result"
        },
        {
          "data": {
            "image/png": "[encoded data removed]",
            "text/plain": [
              "<Figure size 720x360 with 1 Axes>"
            ]
          },
          "metadata": {
            "needs_background": "light"
          },
          "output_type": "display_data"
        }
      ],
      "source": [
        "plt.figure(figsize=(10,5))\n",
        "epochArr=[i for i in range(1,21)]\n",
        "plt.plot(epochArr,trL2)\n",
        "plt.plot(epochArr,vL2)\n",
        "plt.xticks(epochArr)\n",
        "plt.xlabel(\"Epochs\")\n",
        "plt.ylabel(\"Loss\")\n",
        "plt.title(\"Loss v/s Epoch\")\n",
        "plt.legend([\"Train Loss\",\"Validation Loss\"])"
      ]
    },
    {
      "cell_type": "markdown",
      "metadata": {
        "id": "S0N6plOdJ2Jn"
      },
      "source": [
        "Beacuse Adam performed better. We'll now go with Adam \\\\\n",
        "Now changing n_hidden"
      ]
    },
    {
      "cell_type": "markdown",
      "metadata": {
        "id": "PntNhMx9J2Jo"
      },
      "source": [
        "Model 3"
      ]
    },
    {
      "cell_type": "code",
      "execution_count": null,
      "metadata": {
        "id": "FnbdamoTJ2Jo"
      },
      "outputs": [],
      "source": [
        "n_hidden2 = 64\n",
        "rnn3 = RNN(n_letters, n_hidden2, n_categories).cuda()\n",
        "learning_rate = 0.001\n",
        "optimizer3 = torch.optim.Adam(rnn3.parameters(),lr= learning_rate)"
      ]
    },
    {
      "cell_type": "code",
      "execution_count": null,
      "metadata": {
        "colab": {
          "base_uri": "https://localhost:8080/"
        },
        "id": "M70edaIIJ2Jo",
        "outputId": "64fc53d5-a4d4-4f94-d71d-c8d484577b56"
      },
      "outputs": [
        {
          "name": "stdout",
          "output_type": "stream",
          "text": [
            "Epoch 1 Train Loss : 1.1626196272105616\n",
            "============= Epoch 1 Val Loss : 0.9409980468095832\n",
            "Epoch 2 Train Loss : 0.900326143114135\n",
            "============= Epoch 2 Val Loss : 0.8872493682649512\n",
            "Epoch 3 Train Loss : 0.8459070824971938\n",
            "============= Epoch 3 Val Loss : 0.86308136466012\n",
            "Epoch 4 Train Loss : 0.8215544969280354\n",
            "============= Epoch 4 Val Loss : 0.8477430282035536\n",
            "Epoch 5 Train Loss : 0.8074986962358068\n",
            "============= Epoch 5 Val Loss : 0.8344604101938444\n",
            "Epoch 6 Train Loss : 0.7989984955365687\n",
            "============= Epoch 6 Val Loss : 0.8293469935228135\n",
            "Epoch 7 Train Loss : 0.7926459613297157\n",
            "============= Epoch 7 Val Loss : 0.8273618880336536\n",
            "Epoch 8 Train Loss : 0.7870096758621148\n",
            "============= Epoch 8 Val Loss : 0.8289794440059177\n",
            "Epoch 9 Train Loss : 0.7825274875405541\n",
            "============= Epoch 9 Val Loss : 0.8308053117492634\n",
            "Epoch 10 Train Loss : 0.7786827526456669\n",
            "============= Epoch 10 Val Loss : 0.831222531002582\n",
            "Epoch 11 Train Loss : 0.775868977731973\n",
            "============= Epoch 11 Val Loss : 0.831351347819504\n",
            "Epoch 12 Train Loss : 0.7737709869639687\n",
            "============= Epoch 12 Val Loss : 0.8316914238744366\n",
            "Epoch 13 Train Loss : 0.7713320384589687\n",
            "============= Epoch 13 Val Loss : 0.8289740671663658\n",
            "Epoch 14 Train Loss : 0.7694324651689013\n",
            "============= Epoch 14 Val Loss : 0.8278950128465479\n",
            "Epoch 15 Train Loss : 0.7674768935950187\n",
            "============= Epoch 15 Val Loss : 0.8271006493948567\n",
            "Epoch 16 Train Loss : 0.765822504234459\n",
            "============= Epoch 16 Val Loss : 0.8286933127956575\n",
            "Epoch 17 Train Loss : 0.7647700475601212\n",
            "============= Epoch 17 Val Loss : 0.8299846942307436\n",
            "Epoch 18 Train Loss : 0.763267087365655\n",
            "============= Epoch 18 Val Loss : 0.8325009526828311\n",
            "Epoch 19 Train Loss : 0.7620884723084135\n",
            "============= Epoch 19 Val Loss : 0.8305078586304617\n",
            "Epoch 20 Train Loss : 0.7610803126174401\n",
            "============= Epoch 20 Val Loss : 0.8336503684210799\n"
          ]
        }
      ],
      "source": [
        "trL3,vL3,preds3=evaluate_model(20,rnn3,optimizer3)"
      ]
    },
    {
      "cell_type": "code",
      "execution_count": null,
      "metadata": {
        "colab": {
          "base_uri": "https://localhost:8080/",
          "height": 368
        },
        "id": "7j6f6ABAO3zR",
        "outputId": "5a6a3d1e-91a5-4a40-cd79-f27bd906df6f"
      },
      "outputs": [
        {
          "data": {
            "text/plain": [
              "<matplotlib.legend.Legend at 0x7f0fddc74df0>"
            ]
          },
          "execution_count": 26,
          "metadata": {},
          "output_type": "execute_result"
        },
        {
          "data": {
            "image/png": "[encoded data removed]",
            "text/plain": [
              "<Figure size 720x360 with 1 Axes>"
            ]
          },
          "metadata": {
            "needs_background": "light"
          },
          "output_type": "display_data"
        }
      ],
      "source": [
        "plt.figure(figsize=(10,5))\n",
        "epochArr=[i for i in range(1,21)]\n",
        "plt.plot(epochArr,trL3)\n",
        "plt.plot(epochArr,vL3)\n",
        "plt.xticks(epochArr)\n",
        "plt.xlabel(\"Epochs\")\n",
        "plt.ylabel(\"Loss\")\n",
        "plt.title(\"Loss v/s Epoch\")\n",
        "plt.legend([\"Train Loss\",\"Validation Loss\"])"
      ]
    },
    {
      "cell_type": "markdown",
      "metadata": {
        "id": "QCHSuBSsJ2Jp"
      },
      "source": [
        "Beacuse n_hidden=128  performed better. We'll go with it.\\\n",
        "Now changing learning rate"
      ]
    },
    {
      "cell_type": "markdown",
      "metadata": {
        "id": "1OaAJ_AuJ2Jp"
      },
      "source": [
        "Model 4"
      ]
    },
    {
      "cell_type": "code",
      "execution_count": null,
      "metadata": {
        "id": "UW83zVxbJ2Jq"
      },
      "outputs": [],
      "source": [
        "n_hidden2 = 128\n",
        "rnn4 = RNN(n_letters, n_hidden2, n_categories).cuda()\n",
        "learning_rate2 = 0.0001\n",
        "optimizer4 = torch.optim.Adam(rnn4.parameters(),lr= learning_rate2)"
      ]
    },
    {
      "cell_type": "code",
      "execution_count": null,
      "metadata": {
        "colab": {
          "base_uri": "https://localhost:8080/"
        },
        "id": "Wbr1711JJ2Jq",
        "outputId": "44469650-3239-4b5a-c502-795bbc2eb53d"
      },
      "outputs": [
        {
          "name": "stdout",
          "output_type": "stream",
          "text": [
            "Epoch 1 Train Loss : 1.5295222367756462\n",
            "============= Epoch 1 Val Loss : 1.3126848781129123\n",
            "Epoch 2 Train Loss : 1.1994586676465129\n",
            "============= Epoch 2 Val Loss : 1.1192259743642845\n",
            "Epoch 3 Train Loss : 1.0693857422775113\n",
            "============= Epoch 3 Val Loss : 1.0282197572972316\n",
            "Epoch 4 Train Loss : 0.9871361335369659\n",
            "============= Epoch 4 Val Loss : 0.9665294036121089\n",
            "Epoch 5 Train Loss : 0.925613347164982\n",
            "============= Epoch 5 Val Loss : 0.9147820846539283\n",
            "Epoch 6 Train Loss : 0.8764047731243987\n",
            "============= Epoch 6 Val Loss : 0.8734332293755566\n",
            "Epoch 7 Train Loss : 0.8397520662144522\n",
            "============= Epoch 7 Val Loss : 0.8482973096260142\n",
            "Epoch 8 Train Loss : 0.8131818967434598\n",
            "============= Epoch 8 Val Loss : 0.8319585896689273\n",
            "Epoch 9 Train Loss : 0.7926368849466181\n",
            "============= Epoch 9 Val Loss : 0.819889156189736\n",
            "Epoch 10 Train Loss : 0.7761529708210917\n",
            "============= Epoch 10 Val Loss : 0.8097219809674171\n",
            "Epoch 11 Train Loss : 0.7624506047188464\n",
            "============= Epoch 11 Val Loss : 0.8011351012208204\n",
            "Epoch 12 Train Loss : 0.7507295705357977\n",
            "============= Epoch 12 Val Loss : 0.7940725566336142\n",
            "Epoch 13 Train Loss : 0.7405323046300466\n",
            "============= Epoch 13 Val Loss : 0.7884256988050372\n",
            "Epoch 14 Train Loss : 0.7315611839010888\n",
            "============= Epoch 14 Val Loss : 0.7839266952077358\n",
            "Epoch 15 Train Loss : 0.723567011301587\n",
            "============= Epoch 15 Val Loss : 0.7802461652219076\n",
            "Epoch 16 Train Loss : 0.7163398389352376\n",
            "============= Epoch 16 Val Loss : 0.7771419071893457\n",
            "Epoch 17 Train Loss : 0.7097304682077289\n",
            "============= Epoch 17 Val Loss : 0.7744871560690283\n",
            "Epoch 18 Train Loss : 0.703649458275196\n",
            "============= Epoch 18 Val Loss : 0.7722110531204335\n",
            "Epoch 19 Train Loss : 0.6980317204601634\n",
            "============= Epoch 19 Val Loss : 0.7702400911390058\n",
            "Epoch 20 Train Loss : 0.6928144394426164\n",
            "============= Epoch 20 Val Loss : 0.7684860703300243\n"
          ]
        }
      ],
      "source": [
        "trL4,vL4,preds4=evaluate_model(20,rnn4,optimizer4)"
      ]
    },
    {
      "cell_type": "code",
      "execution_count": null,
      "metadata": {
        "colab": {
          "base_uri": "https://localhost:8080/",
          "height": 368
        },
        "id": "AEF7FvVZO8Nv",
        "outputId": "b24dc638-fb9a-4bc5-a1e0-c7ba8c5b3afe"
      },
      "outputs": [
        {
          "data": {
            "text/plain": [
              "<matplotlib.legend.Legend at 0x7f0fdd819ee0>"
            ]
          },
          "execution_count": 38,
          "metadata": {},
          "output_type": "execute_result"
        },
        {
          "data": {
            "image/png": "[encoded data removed]",
            "text/plain": [
              "<Figure size 720x360 with 1 Axes>"
            ]
          },
          "metadata": {
            "needs_background": "light"
          },
          "output_type": "display_data"
        }
      ],
      "source": [
        "plt.figure(figsize=(10,5))\n",
        "epochArr=[i for i in range(1,21)]\n",
        "plt.plot(epochArr,trL4)\n",
        "plt.plot(epochArr,vL4)\n",
        "plt.xticks(epochArr)\n",
        "plt.xlabel(\"Epochs\")\n",
        "plt.ylabel(\"Loss\")\n",
        "plt.title(\"Loss v/s Epoch\")\n",
        "plt.legend([\"Train Loss\",\"Validation Loss\"])"
      ]
    },
    {
      "cell_type": "markdown",
      "metadata": {
        "id": "up3hj2SRPBxt"
      },
      "source": [
        "Out of all, we found that model 4 is best. So we will go further with it only and test it."
      ]
    },
    {
      "cell_type": "markdown",
      "metadata": {
        "id": "s4ziUwdSJ2Jr"
      },
      "source": [
        "Confusion matrix"
      ]
    },
    {
      "cell_type": "code",
      "execution_count": null,
      "metadata": {
        "id": "zatbCEUdJ2Jr"
      },
      "outputs": [],
      "source": [
        "from sklearn.metrics import confusion_matrix"
      ]
    },
    {
      "cell_type": "code",
      "execution_count": null,
      "metadata": {
        "colab": {
          "base_uri": "https://localhost:8080/"
        },
        "id": "4HZmZD36J2Js",
        "outputId": "ea8b948c-04e9-443e-8fe7-bcf36e25e5b7"
      },
      "outputs": [
        {
          "name": "stdout",
          "output_type": "stream",
          "text": [
            "2990      English\n",
            "15565     Russian\n",
            "12404     Russian\n",
            "10722     Russian\n",
            "16433     Russian\n",
            "           ...   \n",
            "3669      English\n",
            "7947      Russian\n",
            "18803    Japanese\n",
            "1428      English\n",
            "51          Greek\n",
            "Name: class, Length: 2008, dtype: object\n",
            "['English', 'Russian', 'Russian', 'English', 'Russian', 'Arabic', 'Russian', 'Japanese', 'Czech', 'English', 'Japanese', 'Russian', 'Russian', 'Russian', 'Russian', 'Russian', 'English', 'Russian', 'Arabic', 'Arabic', 'Russian', 'Russian', 'Russian', 'Russian', 'Arabic', 'English', 'Russian', 'Czech', 'Russian', 'Russian', 'Arabic', 'Russian', 'English', 'Russian', 'Russian', 'Arabic', 'Russian', 'Russian', 'English', 'Italian', 'Russian', 'Russian', 'Dutch', 'English', 'French', 'English', 'Spanish', 'Russian', 'Arabic', 'Italian', 'Italian', 'Japanese', 'Russian', 'English', 'Czech', 'Arabic', 'Russian', 'English', 'Italian', 'Russian', 'Greek', 'Russian', 'English', 'English', 'Russian', 'Arabic', 'Japanese', 'Arabic', 'Russian', 'Arabic', 'Russian', 'Arabic', 'Japanese', 'German', 'Russian', 'Russian', 'Italian', 'Russian', 'Arabic', 'Greek', 'English', 'Russian', 'Russian', 'Russian', 'Russian', 'Russian', 'English', 'Japanese', 'Russian', 'Italian', 'Russian', 'Russian', 'Russian', 'Japanese', 'Czech', 'Japanese', 'Russian', 'Russian', 'Russian', 'English', 'English', 'Japanese', 'Arabic', 'Russian', 'English', 'Russian', 'Arabic', 'English', 'Russian', 'English', 'Arabic', 'Russian', 'English', 'Russian', 'English', 'Chinese', 'Russian', 'Russian', 'Arabic', 'Arabic', 'Russian', 'English', 'Russian', 'English', 'Russian', 'Russian', 'Russian', 'Russian', 'Dutch', 'Japanese', 'Arabic', 'English', 'Italian', 'Russian', 'Russian', 'English', 'Arabic', 'English', 'Arabic', 'Russian', 'Russian', 'English', 'Russian', 'Russian', 'English', 'Russian', 'English', 'Japanese', 'Russian', 'Italian', 'Russian', 'Arabic', 'Greek', 'English', 'Italian', 'Arabic', 'Russian', 'Czech', 'English', 'Arabic', 'English', 'Chinese', 'Russian', 'Arabic', 'French', 'Russian', 'Russian', 'Russian', 'Russian', 'Russian', 'Russian', 'English', 'Russian', 'Russian', 'Russian', 'Russian', 'Russian', 'English', 'English', 'Russian', 'Russian', 'English', 'Russian', 'English', 'English', 'Russian', 'Russian', 'English', 'English', 'English', 'Russian', 'Arabic', 'Russian', 'Russian', 'English', 'English', 'Arabic', 'Russian', 'Russian', 'Russian', 'Arabic', 'Russian', 'Russian', 'Russian', 'Russian', 'Russian', 'Russian', 'Russian', 'English', 'Arabic', 'Arabic', 'Russian', 'Chinese', 'Japanese', 'English', 'Arabic', 'Russian', 'Russian', 'Russian', 'Russian', 'German', 'Russian', 'Russian', 'Russian', 'English', 'Arabic', 'Russian', 'English', 'English', 'Russian', 'Russian', 'Russian', 'English', 'Russian', 'Russian', 'Arabic', 'Russian', 'English', 'English', 'Arabic', 'Russian', 'Russian', 'Greek', 'English', 'Russian', 'Russian', 'Japanese', 'English', 'Italian', 'Russian', 'English', 'English', 'English', 'Russian', 'English', 'Russian', 'Russian', 'Japanese', 'English', 'Russian', 'Russian', 'Polish', 'Russian', 'English', 'Russian', 'Russian', 'English', 'English', 'Russian', 'Russian', 'Russian', 'Russian', 'German', 'English', 'Irish', 'Russian', 'English', 'Czech', 'English', 'English', 'Russian', 'Russian', 'German', 'Russian', 'Russian', 'Russian', 'English', 'Arabic', 'German', 'English', 'Russian', 'English', 'English', 'Italian', 'Italian', 'Japanese', 'Italian', 'Russian', 'Arabic', 'Czech', 'Russian', 'Russian', 'Russian', 'Russian', 'Russian', 'French', 'Italian', 'Chinese', 'Russian', 'Russian', 'Arabic', 'Russian', 'English', 'Russian', 'Czech', 'English', 'Russian', 'Russian', 'Russian', 'Arabic', 'Arabic', 'Russian', 'English', 'Russian', 'English', 'Russian', 'Russian', 'English', 'Arabic', 'English', 'Russian', 'Russian', 'Russian', 'Greek', 'English', 'Russian', 'Russian', 'Spanish', 'Japanese', 'English', 'Russian', 'Russian', 'Russian', 'English', 'Russian', 'Russian', 'Russian', 'Russian', 'Arabic', 'Russian', 'English', 'Russian', 'English', 'German', 'Russian', 'Japanese', 'Russian', 'Arabic', 'Chinese', 'Russian', 'Japanese', 'Russian', 'Russian', 'English', 'Japanese', 'Russian', 'Arabic', 'Russian', 'English', 'English', 'Russian', 'English', 'Russian', 'English', 'Italian', 'English', 'Irish', 'Russian', 'Japanese', 'German', 'Russian', 'Russian', 'Russian', 'English', 'Russian', 'Russian', 'Russian', 'English', 'Russian', 'German', 'Russian', 'Russian', 'Arabic', 'Russian', 'Arabic', 'English', 'English', 'English', 'Russian', 'German', 'Russian', 'Russian', 'Russian', 'English', 'Russian', 'Russian', 'Russian', 'English', 'Russian', 'Czech', 'Russian', 'Russian', 'Russian', 'Russian', 'English', 'Chinese', 'Russian', 'English', 'Russian', 'English', 'English', 'English', 'Chinese', 'Japanese', 'Arabic', 'Japanese', 'English', 'Russian', 'Russian', 'Russian', 'Russian', 'Russian', 'Japanese', 'Russian', 'Russian', 'Russian', 'Russian', 'English', 'Russian', 'Russian', 'Russian', 'English', 'Russian', 'Arabic', 'Arabic', 'Russian', 'Czech', 'Japanese', 'Russian', 'Italian', 'Russian', 'German', 'Russian', 'Russian', 'Italian', 'Russian', 'Arabic', 'Irish', 'Russian', 'English', 'Russian', 'Russian', 'Italian', 'Russian', 'Italian', 'Dutch', 'Russian', 'Russian', 'Arabic', 'Arabic', 'Arabic', 'Russian', 'Russian', 'Arabic', 'Russian', 'English', 'English', 'Russian', 'Russian', 'Arabic', 'Russian', 'Arabic', 'Russian', 'English', 'English', 'English', 'Russian', 'English', 'Arabic', 'Japanese', 'Russian', 'Chinese', 'Russian', 'Arabic', 'Russian', 'English', 'Arabic', 'English', 'English', 'Russian', 'English', 'Russian', 'Arabic', 'English', 'Russian', 'Russian', 'Italian', 'Japanese', 'Russian', 'English', 'Russian', 'Russian', 'Russian', 'Arabic', 'Russian', 'English', 'Russian', 'Russian', 'Arabic', 'English', 'Irish', 'English', 'Russian', 'English', 'English', 'English', 'Russian', 'Russian', 'English', 'English', 'Czech', 'Japanese', 'Russian', 'Russian', 'Russian', 'Japanese', 'Russian', 'English', 'Russian', 'Arabic', 'English', 'Russian', 'Russian', 'Russian', 'Russian', 'English', 'Arabic', 'Russian', 'Russian', 'Dutch', 'Russian', 'Russian', 'Russian', 'Russian', 'Russian', 'Russian', 'Irish', 'Italian', 'English', 'Russian', 'English', 'Russian', 'Russian', 'Russian', 'English', 'Russian', 'Russian', 'Russian', 'Russian', 'Arabic', 'Russian', 'Arabic', 'English', 'Russian', 'English', 'English', 'Czech', 'Russian', 'Arabic', 'Russian', 'Russian', 'Japanese', 'Italian', 'Russian', 'Russian', 'English', 'Russian', 'Czech', 'Russian', 'Arabic', 'Russian', 'Russian', 'Arabic', 'Japanese', 'Japanese', 'English', 'Russian', 'Russian', 'English', 'Russian', 'English', 'Russian', 'Russian', 'Czech', 'English', 'Russian', 'English', 'Arabic', 'English', 'English', 'Russian', 'Russian', 'Italian', 'Russian', 'Italian', 'Arabic', 'English', 'Arabic', 'Russian', 'Italian', 'Italian', 'English', 'Russian', 'English', 'English', 'English', 'Arabic', 'Russian', 'Russian', 'English', 'Japanese', 'Russian', 'Arabic', 'Russian', 'Arabic', 'Italian', 'Arabic', 'English', 'Russian', 'Russian', 'English', 'German', 'Irish', 'Russian', 'English', 'Italian', 'Russian', 'English', 'Czech', 'Russian', 'English', 'Czech', 'Russian', 'Japanese', 'Russian', 'Russian', 'Polish', 'English', 'Irish', 'English', 'Russian', 'Russian', 'Russian', 'English', 'French', 'Russian', 'Japanese', 'Russian', 'Russian', 'Russian', 'English', 'Russian', 'Japanese', 'Russian', 'English', 'Russian', 'English', 'English', 'Russian', 'Russian', 'Arabic', 'Russian', 'English', 'Russian', 'Chinese', 'English', 'Italian', 'Russian', 'Russian', 'English', 'Czech', 'English', 'Russian', 'Russian', 'Arabic', 'Italian', 'English', 'Russian', 'Russian', 'English', 'Arabic', 'Russian', 'Japanese', 'Russian', 'Russian', 'Italian', 'English', 'Russian', 'Russian', 'French', 'Russian', 'Italian', 'Russian', 'English', 'English', 'English', 'Russian', 'English', 'Japanese', 'Arabic', 'Italian', 'Chinese', 'Russian', 'Arabic', 'Irish', 'Russian', 'Russian', 'English', 'English', 'Arabic', 'English', 'English', 'Italian', 'Arabic', 'Arabic', 'Russian', 'English', 'Russian', 'Arabic', 'Russian', 'Russian', 'English', 'English', 'English', 'Czech', 'Russian', 'Russian', 'Arabic', 'Dutch', 'Russian', 'Chinese', 'Russian', 'Russian', 'Russian', 'Italian', 'English', 'Italian', 'Russian', 'Czech', 'Russian', 'Arabic', 'Japanese', 'Arabic', 'Korean', 'Russian', 'Arabic', 'Irish', 'Russian', 'Italian', 'English', 'Arabic', 'Russian', 'Russian', 'Japanese', 'Russian', 'English', 'English', 'Japanese', 'Arabic', 'Russian', 'English', 'English', 'Russian', 'Greek', 'Russian', 'Russian', 'Russian', 'Russian', 'Russian', 'Russian', 'Russian', 'Russian', 'Russian', 'Russian', 'Japanese', 'English', 'Russian', 'Russian', 'Russian', 'English', 'English', 'Russian', 'Russian', 'Russian', 'Russian', 'Russian', 'English', 'English', 'Russian', 'Russian', 'Japanese', 'Russian', 'French', 'English', 'Russian', 'Chinese', 'German', 'Russian', 'Russian', 'English', 'Italian', 'Russian', 'Russian', 'Russian', 'Russian', 'Russian', 'Russian', 'Italian', 'Arabic', 'German', 'Chinese', 'Russian', 'Russian', 'English', 'English', 'Russian', 'English', 'English', 'English', 'Chinese', 'Russian', 'English', 'Japanese', 'Russian', 'Russian', 'Italian', 'Japanese', 'Italian', 'Italian', 'Russian', 'English', 'Russian', 'Arabic', 'Arabic', 'English', 'English', 'English', 'Russian', 'French', 'Russian', 'Russian', 'English', 'English', 'Russian', 'Russian', 'Russian', 'Russian', 'Russian', 'Greek', 'Russian', 'Russian', 'Czech', 'Italian', 'English', 'Russian', 'Arabic', 'Russian', 'Arabic', 'Russian', 'Arabic', 'Russian', 'German', 'Arabic', 'Japanese', 'Russian', 'Russian', 'Arabic', 'Russian', 'Russian', 'Russian', 'Russian', 'Japanese', 'Russian', 'Russian', 'Dutch', 'Russian', 'Greek', 'Russian', 'Spanish', 'Italian', 'Russian', 'Russian', 'Russian', 'Russian', 'Russian', 'Russian', 'Russian', 'Russian', 'Russian', 'Russian', 'Russian', 'Russian', 'Russian', 'Arabic', 'Russian', 'Russian', 'Arabic', 'Russian', 'English', 'Russian', 'Czech', 'Arabic', 'Russian', 'Russian', 'Arabic', 'English', 'Japanese', 'Arabic', 'Russian', 'Japanese', 'Russian', 'Greek', 'Russian', 'Russian', 'Arabic', 'English', 'Russian', 'Italian', 'Russian', 'Russian', 'Japanese', 'Russian', 'Russian', 'Russian', 'Russian', 'Russian', 'Russian', 'Russian', 'Russian', 'Czech', 'Russian', 'Arabic', 'English', 'Russian', 'Russian', 'Russian', 'Russian', 'Russian', 'Russian', 'English', 'Russian', 'Russian', 'Russian', 'English', 'Russian', 'Russian', 'English', 'Japanese', 'Russian', 'Arabic', 'Arabic', 'Russian', 'Russian', 'Russian', 'Russian', 'Russian', 'Italian', 'English', 'Russian', 'Russian', 'Russian', 'English', 'Russian', 'English', 'Italian', 'English', 'Russian', 'German', 'English', 'Russian', 'Russian', 'Russian', 'English', 'Russian', 'English', 'English', 'Arabic', 'Russian', 'Arabic', 'English', 'Russian', 'Russian', 'Russian', 'English', 'English', 'Arabic', 'English', 'Russian', 'Arabic', 'Russian', 'Russian', 'Russian', 'Arabic', 'Russian', 'Japanese', 'English', 'English', 'Czech', 'Italian', 'Russian', 'Arabic', 'English', 'Russian', 'Russian', 'English', 'Russian', 'Arabic', 'Arabic', 'English', 'Russian', 'Russian', 'Russian', 'Japanese', 'Russian', 'Russian', 'German', 'Russian', 'Russian', 'Russian', 'Russian', 'Russian', 'Russian', 'Arabic', 'Japanese', 'Arabic', 'English', 'Russian', 'Russian', 'Arabic', 'Russian', 'English', 'English', 'Arabic', 'Czech', 'German', 'Russian', 'Russian', 'Russian', 'English', 'English', 'English', 'English', 'Russian', 'English', 'Russian', 'English', 'English', 'Russian', 'Russian', 'Arabic', 'English', 'Russian', 'Russian', 'Russian', 'English', 'Russian', 'Russian', 'Russian', 'English', 'Russian', 'Arabic', 'Russian', 'Russian', 'Russian', 'Russian', 'Japanese', 'Russian', 'Russian', 'Russian', 'Russian', 'Russian', 'Russian', 'English', 'Russian', 'Arabic', 'English', 'Russian', 'Italian', 'German', 'English', 'English', 'Russian', 'Russian', 'Japanese', 'English', 'Arabic', 'English', 'Russian', 'Russian', 'Russian', 'Chinese', 'Japanese', 'Russian', 'Arabic', 'Russian', 'Greek', 'Russian', 'English', 'English', 'English', 'German', 'English', 'English', 'English', 'English', 'English', 'Russian', 'German', 'Russian', 'Russian', 'English', 'Italian', 'English', 'English', 'Russian', 'Russian', 'Russian', 'Russian', 'Chinese', 'English', 'Russian', 'Russian', 'Russian', 'Russian', 'Russian', 'English', 'Russian', 'Italian', 'Russian', 'English', 'Russian', 'English', 'English', 'Russian', 'Russian', 'Russian', 'English', 'English', 'English', 'Russian', 'Czech', 'Russian', 'Japanese', 'Russian', 'Russian', 'Russian', 'Arabic', 'Italian', 'Russian', 'Russian', 'Arabic', 'Japanese', 'Russian', 'English', 'Arabic', 'Russian', 'Italian', 'Russian', 'Russian', 'Russian', 'Russian', 'Italian', 'German', 'Italian', 'Russian', 'Russian', 'Italian', 'English', 'Arabic', 'Russian', 'German', 'Greek', 'Arabic', 'Russian', 'Russian', 'English', 'English', 'Russian', 'Russian', 'Russian', 'English', 'Russian', 'Russian', 'English', 'English', 'Russian', 'English', 'Russian', 'Arabic', 'Russian', 'English', 'Arabic', 'Russian', 'Russian', 'English', 'English', 'Arabic', 'Russian', 'Greek', 'German', 'Arabic', 'Russian', 'Russian', 'Russian', 'English', 'Russian', 'English', 'Czech', 'Russian', 'English', 'Russian', 'Russian', 'Russian', 'Arabic', 'Russian', 'Arabic', 'English', 'Arabic', 'English', 'Dutch', 'English', 'Russian', 'Greek', 'Russian', 'English', 'Russian', 'Russian', 'Russian', 'Arabic', 'Arabic', 'English', 'Russian', 'Russian', 'Arabic', 'Russian', 'English', 'Russian', 'English', 'Russian', 'Russian', 'Russian', 'English', 'English', 'English', 'Chinese', 'Czech', 'English', 'Russian', 'Russian', 'Japanese', 'Chinese', 'Arabic', 'English', 'Russian', 'Russian', 'English', 'Russian', 'Russian', 'Russian', 'Russian', 'Greek', 'Italian', 'Russian', 'Arabic', 'Russian', 'Arabic', 'Russian', 'Russian', 'German', 'Russian', 'Russian', 'Russian', 'Arabic', 'Arabic', 'Russian', 'English', 'English', 'Russian', 'English', 'Italian', 'Italian', 'Russian', 'English', 'Russian', 'Russian', 'Russian', 'English', 'Arabic', 'Russian', 'Japanese', 'English', 'Russian', 'Russian', 'Arabic', 'Chinese', 'Russian', 'Russian', 'Italian', 'Russian', 'Russian', 'Russian', 'Arabic', 'Arabic', 'Czech', 'Russian', 'Russian', 'Russian', 'Arabic', 'Japanese', 'English', 'Russian', 'English', 'Russian', 'Russian', 'Russian', 'English', 'Russian', 'Russian', 'Russian', 'Russian', 'Russian', 'English', 'Polish', 'Japanese', 'English', 'Russian', 'English', 'English', 'Russian', 'English', 'English', 'Polish', 'Japanese', 'Russian', 'Russian', 'Russian', 'Russian', 'Italian', 'English', 'English', 'Arabic', 'English', 'English', 'Russian', 'Russian', 'Spanish', 'Russian', 'Russian', 'Russian', 'Russian', 'Greek', 'Russian', 'Italian', 'Arabic', 'Arabic', 'Russian', 'Russian', 'Russian', 'English', 'Arabic', 'Japanese', 'Czech', 'English', 'Arabic', 'Russian', 'Russian', 'English', 'Russian', 'English', 'Italian', 'Russian', 'Russian', 'English', 'French', 'Russian', 'Arabic', 'Russian', 'Russian', 'Russian', 'Arabic', 'Russian', 'Russian', 'German', 'Czech', 'Russian', 'Russian', 'Russian', 'Russian', 'Russian', 'English', 'English', 'English', 'Russian', 'Arabic', 'Russian', 'Russian', 'Spanish', 'English', 'Japanese', 'English', 'Japanese', 'Russian', 'Russian', 'Russian', 'Arabic', 'Russian', 'German', 'English', 'Russian', 'Russian', 'Russian', 'Arabic', 'Russian', 'Arabic', 'Arabic', 'English', 'Arabic', 'English', 'Russian', 'Russian', 'Arabic', 'Russian', 'Russian', 'Russian', 'English', 'Russian', 'Russian', 'English', 'English', 'Japanese', 'English', 'English', 'Russian', 'Czech', 'Russian', 'English', 'Russian', 'Russian', 'English', 'Russian', 'Russian', 'Japanese', 'Russian', 'Russian', 'Russian', 'Arabic', 'Russian', 'Japanese', 'Russian', 'English', 'Russian', 'Russian', 'English', 'Russian', 'English', 'Russian', 'English', 'Russian', 'Russian', 'Russian', 'Japanese', 'Russian', 'Russian', 'Arabic', 'Japanese', 'Arabic', 'Arabic', 'Russian', 'Russian', 'Russian', 'Arabic', 'Russian', 'English', 'Chinese', 'English', 'Arabic', 'Arabic', 'Russian', 'Russian', 'Russian', 'English', 'Russian', 'Chinese', 'English', 'Russian', 'Japanese', 'Russian', 'Arabic', 'Japanese', 'Russian', 'Arabic', 'Russian', 'Russian', 'Russian', 'Italian', 'English', 'Arabic', 'Greek', 'English', 'Russian', 'English', 'Russian', 'Japanese', 'English', 'Russian', 'Russian', 'Arabic', 'English', 'Arabic', 'Russian', 'Russian', 'Czech', 'Russian', 'Russian', 'Russian', 'English', 'English', 'Chinese', 'Russian', 'English', 'Czech', 'English', 'Russian', 'Russian', 'Russian', 'English', 'Italian', 'Japanese', 'Greek', 'Russian', 'Russian', 'Russian', 'Japanese', 'Russian', 'English', 'Japanese', 'Russian', 'Russian', 'English', 'Czech', 'English', 'Arabic', 'Russian', 'English', 'Russian', 'Japanese', 'Russian', 'Russian', 'English', 'English', 'Russian', 'Russian', 'Russian', 'Japanese', 'Russian', 'Arabic', 'Italian', 'Arabic', 'Russian', 'Russian', 'English', 'Russian', 'English', 'Russian', 'Greek', 'Russian', 'English', 'Russian', 'English', 'Japanese', 'Russian', 'Russian', 'Russian', 'English', 'English', 'Russian', 'English', 'Russian', 'English', 'Russian', 'Russian', 'Russian', 'Russian', 'Russian', 'English', 'Russian', 'Russian', 'English', 'Russian', 'Russian', 'Arabic', 'English', 'Russian', 'Russian', 'Russian', 'Russian', 'Russian', 'Arabic', 'Russian', 'Russian', 'Italian', 'Russian', 'Russian', 'Japanese', 'Russian', 'Arabic', 'Russian', 'English', 'English', 'Russian', 'Russian', 'Chinese', 'Russian', 'Russian', 'Russian', 'Russian', 'Russian', 'Russian', 'Russian', 'English', 'Arabic', 'Russian', 'Russian', 'Czech', 'English', 'Russian', 'Arabic', 'Arabic', 'Russian', 'English', 'English', 'English', 'Russian', 'English', 'Russian', 'Russian', 'Arabic', 'Russian', 'Russian', 'Russian', 'Russian', 'Russian', 'English', 'Japanese', 'Czech', 'Russian', 'Arabic', 'English', 'Russian', 'Russian', 'Russian', 'Russian', 'Arabic', 'Arabic', 'Russian', 'English', 'English', 'Russian', 'Czech', 'Russian', 'Russian', 'Russian', 'Arabic', 'Russian', 'Russian', 'Chinese', 'Russian', 'Japanese', 'Russian', 'Russian', 'Italian', 'Russian', 'Russian', 'English', 'Russian', 'English', 'Russian', 'Russian', 'Arabic', 'Arabic', 'Russian', 'Arabic', 'Russian', 'English', 'Italian', 'English', 'Russian', 'Italian', 'Japanese', 'German', 'Russian', 'English', 'English', 'English', 'Russian', 'Russian', 'Japanese', 'Russian', 'Russian', 'Russian', 'English', 'Spanish', 'Dutch', 'Polish', 'Japanese', 'Arabic', 'Russian', 'Russian', 'Arabic', 'Japanese', 'English', 'Russian', 'English', 'Arabic', 'Russian', 'Arabic', 'Russian', 'Arabic', 'Italian', 'German', 'Russian', 'Chinese', 'Japanese', 'Irish', 'Russian', 'Arabic', 'Russian', 'Russian', 'English', 'Russian', 'Russian', 'English', 'English', 'Czech', 'English', 'Czech', 'Russian', 'Arabic', 'Russian', 'English', 'Japanese', 'German', 'Russian', 'Italian', 'Japanese', 'Arabic', 'Russian', 'Russian', 'Japanese', 'Italian', 'Russian', 'Russian', 'Russian', 'German', 'Russian', 'English', 'Russian', 'English', 'Arabic', 'Russian', 'Russian', 'Russian', 'Russian', 'English', 'English', 'Russian', 'English', 'Russian', 'Russian', 'Russian', 'English', 'English', 'Chinese', 'English', 'Russian', 'English', 'Russian', 'Russian', 'Arabic', 'Czech', 'Spanish', 'Russian', 'Arabic', 'English', 'Russian', 'Japanese', 'English', 'Russian', 'Arabic', 'Italian', 'Greek', 'Arabic', 'Russian', 'Russian', 'English', 'English', 'Russian', 'Russian', 'English', 'Russian', 'Russian', 'Russian', 'Italian', 'English', 'Russian', 'Japanese', 'Russian', 'English', 'Russian', 'Russian', 'Russian', 'Russian', 'Russian', 'Russian', 'Russian', 'Arabic', 'Russian', 'Russian', 'Russian', 'Russian', 'Japanese', 'English', 'Russian', 'Russian', 'Russian', 'English', 'Russian', 'English', 'English', 'English', 'Russian', 'English', 'Italian', 'English', 'Japanese', 'English', 'Russian', 'Russian', 'Russian', 'Arabic', 'Russian', 'Russian', 'Russian', 'Russian', 'Russian', 'Russian', 'Russian', 'Russian', 'Russian', 'Russian', 'Greek', 'Russian', 'English', 'Russian', 'Russian', 'Arabic', 'Arabic', 'Russian', 'Russian', 'English', 'Russian', 'Russian', 'Russian', 'Arabic', 'Russian', 'Russian', 'English', 'English', 'Russian', 'Italian', 'Russian', 'Chinese', 'Russian', 'Russian', 'Japanese', 'Arabic', 'Arabic', 'Russian', 'Russian', 'Russian', 'Russian', 'Russian', 'Russian', 'Arabic', 'Russian', 'Russian', 'English', 'Russian', 'English', 'Greek', 'English', 'English', 'Russian', 'Russian', 'English', 'Russian', 'Russian', 'Japanese', 'Arabic', 'Russian', 'English', 'English', 'Japanese', 'Arabic', 'English', 'English', 'English', 'Russian', 'Russian', 'English', 'Russian', 'English', 'Arabic', 'Arabic', 'English', 'Arabic', 'Russian', 'Arabic', 'Italian', 'Arabic', 'Chinese', 'Russian', 'Arabic', 'Russian', 'Chinese', 'Russian', 'Greek', 'Russian', 'Irish', 'Russian', 'Russian', 'English', 'Russian', 'Italian', 'Arabic', 'Russian', 'Russian', 'English', 'Russian', 'Russian', 'Japanese', 'English', 'Russian', 'Russian', 'Arabic', 'Arabic', 'English', 'Arabic', 'Russian', 'Polish', 'Russian', 'Italian', 'Russian', 'Russian', 'Russian', 'Arabic', 'English', 'Russian', 'Japanese', 'Czech', 'English', 'Chinese', 'French', 'Arabic', 'Russian', 'Russian', 'Russian', 'Russian', 'Arabic', 'Czech', 'Russian', 'Japanese', 'Russian', 'Greek', 'Russian', 'Russian', 'Russian', 'Russian', 'Russian', 'Russian', 'Russian', 'Irish', 'English', 'English', 'Russian', 'Japanese', 'English', 'Russian']\n"
          ]
        }
      ],
      "source": [
        "print(y_val)\n",
        "print(preds4)"
      ]
    },
    {
      "cell_type": "code",
      "execution_count": null,
      "metadata": {
        "colab": {
          "base_uri": "https://localhost:8080/",
          "height": 613
        },
        "id": "iazlg9koJ2Js",
        "outputId": "854d7a26-546e-4171-851a-383ec741c2c1"
      },
      "outputs": [
        {
          "data": {
            "text/html": [
              "\n",
              "  <div id=\"df-c8fb1565-1e1a-464e-add2-2cb3fe580a6e\">\n",
              "    <div class=\"colab-df-container\">\n",
              "      <div>\n",
              "<style scoped>\n",
              "    .dataframe tbody tr th:only-of-type {\n",
              "        vertical-align: middle;\n",
              "    }\n",
              "\n",
              "    .dataframe tbody tr th {\n",
              "        vertical-align: top;\n",
              "    }\n",
              "\n",
              "    .dataframe thead th {\n",
              "        text-align: right;\n",
              "    }\n",
              "</style>\n",
              "<table border=\"1\" class=\"dataframe\">\n",
              "  <thead>\n",
              "    <tr style=\"text-align: right;\">\n",
              "      <th></th>\n",
              "      <th>0</th>\n",
              "      <th>1</th>\n",
              "      <th>2</th>\n",
              "      <th>3</th>\n",
              "      <th>4</th>\n",
              "      <th>5</th>\n",
              "      <th>6</th>\n",
              "      <th>7</th>\n",
              "      <th>8</th>\n",
              "      <th>9</th>\n",
              "      <th>10</th>\n",
              "      <th>11</th>\n",
              "      <th>12</th>\n",
              "      <th>13</th>\n",
              "      <th>14</th>\n",
              "      <th>15</th>\n",
              "      <th>16</th>\n",
              "      <th>17</th>\n",
              "    </tr>\n",
              "  </thead>\n",
              "  <tbody>\n",
              "    <tr>\n",
              "      <th>0</th>\n",
              "      <td>183</td>\n",
              "      <td>0</td>\n",
              "      <td>0</td>\n",
              "      <td>0</td>\n",
              "      <td>5</td>\n",
              "      <td>0</td>\n",
              "      <td>0</td>\n",
              "      <td>0</td>\n",
              "      <td>0</td>\n",
              "      <td>0</td>\n",
              "      <td>9</td>\n",
              "      <td>0</td>\n",
              "      <td>0</td>\n",
              "      <td>0</td>\n",
              "      <td>3</td>\n",
              "      <td>0</td>\n",
              "      <td>0</td>\n",
              "      <td>0</td>\n",
              "    </tr>\n",
              "    <tr>\n",
              "      <th>1</th>\n",
              "      <td>0</td>\n",
              "      <td>15</td>\n",
              "      <td>0</td>\n",
              "      <td>0</td>\n",
              "      <td>7</td>\n",
              "      <td>0</td>\n",
              "      <td>0</td>\n",
              "      <td>0</td>\n",
              "      <td>0</td>\n",
              "      <td>1</td>\n",
              "      <td>1</td>\n",
              "      <td>0</td>\n",
              "      <td>1</td>\n",
              "      <td>0</td>\n",
              "      <td>2</td>\n",
              "      <td>0</td>\n",
              "      <td>0</td>\n",
              "      <td>0</td>\n",
              "    </tr>\n",
              "    <tr>\n",
              "      <th>2</th>\n",
              "      <td>3</td>\n",
              "      <td>0</td>\n",
              "      <td>19</td>\n",
              "      <td>0</td>\n",
              "      <td>6</td>\n",
              "      <td>0</td>\n",
              "      <td>4</td>\n",
              "      <td>0</td>\n",
              "      <td>0</td>\n",
              "      <td>1</td>\n",
              "      <td>4</td>\n",
              "      <td>0</td>\n",
              "      <td>0</td>\n",
              "      <td>0</td>\n",
              "      <td>15</td>\n",
              "      <td>0</td>\n",
              "      <td>0</td>\n",
              "      <td>0</td>\n",
              "    </tr>\n",
              "    <tr>\n",
              "      <th>3</th>\n",
              "      <td>0</td>\n",
              "      <td>1</td>\n",
              "      <td>4</td>\n",
              "      <td>6</td>\n",
              "      <td>10</td>\n",
              "      <td>0</td>\n",
              "      <td>1</td>\n",
              "      <td>1</td>\n",
              "      <td>0</td>\n",
              "      <td>0</td>\n",
              "      <td>1</td>\n",
              "      <td>0</td>\n",
              "      <td>0</td>\n",
              "      <td>0</td>\n",
              "      <td>6</td>\n",
              "      <td>0</td>\n",
              "      <td>0</td>\n",
              "      <td>0</td>\n",
              "    </tr>\n",
              "    <tr>\n",
              "      <th>4</th>\n",
              "      <td>11</td>\n",
              "      <td>0</td>\n",
              "      <td>8</td>\n",
              "      <td>1</td>\n",
              "      <td>283</td>\n",
              "      <td>5</td>\n",
              "      <td>5</td>\n",
              "      <td>0</td>\n",
              "      <td>3</td>\n",
              "      <td>6</td>\n",
              "      <td>2</td>\n",
              "      <td>0</td>\n",
              "      <td>0</td>\n",
              "      <td>0</td>\n",
              "      <td>43</td>\n",
              "      <td>0</td>\n",
              "      <td>0</td>\n",
              "      <td>0</td>\n",
              "    </tr>\n",
              "    <tr>\n",
              "      <th>5</th>\n",
              "      <td>3</td>\n",
              "      <td>0</td>\n",
              "      <td>0</td>\n",
              "      <td>0</td>\n",
              "      <td>14</td>\n",
              "      <td>3</td>\n",
              "      <td>0</td>\n",
              "      <td>1</td>\n",
              "      <td>0</td>\n",
              "      <td>1</td>\n",
              "      <td>0</td>\n",
              "      <td>0</td>\n",
              "      <td>0</td>\n",
              "      <td>0</td>\n",
              "      <td>6</td>\n",
              "      <td>0</td>\n",
              "      <td>0</td>\n",
              "      <td>0</td>\n",
              "    </tr>\n",
              "    <tr>\n",
              "      <th>6</th>\n",
              "      <td>3</td>\n",
              "      <td>0</td>\n",
              "      <td>2</td>\n",
              "      <td>0</td>\n",
              "      <td>36</td>\n",
              "      <td>0</td>\n",
              "      <td>18</td>\n",
              "      <td>0</td>\n",
              "      <td>0</td>\n",
              "      <td>1</td>\n",
              "      <td>0</td>\n",
              "      <td>0</td>\n",
              "      <td>0</td>\n",
              "      <td>0</td>\n",
              "      <td>12</td>\n",
              "      <td>0</td>\n",
              "      <td>0</td>\n",
              "      <td>0</td>\n",
              "    </tr>\n",
              "    <tr>\n",
              "      <th>7</th>\n",
              "      <td>1</td>\n",
              "      <td>0</td>\n",
              "      <td>0</td>\n",
              "      <td>0</td>\n",
              "      <td>0</td>\n",
              "      <td>0</td>\n",
              "      <td>0</td>\n",
              "      <td>16</td>\n",
              "      <td>0</td>\n",
              "      <td>0</td>\n",
              "      <td>0</td>\n",
              "      <td>0</td>\n",
              "      <td>0</td>\n",
              "      <td>0</td>\n",
              "      <td>3</td>\n",
              "      <td>0</td>\n",
              "      <td>0</td>\n",
              "      <td>0</td>\n",
              "    </tr>\n",
              "    <tr>\n",
              "      <th>8</th>\n",
              "      <td>2</td>\n",
              "      <td>0</td>\n",
              "      <td>0</td>\n",
              "      <td>0</td>\n",
              "      <td>11</td>\n",
              "      <td>0</td>\n",
              "      <td>0</td>\n",
              "      <td>0</td>\n",
              "      <td>8</td>\n",
              "      <td>0</td>\n",
              "      <td>0</td>\n",
              "      <td>0</td>\n",
              "      <td>0</td>\n",
              "      <td>0</td>\n",
              "      <td>2</td>\n",
              "      <td>0</td>\n",
              "      <td>0</td>\n",
              "      <td>0</td>\n",
              "    </tr>\n",
              "    <tr>\n",
              "      <th>9</th>\n",
              "      <td>2</td>\n",
              "      <td>0</td>\n",
              "      <td>2</td>\n",
              "      <td>0</td>\n",
              "      <td>3</td>\n",
              "      <td>0</td>\n",
              "      <td>0</td>\n",
              "      <td>0</td>\n",
              "      <td>0</td>\n",
              "      <td>55</td>\n",
              "      <td>5</td>\n",
              "      <td>0</td>\n",
              "      <td>0</td>\n",
              "      <td>0</td>\n",
              "      <td>3</td>\n",
              "      <td>0</td>\n",
              "      <td>1</td>\n",
              "      <td>0</td>\n",
              "    </tr>\n",
              "    <tr>\n",
              "      <th>10</th>\n",
              "      <td>8</td>\n",
              "      <td>1</td>\n",
              "      <td>0</td>\n",
              "      <td>1</td>\n",
              "      <td>2</td>\n",
              "      <td>0</td>\n",
              "      <td>0</td>\n",
              "      <td>0</td>\n",
              "      <td>0</td>\n",
              "      <td>1</td>\n",
              "      <td>71</td>\n",
              "      <td>0</td>\n",
              "      <td>1</td>\n",
              "      <td>0</td>\n",
              "      <td>14</td>\n",
              "      <td>0</td>\n",
              "      <td>0</td>\n",
              "      <td>0</td>\n",
              "    </tr>\n",
              "    <tr>\n",
              "      <th>11</th>\n",
              "      <td>0</td>\n",
              "      <td>8</td>\n",
              "      <td>0</td>\n",
              "      <td>0</td>\n",
              "      <td>1</td>\n",
              "      <td>0</td>\n",
              "      <td>0</td>\n",
              "      <td>0</td>\n",
              "      <td>0</td>\n",
              "      <td>0</td>\n",
              "      <td>0</td>\n",
              "      <td>0</td>\n",
              "      <td>0</td>\n",
              "      <td>0</td>\n",
              "      <td>1</td>\n",
              "      <td>0</td>\n",
              "      <td>0</td>\n",
              "      <td>0</td>\n",
              "    </tr>\n",
              "    <tr>\n",
              "      <th>12</th>\n",
              "      <td>0</td>\n",
              "      <td>0</td>\n",
              "      <td>2</td>\n",
              "      <td>0</td>\n",
              "      <td>2</td>\n",
              "      <td>0</td>\n",
              "      <td>0</td>\n",
              "      <td>0</td>\n",
              "      <td>0</td>\n",
              "      <td>0</td>\n",
              "      <td>0</td>\n",
              "      <td>0</td>\n",
              "      <td>4</td>\n",
              "      <td>0</td>\n",
              "      <td>6</td>\n",
              "      <td>0</td>\n",
              "      <td>0</td>\n",
              "      <td>0</td>\n",
              "    </tr>\n",
              "    <tr>\n",
              "      <th>13</th>\n",
              "      <td>1</td>\n",
              "      <td>0</td>\n",
              "      <td>0</td>\n",
              "      <td>0</td>\n",
              "      <td>1</td>\n",
              "      <td>0</td>\n",
              "      <td>0</td>\n",
              "      <td>1</td>\n",
              "      <td>0</td>\n",
              "      <td>2</td>\n",
              "      <td>1</td>\n",
              "      <td>0</td>\n",
              "      <td>0</td>\n",
              "      <td>0</td>\n",
              "      <td>1</td>\n",
              "      <td>0</td>\n",
              "      <td>0</td>\n",
              "      <td>0</td>\n",
              "    </tr>\n",
              "    <tr>\n",
              "      <th>14</th>\n",
              "      <td>9</td>\n",
              "      <td>3</td>\n",
              "      <td>4</td>\n",
              "      <td>0</td>\n",
              "      <td>43</td>\n",
              "      <td>1</td>\n",
              "      <td>2</td>\n",
              "      <td>2</td>\n",
              "      <td>1</td>\n",
              "      <td>4</td>\n",
              "      <td>8</td>\n",
              "      <td>0</td>\n",
              "      <td>0</td>\n",
              "      <td>0</td>\n",
              "      <td>863</td>\n",
              "      <td>0</td>\n",
              "      <td>1</td>\n",
              "      <td>0</td>\n",
              "    </tr>\n",
              "    <tr>\n",
              "      <th>15</th>\n",
              "      <td>0</td>\n",
              "      <td>1</td>\n",
              "      <td>0</td>\n",
              "      <td>0</td>\n",
              "      <td>8</td>\n",
              "      <td>0</td>\n",
              "      <td>0</td>\n",
              "      <td>0</td>\n",
              "      <td>0</td>\n",
              "      <td>0</td>\n",
              "      <td>0</td>\n",
              "      <td>0</td>\n",
              "      <td>0</td>\n",
              "      <td>0</td>\n",
              "      <td>1</td>\n",
              "      <td>0</td>\n",
              "      <td>0</td>\n",
              "      <td>0</td>\n",
              "    </tr>\n",
              "    <tr>\n",
              "      <th>16</th>\n",
              "      <td>2</td>\n",
              "      <td>0</td>\n",
              "      <td>1</td>\n",
              "      <td>0</td>\n",
              "      <td>8</td>\n",
              "      <td>0</td>\n",
              "      <td>0</td>\n",
              "      <td>2</td>\n",
              "      <td>0</td>\n",
              "      <td>8</td>\n",
              "      <td>0</td>\n",
              "      <td>0</td>\n",
              "      <td>0</td>\n",
              "      <td>0</td>\n",
              "      <td>4</td>\n",
              "      <td>0</td>\n",
              "      <td>5</td>\n",
              "      <td>0</td>\n",
              "    </tr>\n",
              "    <tr>\n",
              "      <th>17</th>\n",
              "      <td>0</td>\n",
              "      <td>1</td>\n",
              "      <td>0</td>\n",
              "      <td>0</td>\n",
              "      <td>3</td>\n",
              "      <td>0</td>\n",
              "      <td>0</td>\n",
              "      <td>0</td>\n",
              "      <td>0</td>\n",
              "      <td>0</td>\n",
              "      <td>0</td>\n",
              "      <td>1</td>\n",
              "      <td>0</td>\n",
              "      <td>0</td>\n",
              "      <td>2</td>\n",
              "      <td>0</td>\n",
              "      <td>0</td>\n",
              "      <td>0</td>\n",
              "    </tr>\n",
              "  </tbody>\n",
              "</table>\n",
              "</div>\n",
              "      <button class=\"colab-df-convert\" onclick=\"convertToInteractive('df-c8fb1565-1e1a-464e-add2-2cb3fe580a6e')\"\n",
              "              title=\"Convert this dataframe to an interactive table.\"\n",
              "              style=\"display:none;\">\n",
              "        \n",
              "  <svg xmlns=\"http://www.w3.org/2000/svg\" height=\"24px\"viewBox=\"0 0 24 24\"\n",
              "       width=\"24px\">\n",
              "    <path d=\"M0 0h24v24H0V0z\" fill=\"none\"/>\n",
              "    <path d=\"M18.56 5.44l.94 2.06.94-2.06 2.06-.94-2.06-.94-.94-2.06-.94 2.06-2.06.94zm-11 1L8.5 8.5l.94-2.06 2.06-.94-2.06-.94L8.5 2.5l-.94 2.06-2.06.94zm10 10l.94 2.06.94-2.06 2.06-.94-2.06-.94-.94-2.06-.94 2.06-2.06.94z\"/><path d=\"M17.41 7.96l-1.37-1.37c-.4-.4-.92-.59-1.43-.59-.52 0-1.04.2-1.43.59L10.3 9.45l-7.72 7.72c-.78.78-.78 2.05 0 2.83L4 21.41c.39.39.9.59 1.41.59.51 0 1.02-.2 1.41-.59l7.78-7.78 2.81-2.81c.8-.78.8-2.07 0-2.86zM5.41 20L4 18.59l7.72-7.72 1.47 1.35L5.41 20z\"/>\n",
              "  </svg>\n",
              "      </button>\n",
              "      \n",
              "  <style>\n",
              "    .colab-df-container {\n",
              "      display:flex;\n",
              "      flex-wrap:wrap;\n",
              "      gap: 12px;\n",
              "    }\n",
              "\n",
              "    .colab-df-convert {\n",
              "      background-color: #E8F0FE;\n",
              "      border: none;\n",
              "      border-radius: 50%;\n",
              "      cursor: pointer;\n",
              "      display: none;\n",
              "      fill: #1967D2;\n",
              "      height: 32px;\n",
              "      padding: 0 0 0 0;\n",
              "      width: 32px;\n",
              "    }\n",
              "\n",
              "    .colab-df-convert:hover {\n",
              "      background-color: #E2EBFA;\n",
              "      box-shadow: 0px 1px 2px rgba(60, 64, 67, 0.3), 0px 1px 3px 1px rgba(60, 64, 67, 0.15);\n",
              "      fill: #174EA6;\n",
              "    }\n",
              "\n",
              "    [theme=dark] .colab-df-convert {\n",
              "      background-color: #3B4455;\n",
              "      fill: #D2E3FC;\n",
              "    }\n",
              "\n",
              "    [theme=dark] .colab-df-convert:hover {\n",
              "      background-color: #434B5C;\n",
              "      box-shadow: 0px 1px 3px 1px rgba(0, 0, 0, 0.15);\n",
              "      filter: drop-shadow(0px 1px 2px rgba(0, 0, 0, 0.3));\n",
              "      fill: #FFFFFF;\n",
              "    }\n",
              "  </style>\n",
              "\n",
              "      <script>\n",
              "        const buttonEl =\n",
              "          document.querySelector('#df-c8fb1565-1e1a-464e-add2-2cb3fe580a6e button.colab-df-convert');\n",
              "        buttonEl.style.display =\n",
              "          google.colab.kernel.accessAllowed ? 'block' : 'none';\n",
              "\n",
              "        async function convertToInteractive(key) {\n",
              "          const element = document.querySelector('#df-c8fb1565-1e1a-464e-add2-2cb3fe580a6e');\n",
              "          const dataTable =\n",
              "            await google.colab.kernel.invokeFunction('convertToInteractive',\n",
              "                                                     [key], {});\n",
              "          if (!dataTable) return;\n",
              "\n",
              "          const docLinkHtml = 'Like what you see? Visit the ' +\n",
              "            '<a target=\"_blank\" href=https://colab.research.google.com/notebooks/data_table.ipynb>data table notebook</a>'\n",
              "            + ' to learn more about interactive tables.';\n",
              "          element.innerHTML = '';\n",
              "          dataTable['output_type'] = 'display_data';\n",
              "          await google.colab.output.renderOutput(dataTable, element);\n",
              "          const docLink = document.createElement('div');\n",
              "          docLink.innerHTML = docLinkHtml;\n",
              "          element.appendChild(docLink);\n",
              "        }\n",
              "      </script>\n",
              "    </div>\n",
              "  </div>\n",
              "  "
            ],
            "text/plain": [
              "     0   1   2   3    4   5   6   7   8   9   10  11  12  13   14  15  16  17\n",
              "0   183   0   0   0    5   0   0   0   0   0   9   0   0   0    3   0   0   0\n",
              "1     0  15   0   0    7   0   0   0   0   1   1   0   1   0    2   0   0   0\n",
              "2     3   0  19   0    6   0   4   0   0   1   4   0   0   0   15   0   0   0\n",
              "3     0   1   4   6   10   0   1   1   0   0   1   0   0   0    6   0   0   0\n",
              "4    11   0   8   1  283   5   5   0   3   6   2   0   0   0   43   0   0   0\n",
              "5     3   0   0   0   14   3   0   1   0   1   0   0   0   0    6   0   0   0\n",
              "6     3   0   2   0   36   0  18   0   0   1   0   0   0   0   12   0   0   0\n",
              "7     1   0   0   0    0   0   0  16   0   0   0   0   0   0    3   0   0   0\n",
              "8     2   0   0   0   11   0   0   0   8   0   0   0   0   0    2   0   0   0\n",
              "9     2   0   2   0    3   0   0   0   0  55   5   0   0   0    3   0   1   0\n",
              "10    8   1   0   1    2   0   0   0   0   1  71   0   1   0   14   0   0   0\n",
              "11    0   8   0   0    1   0   0   0   0   0   0   0   0   0    1   0   0   0\n",
              "12    0   0   2   0    2   0   0   0   0   0   0   0   4   0    6   0   0   0\n",
              "13    1   0   0   0    1   0   0   1   0   2   1   0   0   0    1   0   0   0\n",
              "14    9   3   4   0   43   1   2   2   1   4   8   0   0   0  863   0   1   0\n",
              "15    0   1   0   0    8   0   0   0   0   0   0   0   0   0    1   0   0   0\n",
              "16    2   0   1   0    8   0   0   2   0   8   0   0   0   0    4   0   5   0\n",
              "17    0   1   0   0    3   0   0   0   0   0   0   1   0   0    2   0   0   0"
            ]
          },
          "execution_count": 41,
          "metadata": {},
          "output_type": "execute_result"
        }
      ],
      "source": [
        "cm = confusion_matrix(y_val, preds4)\n",
        "pd.DataFrame(cm)"
      ]
    },
    {
      "cell_type": "code",
      "execution_count": null,
      "metadata": {
        "id": "hHU2Ws_SRteY"
      },
      "outputs": [],
      "source": [
        "def test_model(model):\n",
        "    Preds=[]\n",
        "    for iter in range(len(X_test)):\n",
        "      category=y_test.iloc[iter]\n",
        "      line=X_test.iloc[iter]\n",
        "      category_tensor=categoryToTensor(category)\n",
        "      line_tensor=lineToTensor(line)\n",
        "\n",
        "      output,_=eval(category_tensor, line_tensor,model)\n",
        "      p,p_index=categoryFromOutput(output)\n",
        "\n",
        "      Preds.append(p)\n",
        "    acc=(y_test==Preds).sum()/len(X_test)\n",
        "\n",
        "    print(\"Test Accuracy : \",acc*100)"
      ]
    },
    {
      "cell_type": "code",
      "execution_count": null,
      "metadata": {
        "colab": {
          "base_uri": "https://localhost:8080/"
        },
        "id": "qw4PSixXU-84",
        "outputId": "5210f703-ce75-4f01-ee9b-993f11c01663"
      },
      "outputs": [
        {
          "name": "stdout",
          "output_type": "stream",
          "text": [
            "Test Accuracy :  76.89243027888446\n"
          ]
        }
      ],
      "source": [
        "test_model(rnn4)"
      ]
    },
    {
      "cell_type": "code",
      "execution_count": null,
      "metadata": {
        "id": "hP3al0EjS-Yb"
      },
      "outputs": [],
      "source": []
    },
    {
      "cell_type": "markdown",
      "metadata": {
        "id": "AunsgbxWS_Vg"
      },
      "source": [
        "# Architecture -2"
      ]
    },
    {
      "cell_type": "code",
      "execution_count": null,
      "metadata": {
        "id": "OWsneIdFS_Vh"
      },
      "outputs": [],
      "source": [
        "\n",
        "class RNN2(nn.Module):\n",
        "    def __init__(self, input_size, hidden_size, output_size):\n",
        "        super(RNN2, self).__init__()\n",
        "\n",
        "        self.hidden_size = hidden_size\n",
        "\n",
        "        self.i2h = nn.Sequential(nn.Linear(input_size + hidden_size, int(hidden_size*2)),\n",
        "                                 nn.ReLU(),\n",
        "                                 nn.Linear(int(hidden_size*2),hidden_size),\n",
        "                                 nn.ReLU(),\n",
        "                                 nn.Linear(hidden_size,int(hidden_size/2)),\n",
        "                                 nn.ReLU(),\n",
        "                                 nn.Linear(int(hidden_size/2),hidden_size)\n",
        "                                 )\n",
        "        \n",
        "        self.i2o = nn.Sequential(nn.Linear(input_size + hidden_size, int(output_size*2)),\n",
        "                                 nn.ReLU(),\n",
        "                                 nn.Linear(int(output_size*2),output_size),\n",
        "                                 nn.ReLU(),\n",
        "                                 nn.Linear(output_size,int(output_size/2)),\n",
        "                                 nn.ReLU(),\n",
        "                                 nn.Linear(int(output_size/2),output_size)\n",
        "                                 )\n",
        "        self.softmax = nn.LogSoftmax(dim=1)\n",
        "\n",
        "    def forward(self, input, hidden):\n",
        "        combined = torch.cat((input, hidden), 1)\n",
        "        hidden = self.i2h(combined)\n",
        "        output = self.i2o(combined)\n",
        "        output = self.softmax(output)\n",
        "        return output, hidden\n",
        "\n",
        "    def initHidden(self):\n",
        "        return torch.zeros(1, self.hidden_size)"
      ]
    },
    {
      "cell_type": "markdown",
      "metadata": {
        "id": "SCRYs_HYS_Vi"
      },
      "source": [
        "In this architecture we are only checking for Adam."
      ]
    },
    {
      "cell_type": "markdown",
      "metadata": {
        "id": "B1HKX2CDS_Vi"
      },
      "source": [
        "Model 1"
      ]
    },
    {
      "cell_type": "code",
      "execution_count": null,
      "metadata": {
        "id": "fUlR07NzS_Vi"
      },
      "outputs": [],
      "source": [
        "n_hidden1 = 128\n",
        "rnn2_1 = RNN2(n_letters, n_hidden1, n_categories).cuda()\n",
        "learning_rate = 0.001\n",
        "optimizer2_1 = torch.optim.Adam(rnn2_1.parameters(),lr= learning_rate)"
      ]
    },
    {
      "cell_type": "code",
      "execution_count": null,
      "metadata": {
        "colab": {
          "base_uri": "https://localhost:8080/"
        },
        "id": "2Z8GIiA6S_Vj",
        "outputId": "dbf61d43-9f0b-4d26-b6bf-0782251d89e3"
      },
      "outputs": [
        {
          "name": "stdout",
          "output_type": "stream",
          "text": [
            "Epoch 1 Train Loss : 1.4517381144673895\n",
            "============= Epoch 1 Val Loss : 1.2443089036935335\n",
            "Epoch 2 Train Loss : 1.190542510555016\n",
            "============= Epoch 2 Val Loss : 1.1409042561625946\n",
            "Epoch 3 Train Loss : 1.1069717644007742\n",
            "============= Epoch 3 Val Loss : 1.07446447787228\n",
            "Epoch 4 Train Loss : 1.0652805255465956\n",
            "============= Epoch 4 Val Loss : 1.073807078581478\n",
            "Epoch 5 Train Loss : 1.0489469756094536\n",
            "============= Epoch 5 Val Loss : 1.039465741063303\n",
            "Epoch 6 Train Loss : 1.0349869782496892\n",
            "============= Epoch 6 Val Loss : 1.0432045951880986\n",
            "Epoch 7 Train Loss : 1.021130347164485\n",
            "============= Epoch 7 Val Loss : 1.1241021771498285\n",
            "Epoch 8 Train Loss : 1.008313159843521\n",
            "============= Epoch 8 Val Loss : 1.007225561999161\n",
            "Epoch 9 Train Loss : 1.0040233045539684\n",
            "============= Epoch 9 Val Loss : 0.9860705949610359\n",
            "Epoch 10 Train Loss : 1.002414411008052\n",
            "============= Epoch 10 Val Loss : 0.9933202518588408\n",
            "Epoch 11 Train Loss : 0.9909344809570596\n",
            "============= Epoch 11 Val Loss : 0.9868370557781307\n",
            "Epoch 12 Train Loss : 0.9870334409365845\n",
            "============= Epoch 12 Val Loss : 1.0202165809775463\n",
            "Epoch 13 Train Loss : 0.9904849982136427\n",
            "============= Epoch 13 Val Loss : 1.007601158250007\n",
            "Epoch 14 Train Loss : 1.295812933208899\n",
            "============= Epoch 14 Val Loss : 1.0369460267773698\n",
            "Epoch 15 Train Loss : 1.0182176530726004\n",
            "============= Epoch 15 Val Loss : 1.0111228346134147\n",
            "Epoch 16 Train Loss : 1.01782933925951\n",
            "============= Epoch 16 Val Loss : 1.0069019336766023\n",
            "Epoch 17 Train Loss : 1.0005740589480592\n",
            "============= Epoch 17 Val Loss : 1.013421056674252\n",
            "Epoch 18 Train Loss : 1.0015210100147187\n",
            "============= Epoch 18 Val Loss : 1.0253013313940524\n",
            "Epoch 19 Train Loss : 1.001992948559207\n",
            "============= Epoch 19 Val Loss : 1.0413958584067886\n",
            "Epoch 20 Train Loss : 0.9996344200254988\n",
            "============= Epoch 20 Val Loss : 1.0579471958345879\n"
          ]
        }
      ],
      "source": [
        "trL2_1,vL2_1,preds2_1=evaluate_model(20,rnn2_1,optimizer2_1)"
      ]
    },
    {
      "cell_type": "code",
      "execution_count": null,
      "metadata": {
        "colab": {
          "base_uri": "https://localhost:8080/",
          "height": 368
        },
        "id": "Ki9NG8t5ROV2",
        "outputId": "303e0aee-9b3d-4533-82ec-7606ca23a0d5"
      },
      "outputs": [
        {
          "data": {
            "text/plain": [
              "<matplotlib.legend.Legend at 0x7ff766c95850>"
            ]
          },
          "execution_count": 43,
          "metadata": {},
          "output_type": "execute_result"
        },
        {
          "data": {
            "image/png": "[encoded data removed]",
            "text/plain": [
              "<Figure size 720x360 with 1 Axes>"
            ]
          },
          "metadata": {
            "needs_background": "light"
          },
          "output_type": "display_data"
        }
      ],
      "source": [
        "plt.figure(figsize=(10,5))\n",
        "epochArr=[i for i in range(1,21)]\n",
        "plt.plot(epochArr,trL2_1)\n",
        "plt.plot(epochArr,vL2_1)\n",
        "plt.xticks(epochArr)\n",
        "plt.xlabel(\"Epochs\")\n",
        "plt.ylabel(\"Loss\")\n",
        "plt.title(\"Loss v/s Epoch\")\n",
        "plt.legend([\"Train Loss\",\"Validation Loss\"])"
      ]
    },
    {
      "cell_type": "markdown",
      "metadata": {
        "id": "vE2hBKhuKdUt"
      },
      "source": [
        "Model 2"
      ]
    },
    {
      "cell_type": "code",
      "execution_count": null,
      "metadata": {
        "id": "RN8FdfWQKco1"
      },
      "outputs": [],
      "source": [
        "n_hidden2 = 64\n",
        "rnn2_2 = RNN2(n_letters, n_hidden2, n_categories).cuda()\n",
        "learning_rate = 0.0001\n",
        "optimizer2_2 = torch.optim.Adam(rnn2_2.parameters(),lr= learning_rate)"
      ]
    },
    {
      "cell_type": "code",
      "execution_count": null,
      "metadata": {
        "colab": {
          "base_uri": "https://localhost:8080/"
        },
        "id": "dKokhQaIKco2",
        "outputId": "cd0259be-6916-4a26-e7cc-533bc6efe59d"
      },
      "outputs": [
        {
          "name": "stdout",
          "output_type": "stream",
          "text": [
            "Epoch 1 Train Loss : 1.8801957657541413\n",
            "============= Epoch 1 Val Loss : 1.6764168614647779\n",
            "Epoch 2 Train Loss : 1.608464430896825\n",
            "============= Epoch 2 Val Loss : 1.5271879181481964\n",
            "Epoch 3 Train Loss : 1.46751492436684\n",
            "============= Epoch 3 Val Loss : 1.4272214862936974\n",
            "Epoch 4 Train Loss : 1.3896349031534483\n",
            "============= Epoch 4 Val Loss : 1.3668578281503254\n",
            "Epoch 5 Train Loss : 1.3125947580517483\n",
            "============= Epoch 5 Val Loss : 1.2681572972055384\n",
            "Epoch 6 Train Loss : 1.233353388706943\n",
            "============= Epoch 6 Val Loss : 1.214505092877487\n",
            "Epoch 7 Train Loss : 1.1889297879559577\n",
            "============= Epoch 7 Val Loss : 1.1889549926769478\n",
            "Epoch 8 Train Loss : 1.1543892041145294\n",
            "============= Epoch 8 Val Loss : 1.1517074275322685\n",
            "Epoch 9 Train Loss : 1.12234602132197\n",
            "============= Epoch 9 Val Loss : 1.109350048307035\n",
            "Epoch 10 Train Loss : 1.08758843131752\n",
            "============= Epoch 10 Val Loss : 1.0726229156605975\n",
            "Epoch 11 Train Loss : 1.0501690525307823\n",
            "============= Epoch 11 Val Loss : 1.0401283796942542\n",
            "Epoch 12 Train Loss : 1.0171618727661775\n",
            "============= Epoch 12 Val Loss : 1.0121484660473825\n",
            "Epoch 13 Train Loss : 0.9862610580429588\n",
            "============= Epoch 13 Val Loss : 0.9775011416537682\n",
            "Epoch 14 Train Loss : 0.9594019111381155\n",
            "============= Epoch 14 Val Loss : 0.9484979181589074\n",
            "Epoch 15 Train Loss : 0.9367291671911047\n",
            "============= Epoch 15 Val Loss : 0.9405792706193009\n",
            "Epoch 16 Train Loss : 0.9133636710796667\n",
            "============= Epoch 16 Val Loss : 0.9385945893122629\n",
            "Epoch 17 Train Loss : 0.8918935665241434\n",
            "============= Epoch 17 Val Loss : 0.9194831643804762\n",
            "Epoch 18 Train Loss : 0.8706670615460961\n",
            "============= Epoch 18 Val Loss : 0.9047662681258691\n",
            "Epoch 19 Train Loss : 0.8515687894688395\n",
            "============= Epoch 19 Val Loss : 0.8953739572589184\n",
            "Epoch 20 Train Loss : 0.8330125832226684\n",
            "============= Epoch 20 Val Loss : 0.8716406016674861\n"
          ]
        }
      ],
      "source": [
        "trL2_2,vL2_2,preds2_2=evaluate_model(20,rnn2_2,optimizer2_2)"
      ]
    },
    {
      "cell_type": "code",
      "execution_count": null,
      "metadata": {
        "colab": {
          "base_uri": "https://localhost:8080/",
          "height": 367
        },
        "id": "0JH5wgsk3LBd",
        "outputId": "a847c1cb-78dc-49d0-f186-1d88dc63a3d3"
      },
      "outputs": [
        {
          "data": {
            "text/plain": [
              "<matplotlib.legend.Legend at 0x7f0c6de19940>"
            ]
          },
          "execution_count": 22,
          "metadata": {},
          "output_type": "execute_result"
        },
        {
          "data": {
            "image/png": "[encoded data removed]",
            "text/plain": [
              "<Figure size 720x360 with 1 Axes>"
            ]
          },
          "metadata": {
            "needs_background": "light"
          },
          "output_type": "display_data"
        }
      ],
      "source": [
        "plt.figure(figsize=(10,5))\n",
        "epochArr=[i for i in range(1,21)]\n",
        "plt.plot(epochArr,trL2_2)\n",
        "plt.plot(epochArr,vL2_2)\n",
        "plt.xticks(epochArr)\n",
        "plt.xlabel(\"Epochs\")\n",
        "plt.ylabel(\"Loss\")\n",
        "plt.title(\"Loss v/s Epoch\")\n",
        "plt.legend([\"Train Loss\",\"Validation Loss\"])\n",
        "\n"
      ]
    },
    {
      "cell_type": "markdown",
      "metadata": {
        "id": "yrA576oNEQwk"
      },
      "source": [
        "Model 3"
      ]
    },
    {
      "cell_type": "code",
      "execution_count": null,
      "metadata": {
        "id": "wnJdKosHQFnS"
      },
      "outputs": [],
      "source": [
        "n_hidden1=128\n",
        "rnn2_3 = RNN2(n_letters, n_hidden1, n_categories).cuda()\n",
        "learning_rate = 0.0001\n",
        "optimizer2_3 = torch.optim.Adam(rnn2_3.parameters(),lr= learning_rate)"
      ]
    },
    {
      "cell_type": "code",
      "execution_count": null,
      "metadata": {
        "colab": {
          "base_uri": "https://localhost:8080/"
        },
        "id": "KEiXjSe1QH6_",
        "outputId": "0db80290-af8a-4ad4-bc8d-3acac519e4b2"
      },
      "outputs": [
        {
          "name": "stdout",
          "output_type": "stream",
          "text": [
            "Epoch 1 Train Loss : 1.8276986091171972\n",
            "============= Epoch 1 Val Loss : 1.5907783037704597\n",
            "Epoch 2 Train Loss : 1.4850949461081526\n",
            "============= Epoch 2 Val Loss : 1.3982813997705286\n",
            "Epoch 3 Train Loss : 1.3768939144754984\n",
            "============= Epoch 3 Val Loss : 1.3224873578539005\n",
            "Epoch 4 Train Loss : 1.2787706850845402\n",
            "============= Epoch 4 Val Loss : 1.241782232936141\n",
            "Epoch 5 Train Loss : 1.2098871612652948\n",
            "============= Epoch 5 Val Loss : 1.1815649893170381\n",
            "Epoch 6 Train Loss : 1.1504234778562143\n",
            "============= Epoch 6 Val Loss : 1.1282593223245159\n",
            "Epoch 7 Train Loss : 1.0912536019807642\n",
            "============= Epoch 7 Val Loss : 1.077754560848161\n",
            "Epoch 8 Train Loss : 1.048368346546511\n",
            "============= Epoch 8 Val Loss : 1.039220403361808\n",
            "Epoch 9 Train Loss : 1.008501238292523\n",
            "============= Epoch 9 Val Loss : 1.0143446218143282\n",
            "Epoch 10 Train Loss : 0.9751604363068072\n",
            "============= Epoch 10 Val Loss : 0.9796627214931223\n",
            "Epoch 11 Train Loss : 0.9424616930482623\n",
            "============= Epoch 11 Val Loss : 0.950000691947302\n",
            "Epoch 12 Train Loss : 0.9150667652771686\n",
            "============= Epoch 12 Val Loss : 0.9276219883206727\n",
            "Epoch 13 Train Loss : 0.8934720632029332\n",
            "============= Epoch 13 Val Loss : 0.899947787881445\n",
            "Epoch 14 Train Loss : 0.8711964369292414\n",
            "============= Epoch 14 Val Loss : 0.8718954763147454\n",
            "Epoch 15 Train Loss : 0.8455387782256774\n",
            "============= Epoch 15 Val Loss : 0.8652573286182162\n",
            "Epoch 16 Train Loss : 0.8252467942485265\n",
            "============= Epoch 16 Val Loss : 0.9245356123811405\n",
            "Epoch 17 Train Loss : 0.8095995853629898\n",
            "============= Epoch 17 Val Loss : 0.8319153563886694\n",
            "Epoch 18 Train Loss : 0.7899298019440834\n",
            "============= Epoch 18 Val Loss : 0.8234438346798948\n",
            "Epoch 19 Train Loss : 0.7704920247456569\n",
            "============= Epoch 19 Val Loss : 0.8281350794172825\n",
            "Epoch 20 Train Loss : 0.7541287530670896\n",
            "============= Epoch 20 Val Loss : 0.8142737885431799\n"
          ]
        }
      ],
      "source": [
        "trL2_3,vL2_3,preds2_3=evaluate_model(20,rnn2_3,optimizer2_3)"
      ]
    },
    {
      "cell_type": "code",
      "execution_count": null,
      "metadata": {
        "colab": {
          "base_uri": "https://localhost:8080/",
          "height": 368
        },
        "id": "dlV3BlOqRNaC",
        "outputId": "efbf1093-a814-4595-8a12-012dfe01ebc4"
      },
      "outputs": [
        {
          "data": {
            "text/plain": [
              "<matplotlib.legend.Legend at 0x7f0fdd6ca7c0>"
            ]
          },
          "execution_count": 54,
          "metadata": {},
          "output_type": "execute_result"
        },
        {
          "data": {
            "image/png": "[encoded data removed]",
            "text/plain": [
              "<Figure size 720x360 with 1 Axes>"
            ]
          },
          "metadata": {
            "needs_background": "light"
          },
          "output_type": "display_data"
        }
      ],
      "source": [
        "plt.figure(figsize=(10,5))\n",
        "epochArr=[i for i in range(1,21)]\n",
        "plt.plot(epochArr,trL2_3)\n",
        "plt.plot(epochArr,vL2_3)\n",
        "plt.xticks(epochArr)\n",
        "plt.xlabel(\"Epochs\")\n",
        "plt.ylabel(\"Loss\")\n",
        "plt.title(\"Loss v/s Epoch\")\n",
        "plt.legend([\"Train Loss\",\"Validation Loss\"])"
      ]
    },
    {
      "cell_type": "markdown",
      "metadata": {
        "id": "HrvxieQmSEmb"
      },
      "source": [
        "Out of all, we found that model 3 is best. So we will go further with it only and test it."
      ]
    },
    {
      "cell_type": "markdown",
      "metadata": {
        "id": "iStnEWJOSEmc"
      },
      "source": [
        "Confusion matrix"
      ]
    },
    {
      "cell_type": "code",
      "execution_count": null,
      "metadata": {
        "id": "qBGKAA1XSEmc"
      },
      "outputs": [],
      "source": [
        "from sklearn.metrics import confusion_matrix"
      ]
    },
    {
      "cell_type": "code",
      "execution_count": null,
      "metadata": {
        "colab": {
          "base_uri": "https://localhost:8080/"
        },
        "id": "woGCBePxSEmc",
        "outputId": "3f98b3f1-adda-4c27-8989-7564825a614f"
      },
      "outputs": [
        {
          "name": "stdout",
          "output_type": "stream",
          "text": [
            "2990      English\n",
            "15565     Russian\n",
            "12404     Russian\n",
            "10722     Russian\n",
            "16433     Russian\n",
            "           ...   \n",
            "3669      English\n",
            "7947      Russian\n",
            "18803    Japanese\n",
            "1428      English\n",
            "51          Greek\n",
            "Name: class, Length: 2008, dtype: object\n",
            "['English', 'Russian', 'Russian', 'English', 'Russian', 'Arabic', 'Russian', 'Italian', 'Italian', 'English', 'Japanese', 'Russian', 'Japanese', 'Russian', 'Russian', 'Russian', 'English', 'Russian', 'Arabic', 'Greek', 'Russian', 'Russian', 'Russian', 'Russian', 'Arabic', 'Japanese', 'Russian', 'Arabic', 'Russian', 'Russian', 'Arabic', 'Russian', 'Greek', 'Russian', 'Russian', 'Arabic', 'Japanese', 'Russian', 'English', 'Japanese', 'English', 'Russian', 'English', 'English', 'English', 'English', 'Japanese', 'Russian', 'Arabic', 'Japanese', 'Russian', 'Japanese', 'Russian', 'English', 'Russian', 'Arabic', 'Russian', 'English', 'Italian', 'Russian', 'English', 'Russian', 'English', 'English', 'English', 'Arabic', 'Italian', 'Arabic', 'Russian', 'Arabic', 'Russian', 'Arabic', 'Japanese', 'English', 'Russian', 'Russian', 'Italian', 'Russian', 'Arabic', 'English', 'English', 'Russian', 'Russian', 'Russian', 'Russian', 'Russian', 'English', 'Japanese', 'Russian', 'Italian', 'Russian', 'English', 'Russian', 'Japanese', 'Italian', 'Japanese', 'Russian', 'Russian', 'Russian', 'English', 'English', 'Japanese', 'Arabic', 'Russian', 'English', 'Russian', 'Arabic', 'English', 'Russian', 'English', 'Arabic', 'Russian', 'English', 'Russian', 'English', 'Arabic', 'Russian', 'Russian', 'Arabic', 'Arabic', 'Russian', 'English', 'Russian', 'English', 'Russian', 'Russian', 'Russian', 'Russian', 'English', 'Japanese', 'Arabic', 'English', 'Chinese', 'Russian', 'Russian', 'English', 'Arabic', 'English', 'English', 'Russian', 'Russian', 'English', 'English', 'Russian', 'English', 'Russian', 'English', 'Japanese', 'Russian', 'Italian', 'Russian', 'Arabic', 'Greek', 'English', 'Japanese', 'Arabic', 'Russian', 'Italian', 'English', 'Arabic', 'English', 'English', 'Russian', 'Arabic', 'English', 'Russian', 'Russian', 'Russian', 'Russian', 'Russian', 'Russian', 'English', 'Russian', 'Russian', 'English', 'Russian', 'Russian', 'English', 'English', 'Russian', 'Russian', 'English', 'Russian', 'English', 'English', 'Russian', 'Russian', 'English', 'English', 'English', 'Russian', 'Arabic', 'Russian', 'Russian', 'English', 'English', 'Arabic', 'Russian', 'Russian', 'Russian', 'Arabic', 'Russian', 'Russian', 'Russian', 'Russian', 'Russian', 'Japanese', 'Russian', 'English', 'Arabic', 'Arabic', 'Russian', 'Japanese', 'Japanese', 'English', 'Arabic', 'Russian', 'Russian', 'Russian', 'Russian', 'English', 'Russian', 'Russian', 'Russian', 'English', 'Arabic', 'Russian', 'English', 'English', 'Russian', 'Russian', 'Russian', 'English', 'Russian', 'Russian', 'Arabic', 'Russian', 'English', 'Greek', 'Arabic', 'Russian', 'Russian', 'Greek', 'English', 'Russian', 'Russian', 'Japanese', 'English', 'Japanese', 'Russian', 'English', 'English', 'English', 'Russian', 'English', 'Russian', 'Russian', 'Arabic', 'Russian', 'Russian', 'Russian', 'Russian', 'Russian', 'English', 'Russian', 'English', 'English', 'English', 'Russian', 'Russian', 'Russian', 'Russian', 'Russian', 'English', 'English', 'Russian', 'English', 'English', 'English', 'Arabic', 'Russian', 'Russian', 'English', 'Russian', 'Russian', 'Russian', 'English', 'Arabic', 'Russian', 'English', 'Russian', 'English', 'English', 'Italian', 'Italian', 'Japanese', 'Russian', 'Russian', 'Arabic', 'Russian', 'Russian', 'English', 'Russian', 'Russian', 'Russian', 'English', 'Japanese', 'Arabic', 'Russian', 'Russian', 'Arabic', 'Russian', 'English', 'Russian', 'Russian', 'English', 'Russian', 'Russian', 'Russian', 'Arabic', 'Arabic', 'Russian', 'English', 'English', 'English', 'English', 'Russian', 'English', 'Arabic', 'English', 'Russian', 'Russian', 'Russian', 'Greek', 'English', 'Russian', 'Russian', 'Russian', 'Italian', 'English', 'Russian', 'English', 'Russian', 'English', 'Russian', 'Russian', 'English', 'Russian', 'Arabic', 'Russian', 'Arabic', 'Russian', 'English', 'English', 'Russian', 'Italian', 'Russian', 'Arabic', 'Arabic', 'Russian', 'Arabic', 'English', 'Russian', 'English', 'Arabic', 'Russian', 'Arabic', 'Russian', 'English', 'English', 'Russian', 'English', 'Russian', 'English', 'Japanese', 'English', 'Chinese', 'Russian', 'Russian', 'English', 'Russian', 'Russian', 'Russian', 'Russian', 'Russian', 'Russian', 'Russian', 'English', 'Russian', 'English', 'Russian', 'Russian', 'Arabic', 'Russian', 'Arabic', 'English', 'English', 'English', 'Russian', 'English', 'Russian', 'Russian', 'Russian', 'English', 'Russian', 'Russian', 'Russian', 'English', 'Russian', 'Russian', 'Russian', 'English', 'Russian', 'Russian', 'English', 'Chinese', 'Russian', 'Russian', 'Russian', 'English', 'English', 'English', 'Chinese', 'Japanese', 'Arabic', 'Japanese', 'English', 'Russian', 'Russian', 'Russian', 'Russian', 'Russian', 'Japanese', 'Russian', 'Russian', 'Russian', 'Russian', 'English', 'Russian', 'Russian', 'Russian', 'English', 'Russian', 'Arabic', 'Arabic', 'Russian', 'English', 'Russian', 'Russian', 'Italian', 'Russian', 'English', 'English', 'Russian', 'Italian', 'Russian', 'Arabic', 'English', 'English', 'English', 'Russian', 'Russian', 'Greek', 'Russian', 'Italian', 'English', 'Russian', 'Russian', 'Italian', 'Arabic', 'Arabic', 'Russian', 'Russian', 'Arabic', 'Russian', 'English', 'Chinese', 'Russian', 'Russian', 'Arabic', 'Russian', 'Arabic', 'Russian', 'English', 'English', 'English', 'Russian', 'Japanese', 'Arabic', 'Japanese', 'Russian', 'Chinese', 'Russian', 'Arabic', 'Russian', 'English', 'Arabic', 'English', 'English', 'Russian', 'English', 'Russian', 'Greek', 'English', 'Russian', 'Japanese', 'Italian', 'Japanese', 'Russian', 'English', 'Russian', 'Russian', 'Russian', 'English', 'Russian', 'English', 'Russian', 'Russian', 'Arabic', 'English', 'English', 'English', 'Russian', 'English', 'English', 'Russian', 'Russian', 'Russian', 'English', 'English', 'English', 'Japanese', 'Russian', 'Russian', 'Russian', 'Japanese', 'Russian', 'Russian', 'Russian', 'Arabic', 'English', 'Russian', 'Russian', 'Russian', 'Russian', 'English', 'Russian', 'Russian', 'Russian', 'English', 'English', 'Russian', 'Russian', 'Russian', 'Russian', 'Russian', 'English', 'Italian', 'Russian', 'Russian', 'English', 'Japanese', 'Russian', 'Russian', 'English', 'Russian', 'Russian', 'Russian', 'Russian', 'Arabic', 'Russian', 'Arabic', 'English', 'Russian', 'English', 'English', 'Russian', 'Russian', 'Arabic', 'Russian', 'Russian', 'Italian', 'Italian', 'Russian', 'Russian', 'English', 'Russian', 'Russian', 'Russian', 'Arabic', 'Russian', 'Russian', 'Arabic', 'Japanese', 'Japanese', 'English', 'Russian', 'Russian', 'English', 'Russian', 'English', 'Russian', 'Russian', 'English', 'English', 'English', 'English', 'Arabic', 'English', 'English', 'Russian', 'Russian', 'Italian', 'Russian', 'Japanese', 'Russian', 'English', 'English', 'Japanese', 'Italian', 'Italian', 'English', 'English', 'English', 'English', 'English', 'Arabic', 'Russian', 'Russian', 'English', 'Arabic', 'Russian', 'Arabic', 'Russian', 'Arabic', 'English', 'English', 'Russian', 'Russian', 'Russian', 'English', 'Russian', 'Chinese', 'Russian', 'English', 'Italian', 'Russian', 'Russian', 'English', 'Russian', 'English', 'Russian', 'Russian', 'Japanese', 'Russian', 'Russian', 'Arabic', 'English', 'English', 'English', 'Russian', 'Russian', 'Russian', 'English', 'English', 'Russian', 'Japanese', 'Russian', 'Russian', 'English', 'English', 'Russian', 'Japanese', 'Russian', 'English', 'Russian', 'English', 'English', 'Russian', 'Russian', 'Arabic', 'Russian', 'English', 'Japanese', 'Chinese', 'English', 'Italian', 'Russian', 'Russian', 'English', 'Russian', 'English', 'Russian', 'Russian', 'Arabic', 'Italian', 'Russian', 'Russian', 'Russian', 'English', 'Arabic', 'Russian', 'Japanese', 'Russian', 'English', 'Russian', 'English', 'Russian', 'Russian', 'English', 'Russian', 'Italian', 'Japanese', 'English', 'English', 'English', 'Russian', 'English', 'Japanese', 'Arabic', 'Italian', 'English', 'Russian', 'Arabic', 'English', 'Russian', 'Russian', 'English', 'English', 'Arabic', 'Russian', 'English', 'Italian', 'Arabic', 'Arabic', 'English', 'English', 'Russian', 'Arabic', 'Russian', 'Russian', 'English', 'English', 'English', 'Russian', 'Russian', 'Russian', 'Arabic', 'English', 'Russian', 'Arabic', 'Russian', 'Russian', 'Russian', 'English', 'English', 'Russian', 'Russian', 'Japanese', 'Russian', 'Arabic', 'Japanese', 'Japanese', 'Chinese', 'Russian', 'Arabic', 'Russian', 'Russian', 'Italian', 'English', 'Arabic', 'Russian', 'Russian', 'Arabic', 'Russian', 'English', 'English', 'Japanese', 'Arabic', 'English', 'English', 'English', 'Russian', 'Greek', 'Russian', 'Russian', 'Russian', 'English', 'English', 'Russian', 'Russian', 'Russian', 'Russian', 'Russian', 'Japanese', 'Greek', 'Russian', 'Russian', 'Russian', 'Russian', 'English', 'Russian', 'Chinese', 'Russian', 'Russian', 'Russian', 'English', 'Arabic', 'Greek', 'Russian', 'Arabic', 'Russian', 'English', 'English', 'Russian', 'English', 'English', 'Italian', 'Russian', 'English', 'Italian', 'Russian', 'Russian', 'Russian', 'Russian', 'Russian', 'Russian', 'Japanese', 'Arabic', 'English', 'Chinese', 'Russian', 'Arabic', 'English', 'English', 'Russian', 'English', 'English', 'English', 'Arabic', 'Russian', 'English', 'Chinese', 'Russian', 'Russian', 'Italian', 'Russian', 'Russian', 'Russian', 'Russian', 'English', 'Russian', 'English', 'Arabic', 'English', 'English', 'English', 'Russian', 'Russian', 'Russian', 'Russian', 'English', 'English', 'Russian', 'Russian', 'Russian', 'Russian', 'Russian', 'Greek', 'Russian', 'Russian', 'Russian', 'Italian', 'English', 'Russian', 'Arabic', 'Japanese', 'Arabic', 'Russian', 'Arabic', 'Russian', 'English', 'Arabic', 'Italian', 'Russian', 'Russian', 'Arabic', 'Russian', 'Russian', 'Russian', 'Russian', 'Russian', 'Russian', 'Russian', 'English', 'Russian', 'Greek', 'Russian', 'Japanese', 'Japanese', 'Russian', 'Russian', 'Russian', 'Russian', 'English', 'Russian', 'Russian', 'Russian', 'Russian', 'Japanese', 'Russian', 'Russian', 'Russian', 'English', 'Russian', 'Russian', 'Arabic', 'Russian', 'English', 'Russian', 'English', 'Russian', 'Russian', 'Russian', 'Arabic', 'English', 'English', 'English', 'Russian', 'Italian', 'Russian', 'Japanese', 'English', 'Russian', 'Arabic', 'English', 'Russian', 'Italian', 'Russian', 'Russian', 'Japanese', 'Russian', 'Russian', 'Russian', 'Russian', 'Russian', 'Russian', 'Russian', 'Russian', 'Russian', 'Russian', 'Arabic', 'English', 'Russian', 'Russian', 'English', 'Russian', 'Russian', 'Russian', 'English', 'Russian', 'Russian', 'Russian', 'English', 'Russian', 'Russian', 'English', 'Japanese', 'Russian', 'Arabic', 'Japanese', 'Russian', 'Russian', 'Russian', 'Russian', 'Russian', 'Japanese', 'English', 'Russian', 'English', 'Russian', 'English', 'Russian', 'English', 'Italian', 'English', 'Russian', 'English', 'English', 'Russian', 'Russian', 'Russian', 'English', 'Russian', 'English', 'English', 'Arabic', 'Russian', 'Arabic', 'English', 'Russian', 'Russian', 'Russian', 'English', 'Arabic', 'Arabic', 'English', 'Russian', 'Arabic', 'Russian', 'Russian', 'Russian', 'English', 'Russian', 'Russian', 'English', 'English', 'English', 'Italian', 'German', 'Arabic', 'English', 'Russian', 'Russian', 'English', 'Russian', 'Arabic', 'Arabic', 'English', 'Russian', 'Russian', 'Russian', 'Japanese', 'Russian', 'Russian', 'English', 'Russian', 'Russian', 'Russian', 'Russian', 'Russian', 'Russian', 'Arabic', 'Japanese', 'Arabic', 'English', 'Russian', 'Russian', 'Arabic', 'Russian', 'English', 'English', 'Japanese', 'Russian', 'English', 'Russian', 'English', 'Russian', 'English', 'English', 'English', 'English', 'Russian', 'English', 'English', 'English', 'English', 'Russian', 'Russian', 'Arabic', 'English', 'English', 'Japanese', 'Russian', 'English', 'Russian', 'Russian', 'Russian', 'English', 'Russian', 'Arabic', 'Russian', 'Russian', 'Russian', 'Russian', 'Japanese', 'English', 'Russian', 'Russian', 'Russian', 'Russian', 'Russian', 'English', 'Russian', 'Arabic', 'English', 'Russian', 'Italian', 'English', 'English', 'English', 'Russian', 'Russian', 'Japanese', 'English', 'Arabic', 'English', 'Russian', 'Russian', 'Russian', 'Arabic', 'Japanese', 'Russian', 'Arabic', 'Russian', 'Greek', 'Russian', 'English', 'English', 'English', 'English', 'English', 'English', 'English', 'Japanese', 'English', 'Russian', 'English', 'Russian', 'English', 'English', 'Italian', 'English', 'English', 'Russian', 'Russian', 'Russian', 'Russian', 'Arabic', 'English', 'Russian', 'Russian', 'Russian', 'Russian', 'Russian', 'English', 'Russian', 'Italian', 'Russian', 'English', 'Russian', 'English', 'Arabic', 'Russian', 'Russian', 'Russian', 'English', 'English', 'English', 'Russian', 'English', 'Russian', 'Arabic', 'English', 'Russian', 'English', 'Arabic', 'Japanese', 'Russian', 'Russian', 'Arabic', 'Japanese', 'Russian', 'English', 'Arabic', 'Russian', 'Italian', 'Russian', 'Russian', 'English', 'Russian', 'Italian', 'English', 'Italian', 'Russian', 'Russian', 'Italian', 'English', 'Arabic', 'Russian', 'Russian', 'Greek', 'English', 'Russian', 'Russian', 'English', 'Russian', 'Russian', 'Russian', 'Russian', 'English', 'Russian', 'Arabic', 'English', 'English', 'Russian', 'English', 'Russian', 'English', 'Russian', 'English', 'Arabic', 'Russian', 'Russian', 'English', 'English', 'Arabic', 'Russian', 'Greek', 'English', 'Arabic', 'Russian', 'Japanese', 'Russian', 'English', 'Russian', 'English', 'Russian', 'Russian', 'Italian', 'Russian', 'Russian', 'Russian', 'Arabic', 'Russian', 'Arabic', 'English', 'Arabic', 'English', 'Russian', 'Russian', 'Russian', 'Greek', 'English', 'English', 'Russian', 'Russian', 'Russian', 'Arabic', 'Japanese', 'English', 'Russian', 'Russian', 'Arabic', 'Russian', 'English', 'Russian', 'English', 'Russian', 'Russian', 'Greek', 'English', 'English', 'English', 'Japanese', 'Russian', 'English', 'Russian', 'Russian', 'Japanese', 'Arabic', 'Russian', 'English', 'Russian', 'Russian', 'English', 'Russian', 'Russian', 'Russian', 'Russian', 'Greek', 'Russian', 'Russian', 'Arabic', 'Russian', 'Arabic', 'Russian', 'Russian', 'Russian', 'Russian', 'Russian', 'Russian', 'Arabic', 'English', 'Russian', 'English', 'English', 'Russian', 'English', 'Italian', 'Italian', 'Russian', 'English', 'Russian', 'Russian', 'Japanese', 'English', 'Russian', 'Russian', 'Russian', 'English', 'Russian', 'Russian', 'Arabic', 'Chinese', 'Russian', 'Russian', 'Italian', 'English', 'Russian', 'Russian', 'Arabic', 'Arabic', 'English', 'Russian', 'Russian', 'Russian', 'English', 'Japanese', 'English', 'Russian', 'Russian', 'Russian', 'Russian', 'Russian', 'English', 'Russian', 'Russian', 'Russian', 'Russian', 'Russian', 'English', 'Russian', 'Japanese', 'Russian', 'Russian', 'Russian', 'English', 'Russian', 'English', 'English', 'Italian', 'English', 'Russian', 'English', 'Russian', 'Russian', 'English', 'English', 'Russian', 'Russian', 'English', 'English', 'Russian', 'Russian', 'Russian', 'Russian', 'Russian', 'Russian', 'Russian', 'Greek', 'Russian', 'English', 'Arabic', 'Arabic', 'Russian', 'Russian', 'Russian', 'English', 'Arabic', 'Japanese', 'Russian', 'Japanese', 'Arabic', 'Russian', 'Russian', 'English', 'Russian', 'English', 'Italian', 'Russian', 'English', 'English', 'English', 'Russian', 'Arabic', 'Russian', 'Russian', 'Russian', 'Japanese', 'Russian', 'Russian', 'Russian', 'Russian', 'Russian', 'Russian', 'Russian', 'Russian', 'Russian', 'English', 'English', 'English', 'Russian', 'Arabic', 'Russian', 'Russian', 'Czech', 'Russian', 'Japanese', 'English', 'Japanese', 'Russian', 'Russian', 'Russian', 'Arabic', 'Russian', 'English', 'English', 'Russian', 'Russian', 'Russian', 'Chinese', 'Russian', 'Arabic', 'Arabic', 'English', 'Arabic', 'Japanese', 'Russian', 'Russian', 'Arabic', 'Russian', 'Russian', 'Russian', 'Arabic', 'Russian', 'Russian', 'Arabic', 'English', 'Italian', 'English', 'English', 'Russian', 'English', 'Russian', 'English', 'Russian', 'Russian', 'English', 'Russian', 'Russian', 'Japanese', 'Russian', 'Russian', 'Russian', 'Arabic', 'Russian', 'Japanese', 'Russian', 'English', 'Russian', 'Russian', 'English', 'Russian', 'English', 'Russian', 'English', 'Russian', 'Russian', 'Russian', 'Arabic', 'Russian', 'Russian', 'Arabic', 'Italian', 'English', 'Arabic', 'Russian', 'Russian', 'Russian', 'Arabic', 'Russian', 'English', 'English', 'English', 'Arabic', 'Japanese', 'English', 'Russian', 'Russian', 'English', 'Russian', 'English', 'English', 'Russian', 'Arabic', 'Russian', 'Japanese', 'Japanese', 'Russian', 'Japanese', 'Russian', 'Russian', 'Russian', 'Japanese', 'English', 'Russian', 'English', 'English', 'Russian', 'English', 'Russian', 'Italian', 'English', 'Russian', 'Russian', 'Arabic', 'English', 'Arabic', 'Russian', 'Russian', 'Italian', 'Russian', 'Italian', 'Russian', 'English', 'English', 'English', 'Russian', 'Russian', 'Arabic', 'Russian', 'English', 'Russian', 'Russian', 'English', 'Arabic', 'Japanese', 'Greek', 'Russian', 'Russian', 'Russian', 'Japanese', 'Russian', 'Russian', 'Japanese', 'Russian', 'Russian', 'English', 'English', 'English', 'Arabic', 'Russian', 'English', 'Russian', 'Japanese', 'Russian', 'Russian', 'English', 'English', 'Russian', 'Russian', 'Russian', 'Japanese', 'Russian', 'Arabic', 'Italian', 'Arabic', 'Russian', 'Russian', 'English', 'Russian', 'Arabic', 'Russian', 'Greek', 'Russian', 'English', 'Russian', 'English', 'Japanese', 'Russian', 'Russian', 'Russian', 'English', 'English', 'Russian', 'English', 'Russian', 'Russian', 'Russian', 'Russian', 'Russian', 'Russian', 'Russian', 'English', 'Russian', 'Russian', 'English', 'Russian', 'Russian', 'English', 'English', 'Russian', 'Russian', 'Russian', 'Italian', 'Russian', 'Arabic', 'Russian', 'Russian', 'Italian', 'Russian', 'Russian', 'Russian', 'Italian', 'Arabic', 'Russian', 'English', 'English', 'Russian', 'Russian', 'Chinese', 'Russian', 'Russian', 'Russian', 'Russian', 'English', 'Russian', 'Russian', 'English', 'Arabic', 'Russian', 'Russian', 'English', 'Russian', 'Russian', 'Arabic', 'English', 'Russian', 'English', 'English', 'English', 'Russian', 'English', 'Russian', 'Russian', 'Arabic', 'Russian', 'English', 'Russian', 'Russian', 'Russian', 'English', 'Japanese', 'Russian', 'Greek', 'Arabic', 'Russian', 'Russian', 'Russian', 'Russian', 'English', 'Arabic', 'Arabic', 'English', 'English', 'English', 'Russian', 'Russian', 'Russian', 'Russian', 'English', 'Japanese', 'Russian', 'Russian', 'Japanese', 'Russian', 'Japanese', 'Russian', 'Russian', 'Italian', 'Russian', 'Russian', 'Russian', 'Russian', 'English', 'Russian', 'Russian', 'Arabic', 'Arabic', 'Russian', 'Arabic', 'English', 'English', 'Italian', 'English', 'Russian', 'Italian', 'Arabic', 'English', 'Russian', 'English', 'English', 'English', 'Russian', 'Russian', 'Japanese', 'Russian', 'Russian', 'Japanese', 'English', 'Russian', 'English', 'Russian', 'Japanese', 'Arabic', 'Russian', 'Russian', 'Japanese', 'Japanese', 'English', 'Russian', 'English', 'Arabic', 'Russian', 'Arabic', 'Russian', 'Arabic', 'Italian', 'English', 'Russian', 'English', 'Japanese', 'English', 'Russian', 'Arabic', 'Russian', 'Russian', 'English', 'Russian', 'Russian', 'English', 'English', 'Russian', 'English', 'Japanese', 'Russian', 'Arabic', 'English', 'English', 'Japanese', 'English', 'Russian', 'Italian', 'Japanese', 'Arabic', 'Russian', 'Russian', 'Japanese', 'Japanese', 'Russian', 'Russian', 'Russian', 'English', 'Russian', 'Arabic', 'Russian', 'English', 'Arabic', 'Russian', 'Russian', 'Greek', 'Russian', 'English', 'English', 'Russian', 'English', 'Russian', 'Russian', 'Russian', 'English', 'Russian', 'Chinese', 'English', 'Russian', 'Russian', 'Russian', 'Greek', 'Arabic', 'Russian', 'Russian', 'English', 'Russian', 'English', 'Russian', 'Japanese', 'English', 'Russian', 'Arabic', 'Italian', 'Greek', 'Arabic', 'English', 'English', 'English', 'English', 'Russian', 'Russian', 'English', 'Russian', 'Russian', 'Russian', 'Japanese', 'English', 'Russian', 'Japanese', 'Russian', 'English', 'Russian', 'Russian', 'Russian', 'English', 'Russian', 'Russian', 'Russian', 'Arabic', 'Russian', 'Russian', 'Russian', 'Russian', 'Japanese', 'English', 'Russian', 'Russian', 'Russian', 'English', 'Russian', 'English', 'English', 'English', 'Russian', 'English', 'Italian', 'English', 'Russian', 'English', 'Russian', 'Russian', 'Russian', 'Arabic', 'Russian', 'Russian', 'Russian', 'Russian', 'Russian', 'Russian', 'English', 'English', 'Russian', 'Russian', 'English', 'Russian', 'English', 'Russian', 'Arabic', 'English', 'Arabic', 'Russian', 'Russian', 'English', 'Russian', 'Russian', 'Russian', 'Italian', 'Russian', 'Russian', 'English', 'English', 'Russian', 'Italian', 'Russian', 'Chinese', 'Russian', 'Russian', 'Japanese', 'Arabic', 'Arabic', 'Russian', 'Russian', 'Russian', 'English', 'Russian', 'Greek', 'Arabic', 'Russian', 'Russian', 'Russian', 'Russian', 'English', 'Greek', 'English', 'English', 'English', 'Russian', 'English', 'Russian', 'Japanese', 'Japanese', 'Arabic', 'Russian', 'English', 'Arabic', 'Arabic', 'Arabic', 'English', 'English', 'English', 'Russian', 'English', 'English', 'Russian', 'English', 'Arabic', 'Arabic', 'English', 'Arabic', 'English', 'Arabic', 'Italian', 'Russian', 'English', 'Russian', 'Arabic', 'Russian', 'English', 'Russian', 'Greek', 'Russian', 'English', 'Russian', 'Russian', 'English', 'Russian', 'Italian', 'Arabic', 'Russian', 'Russian', 'English', 'Russian', 'Russian', 'Japanese', 'English', 'Russian', 'Arabic', 'Greek', 'Arabic', 'English', 'Arabic', 'Russian', 'Japanese', 'Russian', 'Italian', 'Russian', 'Russian', 'Russian', 'Arabic', 'English', 'Russian', 'Russian', 'Italian', 'Arabic', 'Arabic', 'English', 'English', 'Russian', 'Russian', 'Russian', 'Russian', 'Arabic', 'Russian', 'Russian', 'Japanese', 'Russian', 'Greek', 'Russian', 'Russian', 'Russian', 'Russian', 'Russian', 'Russian', 'Russian', 'Chinese', 'English', 'English', 'Russian', 'Japanese', 'English', 'Arabic']\n"
          ]
        }
      ],
      "source": [
        "print(y_val)\n",
        "print(preds2_3)"
      ]
    },
    {
      "cell_type": "code",
      "execution_count": null,
      "metadata": {
        "colab": {
          "base_uri": "https://localhost:8080/",
          "height": 613
        },
        "id": "LX6yYATRSEmd",
        "outputId": "395f58d0-9ed2-45f0-d3ce-d7a06fa23979"
      },
      "outputs": [
        {
          "data": {
            "text/html": [
              "\n",
              "  <div id=\"df-bb1c91cd-86ea-4351-bffa-70d0164cb67d\">\n",
              "    <div class=\"colab-df-container\">\n",
              "      <div>\n",
              "<style scoped>\n",
              "    .dataframe tbody tr th:only-of-type {\n",
              "        vertical-align: middle;\n",
              "    }\n",
              "\n",
              "    .dataframe tbody tr th {\n",
              "        vertical-align: top;\n",
              "    }\n",
              "\n",
              "    .dataframe thead th {\n",
              "        text-align: right;\n",
              "    }\n",
              "</style>\n",
              "<table border=\"1\" class=\"dataframe\">\n",
              "  <thead>\n",
              "    <tr style=\"text-align: right;\">\n",
              "      <th></th>\n",
              "      <th>0</th>\n",
              "      <th>1</th>\n",
              "      <th>2</th>\n",
              "      <th>3</th>\n",
              "      <th>4</th>\n",
              "      <th>5</th>\n",
              "      <th>6</th>\n",
              "      <th>7</th>\n",
              "      <th>8</th>\n",
              "      <th>9</th>\n",
              "      <th>10</th>\n",
              "      <th>11</th>\n",
              "      <th>12</th>\n",
              "      <th>13</th>\n",
              "      <th>14</th>\n",
              "      <th>15</th>\n",
              "      <th>16</th>\n",
              "      <th>17</th>\n",
              "    </tr>\n",
              "  </thead>\n",
              "  <tbody>\n",
              "    <tr>\n",
              "      <th>0</th>\n",
              "      <td>194</td>\n",
              "      <td>0</td>\n",
              "      <td>0</td>\n",
              "      <td>0</td>\n",
              "      <td>3</td>\n",
              "      <td>0</td>\n",
              "      <td>0</td>\n",
              "      <td>0</td>\n",
              "      <td>0</td>\n",
              "      <td>0</td>\n",
              "      <td>3</td>\n",
              "      <td>0</td>\n",
              "      <td>0</td>\n",
              "      <td>0</td>\n",
              "      <td>0</td>\n",
              "      <td>0</td>\n",
              "      <td>0</td>\n",
              "      <td>0</td>\n",
              "    </tr>\n",
              "    <tr>\n",
              "      <th>1</th>\n",
              "      <td>6</td>\n",
              "      <td>7</td>\n",
              "      <td>0</td>\n",
              "      <td>0</td>\n",
              "      <td>10</td>\n",
              "      <td>0</td>\n",
              "      <td>0</td>\n",
              "      <td>0</td>\n",
              "      <td>0</td>\n",
              "      <td>0</td>\n",
              "      <td>3</td>\n",
              "      <td>0</td>\n",
              "      <td>0</td>\n",
              "      <td>0</td>\n",
              "      <td>1</td>\n",
              "      <td>0</td>\n",
              "      <td>0</td>\n",
              "      <td>0</td>\n",
              "    </tr>\n",
              "    <tr>\n",
              "      <th>2</th>\n",
              "      <td>2</td>\n",
              "      <td>0</td>\n",
              "      <td>0</td>\n",
              "      <td>0</td>\n",
              "      <td>12</td>\n",
              "      <td>0</td>\n",
              "      <td>0</td>\n",
              "      <td>1</td>\n",
              "      <td>0</td>\n",
              "      <td>2</td>\n",
              "      <td>4</td>\n",
              "      <td>0</td>\n",
              "      <td>0</td>\n",
              "      <td>0</td>\n",
              "      <td>31</td>\n",
              "      <td>0</td>\n",
              "      <td>0</td>\n",
              "      <td>0</td>\n",
              "    </tr>\n",
              "    <tr>\n",
              "      <th>3</th>\n",
              "      <td>1</td>\n",
              "      <td>0</td>\n",
              "      <td>0</td>\n",
              "      <td>0</td>\n",
              "      <td>21</td>\n",
              "      <td>0</td>\n",
              "      <td>0</td>\n",
              "      <td>1</td>\n",
              "      <td>0</td>\n",
              "      <td>1</td>\n",
              "      <td>1</td>\n",
              "      <td>0</td>\n",
              "      <td>0</td>\n",
              "      <td>0</td>\n",
              "      <td>5</td>\n",
              "      <td>0</td>\n",
              "      <td>0</td>\n",
              "      <td>0</td>\n",
              "    </tr>\n",
              "    <tr>\n",
              "      <th>4</th>\n",
              "      <td>10</td>\n",
              "      <td>2</td>\n",
              "      <td>0</td>\n",
              "      <td>0</td>\n",
              "      <td>322</td>\n",
              "      <td>0</td>\n",
              "      <td>0</td>\n",
              "      <td>3</td>\n",
              "      <td>0</td>\n",
              "      <td>2</td>\n",
              "      <td>3</td>\n",
              "      <td>0</td>\n",
              "      <td>0</td>\n",
              "      <td>0</td>\n",
              "      <td>25</td>\n",
              "      <td>0</td>\n",
              "      <td>0</td>\n",
              "      <td>0</td>\n",
              "    </tr>\n",
              "    <tr>\n",
              "      <th>5</th>\n",
              "      <td>0</td>\n",
              "      <td>1</td>\n",
              "      <td>0</td>\n",
              "      <td>0</td>\n",
              "      <td>23</td>\n",
              "      <td>0</td>\n",
              "      <td>0</td>\n",
              "      <td>1</td>\n",
              "      <td>0</td>\n",
              "      <td>0</td>\n",
              "      <td>1</td>\n",
              "      <td>0</td>\n",
              "      <td>0</td>\n",
              "      <td>0</td>\n",
              "      <td>2</td>\n",
              "      <td>0</td>\n",
              "      <td>0</td>\n",
              "      <td>0</td>\n",
              "    </tr>\n",
              "    <tr>\n",
              "      <th>6</th>\n",
              "      <td>0</td>\n",
              "      <td>0</td>\n",
              "      <td>0</td>\n",
              "      <td>0</td>\n",
              "      <td>59</td>\n",
              "      <td>0</td>\n",
              "      <td>0</td>\n",
              "      <td>0</td>\n",
              "      <td>0</td>\n",
              "      <td>1</td>\n",
              "      <td>2</td>\n",
              "      <td>0</td>\n",
              "      <td>0</td>\n",
              "      <td>0</td>\n",
              "      <td>10</td>\n",
              "      <td>0</td>\n",
              "      <td>0</td>\n",
              "      <td>0</td>\n",
              "    </tr>\n",
              "    <tr>\n",
              "      <th>7</th>\n",
              "      <td>1</td>\n",
              "      <td>0</td>\n",
              "      <td>0</td>\n",
              "      <td>0</td>\n",
              "      <td>4</td>\n",
              "      <td>0</td>\n",
              "      <td>0</td>\n",
              "      <td>13</td>\n",
              "      <td>0</td>\n",
              "      <td>0</td>\n",
              "      <td>1</td>\n",
              "      <td>0</td>\n",
              "      <td>0</td>\n",
              "      <td>0</td>\n",
              "      <td>1</td>\n",
              "      <td>0</td>\n",
              "      <td>0</td>\n",
              "      <td>0</td>\n",
              "    </tr>\n",
              "    <tr>\n",
              "      <th>8</th>\n",
              "      <td>0</td>\n",
              "      <td>3</td>\n",
              "      <td>0</td>\n",
              "      <td>0</td>\n",
              "      <td>17</td>\n",
              "      <td>0</td>\n",
              "      <td>0</td>\n",
              "      <td>1</td>\n",
              "      <td>0</td>\n",
              "      <td>0</td>\n",
              "      <td>0</td>\n",
              "      <td>0</td>\n",
              "      <td>0</td>\n",
              "      <td>0</td>\n",
              "      <td>2</td>\n",
              "      <td>0</td>\n",
              "      <td>0</td>\n",
              "      <td>0</td>\n",
              "    </tr>\n",
              "    <tr>\n",
              "      <th>9</th>\n",
              "      <td>1</td>\n",
              "      <td>0</td>\n",
              "      <td>0</td>\n",
              "      <td>0</td>\n",
              "      <td>6</td>\n",
              "      <td>0</td>\n",
              "      <td>0</td>\n",
              "      <td>0</td>\n",
              "      <td>0</td>\n",
              "      <td>46</td>\n",
              "      <td>13</td>\n",
              "      <td>0</td>\n",
              "      <td>0</td>\n",
              "      <td>0</td>\n",
              "      <td>5</td>\n",
              "      <td>0</td>\n",
              "      <td>0</td>\n",
              "      <td>0</td>\n",
              "    </tr>\n",
              "    <tr>\n",
              "      <th>10</th>\n",
              "      <td>1</td>\n",
              "      <td>2</td>\n",
              "      <td>0</td>\n",
              "      <td>0</td>\n",
              "      <td>4</td>\n",
              "      <td>0</td>\n",
              "      <td>0</td>\n",
              "      <td>0</td>\n",
              "      <td>0</td>\n",
              "      <td>6</td>\n",
              "      <td>71</td>\n",
              "      <td>0</td>\n",
              "      <td>0</td>\n",
              "      <td>0</td>\n",
              "      <td>15</td>\n",
              "      <td>0</td>\n",
              "      <td>0</td>\n",
              "      <td>0</td>\n",
              "    </tr>\n",
              "    <tr>\n",
              "      <th>11</th>\n",
              "      <td>3</td>\n",
              "      <td>2</td>\n",
              "      <td>0</td>\n",
              "      <td>0</td>\n",
              "      <td>2</td>\n",
              "      <td>0</td>\n",
              "      <td>0</td>\n",
              "      <td>0</td>\n",
              "      <td>0</td>\n",
              "      <td>0</td>\n",
              "      <td>3</td>\n",
              "      <td>0</td>\n",
              "      <td>0</td>\n",
              "      <td>0</td>\n",
              "      <td>0</td>\n",
              "      <td>0</td>\n",
              "      <td>0</td>\n",
              "      <td>0</td>\n",
              "    </tr>\n",
              "    <tr>\n",
              "      <th>12</th>\n",
              "      <td>0</td>\n",
              "      <td>0</td>\n",
              "      <td>0</td>\n",
              "      <td>0</td>\n",
              "      <td>3</td>\n",
              "      <td>0</td>\n",
              "      <td>0</td>\n",
              "      <td>0</td>\n",
              "      <td>0</td>\n",
              "      <td>1</td>\n",
              "      <td>0</td>\n",
              "      <td>0</td>\n",
              "      <td>0</td>\n",
              "      <td>0</td>\n",
              "      <td>10</td>\n",
              "      <td>0</td>\n",
              "      <td>0</td>\n",
              "      <td>0</td>\n",
              "    </tr>\n",
              "    <tr>\n",
              "      <th>13</th>\n",
              "      <td>0</td>\n",
              "      <td>0</td>\n",
              "      <td>0</td>\n",
              "      <td>0</td>\n",
              "      <td>1</td>\n",
              "      <td>0</td>\n",
              "      <td>0</td>\n",
              "      <td>2</td>\n",
              "      <td>0</td>\n",
              "      <td>3</td>\n",
              "      <td>0</td>\n",
              "      <td>0</td>\n",
              "      <td>0</td>\n",
              "      <td>0</td>\n",
              "      <td>1</td>\n",
              "      <td>0</td>\n",
              "      <td>0</td>\n",
              "      <td>0</td>\n",
              "    </tr>\n",
              "    <tr>\n",
              "      <th>14</th>\n",
              "      <td>5</td>\n",
              "      <td>0</td>\n",
              "      <td>0</td>\n",
              "      <td>0</td>\n",
              "      <td>39</td>\n",
              "      <td>0</td>\n",
              "      <td>1</td>\n",
              "      <td>7</td>\n",
              "      <td>0</td>\n",
              "      <td>6</td>\n",
              "      <td>11</td>\n",
              "      <td>0</td>\n",
              "      <td>0</td>\n",
              "      <td>0</td>\n",
              "      <td>872</td>\n",
              "      <td>0</td>\n",
              "      <td>0</td>\n",
              "      <td>0</td>\n",
              "    </tr>\n",
              "    <tr>\n",
              "      <th>15</th>\n",
              "      <td>0</td>\n",
              "      <td>0</td>\n",
              "      <td>0</td>\n",
              "      <td>0</td>\n",
              "      <td>10</td>\n",
              "      <td>0</td>\n",
              "      <td>0</td>\n",
              "      <td>0</td>\n",
              "      <td>0</td>\n",
              "      <td>0</td>\n",
              "      <td>0</td>\n",
              "      <td>0</td>\n",
              "      <td>0</td>\n",
              "      <td>0</td>\n",
              "      <td>0</td>\n",
              "      <td>0</td>\n",
              "      <td>0</td>\n",
              "      <td>0</td>\n",
              "    </tr>\n",
              "    <tr>\n",
              "      <th>16</th>\n",
              "      <td>1</td>\n",
              "      <td>0</td>\n",
              "      <td>1</td>\n",
              "      <td>0</td>\n",
              "      <td>7</td>\n",
              "      <td>0</td>\n",
              "      <td>0</td>\n",
              "      <td>2</td>\n",
              "      <td>0</td>\n",
              "      <td>7</td>\n",
              "      <td>6</td>\n",
              "      <td>0</td>\n",
              "      <td>0</td>\n",
              "      <td>0</td>\n",
              "      <td>6</td>\n",
              "      <td>0</td>\n",
              "      <td>0</td>\n",
              "      <td>0</td>\n",
              "    </tr>\n",
              "    <tr>\n",
              "      <th>17</th>\n",
              "      <td>1</td>\n",
              "      <td>1</td>\n",
              "      <td>0</td>\n",
              "      <td>0</td>\n",
              "      <td>5</td>\n",
              "      <td>0</td>\n",
              "      <td>0</td>\n",
              "      <td>0</td>\n",
              "      <td>0</td>\n",
              "      <td>0</td>\n",
              "      <td>0</td>\n",
              "      <td>0</td>\n",
              "      <td>0</td>\n",
              "      <td>0</td>\n",
              "      <td>0</td>\n",
              "      <td>0</td>\n",
              "      <td>0</td>\n",
              "      <td>0</td>\n",
              "    </tr>\n",
              "  </tbody>\n",
              "</table>\n",
              "</div>\n",
              "      <button class=\"colab-df-convert\" onclick=\"convertToInteractive('df-bb1c91cd-86ea-4351-bffa-70d0164cb67d')\"\n",
              "              title=\"Convert this dataframe to an interactive table.\"\n",
              "              style=\"display:none;\">\n",
              "        \n",
              "  <svg xmlns=\"http://www.w3.org/2000/svg\" height=\"24px\"viewBox=\"0 0 24 24\"\n",
              "       width=\"24px\">\n",
              "    <path d=\"M0 0h24v24H0V0z\" fill=\"none\"/>\n",
              "    <path d=\"M18.56 5.44l.94 2.06.94-2.06 2.06-.94-2.06-.94-.94-2.06-.94 2.06-2.06.94zm-11 1L8.5 8.5l.94-2.06 2.06-.94-2.06-.94L8.5 2.5l-.94 2.06-2.06.94zm10 10l.94 2.06.94-2.06 2.06-.94-2.06-.94-.94-2.06-.94 2.06-2.06.94z\"/><path d=\"M17.41 7.96l-1.37-1.37c-.4-.4-.92-.59-1.43-.59-.52 0-1.04.2-1.43.59L10.3 9.45l-7.72 7.72c-.78.78-.78 2.05 0 2.83L4 21.41c.39.39.9.59 1.41.59.51 0 1.02-.2 1.41-.59l7.78-7.78 2.81-2.81c.8-.78.8-2.07 0-2.86zM5.41 20L4 18.59l7.72-7.72 1.47 1.35L5.41 20z\"/>\n",
              "  </svg>\n",
              "      </button>\n",
              "      \n",
              "  <style>\n",
              "    .colab-df-container {\n",
              "      display:flex;\n",
              "      flex-wrap:wrap;\n",
              "      gap: 12px;\n",
              "    }\n",
              "\n",
              "    .colab-df-convert {\n",
              "      background-color: #E8F0FE;\n",
              "      border: none;\n",
              "      border-radius: 50%;\n",
              "      cursor: pointer;\n",
              "      display: none;\n",
              "      fill: #1967D2;\n",
              "      height: 32px;\n",
              "      padding: 0 0 0 0;\n",
              "      width: 32px;\n",
              "    }\n",
              "\n",
              "    .colab-df-convert:hover {\n",
              "      background-color: #E2EBFA;\n",
              "      box-shadow: 0px 1px 2px rgba(60, 64, 67, 0.3), 0px 1px 3px 1px rgba(60, 64, 67, 0.15);\n",
              "      fill: #174EA6;\n",
              "    }\n",
              "\n",
              "    [theme=dark] .colab-df-convert {\n",
              "      background-color: #3B4455;\n",
              "      fill: #D2E3FC;\n",
              "    }\n",
              "\n",
              "    [theme=dark] .colab-df-convert:hover {\n",
              "      background-color: #434B5C;\n",
              "      box-shadow: 0px 1px 3px 1px rgba(0, 0, 0, 0.15);\n",
              "      filter: drop-shadow(0px 1px 2px rgba(0, 0, 0, 0.3));\n",
              "      fill: #FFFFFF;\n",
              "    }\n",
              "  </style>\n",
              "\n",
              "      <script>\n",
              "        const buttonEl =\n",
              "          document.querySelector('#df-bb1c91cd-86ea-4351-bffa-70d0164cb67d button.colab-df-convert');\n",
              "        buttonEl.style.display =\n",
              "          google.colab.kernel.accessAllowed ? 'block' : 'none';\n",
              "\n",
              "        async function convertToInteractive(key) {\n",
              "          const element = document.querySelector('#df-bb1c91cd-86ea-4351-bffa-70d0164cb67d');\n",
              "          const dataTable =\n",
              "            await google.colab.kernel.invokeFunction('convertToInteractive',\n",
              "                                                     [key], {});\n",
              "          if (!dataTable) return;\n",
              "\n",
              "          const docLinkHtml = 'Like what you see? Visit the ' +\n",
              "            '<a target=\"_blank\" href=https://colab.research.google.com/notebooks/data_table.ipynb>data table notebook</a>'\n",
              "            + ' to learn more about interactive tables.';\n",
              "          element.innerHTML = '';\n",
              "          dataTable['output_type'] = 'display_data';\n",
              "          await google.colab.output.renderOutput(dataTable, element);\n",
              "          const docLink = document.createElement('div');\n",
              "          docLink.innerHTML = docLinkHtml;\n",
              "          element.appendChild(docLink);\n",
              "        }\n",
              "      </script>\n",
              "    </div>\n",
              "  </div>\n",
              "  "
            ],
            "text/plain": [
              "     0   1   2   3    4   5   6   7   8   9   10  11  12  13   14  15  16  17\n",
              "0   194   0   0   0    3   0   0   0   0   0   3   0   0   0    0   0   0   0\n",
              "1     6   7   0   0   10   0   0   0   0   0   3   0   0   0    1   0   0   0\n",
              "2     2   0   0   0   12   0   0   1   0   2   4   0   0   0   31   0   0   0\n",
              "3     1   0   0   0   21   0   0   1   0   1   1   0   0   0    5   0   0   0\n",
              "4    10   2   0   0  322   0   0   3   0   2   3   0   0   0   25   0   0   0\n",
              "5     0   1   0   0   23   0   0   1   0   0   1   0   0   0    2   0   0   0\n",
              "6     0   0   0   0   59   0   0   0   0   1   2   0   0   0   10   0   0   0\n",
              "7     1   0   0   0    4   0   0  13   0   0   1   0   0   0    1   0   0   0\n",
              "8     0   3   0   0   17   0   0   1   0   0   0   0   0   0    2   0   0   0\n",
              "9     1   0   0   0    6   0   0   0   0  46  13   0   0   0    5   0   0   0\n",
              "10    1   2   0   0    4   0   0   0   0   6  71   0   0   0   15   0   0   0\n",
              "11    3   2   0   0    2   0   0   0   0   0   3   0   0   0    0   0   0   0\n",
              "12    0   0   0   0    3   0   0   0   0   1   0   0   0   0   10   0   0   0\n",
              "13    0   0   0   0    1   0   0   2   0   3   0   0   0   0    1   0   0   0\n",
              "14    5   0   0   0   39   0   1   7   0   6  11   0   0   0  872   0   0   0\n",
              "15    0   0   0   0   10   0   0   0   0   0   0   0   0   0    0   0   0   0\n",
              "16    1   0   1   0    7   0   0   2   0   7   6   0   0   0    6   0   0   0\n",
              "17    1   1   0   0    5   0   0   0   0   0   0   0   0   0    0   0   0   0"
            ]
          },
          "execution_count": 57,
          "metadata": {},
          "output_type": "execute_result"
        }
      ],
      "source": [
        "cm = confusion_matrix(y_val, preds2_3)\n",
        "pd.DataFrame(cm)"
      ]
    },
    {
      "cell_type": "code",
      "execution_count": null,
      "metadata": {
        "id": "A48rq6h0SEmd"
      },
      "outputs": [],
      "source": [
        "def test_model(model):\n",
        "    Preds=[]\n",
        "    for iter in range(len(X_test)):\n",
        "      category=y_test.iloc[iter]\n",
        "      line=X_test.iloc[iter]\n",
        "      category_tensor=categoryToTensor(category)\n",
        "      line_tensor=lineToTensor(line)\n",
        "\n",
        "      output,_=eval(category_tensor, line_tensor,model)\n",
        "      p,p_index=categoryFromOutput(output)\n",
        "\n",
        "      Preds.append(p)\n",
        "    acc=(y_test==Preds).sum()/len(X_test)\n",
        "\n",
        "    print(\"Test Accuracy : \",acc*100)"
      ]
    },
    {
      "cell_type": "code",
      "execution_count": null,
      "metadata": {
        "colab": {
          "base_uri": "https://localhost:8080/"
        },
        "id": "HzY20CoeSEmd",
        "outputId": "abba45ea-63cb-4978-af14-2288bb7fa369"
      },
      "outputs": [
        {
          "name": "stdout",
          "output_type": "stream",
          "text": [
            "Test Accuracy :  76.59362549800797\n"
          ]
        }
      ],
      "source": [
        "test_model(rnn2_3)"
      ]
    },
    {
      "cell_type": "code",
      "execution_count": null,
      "metadata": {
        "id": "pkzUw8gYSWej"
      },
      "outputs": [],
      "source": []
    },
    {
      "cell_type": "markdown",
      "metadata": {
        "id": "nVzghI91WO6T"
      },
      "source": [
        "# Stacked RNN"
      ]
    },
    {
      "cell_type": "code",
      "execution_count": null,
      "metadata": {
        "id": "80G9mWVOWQNT"
      },
      "outputs": [],
      "source": [
        "class RNN3(nn.Module):\n",
        "    def __init__(self, input_size, hidden_size1,hidden_size2, output_size):\n",
        "        super(RNN3, self).__init__()\n",
        "\n",
        "        self.hidden_size1 = hidden_size1\n",
        "        self.hidden_size2 = hidden_size2\n",
        "\n",
        "        self.i2h = nn.Linear(input_size + hidden_size1, hidden_size1)\n",
        "        self.i2o = nn.Linear(input_size + hidden_size1, 35)\n",
        "        self.softmax = nn.LogSoftmax(dim=1)\n",
        "\n",
        "        self.i2h2=nn.Linear(35+hidden_size2, hidden_size2)\n",
        "        self.i2o2=nn.Linear(35+hidden_size2, output_size)\n",
        "\n",
        "    def forward(self, input, hidden1,hidden2):\n",
        "        combined = torch.cat((input, hidden1), 1)\n",
        "        hidden1 = self.i2h(combined)\n",
        "        output1 = self.i2o(combined)\n",
        "        output1 = self.softmax(output1)\n",
        "\n",
        "        combined2 = torch.cat((output1, hidden2), 1)\n",
        "        hidden2 = self.i2h2(combined2)\n",
        "        output = self.i2o2(combined2)\n",
        "        output = self.softmax(output)\n",
        "\n",
        "        return output, hidden1,hidden2\n",
        "\n",
        "    def initHidden1(self):\n",
        "        return torch.zeros(1, self.hidden_size1)\n",
        "    def initHidden2(self):\n",
        "        return torch.zeros(1, self.hidden_size2)"
      ]
    },
    {
      "cell_type": "code",
      "execution_count": null,
      "metadata": {
        "id": "j52DBgnte7zI"
      },
      "outputs": [],
      "source": [
        "def train2(category_tensor, line_tensor,model,optimizer):\n",
        "\n",
        "    hidden1 = model.initHidden1()\n",
        "    line_tensor = line_tensor.cuda()\n",
        "    hidden1 = hidden1.cuda()\n",
        "\n",
        "    hidden2 = model.initHidden2()\n",
        "    hidden2 = hidden2.cuda()\n",
        "\n",
        "    model.zero_grad()\n",
        "    \n",
        "    for i in range(line_tensor.size()[0]):\n",
        "\n",
        "        output, hidden1,hidden2 = model(line_tensor[i], hidden1,hidden2)\n",
        "\n",
        "    loss = criterion(output, category_tensor.cuda())\n",
        "    optimizer.zero_grad()\n",
        "    loss.backward()\n",
        "    optimizer.step()\n",
        "\n",
        "    # Add parameters' gradients to their values, multiplied by learning rate\n",
        "    # for p in rnn.parameters():\n",
        "    #     p.data.add_(p.grad.data, alpha=-learning_rate)\n",
        "\n",
        "    return output, loss.item()\n",
        "\n",
        "def eval2(category_tensor, line_tensor,model):\n",
        "  hidden1 = model.initHidden1()\n",
        "  hidden1 = hidden1.cuda()\n",
        "\n",
        "  hidden2 = model.initHidden2()\n",
        "  hidden2 = hidden2.cuda()\n",
        "\n",
        "  line_tensor =line_tensor.cuda()\n",
        "  for i in range(line_tensor.size()[0]):\n",
        "      output, hidden1,hidden2 = model(line_tensor[i], hidden1,hidden2)\n",
        "      \n",
        "  loss = criterion(output, category_tensor.cuda())\n",
        "  return output, loss.item()"
      ]
    },
    {
      "cell_type": "code",
      "execution_count": null,
      "metadata": {
        "id": "uZU8J8Z6gTLP"
      },
      "outputs": [],
      "source": [
        "\n",
        "start = time.time()\n",
        "\n",
        "print_every = 500\n",
        "\n",
        "def evaluate_model2(epochs,model,optimiser):\n",
        "  train_losses = []\n",
        "  val_losses=[]\n",
        "  for k in range(epochs):\n",
        "    train_loss = 0\n",
        "    val_loss=0\n",
        "    for iter in range(len(X_train)):\n",
        "      category=y_train.iloc[iter]\n",
        "      line=X_train.iloc[iter]\n",
        "      category_tensor=categoryToTensor(category)\n",
        "      line_tensor=lineToTensor(line)\n",
        "\n",
        "      output,loss=train2(category_tensor, line_tensor,model,optimiser)\n",
        "      train_loss += loss\n",
        "\n",
        "      # Print iter number, loss, name and guess\n",
        "      # if iter % 2000 == 0:\n",
        "      #     guess, guess_i = categoryFromOutput(output)\n",
        "      #     correct = '✓' if guess == category else '✗ (%s)' % category\n",
        "      #     print('%d %d%% (%s) %.4f %s / %s %s' % (iter, iter / len(X_train) * 100, timeSince(start), loss, line, guess, correct))\n",
        "\n",
        "\n",
        "    print(f\"Epoch {k+1} Train Loss :\",train_loss /len(X_train))\n",
        "    train_losses.append(train_loss /len(X_train) )\n",
        "    train_loss = 0\n",
        "\n",
        "\n",
        "    Preds=[]\n",
        "    for iter in range(len(X_val)):\n",
        "      category=y_val.iloc[iter]\n",
        "      line=X_val.iloc[iter]\n",
        "      category_tensor=categoryToTensor(category)\n",
        "      line_tensor=lineToTensor(line)\n",
        "\n",
        "      output,loss=eval2(category_tensor, line_tensor,model)\n",
        "\n",
        "      val_loss +=loss\n",
        "\n",
        "      p,p_index=categoryFromOutput(output)\n",
        "\n",
        "      Preds.append(p)\n",
        "      # if iter % print_every == 0:\n",
        "      #     guess, guess_i = categoryFromOutput(output)\n",
        "      #     correct = '✓' if guess == category else '✗ (%s)' % category\n",
        "      #     print('%d %d%% (%s) %.4f %s / %s %s' % (iter, iter / len(X_val) * 100, timeSince(start), loss, line, guess, correct))\n",
        "      \n",
        "    print(f\"============= Epoch {k+1} Val Loss :\",val_loss /len(X_val))\n",
        "    val_losses.append(val_loss /len(X_val) )\n",
        "    val_loss = 0\n",
        "\n",
        "  return train_losses,val_losses,Preds\n",
        "\n",
        "  "
      ]
    },
    {
      "cell_type": "markdown",
      "metadata": {
        "id": "JnbzemYkCx__"
      },
      "source": [
        "In this architecture, we are only checking for SGD"
      ]
    },
    {
      "cell_type": "markdown",
      "metadata": {
        "id": "TvLvStXUnatM"
      },
      "source": [
        "Model 1"
      ]
    },
    {
      "cell_type": "code",
      "execution_count": null,
      "metadata": {
        "id": "lHO3lcXKgZbb"
      },
      "outputs": [],
      "source": [
        "n_hidden1 = 128\n",
        "n_hidden2=64\n",
        "\n",
        "rnn3_1 = RNN3(n_letters, n_hidden1, n_hidden2, n_categories).cuda()\n",
        "learning_rate = 0.001\n",
        "optimizer3_1 = torch.optim.SGD(rnn3_1.parameters(),lr= learning_rate)"
      ]
    },
    {
      "cell_type": "code",
      "execution_count": null,
      "metadata": {
        "colab": {
          "base_uri": "https://localhost:8080/"
        },
        "id": "IeP1sfLHhYsl",
        "outputId": "8ddc6c16-abf0-4a6a-b587-9844fd7471ef"
      },
      "outputs": [
        {
          "data": {
            "text/plain": [
              "RNN3(\n",
              "  (i2h): Linear(in_features=185, out_features=128, bias=True)\n",
              "  (i2o): Linear(in_features=185, out_features=35, bias=True)\n",
              "  (softmax): LogSoftmax(dim=1)\n",
              "  (i2h2): Linear(in_features=99, out_features=64, bias=True)\n",
              "  (i2o2): Linear(in_features=99, out_features=18, bias=True)\n",
              ")"
            ]
          },
          "execution_count": 23,
          "metadata": {},
          "output_type": "execute_result"
        }
      ],
      "source": [
        "rnn3_1"
      ]
    },
    {
      "cell_type": "code",
      "execution_count": null,
      "metadata": {
        "colab": {
          "base_uri": "https://localhost:8080/"
        },
        "id": "W4dVcW34grXP",
        "outputId": "ce0b1907-534f-409c-d415-8952f35ef1f8"
      },
      "outputs": [
        {
          "name": "stdout",
          "output_type": "stream",
          "text": [
            "Epoch 1 Train Loss : 1.811030725717451\n",
            "============= Epoch 1 Val Loss : 1.8179969635024014\n",
            "Epoch 2 Train Loss : 1.5832124495583202\n",
            "============= Epoch 2 Val Loss : 1.6355508130064154\n",
            "Epoch 3 Train Loss : 1.431011633920369\n",
            "============= Epoch 3 Val Loss : 1.5214498508015446\n",
            "Epoch 4 Train Loss : 1.2971443742013067\n",
            "============= Epoch 4 Val Loss : 1.4261092622694258\n",
            "Epoch 5 Train Loss : 1.1922669300753905\n",
            "============= Epoch 5 Val Loss : 1.3464583788719389\n",
            "Epoch 6 Train Loss : 1.1257457061730953\n",
            "============= Epoch 6 Val Loss : 1.2944896414614688\n",
            "Epoch 7 Train Loss : 1.0873692224548266\n",
            "============= Epoch 7 Val Loss : 1.2599002172041673\n",
            "Epoch 8 Train Loss : 1.059473984093259\n",
            "============= Epoch 8 Val Loss : 1.2344238858913523\n",
            "Epoch 9 Train Loss : 1.036033358641699\n",
            "============= Epoch 9 Val Loss : 1.2128144329283777\n",
            "Epoch 10 Train Loss : 1.0150572414265446\n",
            "============= Epoch 10 Val Loss : 1.1922774853789317\n",
            "Epoch 11 Train Loss : 0.9957253720374561\n",
            "============= Epoch 11 Val Loss : 1.1723722834827057\n",
            "Epoch 12 Train Loss : 0.9774546923474324\n",
            "============= Epoch 12 Val Loss : 1.1535292436082312\n",
            "Epoch 13 Train Loss : 0.9596310409069307\n",
            "============= Epoch 13 Val Loss : 1.1346474402374394\n",
            "Epoch 14 Train Loss : 0.9417575127811573\n",
            "============= Epoch 14 Val Loss : 1.112616241400395\n",
            "Epoch 15 Train Loss : 0.9242151447282972\n",
            "============= Epoch 15 Val Loss : 1.0903539607173955\n",
            "Epoch 16 Train Loss : 0.9076947199656993\n",
            "============= Epoch 16 Val Loss : 1.0747147875953473\n",
            "Epoch 17 Train Loss : 0.8926754724525847\n",
            "============= Epoch 17 Val Loss : 1.0611641366674422\n",
            "Epoch 18 Train Loss : 0.8792779965494488\n",
            "============= Epoch 18 Val Loss : 1.0466323178732844\n",
            "Epoch 19 Train Loss : 0.8673568016428383\n",
            "============= Epoch 19 Val Loss : 1.0321796284583815\n",
            "Epoch 20 Train Loss : 0.8569174031656334\n",
            "============= Epoch 20 Val Loss : 1.0195298576565086\n"
          ]
        }
      ],
      "source": [
        "trL3_1,vL3_1,preds3_1=evaluate_model2(20,rnn3_1,optimizer3_1)"
      ]
    },
    {
      "cell_type": "code",
      "execution_count": null,
      "metadata": {
        "colab": {
          "base_uri": "https://localhost:8080/",
          "height": 367
        },
        "id": "wR2gMTYwj7r_",
        "outputId": "ba4db123-6962-455a-8f77-60a6333b0a8c"
      },
      "outputs": [
        {
          "data": {
            "text/plain": [
              "<matplotlib.legend.Legend at 0x7f192113a4f0>"
            ]
          },
          "execution_count": 25,
          "metadata": {},
          "output_type": "execute_result"
        },
        {
          "data": {
            "image/png": "[encoded data removed]",
            "text/plain": [
              "<Figure size 720x360 with 1 Axes>"
            ]
          },
          "metadata": {
            "needs_background": "light"
          },
          "output_type": "display_data"
        }
      ],
      "source": [
        "plt.figure(figsize=(10,5))\n",
        "epochArr=[i for i in range(1,21)]\n",
        "plt.plot(epochArr,trL3_1)\n",
        "plt.plot(epochArr,vL3_1)\n",
        "plt.xticks(epochArr)\n",
        "plt.xlabel(\"Epochs\")\n",
        "plt.ylabel(\"Loss\")\n",
        "plt.title(\"Loss v/s Epoch\")\n",
        "plt.legend([\"Train Loss\", \"Validation Loss\"])\n"
      ]
    },
    {
      "cell_type": "markdown",
      "metadata": {
        "id": "JVJSpN3fne3C"
      },
      "source": [
        "Model 2"
      ]
    },
    {
      "cell_type": "code",
      "execution_count": null,
      "metadata": {
        "id": "zQKBWY6pneIN"
      },
      "outputs": [],
      "source": [
        "n_hidden1 = 128\n",
        "n_hidden2=128\n",
        "\n",
        "rnn3_2 = RNN3(n_letters, n_hidden1, n_hidden2, n_categories).cuda()\n",
        "learning_rate = 0.001\n",
        "optimizer3_2 = torch.optim.SGD(rnn3_2.parameters(),lr= learning_rate)"
      ]
    },
    {
      "cell_type": "code",
      "execution_count": null,
      "metadata": {
        "colab": {
          "base_uri": "https://localhost:8080/"
        },
        "id": "TK7LwFfQnkMZ",
        "outputId": "ea4935a2-8fa8-4604-e581-af3035396054"
      },
      "outputs": [
        {
          "name": "stdout",
          "output_type": "stream",
          "text": [
            "Epoch 1 Train Loss : 1.8103565033622664\n",
            "============= Epoch 1 Val Loss : 1.8520517406680908\n",
            "Epoch 2 Train Loss : 1.5977599813804637\n",
            "============= Epoch 2 Val Loss : 1.6628486823375928\n",
            "Epoch 3 Train Loss : 1.4322927967490482\n",
            "============= Epoch 3 Val Loss : 1.5541968578689562\n",
            "Epoch 4 Train Loss : 1.3039245492830067\n",
            "============= Epoch 4 Val Loss : 1.47464862779287\n",
            "Epoch 5 Train Loss : 1.2158728126389102\n",
            "============= Epoch 5 Val Loss : 1.4039006141363468\n",
            "Epoch 6 Train Loss : 1.1482829920063429\n",
            "============= Epoch 6 Val Loss : 1.3440921859787105\n",
            "Epoch 7 Train Loss : 1.1043544426921634\n",
            "============= Epoch 7 Val Loss : 1.299768124920423\n",
            "Epoch 8 Train Loss : 1.0734790010513695\n",
            "============= Epoch 8 Val Loss : 1.2624886846633345\n",
            "Epoch 9 Train Loss : 1.048283827399714\n",
            "============= Epoch 9 Val Loss : 1.2327336804798228\n",
            "Epoch 10 Train Loss : 1.026081551296008\n",
            "============= Epoch 10 Val Loss : 1.2076013305397855\n",
            "Epoch 11 Train Loss : 1.0057839244088274\n",
            "============= Epoch 11 Val Loss : 1.1848190240895866\n",
            "Epoch 12 Train Loss : 0.9867453663090086\n",
            "============= Epoch 12 Val Loss : 1.162967522323729\n",
            "Epoch 13 Train Loss : 0.9682897268206798\n",
            "============= Epoch 13 Val Loss : 1.1403777500705778\n",
            "Epoch 14 Train Loss : 0.9499679272007951\n",
            "============= Epoch 14 Val Loss : 1.1156678080994147\n",
            "Epoch 15 Train Loss : 0.9320676278519417\n",
            "============= Epoch 15 Val Loss : 1.0932584098260354\n",
            "Epoch 16 Train Loss : 0.9151925907899326\n",
            "============= Epoch 16 Val Loss : 1.077873186498172\n",
            "Epoch 17 Train Loss : 0.8997137754669445\n",
            "============= Epoch 17 Val Loss : 1.0662121261493105\n",
            "Epoch 18 Train Loss : 0.8858406484364862\n",
            "============= Epoch 18 Val Loss : 1.0549706861411505\n",
            "Epoch 19 Train Loss : 0.8734654931150396\n",
            "============= Epoch 19 Val Loss : 1.0429963994166969\n",
            "Epoch 20 Train Loss : 0.8622999421141015\n",
            "============= Epoch 20 Val Loss : 1.0299870669626132\n"
          ]
        }
      ],
      "source": [
        "trL3_2,vL3_2,preds3_2=evaluate_model2(20,rnn3_2,optimizer3_2)"
      ]
    },
    {
      "cell_type": "code",
      "execution_count": null,
      "metadata": {
        "colab": {
          "base_uri": "https://localhost:8080/",
          "height": 367
        },
        "id": "0u3AWdtUno_8",
        "outputId": "c87fafc9-3044-45ae-bb46-bb396d1042fd"
      },
      "outputs": [
        {
          "data": {
            "text/plain": [
              "<matplotlib.legend.Legend at 0x7f1920f90730>"
            ]
          },
          "execution_count": 28,
          "metadata": {},
          "output_type": "execute_result"
        },
        {
          "data": {
            "image/png": "[encoded data removed]",
            "text/plain": [
              "<Figure size 720x360 with 1 Axes>"
            ]
          },
          "metadata": {
            "needs_background": "light"
          },
          "output_type": "display_data"
        }
      ],
      "source": [
        "plt.figure(figsize=(10,5))\n",
        "epochArr=[i for i in range(1,21)]\n",
        "plt.plot(epochArr,trL3_2)\n",
        "plt.plot(epochArr,vL3_2)\n",
        "plt.xticks(epochArr)\n",
        "plt.xlabel(\"Epochs\")\n",
        "plt.ylabel(\"Loss\")\n",
        "plt.title(\"Loss v/s Epoch\")\n",
        "plt.legend([\"Train Loss\", \"Validation Loss\"])"
      ]
    },
    {
      "cell_type": "markdown",
      "metadata": {
        "id": "NG5gCy1aoGP0"
      },
      "source": [
        "Out of all, we found that model 1 is best. So we will test for it."
      ]
    },
    {
      "cell_type": "markdown",
      "metadata": {
        "id": "8jvBAl_yoONY"
      },
      "source": [
        "Confusion matrix"
      ]
    },
    {
      "cell_type": "code",
      "execution_count": null,
      "metadata": {
        "colab": {
          "base_uri": "https://localhost:8080/"
        },
        "id": "gBFv3vmGoNLi",
        "outputId": "5cdc4825-e69d-43b9-b0a0-97b9ec105d27"
      },
      "outputs": [
        {
          "name": "stdout",
          "output_type": "stream",
          "text": [
            "2990      English\n",
            "15565     Russian\n",
            "12404     Russian\n",
            "10722     Russian\n",
            "16433     Russian\n",
            "           ...   \n",
            "3669      English\n",
            "7947      Russian\n",
            "18803    Japanese\n",
            "1428      English\n",
            "51          Greek\n",
            "Name: class, Length: 2008, dtype: object\n",
            "['German', 'Russian', 'Russian', 'German', 'Russian', 'Arabic', 'Czech', 'Italian', 'Czech', 'Japanese', 'Japanese', 'Russian', 'Russian', 'Russian', 'Russian', 'Russian', 'English', 'Russian', 'Arabic', 'Arabic', 'Russian', 'Russian', 'Russian', 'Russian', 'Arabic', 'German', 'Russian', 'Czech', 'Russian', 'Russian', 'Arabic', 'Russian', 'Greek', 'Russian', 'Italian', 'Arabic', 'Russian', 'Russian', 'German', 'Italian', 'Russian', 'Russian', 'German', 'German', 'German', 'English', 'Italian', 'Russian', 'Arabic', 'Italian', 'Italian', 'Japanese', 'Russian', 'German', 'Czech', 'Arabic', 'Russian', 'English', 'Chinese', 'Russian', 'Greek', 'Russian', 'German', 'English', 'Russian', 'Arabic', 'Italian', 'Arabic', 'Russian', 'Arabic', 'Russian', 'Arabic', 'Japanese', 'German', 'Russian', 'Russian', 'Italian', 'Russian', 'Arabic', 'Greek', 'English', 'Russian', 'Russian', 'Russian', 'Russian', 'Russian', 'Czech', 'Japanese', 'Russian', 'Italian', 'Russian', 'German', 'Russian', 'Japanese', 'Czech', 'Japanese', 'Russian', 'Russian', 'Russian', 'German', 'English', 'Japanese', 'German', 'Russian', 'English', 'Russian', 'Arabic', 'Czech', 'Russian', 'English', 'Arabic', 'Russian', 'German', 'Russian', 'German', 'German', 'Russian', 'Russian', 'Arabic', 'Arabic', 'Italian', 'German', 'Russian', 'Italian', 'Russian', 'Russian', 'Russian', 'Russian', 'English', 'Czech', 'Arabic', 'English', 'Chinese', 'Russian', 'Russian', 'German', 'Arabic', 'German', 'German', 'Russian', 'Russian', 'German', 'Czech', 'Russian', 'German', 'Russian', 'Greek', 'Japanese', 'Russian', 'Italian', 'Russian', 'Arabic', 'Greek', 'English', 'Italian', 'Arabic', 'Russian', 'Czech', 'Italian', 'Arabic', 'German', 'Chinese', 'Russian', 'Arabic', 'Italian', 'Russian', 'Russian', 'Russian', 'Russian', 'Russian', 'Russian', 'English', 'Russian', 'Russian', 'Russian', 'Russian', 'Russian', 'English', 'German', 'Russian', 'Russian', 'English', 'Russian', 'English', 'English', 'Russian', 'Russian', 'German', 'German', 'German', 'Russian', 'Arabic', 'Russian', 'Russian', 'German', 'German', 'Arabic', 'Russian', 'Russian', 'Russian', 'Arabic', 'Russian', 'Russian', 'Russian', 'Russian', 'Russian', 'Japanese', 'Russian', 'German', 'Arabic', 'Arabic', 'Russian', 'Chinese', 'German', 'Italian', 'Arabic', 'Russian', 'Russian', 'Russian', 'Russian', 'German', 'Russian', 'Arabic', 'Czech', 'German', 'Arabic', 'Russian', 'English', 'German', 'Russian', 'Russian', 'Russian', 'German', 'Russian', 'Russian', 'Arabic', 'Czech', 'English', 'English', 'Arabic', 'Russian', 'Russian', 'Greek', 'English', 'Russian', 'Russian', 'Italian', 'English', 'Italian', 'Russian', 'English', 'English', 'German', 'Russian', 'German', 'Russian', 'Russian', 'Arabic', 'English', 'Russian', 'Russian', 'Russian', 'Russian', 'English', 'Russian', 'Russian', 'German', 'English', 'Russian', 'Russian', 'Russian', 'Russian', 'German', 'English', 'Russian', 'Russian', 'English', 'Czech', 'German', 'English', 'Russian', 'Russian', 'German', 'Russian', 'Russian', 'German', 'English', 'Arabic', 'German', 'German', 'Russian', 'English', 'German', 'Italian', 'Italian', 'Japanese', 'Italian', 'Russian', 'Arabic', 'Czech', 'Russian', 'Russian', 'Russian', 'Russian', 'Russian', 'German', 'Italian', 'Chinese', 'Russian', 'Russian', 'Arabic', 'German', 'German', 'Russian', 'Czech', 'English', 'Russian', 'Russian', 'Russian', 'Arabic', 'Arabic', 'Russian', 'English', 'Russian', 'German', 'French', 'Russian', 'English', 'Arabic', 'German', 'Russian', 'Russian', 'Russian', 'Greek', 'English', 'Russian', 'Russian', 'German', 'Japanese', 'English', 'Czech', 'German', 'Russian', 'German', 'Russian', 'Russian', 'Russian', 'Russian', 'Arabic', 'Russian', 'Greek', 'Russian', 'English', 'German', 'Russian', 'Japanese', 'Russian', 'Arabic', 'German', 'Italian', 'German', 'Arabic', 'Russian', 'Italian', 'Arabic', 'Russian', 'Arabic', 'Russian', 'English', 'Korean', 'Russian', 'English', 'Russian', 'English', 'Italian', 'German', 'Japanese', 'Russian', 'Japanese', 'German', 'Russian', 'Russian', 'Russian', 'German', 'Russian', 'Russian', 'Russian', 'English', 'Russian', 'German', 'Russian', 'Russian', 'Arabic', 'Russian', 'Arabic', 'German', 'German', 'German', 'Russian', 'German', 'Russian', 'Russian', 'Russian', 'German', 'Russian', 'Russian', 'Russian', 'German', 'Russian', 'German', 'Russian', 'German', 'Russian', 'Russian', 'German', 'Italian', 'Russian', 'English', 'Russian', 'English', 'German', 'German', 'German', 'Japanese', 'Arabic', 'Japanese', 'German', 'Russian', 'Russian', 'Russian', 'Russian', 'Russian', 'Japanese', 'Russian', 'Russian', 'Russian', 'Russian', 'English', 'Russian', 'Russian', 'Russian', 'German', 'Russian', 'German', 'Arabic', 'Russian', 'Czech', 'Japanese', 'Russian', 'Italian', 'Russian', 'German', 'German', 'Russian', 'Italian', 'Russian', 'Arabic', 'Czech', 'Russian', 'German', 'Russian', 'Russian', 'Greek', 'Russian', 'Italian', 'German', 'Russian', 'Russian', 'Arabic', 'Arabic', 'Arabic', 'German', 'Russian', 'Arabic', 'Russian', 'Arabic', 'Czech', 'Russian', 'Russian', 'Arabic', 'Russian', 'German', 'Russian', 'German', 'German', 'Czech', 'Russian', 'German', 'Arabic', 'Japanese', 'Russian', 'Chinese', 'Russian', 'Arabic', 'Greek', 'German', 'Arabic', 'German', 'German', 'Russian', 'German', 'Russian', 'Arabic', 'German', 'Russian', 'Russian', 'Italian', 'Japanese', 'Russian', 'German', 'Russian', 'Russian', 'Russian', 'Arabic', 'Russian', 'English', 'Russian', 'Russian', 'Arabic', 'English', 'English', 'German', 'Russian', 'German', 'German', 'Russian', 'Russian', 'Russian', 'English', 'German', 'Czech', 'Japanese', 'Russian', 'Russian', 'Russian', 'Japanese', 'Russian', 'Czech', 'Russian', 'Arabic', 'English', 'Russian', 'Russian', 'Russian', 'Russian', 'English', 'Arabic', 'Russian', 'Russian', 'German', 'Russian', 'Russian', 'Russian', 'Russian', 'Russian', 'Russian', 'English', 'Italian', 'German', 'Russian', 'English', 'Czech', 'Russian', 'Russian', 'English', 'Russian', 'Russian', 'Russian', 'German', 'Arabic', 'Russian', 'Arabic', 'German', 'Russian', 'English', 'English', 'Czech', 'Russian', 'Arabic', 'German', 'Russian', 'Italian', 'Italian', 'Russian', 'Russian', 'English', 'Russian', 'Czech', 'Russian', 'Arabic', 'Russian', 'Russian', 'Arabic', 'Italian', 'Japanese', 'English', 'Russian', 'Russian', 'German', 'Russian', 'English', 'Russian', 'Russian', 'German', 'English', 'German', 'English', 'Arabic', 'German', 'English', 'Russian', 'Russian', 'Italian', 'Russian', 'Italian', 'Arabic', 'English', 'Arabic', 'Japanese', 'Italian', 'Italian', 'English', 'Russian', 'English', 'German', 'English', 'Arabic', 'Russian', 'Russian', 'English', 'Arabic', 'Russian', 'Arabic', 'Russian', 'Arabic', 'Czech', 'Arabic', 'German', 'Russian', 'Russian', 'English', 'German', 'Czech', 'Russian', 'English', 'Italian', 'Russian', 'English', 'Czech', 'Russian', 'German', 'Czech', 'Russian', 'Japanese', 'Russian', 'Russian', 'Italian', 'German', 'German', 'German', 'Russian', 'Russian', 'Russian', 'English', 'German', 'Russian', 'Japanese', 'Russian', 'German', 'German', 'Russian', 'Russian', 'Japanese', 'Russian', 'English', 'Russian', 'German', 'English', 'Russian', 'Russian', 'Arabic', 'Russian', 'English', 'Russian', 'Chinese', 'German', 'Italian', 'Russian', 'Russian', 'English', 'Czech', 'English', 'Russian', 'Russian', 'Arabic', 'Italian', 'English', 'Russian', 'Russian', 'German', 'Arabic', 'Russian', 'Arabic', 'Russian', 'Russian', 'Italian', 'English', 'Russian', 'Russian', 'German', 'Russian', 'Italian', 'Russian', 'German', 'Greek', 'German', 'Russian', 'English', 'Japanese', 'Arabic', 'Italian', 'German', 'Russian', 'Arabic', 'Czech', 'Russian', 'Russian', 'English', 'Italian', 'Arabic', 'Czech', 'English', 'Italian', 'Arabic', 'Arabic', 'Czech', 'German', 'Russian', 'Arabic', 'Russian', 'Russian', 'German', 'German', 'Czech', 'Czech', 'Russian', 'Russian', 'Arabic', 'German', 'Russian', 'Chinese', 'Russian', 'Russian', 'Russian', 'German', 'German', 'Italian', 'Russian', 'Czech', 'Russian', 'Arabic', 'Japanese', 'Arabic', 'Korean', 'Russian', 'Arabic', 'Russian', 'Russian', 'Italian', 'English', 'Arabic', 'Russian', 'Russian', 'Japanese', 'Russian', 'English', 'English', 'Japanese', 'Arabic', 'Czech', 'English', 'English', 'Russian', 'Greek', 'Russian', 'Russian', 'Russian', 'Russian', 'Russian', 'Russian', 'Russian', 'Russian', 'Russian', 'Russian', 'Japanese', 'Greek', 'Russian', 'Russian', 'Italian', 'German', 'German', 'Russian', 'German', 'Russian', 'Russian', 'Russian', 'English', 'English', 'Greek', 'Russian', 'Czech', 'Russian', 'Italian', 'Czech', 'Russian', 'German', 'German', 'Russian', 'Russian', 'German', 'Italian', 'Russian', 'Russian', 'Russian', 'Russian', 'Russian', 'Russian', 'Chinese', 'Arabic', 'German', 'Chinese', 'German', 'Chinese', 'German', 'English', 'Russian', 'English', 'German', 'Russian', 'Chinese', 'Russian', 'English', 'Chinese', 'Russian', 'Russian', 'Italian', 'Japanese', 'Italian', 'Italian', 'Russian', 'German', 'Russian', 'Arabic', 'Arabic', 'English', 'German', 'German', 'Russian', 'Italian', 'Russian', 'Russian', 'German', 'English', 'Russian', 'Russian', 'Greek', 'Russian', 'Russian', 'Greek', 'Russian', 'Russian', 'Czech', 'Italian', 'German', 'Russian', 'Arabic', 'Russian', 'Arabic', 'Russian', 'Arabic', 'Russian', 'German', 'Arabic', 'Japanese', 'German', 'Russian', 'Arabic', 'Russian', 'Russian', 'Russian', 'Greek', 'Japanese', 'Russian', 'German', 'German', 'Russian', 'Greek', 'Russian', 'Italian', 'Italian', 'Russian', 'Russian', 'Greek', 'Russian', 'German', 'Russian', 'Russian', 'Russian', 'Russian', 'Czech', 'Russian', 'Russian', 'Russian', 'Arabic', 'Russian', 'Russian', 'Arabic', 'Russian', 'English', 'Russian', 'German', 'Czech', 'Russian', 'Russian', 'Arabic', 'English', 'German', 'English', 'Russian', 'Japanese', 'Russian', 'Greek', 'Russian', 'Russian', 'Arabic', 'German', 'Russian', 'Italian', 'German', 'Russian', 'Japanese', 'Russian', 'Russian', 'Russian', 'Russian', 'Russian', 'Russian', 'Russian', 'Russian', 'Czech', 'Russian', 'Arabic', 'Italian', 'Russian', 'Russian', 'German', 'Arabic', 'Russian', 'Russian', 'German', 'Russian', 'Russian', 'Russian', 'Czech', 'Russian', 'Russian', 'English', 'Japanese', 'Czech', 'Arabic', 'Arabic', 'Russian', 'Russian', 'Russian', 'Japanese', 'Russian', 'Italian', 'German', 'Russian', 'German', 'Russian', 'German', 'Russian', 'German', 'Italian', 'English', 'German', 'German', 'German', 'German', 'Russian', 'Russian', 'English', 'Greek', 'English', 'English', 'Arabic', 'Russian', 'Arabic', 'German', 'Russian', 'Russian', 'Russian', 'English', 'Korean', 'Arabic', 'English', 'Russian', 'Arabic', 'Russian', 'Russian', 'Russian', 'Arabic', 'Russian', 'Japanese', 'English', 'English', 'Czech', 'Italian', 'German', 'Arabic', 'Russian', 'Russian', 'Russian', 'German', 'Russian', 'Arabic', 'Arabic', 'English', 'Russian', 'Russian', 'Russian', 'Japanese', 'Russian', 'Russian', 'German', 'Russian', 'Russian', 'Russian', 'Russian', 'Russian', 'Russian', 'Arabic', 'Japanese', 'Arabic', 'German', 'Russian', 'Russian', 'Arabic', 'Russian', 'English', 'English', 'Japanese', 'German', 'German', 'Russian', 'Russian', 'Czech', 'English', 'English', 'English', 'Italian', 'Russian', 'English', 'Czech', 'German', 'German', 'Russian', 'Russian', 'Italian', 'English', 'Russian', 'Russian', 'Russian', 'French', 'Russian', 'Russian', 'Russian', 'English', 'Russian', 'Arabic', 'Russian', 'Russian', 'Czech', 'Russian', 'Japanese', 'Russian', 'Russian', 'Russian', 'Russian', 'Russian', 'Russian', 'German', 'Japanese', 'Arabic', 'German', 'Russian', 'Italian', 'German', 'English', 'English', 'Russian', 'Polish', 'Japanese', 'German', 'Arabic', 'English', 'Russian', 'Russian', 'Russian', 'Chinese', 'Czech', 'Russian', 'Arabic', 'Russian', 'Greek', 'Russian', 'Czech', 'English', 'English', 'German', 'English', 'German', 'English', 'Czech', 'German', 'Russian', 'Arabic', 'Russian', 'Russian', 'English', 'Italian', 'Czech', 'English', 'Russian', 'Russian', 'Russian', 'Russian', 'Chinese', 'English', 'German', 'Russian', 'Russian', 'Russian', 'Russian', 'German', 'Russian', 'Italian', 'Russian', 'English', 'Russian', 'English', 'Greek', 'Russian', 'Russian', 'Russian', 'German', 'German', 'German', 'Russian', 'Czech', 'Russian', 'Arabic', 'Russian', 'Russian', 'Greek', 'German', 'Japanese', 'Russian', 'Russian', 'Arabic', 'Japanese', 'Russian', 'English', 'Arabic', 'Russian', 'Italian', 'Russian', 'Russian', 'German', 'Russian', 'Italian', 'German', 'Italian', 'Russian', 'Russian', 'Italian', 'German', 'Arabic', 'Russian', 'German', 'Greek', 'Arabic', 'Russian', 'Russian', 'German', 'English', 'Russian', 'Russian', 'Russian', 'German', 'Russian', 'Russian', 'German', 'English', 'German', 'German', 'Russian', 'German', 'Russian', 'German', 'Arabic', 'Russian', 'German', 'German', 'German', 'Arabic', 'Russian', 'Greek', 'German', 'Arabic', 'Russian', 'Czech', 'Russian', 'English', 'Russian', 'German', 'Czech', 'Russian', 'Italian', 'Russian', 'Russian', 'Russian', 'Arabic', 'Russian', 'Arabic', 'English', 'Arabic', 'German', 'German', 'Greek', 'Russian', 'Greek', 'Russian', 'German', 'Russian', 'Russian', 'Russian', 'Arabic', 'Arabic', 'English', 'Russian', 'Russian', 'Arabic', 'Russian', 'German', 'Russian', 'English', 'Russian', 'Russian', 'Russian', 'German', 'German', 'German', 'Chinese', 'German', 'German', 'Russian', 'Russian', 'Japanese', 'Chinese', 'Arabic', 'German', 'Russian', 'Russian', 'English', 'Russian', 'Russian', 'Russian', 'Russian', 'Greek', 'Italian', 'Russian', 'Arabic', 'Russian', 'Arabic', 'Russian', 'Russian', 'German', 'Russian', 'Russian', 'Russian', 'Arabic', 'Arabic', 'Russian', 'German', 'English', 'Russian', 'German', 'Italian', 'Italian', 'Russian', 'German', 'Russian', 'Russian', 'Russian', 'English', 'Arabic', 'Russian', 'Japanese', 'English', 'Russian', 'Russian', 'Arabic', 'Chinese', 'Italian', 'Russian', 'Italian', 'German', 'Russian', 'Russian', 'Arabic', 'Arabic', 'Czech', 'Russian', 'Russian', 'Russian', 'Arabic', 'Czech', 'English', 'Russian', 'English', 'Russian', 'Russian', 'Russian', 'English', 'Russian', 'Russian', 'Russian', 'Russian', 'Russian', 'English', 'Russian', 'Italian', 'English', 'Russian', 'Russian', 'English', 'Russian', 'German', 'German', 'Italian', 'Arabic', 'Russian', 'Russian', 'Russian', 'Russian', 'Italian', 'English', 'English', 'Arabic', 'English', 'English', 'Russian', 'Russian', 'German', 'Russian', 'Russian', 'Russian', 'Russian', 'Greek', 'Russian', 'Italian', 'Arabic', 'Arabic', 'Japanese', 'Russian', 'Russian', 'English', 'Arabic', 'Japanese', 'Czech', 'German', 'Arabic', 'Russian', 'Russian', 'German', 'Russian', 'English', 'Italian', 'Russian', 'Russian', 'German', 'German', 'Russian', 'Arabic', 'Russian', 'Russian', 'Russian', 'Arabic', 'Russian', 'Russian', 'German', 'Czech', 'Russian', 'Russian', 'Russian', 'Czech', 'Russian', 'English', 'Arabic', 'Arabic', 'Russian', 'Arabic', 'Russian', 'Russian', 'German', 'German', 'Japanese', 'English', 'Japanese', 'Russian', 'Russian', 'Russian', 'Arabic', 'Greek', 'German', 'English', 'Russian', 'Russian', 'Russian', 'Arabic', 'Russian', 'Arabic', 'Arabic', 'Czech', 'Arabic', 'German', 'Russian', 'Russian', 'Arabic', 'Russian', 'Russian', 'Russian', 'Greek', 'Russian', 'Russian', 'English', 'German', 'Italian', 'German', 'English', 'Russian', 'Czech', 'Russian', 'German', 'Czech', 'Russian', 'German', 'Russian', 'Russian', 'Chinese', 'Russian', 'Russian', 'Russian', 'Arabic', 'Russian', 'Japanese', 'Russian', 'English', 'Russian', 'Russian', 'English', 'Russian', 'German', 'Russian', 'English', 'Russian', 'Russian', 'Russian', 'German', 'Russian', 'Russian', 'Arabic', 'Japanese', 'Arabic', 'Arabic', 'Russian', 'Russian', 'Russian', 'Arabic', 'Russian', 'Greek', 'English', 'German', 'Arabic', 'Arabic', 'Russian', 'Russian', 'Russian', 'English', 'Russian', 'Chinese', 'Czech', 'Russian', 'Arabic', 'Russian', 'Arabic', 'Japanese', 'Russian', 'Arabic', 'Russian', 'Russian', 'Russian', 'Italian', 'Arabic', 'Arabic', 'Greek', 'English', 'Russian', 'English', 'Czech', 'Italian', 'German', 'Russian', 'Russian', 'Arabic', 'English', 'Arabic', 'Russian', 'Greek', 'Czech', 'Russian', 'Russian', 'Russian', 'English', 'Russian', 'Chinese', 'Russian', 'Czech', 'Czech', 'Arabic', 'Russian', 'Russian', 'Russian', 'German', 'Italian', 'Italian', 'Greek', 'Russian', 'Russian', 'Russian', 'Japanese', 'Russian', 'German', 'Japanese', 'Russian', 'Russian', 'Arabic', 'Czech', 'English', 'Arabic', 'Russian', 'English', 'Russian', 'Czech', 'Russian', 'Russian', 'English', 'German', 'Russian', 'Italian', 'Greek', 'Japanese', 'Russian', 'Arabic', 'Italian', 'Arabic', 'Russian', 'Russian', 'German', 'Russian', 'Greek', 'Russian', 'Greek', 'Russian', 'English', 'Russian', 'English', 'Japanese', 'Russian', 'Russian', 'Russian', 'Greek', 'German', 'Russian', 'German', 'Russian', 'German', 'Russian', 'Russian', 'Russian', 'Russian', 'Russian', 'Irish', 'Russian', 'Greek', 'Greek', 'Russian', 'Russian', 'Arabic', 'English', 'Russian', 'Russian', 'Russian', 'Czech', 'Russian', 'Arabic', 'Russian', 'Russian', 'Italian', 'Russian', 'Russian', 'Japanese', 'Italian', 'Arabic', 'Russian', 'English', 'English', 'Russian', 'Russian', 'German', 'Russian', 'Russian', 'Russian', 'Russian', 'Russian', 'Russian', 'Russian', 'English', 'Arabic', 'Russian', 'Russian', 'Czech', 'German', 'Russian', 'Arabic', 'Arabic', 'Russian', 'German', 'German', 'English', 'Russian', 'English', 'Russian', 'Russian', 'Arabic', 'Russian', 'Russian', 'Russian', 'Russian', 'Russian', 'English', 'Japanese', 'Czech', 'Greek', 'Arabic', 'German', 'Russian', 'Russian', 'Russian', 'German', 'Arabic', 'Arabic', 'Russian', 'English', 'German', 'Russian', 'Czech', 'Russian', 'Russian', 'Russian', 'Arabic', 'Russian', 'Russian', 'Chinese', 'Russian', 'Japanese', 'Russian', 'Russian', 'Italian', 'Russian', 'Russian', 'English', 'Russian', 'German', 'Russian', 'Russian', 'Greek', 'Arabic', 'Russian', 'Arabic', 'Russian', 'English', 'Italian', 'English', 'Greek', 'Italian', 'Arabic', 'German', 'Russian', 'English', 'English', 'German', 'Italian', 'Russian', 'Czech', 'Czech', 'Russian', 'Korean', 'English', 'German', 'German', 'Czech', 'Japanese', 'Arabic', 'Russian', 'Russian', 'Czech', 'Czech', 'German', 'Russian', 'Italian', 'Arabic', 'Italian', 'Arabic', 'Russian', 'Arabic', 'Italian', 'German', 'Russian', 'Chinese', 'Italian', 'Greek', 'Russian', 'Arabic', 'Russian', 'Russian', 'German', 'Russian', 'Russian', 'German', 'German', 'Czech', 'German', 'Italian', 'Russian', 'Arabic', 'Russian', 'English', 'Japanese', 'German', 'Czech', 'Italian', 'Japanese', 'Arabic', 'Russian', 'Russian', 'English', 'Italian', 'Russian', 'Russian', 'Russian', 'German', 'Russian', 'Greek', 'Russian', 'Greek', 'Arabic', 'Russian', 'Russian', 'Greek', 'Russian', 'Czech', 'German', 'Russian', 'English', 'Russian', 'Russian', 'Russian', 'English', 'English', 'German', 'German', 'Russian', 'German', 'Russian', 'Greek', 'German', 'German', 'Italian', 'Russian', 'Arabic', 'English', 'Russian', 'Japanese', 'English', 'Japanese', 'Arabic', 'Italian', 'Greek', 'Arabic', 'German', 'Russian', 'English', 'English', 'Russian', 'Russian', 'German', 'Russian', 'Russian', 'Russian', 'Italian', 'German', 'Russian', 'Japanese', 'Russian', 'English', 'Russian', 'Russian', 'Russian', 'German', 'Russian', 'Russian', 'Russian', 'German', 'Russian', 'Italian', 'Russian', 'Russian', 'Czech', 'English', 'Russian', 'Russian', 'Russian', 'Arabic', 'German', 'English', 'German', 'German', 'Russian', 'German', 'Italian', 'English', 'Russian', 'German', 'Russian', 'Russian', 'Czech', 'Arabic', 'German', 'Czech', 'Russian', 'Russian', 'Russian', 'Russian', 'Russian', 'Russian', 'Greek', 'Russian', 'Greek', 'Russian', 'Arabic', 'Russian', 'Russian', 'Arabic', 'Arabic', 'Russian', 'Russian', 'English', 'Russian', 'Russian', 'Russian', 'Arabic', 'Russian', 'Russian', 'English', 'English', 'Russian', 'Italian', 'Russian', 'Chinese', 'Russian', 'Russian', 'Japanese', 'Arabic', 'Arabic', 'Russian', 'German', 'Russian', 'Czech', 'Russian', 'Russian', 'Arabic', 'Greek', 'Russian', 'Russian', 'Russian', 'Greek', 'Greek', 'German', 'German', 'Russian', 'Russian', 'English', 'Russian', 'Italian', 'Japanese', 'Arabic', 'Russian', 'German', 'German', 'Arabic', 'Arabic', 'English', 'English', 'Italian', 'Russian', 'Russian', 'German', 'Russian', 'English', 'Arabic', 'Arabic', 'German', 'Arabic', 'Russian', 'Arabic', 'Italian', 'Arabic', 'Chinese', 'Italian', 'Arabic', 'Russian', 'Korean', 'Russian', 'Greek', 'Russian', 'English', 'Russian', 'Russian', 'German', 'Russian', 'Italian', 'Arabic', 'Russian', 'Russian', 'English', 'Russian', 'Russian', 'Japanese', 'English', 'Russian', 'Russian', 'Arabic', 'Arabic', 'German', 'Arabic', 'Russian', 'Italian', 'Russian', 'Italian', 'Russian', 'Russian', 'Russian', 'Arabic', 'German', 'Russian', 'Japanese', 'Czech', 'German', 'Chinese', 'German', 'German', 'Russian', 'Russian', 'Russian', 'Russian', 'Arabic', 'Czech', 'Russian', 'Japanese', 'Russian', 'Greek', 'Russian', 'Russian', 'Russian', 'Russian', 'Russian', 'Russian', 'Russian', 'English', 'German', 'English', 'Russian', 'Japanese', 'German', 'Greek']\n"
          ]
        }
      ],
      "source": [
        "print(y_val)\n",
        "print(preds3_1)"
      ]
    },
    {
      "cell_type": "code",
      "execution_count": null,
      "metadata": {
        "id": "C09K5yahDDOs"
      },
      "outputs": [],
      "source": [
        "from sklearn.metrics import confusion_matrix"
      ]
    },
    {
      "cell_type": "code",
      "execution_count": null,
      "metadata": {
        "colab": {
          "base_uri": "https://localhost:8080/",
          "height": 613
        },
        "id": "Yjq3LMC1oWv4",
        "outputId": "cd28bede-6bab-4fb9-948d-771e3b032cbd"
      },
      "outputs": [
        {
          "data": {
            "text/html": [
              "\n",
              "  <div id=\"df-36652681-4572-4c98-8a04-c54a268cb9f4\">\n",
              "    <div class=\"colab-df-container\">\n",
              "      <div>\n",
              "<style scoped>\n",
              "    .dataframe tbody tr th:only-of-type {\n",
              "        vertical-align: middle;\n",
              "    }\n",
              "\n",
              "    .dataframe tbody tr th {\n",
              "        vertical-align: top;\n",
              "    }\n",
              "\n",
              "    .dataframe thead th {\n",
              "        text-align: right;\n",
              "    }\n",
              "</style>\n",
              "<table border=\"1\" class=\"dataframe\">\n",
              "  <thead>\n",
              "    <tr style=\"text-align: right;\">\n",
              "      <th></th>\n",
              "      <th>0</th>\n",
              "      <th>1</th>\n",
              "      <th>2</th>\n",
              "      <th>3</th>\n",
              "      <th>4</th>\n",
              "      <th>5</th>\n",
              "      <th>6</th>\n",
              "      <th>7</th>\n",
              "      <th>8</th>\n",
              "      <th>9</th>\n",
              "      <th>10</th>\n",
              "      <th>11</th>\n",
              "      <th>12</th>\n",
              "      <th>13</th>\n",
              "      <th>14</th>\n",
              "      <th>15</th>\n",
              "      <th>16</th>\n",
              "      <th>17</th>\n",
              "    </tr>\n",
              "  </thead>\n",
              "  <tbody>\n",
              "    <tr>\n",
              "      <th>0</th>\n",
              "      <td>182</td>\n",
              "      <td>0</td>\n",
              "      <td>0</td>\n",
              "      <td>0</td>\n",
              "      <td>0</td>\n",
              "      <td>0</td>\n",
              "      <td>8</td>\n",
              "      <td>6</td>\n",
              "      <td>0</td>\n",
              "      <td>1</td>\n",
              "      <td>0</td>\n",
              "      <td>0</td>\n",
              "      <td>0</td>\n",
              "      <td>0</td>\n",
              "      <td>3</td>\n",
              "      <td>0</td>\n",
              "      <td>0</td>\n",
              "      <td>0</td>\n",
              "    </tr>\n",
              "    <tr>\n",
              "      <th>1</th>\n",
              "      <td>0</td>\n",
              "      <td>15</td>\n",
              "      <td>0</td>\n",
              "      <td>0</td>\n",
              "      <td>2</td>\n",
              "      <td>0</td>\n",
              "      <td>7</td>\n",
              "      <td>0</td>\n",
              "      <td>0</td>\n",
              "      <td>1</td>\n",
              "      <td>0</td>\n",
              "      <td>1</td>\n",
              "      <td>0</td>\n",
              "      <td>0</td>\n",
              "      <td>1</td>\n",
              "      <td>0</td>\n",
              "      <td>0</td>\n",
              "      <td>0</td>\n",
              "    </tr>\n",
              "    <tr>\n",
              "      <th>2</th>\n",
              "      <td>2</td>\n",
              "      <td>0</td>\n",
              "      <td>24</td>\n",
              "      <td>0</td>\n",
              "      <td>2</td>\n",
              "      <td>0</td>\n",
              "      <td>9</td>\n",
              "      <td>0</td>\n",
              "      <td>0</td>\n",
              "      <td>2</td>\n",
              "      <td>2</td>\n",
              "      <td>0</td>\n",
              "      <td>0</td>\n",
              "      <td>0</td>\n",
              "      <td>11</td>\n",
              "      <td>0</td>\n",
              "      <td>0</td>\n",
              "      <td>0</td>\n",
              "    </tr>\n",
              "    <tr>\n",
              "      <th>3</th>\n",
              "      <td>0</td>\n",
              "      <td>1</td>\n",
              "      <td>4</td>\n",
              "      <td>0</td>\n",
              "      <td>3</td>\n",
              "      <td>0</td>\n",
              "      <td>14</td>\n",
              "      <td>1</td>\n",
              "      <td>1</td>\n",
              "      <td>1</td>\n",
              "      <td>0</td>\n",
              "      <td>0</td>\n",
              "      <td>0</td>\n",
              "      <td>0</td>\n",
              "      <td>5</td>\n",
              "      <td>0</td>\n",
              "      <td>0</td>\n",
              "      <td>0</td>\n",
              "    </tr>\n",
              "    <tr>\n",
              "      <th>4</th>\n",
              "      <td>18</td>\n",
              "      <td>1</td>\n",
              "      <td>21</td>\n",
              "      <td>0</td>\n",
              "      <td>150</td>\n",
              "      <td>0</td>\n",
              "      <td>117</td>\n",
              "      <td>11</td>\n",
              "      <td>0</td>\n",
              "      <td>12</td>\n",
              "      <td>1</td>\n",
              "      <td>0</td>\n",
              "      <td>0</td>\n",
              "      <td>0</td>\n",
              "      <td>36</td>\n",
              "      <td>0</td>\n",
              "      <td>0</td>\n",
              "      <td>0</td>\n",
              "    </tr>\n",
              "    <tr>\n",
              "      <th>5</th>\n",
              "      <td>3</td>\n",
              "      <td>0</td>\n",
              "      <td>0</td>\n",
              "      <td>0</td>\n",
              "      <td>2</td>\n",
              "      <td>0</td>\n",
              "      <td>15</td>\n",
              "      <td>2</td>\n",
              "      <td>0</td>\n",
              "      <td>2</td>\n",
              "      <td>1</td>\n",
              "      <td>1</td>\n",
              "      <td>0</td>\n",
              "      <td>0</td>\n",
              "      <td>2</td>\n",
              "      <td>0</td>\n",
              "      <td>0</td>\n",
              "      <td>0</td>\n",
              "    </tr>\n",
              "    <tr>\n",
              "      <th>6</th>\n",
              "      <td>4</td>\n",
              "      <td>0</td>\n",
              "      <td>3</td>\n",
              "      <td>0</td>\n",
              "      <td>5</td>\n",
              "      <td>0</td>\n",
              "      <td>56</td>\n",
              "      <td>0</td>\n",
              "      <td>0</td>\n",
              "      <td>1</td>\n",
              "      <td>0</td>\n",
              "      <td>0</td>\n",
              "      <td>0</td>\n",
              "      <td>0</td>\n",
              "      <td>3</td>\n",
              "      <td>0</td>\n",
              "      <td>0</td>\n",
              "      <td>0</td>\n",
              "    </tr>\n",
              "    <tr>\n",
              "      <th>7</th>\n",
              "      <td>1</td>\n",
              "      <td>0</td>\n",
              "      <td>0</td>\n",
              "      <td>0</td>\n",
              "      <td>0</td>\n",
              "      <td>0</td>\n",
              "      <td>0</td>\n",
              "      <td>19</td>\n",
              "      <td>0</td>\n",
              "      <td>0</td>\n",
              "      <td>0</td>\n",
              "      <td>0</td>\n",
              "      <td>0</td>\n",
              "      <td>0</td>\n",
              "      <td>0</td>\n",
              "      <td>0</td>\n",
              "      <td>0</td>\n",
              "      <td>0</td>\n",
              "    </tr>\n",
              "    <tr>\n",
              "      <th>8</th>\n",
              "      <td>2</td>\n",
              "      <td>0</td>\n",
              "      <td>2</td>\n",
              "      <td>0</td>\n",
              "      <td>7</td>\n",
              "      <td>0</td>\n",
              "      <td>9</td>\n",
              "      <td>0</td>\n",
              "      <td>0</td>\n",
              "      <td>0</td>\n",
              "      <td>1</td>\n",
              "      <td>0</td>\n",
              "      <td>0</td>\n",
              "      <td>0</td>\n",
              "      <td>2</td>\n",
              "      <td>0</td>\n",
              "      <td>0</td>\n",
              "      <td>0</td>\n",
              "    </tr>\n",
              "    <tr>\n",
              "      <th>9</th>\n",
              "      <td>2</td>\n",
              "      <td>0</td>\n",
              "      <td>1</td>\n",
              "      <td>0</td>\n",
              "      <td>1</td>\n",
              "      <td>0</td>\n",
              "      <td>2</td>\n",
              "      <td>0</td>\n",
              "      <td>0</td>\n",
              "      <td>61</td>\n",
              "      <td>2</td>\n",
              "      <td>0</td>\n",
              "      <td>0</td>\n",
              "      <td>0</td>\n",
              "      <td>2</td>\n",
              "      <td>0</td>\n",
              "      <td>0</td>\n",
              "      <td>0</td>\n",
              "    </tr>\n",
              "    <tr>\n",
              "      <th>10</th>\n",
              "      <td>8</td>\n",
              "      <td>2</td>\n",
              "      <td>9</td>\n",
              "      <td>0</td>\n",
              "      <td>3</td>\n",
              "      <td>0</td>\n",
              "      <td>2</td>\n",
              "      <td>0</td>\n",
              "      <td>0</td>\n",
              "      <td>5</td>\n",
              "      <td>62</td>\n",
              "      <td>0</td>\n",
              "      <td>0</td>\n",
              "      <td>0</td>\n",
              "      <td>8</td>\n",
              "      <td>0</td>\n",
              "      <td>0</td>\n",
              "      <td>0</td>\n",
              "    </tr>\n",
              "    <tr>\n",
              "      <th>11</th>\n",
              "      <td>0</td>\n",
              "      <td>3</td>\n",
              "      <td>0</td>\n",
              "      <td>0</td>\n",
              "      <td>1</td>\n",
              "      <td>0</td>\n",
              "      <td>5</td>\n",
              "      <td>0</td>\n",
              "      <td>0</td>\n",
              "      <td>0</td>\n",
              "      <td>0</td>\n",
              "      <td>1</td>\n",
              "      <td>0</td>\n",
              "      <td>0</td>\n",
              "      <td>0</td>\n",
              "      <td>0</td>\n",
              "      <td>0</td>\n",
              "      <td>0</td>\n",
              "    </tr>\n",
              "    <tr>\n",
              "      <th>12</th>\n",
              "      <td>0</td>\n",
              "      <td>0</td>\n",
              "      <td>4</td>\n",
              "      <td>0</td>\n",
              "      <td>1</td>\n",
              "      <td>0</td>\n",
              "      <td>1</td>\n",
              "      <td>0</td>\n",
              "      <td>0</td>\n",
              "      <td>1</td>\n",
              "      <td>0</td>\n",
              "      <td>0</td>\n",
              "      <td>0</td>\n",
              "      <td>0</td>\n",
              "      <td>7</td>\n",
              "      <td>0</td>\n",
              "      <td>0</td>\n",
              "      <td>0</td>\n",
              "    </tr>\n",
              "    <tr>\n",
              "      <th>13</th>\n",
              "      <td>1</td>\n",
              "      <td>0</td>\n",
              "      <td>0</td>\n",
              "      <td>0</td>\n",
              "      <td>0</td>\n",
              "      <td>0</td>\n",
              "      <td>0</td>\n",
              "      <td>2</td>\n",
              "      <td>0</td>\n",
              "      <td>3</td>\n",
              "      <td>1</td>\n",
              "      <td>0</td>\n",
              "      <td>0</td>\n",
              "      <td>0</td>\n",
              "      <td>0</td>\n",
              "      <td>0</td>\n",
              "      <td>0</td>\n",
              "      <td>0</td>\n",
              "    </tr>\n",
              "    <tr>\n",
              "      <th>14</th>\n",
              "      <td>10</td>\n",
              "      <td>3</td>\n",
              "      <td>17</td>\n",
              "      <td>0</td>\n",
              "      <td>21</td>\n",
              "      <td>1</td>\n",
              "      <td>36</td>\n",
              "      <td>16</td>\n",
              "      <td>0</td>\n",
              "      <td>15</td>\n",
              "      <td>6</td>\n",
              "      <td>0</td>\n",
              "      <td>1</td>\n",
              "      <td>0</td>\n",
              "      <td>815</td>\n",
              "      <td>0</td>\n",
              "      <td>0</td>\n",
              "      <td>0</td>\n",
              "    </tr>\n",
              "    <tr>\n",
              "      <th>15</th>\n",
              "      <td>0</td>\n",
              "      <td>1</td>\n",
              "      <td>0</td>\n",
              "      <td>0</td>\n",
              "      <td>4</td>\n",
              "      <td>1</td>\n",
              "      <td>3</td>\n",
              "      <td>0</td>\n",
              "      <td>0</td>\n",
              "      <td>0</td>\n",
              "      <td>0</td>\n",
              "      <td>0</td>\n",
              "      <td>0</td>\n",
              "      <td>0</td>\n",
              "      <td>1</td>\n",
              "      <td>0</td>\n",
              "      <td>0</td>\n",
              "      <td>0</td>\n",
              "    </tr>\n",
              "    <tr>\n",
              "      <th>16</th>\n",
              "      <td>1</td>\n",
              "      <td>0</td>\n",
              "      <td>4</td>\n",
              "      <td>0</td>\n",
              "      <td>2</td>\n",
              "      <td>0</td>\n",
              "      <td>7</td>\n",
              "      <td>2</td>\n",
              "      <td>0</td>\n",
              "      <td>12</td>\n",
              "      <td>1</td>\n",
              "      <td>0</td>\n",
              "      <td>0</td>\n",
              "      <td>0</td>\n",
              "      <td>1</td>\n",
              "      <td>0</td>\n",
              "      <td>0</td>\n",
              "      <td>0</td>\n",
              "    </tr>\n",
              "    <tr>\n",
              "      <th>17</th>\n",
              "      <td>0</td>\n",
              "      <td>0</td>\n",
              "      <td>0</td>\n",
              "      <td>0</td>\n",
              "      <td>2</td>\n",
              "      <td>0</td>\n",
              "      <td>1</td>\n",
              "      <td>0</td>\n",
              "      <td>0</td>\n",
              "      <td>0</td>\n",
              "      <td>0</td>\n",
              "      <td>2</td>\n",
              "      <td>0</td>\n",
              "      <td>0</td>\n",
              "      <td>2</td>\n",
              "      <td>0</td>\n",
              "      <td>0</td>\n",
              "      <td>0</td>\n",
              "    </tr>\n",
              "  </tbody>\n",
              "</table>\n",
              "</div>\n",
              "      <button class=\"colab-df-convert\" onclick=\"convertToInteractive('df-36652681-4572-4c98-8a04-c54a268cb9f4')\"\n",
              "              title=\"Convert this dataframe to an interactive table.\"\n",
              "              style=\"display:none;\">\n",
              "        \n",
              "  <svg xmlns=\"http://www.w3.org/2000/svg\" height=\"24px\"viewBox=\"0 0 24 24\"\n",
              "       width=\"24px\">\n",
              "    <path d=\"M0 0h24v24H0V0z\" fill=\"none\"/>\n",
              "    <path d=\"M18.56 5.44l.94 2.06.94-2.06 2.06-.94-2.06-.94-.94-2.06-.94 2.06-2.06.94zm-11 1L8.5 8.5l.94-2.06 2.06-.94-2.06-.94L8.5 2.5l-.94 2.06-2.06.94zm10 10l.94 2.06.94-2.06 2.06-.94-2.06-.94-.94-2.06-.94 2.06-2.06.94z\"/><path d=\"M17.41 7.96l-1.37-1.37c-.4-.4-.92-.59-1.43-.59-.52 0-1.04.2-1.43.59L10.3 9.45l-7.72 7.72c-.78.78-.78 2.05 0 2.83L4 21.41c.39.39.9.59 1.41.59.51 0 1.02-.2 1.41-.59l7.78-7.78 2.81-2.81c.8-.78.8-2.07 0-2.86zM5.41 20L4 18.59l7.72-7.72 1.47 1.35L5.41 20z\"/>\n",
              "  </svg>\n",
              "      </button>\n",
              "      \n",
              "  <style>\n",
              "    .colab-df-container {\n",
              "      display:flex;\n",
              "      flex-wrap:wrap;\n",
              "      gap: 12px;\n",
              "    }\n",
              "\n",
              "    .colab-df-convert {\n",
              "      background-color: #E8F0FE;\n",
              "      border: none;\n",
              "      border-radius: 50%;\n",
              "      cursor: pointer;\n",
              "      display: none;\n",
              "      fill: #1967D2;\n",
              "      height: 32px;\n",
              "      padding: 0 0 0 0;\n",
              "      width: 32px;\n",
              "    }\n",
              "\n",
              "    .colab-df-convert:hover {\n",
              "      background-color: #E2EBFA;\n",
              "      box-shadow: 0px 1px 2px rgba(60, 64, 67, 0.3), 0px 1px 3px 1px rgba(60, 64, 67, 0.15);\n",
              "      fill: #174EA6;\n",
              "    }\n",
              "\n",
              "    [theme=dark] .colab-df-convert {\n",
              "      background-color: #3B4455;\n",
              "      fill: #D2E3FC;\n",
              "    }\n",
              "\n",
              "    [theme=dark] .colab-df-convert:hover {\n",
              "      background-color: #434B5C;\n",
              "      box-shadow: 0px 1px 3px 1px rgba(0, 0, 0, 0.15);\n",
              "      filter: drop-shadow(0px 1px 2px rgba(0, 0, 0, 0.3));\n",
              "      fill: #FFFFFF;\n",
              "    }\n",
              "  </style>\n",
              "\n",
              "      <script>\n",
              "        const buttonEl =\n",
              "          document.querySelector('#df-36652681-4572-4c98-8a04-c54a268cb9f4 button.colab-df-convert');\n",
              "        buttonEl.style.display =\n",
              "          google.colab.kernel.accessAllowed ? 'block' : 'none';\n",
              "\n",
              "        async function convertToInteractive(key) {\n",
              "          const element = document.querySelector('#df-36652681-4572-4c98-8a04-c54a268cb9f4');\n",
              "          const dataTable =\n",
              "            await google.colab.kernel.invokeFunction('convertToInteractive',\n",
              "                                                     [key], {});\n",
              "          if (!dataTable) return;\n",
              "\n",
              "          const docLinkHtml = 'Like what you see? Visit the ' +\n",
              "            '<a target=\"_blank\" href=https://colab.research.google.com/notebooks/data_table.ipynb>data table notebook</a>'\n",
              "            + ' to learn more about interactive tables.';\n",
              "          element.innerHTML = '';\n",
              "          dataTable['output_type'] = 'display_data';\n",
              "          await google.colab.output.renderOutput(dataTable, element);\n",
              "          const docLink = document.createElement('div');\n",
              "          docLink.innerHTML = docLinkHtml;\n",
              "          element.appendChild(docLink);\n",
              "        }\n",
              "      </script>\n",
              "    </div>\n",
              "  </div>\n",
              "  "
            ],
            "text/plain": [
              "     0   1   2   3    4   5    6   7   8   9   10  11  12  13   14  15  16  17\n",
              "0   182   0   0   0    0   0    8   6   0   1   0   0   0   0    3   0   0   0\n",
              "1     0  15   0   0    2   0    7   0   0   1   0   1   0   0    1   0   0   0\n",
              "2     2   0  24   0    2   0    9   0   0   2   2   0   0   0   11   0   0   0\n",
              "3     0   1   4   0    3   0   14   1   1   1   0   0   0   0    5   0   0   0\n",
              "4    18   1  21   0  150   0  117  11   0  12   1   0   0   0   36   0   0   0\n",
              "5     3   0   0   0    2   0   15   2   0   2   1   1   0   0    2   0   0   0\n",
              "6     4   0   3   0    5   0   56   0   0   1   0   0   0   0    3   0   0   0\n",
              "7     1   0   0   0    0   0    0  19   0   0   0   0   0   0    0   0   0   0\n",
              "8     2   0   2   0    7   0    9   0   0   0   1   0   0   0    2   0   0   0\n",
              "9     2   0   1   0    1   0    2   0   0  61   2   0   0   0    2   0   0   0\n",
              "10    8   2   9   0    3   0    2   0   0   5  62   0   0   0    8   0   0   0\n",
              "11    0   3   0   0    1   0    5   0   0   0   0   1   0   0    0   0   0   0\n",
              "12    0   0   4   0    1   0    1   0   0   1   0   0   0   0    7   0   0   0\n",
              "13    1   0   0   0    0   0    0   2   0   3   1   0   0   0    0   0   0   0\n",
              "14   10   3  17   0   21   1   36  16   0  15   6   0   1   0  815   0   0   0\n",
              "15    0   1   0   0    4   1    3   0   0   0   0   0   0   0    1   0   0   0\n",
              "16    1   0   4   0    2   0    7   2   0  12   1   0   0   0    1   0   0   0\n",
              "17    0   0   0   0    2   0    1   0   0   0   0   2   0   0    2   0   0   0"
            ]
          },
          "execution_count": 33,
          "metadata": {},
          "output_type": "execute_result"
        }
      ],
      "source": [
        "cm=confusion_matrix(y_val,preds3_1)\n",
        "pd.DataFrame(cm)"
      ]
    },
    {
      "cell_type": "code",
      "execution_count": null,
      "metadata": {
        "id": "60_1Hf2xowJf"
      },
      "outputs": [],
      "source": [
        "def test_model(model):\n",
        "  Preds=[]\n",
        "  for iter in range(len(X_test)):\n",
        "    category=y_test.iloc[iter]\n",
        "    line=X_test.iloc[iter]\n",
        "    category_tensor=categoryToTensor(category)\n",
        "    line_tensor=lineToTensor(line)\n",
        "\n",
        "    output,_=eval2(category_tensor,line_tensor,model)\n",
        "    p,p_index=categoryFromOutput(output)\n",
        "    Preds.append(p)\n",
        "  acc=(y_test==Preds).sum()/len(X_test)\n",
        "  print(\"Test Accuracy : \",acc*100)\n"
      ]
    },
    {
      "cell_type": "code",
      "execution_count": null,
      "metadata": {
        "colab": {
          "base_uri": "https://localhost:8080/"
        },
        "id": "Ypv1T0BjoiSn",
        "outputId": "15b7b2c4-26c7-4073-e6d4-32c1f72d5556"
      },
      "outputs": [
        {
          "name": "stdout",
          "output_type": "stream",
          "text": [
            "Test Accuracy :  70.0199203187251\n"
          ]
        }
      ],
      "source": [
        "test_model(rnn3_1)"
      ]
    },
    {
      "cell_type": "markdown",
      "metadata": {
        "id": "R6rCHSx0reLW"
      },
      "source": [
        "# Predictions of given words"
      ]
    },
    {
      "cell_type": "code",
      "execution_count": null,
      "metadata": {
        "id": "cicMYGXF6CGR"
      },
      "outputs": [],
      "source": [
        "new_names=[\"Emilia\",\"Alexandra\",\"Sachiko\",\"Vlamidir\",\"Minh\",\"Xi\",\"Muammar\",\"Mukesh\",\"Andrew\",\"Ronaldo\"]"
      ]
    },
    {
      "cell_type": "code",
      "execution_count": null,
      "metadata": {
        "id": "EaEzRxfH9jbg"
      },
      "outputs": [],
      "source": [
        "def predict(line_tensor,model):\n",
        "    hidden = model.initHidden()\n",
        "    hidden = hidden.cuda()\n",
        "    line_tensor =line_tensor.cuda()\n",
        "    for i in range(line_tensor.size()[0]):\n",
        "        output, hidden = model(line_tensor[i], hidden)\n",
        "\n",
        "    return output\n",
        "\n",
        "\n",
        "def preds_of_newNames(model,n_predictions):\n",
        "  for i in new_names:\n",
        "    print(\"\\n > \",i)\n",
        "    with torch.no_grad():\n",
        "      output = predict(lineToTensor(i),model)\n",
        "      topv, topi = output.topk(n_predictions, 1, True)\n",
        "      predictions=[]\n",
        "      for i in range(n_predictions):\n",
        "            value = topv[0][i].item()\n",
        "            category_index = topi[0][i].item()\n",
        "            print('(%.2f) %s' % (value, all_categories[category_index]))\n",
        "            predictions.append([value, all_categories[category_index]])"
      ]
    },
    {
      "cell_type": "markdown",
      "metadata": {
        "id": "nXyfVKJvAZHT"
      },
      "source": [
        "Predictions Given by best model of architecture 1"
      ]
    },
    {
      "cell_type": "code",
      "execution_count": null,
      "metadata": {
        "colab": {
          "base_uri": "https://localhost:8080/"
        },
        "id": "M29ODzZl9lOn",
        "outputId": "63f36d8a-1949-4ab9-f508-b98d0d6aa645"
      },
      "outputs": [
        {
          "name": "stdout",
          "output_type": "stream",
          "text": [
            "\n",
            " >  Emilia\n",
            "(-0.54) Russian\n",
            "(-2.07) Czech\n",
            "(-2.27) Italian\n",
            "\n",
            " >  Alexandra\n",
            "(-0.46) Italian\n",
            "(-2.24) Spanish\n",
            "(-2.35) Russian\n",
            "\n",
            " >  Sachiko\n",
            "(-0.35) Japanese\n",
            "(-1.39) Russian\n",
            "(-4.24) Polish\n",
            "\n",
            " >  Vlamidir\n",
            "(-0.07) Russian\n",
            "(-3.54) French\n",
            "(-4.39) English\n",
            "\n",
            " >  Minh\n",
            "(-1.38) Russian\n",
            "(-1.57) English\n",
            "(-1.65) Chinese\n",
            "\n",
            " >  Xi\n",
            "(-0.61) Korean\n",
            "(-1.22) Chinese\n",
            "(-2.30) Vietnamese\n",
            "\n",
            " >  Muammar\n",
            "(-0.23) Arabic\n",
            "(-2.71) Russian\n",
            "(-3.19) English\n",
            "\n",
            " >  Mukesh\n",
            "(-0.78) Russian\n",
            "(-1.55) German\n",
            "(-2.53) Dutch\n",
            "\n",
            " >  Andrew\n",
            "(-0.19) English\n",
            "(-2.91) Spanish\n",
            "(-3.39) German\n",
            "\n",
            " >  Ronaldo\n",
            "(-0.43) Italian\n",
            "(-1.98) Russian\n",
            "(-2.12) Spanish\n"
          ]
        }
      ],
      "source": [
        "preds_of_newNames(rnn4,3)"
      ]
    },
    {
      "cell_type": "markdown",
      "metadata": {
        "id": "3wQ9pIvTSEme"
      },
      "source": [
        "Predictions Given by best model of architecture 2"
      ]
    },
    {
      "cell_type": "code",
      "execution_count": null,
      "metadata": {
        "colab": {
          "base_uri": "https://localhost:8080/"
        },
        "id": "87Y9lTCrSEme",
        "outputId": "b7819688-3a02-44a9-e786-24a37222ba53"
      },
      "outputs": [
        {
          "name": "stdout",
          "output_type": "stream",
          "text": [
            "\n",
            " >  Emilia\n",
            "(-0.82) Japanese\n",
            "(-1.73) Russian\n",
            "(-2.27) Czech\n",
            "\n",
            " >  Alexandra\n",
            "(-1.37) Italian\n",
            "(-1.74) Japanese\n",
            "(-1.81) Russian\n",
            "\n",
            " >  Sachiko\n",
            "(-0.53) Japanese\n",
            "(-1.31) Russian\n",
            "(-2.85) Italian\n",
            "\n",
            " >  Vlamidir\n",
            "(-0.01) Russian\n",
            "(-4.84) Czech\n",
            "(-6.19) Polish\n",
            "\n",
            " >  Minh\n",
            "(-0.76) English\n",
            "(-1.77) German\n",
            "(-2.62) Czech\n",
            "\n",
            " >  Xi\n",
            "(-1.63) Chinese\n",
            "(-1.91) Arabic\n",
            "(-2.44) Korean\n",
            "\n",
            " >  Muammar\n",
            "(-0.03) Arabic\n",
            "(-4.62) English\n",
            "(-4.79) Chinese\n",
            "\n",
            " >  Mukesh\n",
            "(-0.73) Russian\n",
            "(-1.61) Czech\n",
            "(-2.61) German\n",
            "\n",
            " >  Andrew\n",
            "(-0.32) English\n",
            "(-2.71) German\n",
            "(-3.30) French\n",
            "\n",
            " >  Ronaldo\n",
            "(-0.33) Italian\n",
            "(-2.20) Russian\n",
            "(-3.00) Czech\n"
          ]
        }
      ],
      "source": [
        "preds_of_newNames(rnn2_3,3)"
      ]
    },
    {
      "cell_type": "code",
      "execution_count": null,
      "metadata": {
        "id": "0WzJPFZBrwCW"
      },
      "outputs": [],
      "source": [
        "def predict2(line_tensor,model):\n",
        "  hidden1 = model.initHidden1()\n",
        "  hidden1 = hidden1.cuda()\n",
        "\n",
        "  hidden2 = model.initHidden2()\n",
        "  hidden2 = hidden2.cuda()\n",
        "\n",
        "  line_tensor =line_tensor.cuda()\n",
        "  for i in range(line_tensor.size()[0]):\n",
        "      output, hidden1,hidden2 = model(line_tensor[i], hidden1,hidden2)\n",
        "   \n",
        "  return output\n",
        "\n",
        "def preds_of_newNames2(model,n_predictions):\n",
        "\n",
        "  for i in new_names:\n",
        "    print(\"\\n >\",i)\n",
        "    with torch.no_grad():\n",
        "      output = predict2(lineToTensor(i),model)\n",
        "      topv, topi = output.topk(n_predictions, 1, True)\n",
        "      predictions=[]\n",
        "      for i in range(n_predictions):\n",
        "            value = topv[0][i].item()\n",
        "            category_index = topi[0][i].item()\n",
        "            print('(%.2f) %s' % (value, all_categories[category_index]))\n",
        "            predictions.append([value, all_categories[category_index]])\n",
        "\n"
      ]
    },
    {
      "cell_type": "markdown",
      "metadata": {
        "id": "e4jlSAakGAqm"
      },
      "source": [
        "Predictions given by best model of Stacked RNN architecture"
      ]
    },
    {
      "cell_type": "code",
      "execution_count": null,
      "metadata": {
        "colab": {
          "base_uri": "https://localhost:8080/"
        },
        "id": "2-G4C8css8kF",
        "outputId": "5befabc1-6d10-4b82-86de-5474e024535f"
      },
      "outputs": [
        {
          "name": "stdout",
          "output_type": "stream",
          "text": [
            "\n",
            " > Emilia\n",
            "(-1.02) Czech\n",
            "(-1.50) Russian\n",
            "(-1.64) Italian\n",
            "\n",
            " > Alexandra\n",
            "(-0.42) Italian\n",
            "(-1.98) Czech\n",
            "(-2.67) Russian\n",
            "\n",
            " > Sachiko\n",
            "(-0.93) Japanese\n",
            "(-1.56) Czech\n",
            "(-1.60) Russian\n",
            "\n",
            " > Vladimir\n",
            "(-0.17) Russian\n",
            "(-3.06) Czech\n",
            "(-3.57) Greek\n",
            "\n",
            " > Minh\n",
            "(-0.99) German\n",
            "(-1.63) Chinese\n",
            "(-1.93) Russian\n",
            "\n",
            " > Xi\n",
            "(-1.06) Korean\n",
            "(-1.66) Italian\n",
            "(-2.18) Vietnamese\n",
            "\n",
            " > Muammar\n",
            "(-0.11) Arabic\n",
            "(-3.16) German\n",
            "(-3.88) Czech\n",
            "\n",
            " > Mukesh\n",
            "(-0.92) German\n",
            "(-0.99) Russian\n",
            "(-2.86) Irish\n",
            "\n",
            " > Andrew\n",
            "(-1.01) English\n",
            "(-1.08) German\n",
            "(-2.28) Czech\n",
            "\n",
            " > Ronaldo\n",
            "(-0.06) Italian\n",
            "(-3.86) Spanish\n",
            "(-4.49) Czech\n"
          ]
        }
      ],
      "source": [
        "preds_of_newNames2(rnn3_1,3)"
      ]
    },
    {
      "cell_type": "code",
      "execution_count": null,
      "metadata": {
        "id": "CXvZAw90DcNp"
      },
      "outputs": [],
      "source": []
    }
  ],
  "metadata": {
    "accelerator": "GPU",
    "colab": {
      "provenance": []
    },
    "gpuClass": "standard",
    "kernelspec": {
      "display_name": "Python 3",
      "language": "python",
      "name": "python3"
    },
    "language_info": {
      "codemirror_mode": {
        "name": "ipython",
        "version": 3
      },
      "file_extension": ".py",
      "mimetype": "text/x-python",
      "name": "python",
      "nbconvert_exporter": "python",
      "pygments_lexer": "ipython3",
      "version": "3.9.1"
    },
    "vscode": {
      "interpreter": {
        "hash": "156b6e445808b07dc40aa5a8e66ccf91c9fbe531dfe1445bc12a4896e0fba728"
      }
    }
  },
  "nbformat": 4,
  "nbformat_minor": 0
}
